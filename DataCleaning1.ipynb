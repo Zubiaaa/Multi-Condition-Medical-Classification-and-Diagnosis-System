{
 "cells": [
  {
   "cell_type": "code",
   "execution_count": 1,
   "id": "2e30453f",
   "metadata": {},
   "outputs": [],
   "source": [
    "import math\n",
    "import pandas as pd  \n",
    "import numpy as np  \n",
    "import matplotlib.pyplot as plt  \n",
    "from sklearn.model_selection import cross_validate\n",
    "from sklearn.model_selection import train_test_split \n",
    "from sklearn.preprocessing import LabelEncoder, OneHotEncoder, StandardScaler\n",
    "from sklearn.linear_model import LinearRegression\n",
    "from sklearn import metrics\n",
    "from sklearn.model_selection import train_test_split\n",
    "from sklearn.svm import SVR\n",
    "from sklearn.metrics import r2_score\n",
    "import seaborn as sns\n",
    "from sklearn.metrics import mean_squared_error\n",
    "from sklearn.model_selection import train_test_split\n",
    "from sklearn.model_selection import cross_val_score\n",
    "from sklearn.preprocessing import scale\n",
    "from sklearn.naive_bayes import GaussianNB\n",
    "from sklearn.metrics import precision_score\n",
    "from sklearn.metrics import recall_score\n",
    "from sklearn.metrics import f1_score\n",
    "from sklearn.metrics import confusion_matrix\n",
    "from sklearn.metrics import precision_recall_fscore_support\n",
    "%matplotlib inline"
   ]
  },
  {
   "cell_type": "code",
   "execution_count": 2,
   "id": "a98dcb60",
   "metadata": {},
   "outputs": [
    {
     "name": "stderr",
     "output_type": "stream",
     "text": [
      "C:\\Users\\Admin\\anaconda3\\lib\\site-packages\\IPython\\core\\interactiveshell.py:3165: DtypeWarning: Columns (18,19,21,22,24,25,26,27,28,66,67,68,119,120,121,122,123,124,125,126,127,128,129,130,131,132,133,134,135,136,137,138,139,140,141,142,143,144,145,146,147,148,149,150,151,152,153,156,159,163,164,165,183,193,335,336,337,338,339,340,341,342,343,344,345,346,347,348,349,350,351,352,353,354,355,356,357,358,359,360,361,362,363,364,365,366,367,368,369,370,371,372,373,374,375,376,377,378,379,380) have mixed types.Specify dtype option on import or set low_memory=False.\n",
      "  has_raised = await self.run_ast_nodes(code_ast.body, cell_name,\n"
     ]
    }
   ],
   "source": [
    "missing_value_formats = [\"Don't know/Not Sure Or Refused/Missing\", \"Don't know/Refused/Missing\", \"Missing\", \"Don´t Know/Not Sure\", \"Don't Know / Not Sure\", \"Don't Know/Not sure\", \"Don´t Know / Not sure\", \"Refused\",\"Don't know/Not sure\",\"Not asked or Missing\",\"Don't know/Not Sure\",\"Don't know / Not sure\",\"Don't know / Not Sure\", \"Data do not meet the criteria for statistical reliability, data quality, or confidentiality (data are suppressed).\", \"D\"]\n",
    "dataset = pd.read_csv('brfss_for_bda_2021.csv', na_values = missing_value_formats)"
   ]
  },
  {
   "cell_type": "code",
   "execution_count": 3,
   "id": "bd0dbb22",
   "metadata": {},
   "outputs": [
    {
     "data": {
      "text/html": [
       "<div>\n",
       "<style scoped>\n",
       "    .dataframe tbody tr th:only-of-type {\n",
       "        vertical-align: middle;\n",
       "    }\n",
       "\n",
       "    .dataframe tbody tr th {\n",
       "        vertical-align: top;\n",
       "    }\n",
       "\n",
       "    .dataframe thead th {\n",
       "        text-align: right;\n",
       "    }\n",
       "</style>\n",
       "<table border=\"1\" class=\"dataframe\">\n",
       "  <thead>\n",
       "    <tr style=\"text-align: right;\">\n",
       "      <th></th>\n",
       "      <th>_STATE</th>\n",
       "      <th>_GEOSTR</th>\n",
       "      <th>_DENSTR2</th>\n",
       "      <th>PRECALL</th>\n",
       "      <th>SECSCRFL</th>\n",
       "      <th>REPNUM</th>\n",
       "      <th>REPDEPTH</th>\n",
       "      <th>FMONTH</th>\n",
       "      <th>IDATE</th>\n",
       "      <th>IMONTH</th>\n",
       "      <th>...</th>\n",
       "      <th>PPS_45</th>\n",
       "      <th>PPS_46</th>\n",
       "      <th>PPS_48</th>\n",
       "      <th>PPS_52</th>\n",
       "      <th>childage</th>\n",
       "      <th>cracorg1</th>\n",
       "      <th>_prace1</th>\n",
       "      <th>mracasc1</th>\n",
       "      <th>_impcty</th>\n",
       "      <th>mracorg1</th>\n",
       "    </tr>\n",
       "  </thead>\n",
       "  <tbody>\n",
       "    <tr>\n",
       "      <th>0</th>\n",
       "      <td>New York</td>\n",
       "      <td>207</td>\n",
       "      <td>NaN</td>\n",
       "      <td>To be called</td>\n",
       "      <td>NaN</td>\n",
       "      <td>40187</td>\n",
       "      <td>5</td>\n",
       "      <td>April</td>\n",
       "      <td>4092015</td>\n",
       "      <td>April</td>\n",
       "      <td>...</td>\n",
       "      <td>No</td>\n",
       "      <td>No</td>\n",
       "      <td>No</td>\n",
       "      <td>Yes</td>\n",
       "      <td>NaN</td>\n",
       "      <td>NaN</td>\n",
       "      <td>NaN</td>\n",
       "      <td>NaN</td>\n",
       "      <td>NaN</td>\n",
       "      <td>NaN</td>\n",
       "    </tr>\n",
       "    <tr>\n",
       "      <th>1</th>\n",
       "      <td>New York</td>\n",
       "      <td>207</td>\n",
       "      <td>NaN</td>\n",
       "      <td>To be called</td>\n",
       "      <td>NaN</td>\n",
       "      <td>60025</td>\n",
       "      <td>21</td>\n",
       "      <td>June</td>\n",
       "      <td>6232015</td>\n",
       "      <td>June</td>\n",
       "      <td>...</td>\n",
       "      <td>No</td>\n",
       "      <td>No</td>\n",
       "      <td>No</td>\n",
       "      <td>Yes</td>\n",
       "      <td>NaN</td>\n",
       "      <td>NaN</td>\n",
       "      <td>NaN</td>\n",
       "      <td>NaN</td>\n",
       "      <td>NaN</td>\n",
       "      <td>NaN</td>\n",
       "    </tr>\n",
       "    <tr>\n",
       "      <th>2</th>\n",
       "      <td>New York</td>\n",
       "      <td>203</td>\n",
       "      <td>NaN</td>\n",
       "      <td>To be called</td>\n",
       "      <td>NaN</td>\n",
       "      <td>120050</td>\n",
       "      <td>3</td>\n",
       "      <td>December</td>\n",
       "      <td>12282015</td>\n",
       "      <td>December</td>\n",
       "      <td>...</td>\n",
       "      <td>No</td>\n",
       "      <td>No</td>\n",
       "      <td>No</td>\n",
       "      <td>No</td>\n",
       "      <td>NaN</td>\n",
       "      <td>NaN</td>\n",
       "      <td>NaN</td>\n",
       "      <td>NaN</td>\n",
       "      <td>NaN</td>\n",
       "      <td>NaN</td>\n",
       "    </tr>\n",
       "    <tr>\n",
       "      <th>3</th>\n",
       "      <td>New York</td>\n",
       "      <td>206</td>\n",
       "      <td>NaN</td>\n",
       "      <td>To be called</td>\n",
       "      <td>NaN</td>\n",
       "      <td>30066</td>\n",
       "      <td>28</td>\n",
       "      <td>March</td>\n",
       "      <td>3182015</td>\n",
       "      <td>March</td>\n",
       "      <td>...</td>\n",
       "      <td>No</td>\n",
       "      <td>No</td>\n",
       "      <td>No</td>\n",
       "      <td>No</td>\n",
       "      <td>NaN</td>\n",
       "      <td>NaN</td>\n",
       "      <td>NaN</td>\n",
       "      <td>NaN</td>\n",
       "      <td>NaN</td>\n",
       "      <td>NaN</td>\n",
       "    </tr>\n",
       "    <tr>\n",
       "      <th>4</th>\n",
       "      <td>New York</td>\n",
       "      <td>203</td>\n",
       "      <td>NaN</td>\n",
       "      <td>To be called</td>\n",
       "      <td>NaN</td>\n",
       "      <td>110026</td>\n",
       "      <td>23</td>\n",
       "      <td>November</td>\n",
       "      <td>11292015</td>\n",
       "      <td>November</td>\n",
       "      <td>...</td>\n",
       "      <td>No</td>\n",
       "      <td>No</td>\n",
       "      <td>No</td>\n",
       "      <td>No</td>\n",
       "      <td>NaN</td>\n",
       "      <td>NaN</td>\n",
       "      <td>NaN</td>\n",
       "      <td>NaN</td>\n",
       "      <td>NaN</td>\n",
       "      <td>NaN</td>\n",
       "    </tr>\n",
       "  </tbody>\n",
       "</table>\n",
       "<p>5 rows × 414 columns</p>\n",
       "</div>"
      ],
      "text/plain": [
       "     _STATE  _GEOSTR  _DENSTR2       PRECALL  SECSCRFL  REPNUM  REPDEPTH  \\\n",
       "0  New York      207       NaN  To be called       NaN   40187         5   \n",
       "1  New York      207       NaN  To be called       NaN   60025        21   \n",
       "2  New York      203       NaN  To be called       NaN  120050         3   \n",
       "3  New York      206       NaN  To be called       NaN   30066        28   \n",
       "4  New York      203       NaN  To be called       NaN  110026        23   \n",
       "\n",
       "     FMONTH     IDATE    IMONTH  ...  PPS_45  PPS_46  PPS_48  PPS_52  \\\n",
       "0     April   4092015     April  ...      No      No      No     Yes   \n",
       "1      June   6232015      June  ...      No      No      No     Yes   \n",
       "2  December  12282015  December  ...      No      No      No      No   \n",
       "3     March   3182015     March  ...      No      No      No      No   \n",
       "4  November  11292015  November  ...      No      No      No      No   \n",
       "\n",
       "   childage  cracorg1  _prace1  mracasc1 _impcty mracorg1  \n",
       "0       NaN       NaN      NaN       NaN     NaN      NaN  \n",
       "1       NaN       NaN      NaN       NaN     NaN      NaN  \n",
       "2       NaN       NaN      NaN       NaN     NaN      NaN  \n",
       "3       NaN       NaN      NaN       NaN     NaN      NaN  \n",
       "4       NaN       NaN      NaN       NaN     NaN      NaN  \n",
       "\n",
       "[5 rows x 414 columns]"
      ]
     },
     "execution_count": 3,
     "metadata": {},
     "output_type": "execute_result"
    }
   ],
   "source": [
    "dataset.head()"
   ]
  },
  {
   "cell_type": "code",
   "execution_count": 4,
   "id": "7a91a940",
   "metadata": {},
   "outputs": [
    {
     "data": {
      "text/plain": [
       "(12338, 414)"
      ]
     },
     "execution_count": 4,
     "metadata": {},
     "output_type": "execute_result"
    }
   ],
   "source": [
    "dataset.shape"
   ]
  },
  {
   "cell_type": "code",
   "execution_count": 5,
   "id": "a362b87e",
   "metadata": {},
   "outputs": [
    {
     "data": {
      "text/plain": [
       "_STATE       object\n",
       "_GEOSTR       int64\n",
       "_DENSTR2    float64\n",
       "PRECALL      object\n",
       "SECSCRFL    float64\n",
       "             ...   \n",
       "cracorg1    float64\n",
       "_prace1     float64\n",
       "mracasc1    float64\n",
       "_impcty     float64\n",
       "mracorg1    float64\n",
       "Length: 414, dtype: object"
      ]
     },
     "execution_count": 5,
     "metadata": {},
     "output_type": "execute_result"
    }
   ],
   "source": [
    "dataset.dtypes"
   ]
  },
  {
   "cell_type": "code",
   "execution_count": 6,
   "id": "de5a5a1e",
   "metadata": {},
   "outputs": [
    {
     "data": {
      "text/plain": [
       "New York    12338\n",
       "Name: _STATE, dtype: int64"
      ]
     },
     "execution_count": 6,
     "metadata": {},
     "output_type": "execute_result"
    }
   ],
   "source": [
    "dataset[\"_STATE\"].value_counts()"
   ]
  },
  {
   "cell_type": "code",
   "execution_count": 7,
   "id": "f61416d5",
   "metadata": {},
   "outputs": [
    {
     "data": {
      "text/plain": [
       "0"
      ]
     },
     "execution_count": 7,
     "metadata": {},
     "output_type": "execute_result"
    }
   ],
   "source": [
    "dataset[\"_STATE\"].isnull().sum()"
   ]
  },
  {
   "cell_type": "code",
   "execution_count": 8,
   "id": "70d17a81",
   "metadata": {},
   "outputs": [
    {
     "data": {
      "text/plain": [
       "107    2970\n",
       "207    1467\n",
       "104    1025\n",
       "105     867\n",
       "101     747\n",
       "102     722\n",
       "106     708\n",
       "103     691\n",
       "108     688\n",
       "204     454\n",
       "205     393\n",
       "208     341\n",
       "206     332\n",
       "202     323\n",
       "201     309\n",
       "203     301\n",
       "Name: _GEOSTR, dtype: int64"
      ]
     },
     "execution_count": 8,
     "metadata": {},
     "output_type": "execute_result"
    }
   ],
   "source": [
    "dataset[\"_GEOSTR\"].value_counts()"
   ]
  },
  {
   "cell_type": "code",
   "execution_count": 9,
   "id": "579ffeba",
   "metadata": {},
   "outputs": [
    {
     "data": {
      "text/plain": [
       "0"
      ]
     },
     "execution_count": 9,
     "metadata": {},
     "output_type": "execute_result"
    }
   ],
   "source": [
    "dataset[\"_GEOSTR\"].isnull().sum()"
   ]
  },
  {
   "cell_type": "code",
   "execution_count": 10,
   "id": "18d3ba78",
   "metadata": {},
   "outputs": [
    {
     "data": {
      "text/plain": [
       "Series([], Name: _DENSTR2, dtype: int64)"
      ]
     },
     "execution_count": 10,
     "metadata": {},
     "output_type": "execute_result"
    }
   ],
   "source": [
    "dataset[\"_DENSTR2\"].value_counts()"
   ]
  },
  {
   "cell_type": "code",
   "execution_count": 11,
   "id": "50a2b77c",
   "metadata": {},
   "outputs": [],
   "source": [
    "dataset.drop(\"_DENSTR2\", axis=1, inplace=True)"
   ]
  },
  {
   "cell_type": "code",
   "execution_count": 12,
   "id": "af3cbfef",
   "metadata": {},
   "outputs": [
    {
     "data": {
      "text/plain": [
       "To be called                   12336\n",
       "cell phone - unknown status        2\n",
       "Name: PRECALL, dtype: int64"
      ]
     },
     "execution_count": 12,
     "metadata": {},
     "output_type": "execute_result"
    }
   ],
   "source": [
    "dataset[\"PRECALL\"].value_counts()"
   ]
  },
  {
   "cell_type": "code",
   "execution_count": 13,
   "id": "2c8e49e7",
   "metadata": {},
   "outputs": [],
   "source": [
    "dataset['PRECALL'].replace(to_replace =\"cell phone - unknown status\",\n",
    "                 value =\"To be called\", inplace=True)"
   ]
  },
  {
   "cell_type": "code",
   "execution_count": 14,
   "id": "d33c959e",
   "metadata": {},
   "outputs": [
    {
     "data": {
      "text/plain": [
       "To be called    12338\n",
       "Name: PRECALL, dtype: int64"
      ]
     },
     "execution_count": 14,
     "metadata": {},
     "output_type": "execute_result"
    }
   ],
   "source": [
    "dataset[\"PRECALL\"].value_counts()"
   ]
  },
  {
   "cell_type": "code",
   "execution_count": 15,
   "id": "51e538c8",
   "metadata": {},
   "outputs": [
    {
     "data": {
      "text/plain": [
       "0"
      ]
     },
     "execution_count": 15,
     "metadata": {},
     "output_type": "execute_result"
    }
   ],
   "source": [
    "dataset[\"PRECALL\"].isnull().sum()"
   ]
  },
  {
   "cell_type": "code",
   "execution_count": 16,
   "id": "60e2f243",
   "metadata": {},
   "outputs": [
    {
     "data": {
      "text/plain": [
       "1.0    5889\n",
       "7.0    1944\n",
       "5.0     273\n",
       "6.0     133\n",
       "2.0     107\n",
       "4.0      49\n",
       "3.0      23\n",
       "0.0       9\n",
       "Name: SECSCRFL, dtype: int64"
      ]
     },
     "execution_count": 16,
     "metadata": {},
     "output_type": "execute_result"
    }
   ],
   "source": [
    "dataset[\"SECSCRFL\"].value_counts()"
   ]
  },
  {
   "cell_type": "code",
   "execution_count": 17,
   "id": "949e9291",
   "metadata": {},
   "outputs": [
    {
     "data": {
      "text/plain": [
       "3911"
      ]
     },
     "execution_count": 17,
     "metadata": {},
     "output_type": "execute_result"
    }
   ],
   "source": [
    "dataset[\"SECSCRFL\"].isnull().sum()"
   ]
  },
  {
   "cell_type": "code",
   "execution_count": 18,
   "id": "76660a1e",
   "metadata": {},
   "outputs": [
    {
     "data": {
      "text/plain": [
       "40002    10\n",
       "50073     9\n",
       "10004     9\n",
       "10049     9\n",
       "10028     9\n",
       "         ..\n",
       "60416     1\n",
       "70187     1\n",
       "60424     1\n",
       "50189     1\n",
       "20478     1\n",
       "Name: REPNUM, Length: 5957, dtype: int64"
      ]
     },
     "execution_count": 18,
     "metadata": {},
     "output_type": "execute_result"
    }
   ],
   "source": [
    "dataset[\"REPNUM\"].value_counts()"
   ]
  },
  {
   "cell_type": "code",
   "execution_count": 19,
   "id": "dcaaafee",
   "metadata": {},
   "outputs": [
    {
     "data": {
      "text/plain": [
       "0"
      ]
     },
     "execution_count": 19,
     "metadata": {},
     "output_type": "execute_result"
    }
   ],
   "source": [
    "dataset[\"REPNUM\"].isnull().sum()"
   ]
  },
  {
   "cell_type": "code",
   "execution_count": 20,
   "id": "1b8f2c0a",
   "metadata": {},
   "outputs": [
    {
     "data": {
      "text/plain": [
       "12    448\n",
       "15    437\n",
       "10    436\n",
       "5     435\n",
       "28    434\n",
       "22    427\n",
       "14    427\n",
       "24    425\n",
       "23    419\n",
       "20    419\n",
       "8     418\n",
       "17    416\n",
       "27    414\n",
       "7     412\n",
       "29    412\n",
       "1     411\n",
       "11    409\n",
       "4     408\n",
       "19    406\n",
       "2     403\n",
       "16    402\n",
       "9     402\n",
       "6     401\n",
       "30    400\n",
       "3     394\n",
       "13    390\n",
       "25    388\n",
       "18    385\n",
       "26    383\n",
       "21    377\n",
       "Name: REPDEPTH, dtype: int64"
      ]
     },
     "execution_count": 20,
     "metadata": {},
     "output_type": "execute_result"
    }
   ],
   "source": [
    "dataset[\"REPDEPTH\"].value_counts()"
   ]
  },
  {
   "cell_type": "code",
   "execution_count": 21,
   "id": "ade15b35",
   "metadata": {},
   "outputs": [
    {
     "data": {
      "text/plain": [
       "0"
      ]
     },
     "execution_count": 21,
     "metadata": {},
     "output_type": "execute_result"
    }
   ],
   "source": [
    "dataset[\"REPDEPTH\"].isnull().sum()"
   ]
  },
  {
   "cell_type": "code",
   "execution_count": 22,
   "id": "17d497ca",
   "metadata": {},
   "outputs": [
    {
     "data": {
      "text/plain": [
       "January      1892\n",
       "February     1749\n",
       "March        1747\n",
       "April         940\n",
       "May           883\n",
       "June          856\n",
       "October       770\n",
       "December      750\n",
       "November      745\n",
       "July          701\n",
       "September     655\n",
       "August        650\n",
       "Name: FMONTH, dtype: int64"
      ]
     },
     "execution_count": 22,
     "metadata": {},
     "output_type": "execute_result"
    }
   ],
   "source": [
    "dataset[\"FMONTH\"].value_counts()"
   ]
  },
  {
   "cell_type": "code",
   "execution_count": 23,
   "id": "090999a4",
   "metadata": {},
   "outputs": [
    {
     "data": {
      "text/plain": [
       "0"
      ]
     },
     "execution_count": 23,
     "metadata": {},
     "output_type": "execute_result"
    }
   ],
   "source": [
    "dataset[\"FMONTH\"].isnull().sum()"
   ]
  },
  {
   "cell_type": "code",
   "execution_count": 24,
   "id": "050ef614",
   "metadata": {},
   "outputs": [
    {
     "data": {
      "text/plain": [
       "3312015     180\n",
       "2062015     164\n",
       "3012015     124\n",
       "2052015     117\n",
       "2272015     112\n",
       "           ... \n",
       "1222016       1\n",
       "3282015       1\n",
       "12242015      1\n",
       "1242016       1\n",
       "1252016       1\n",
       "Name: IDATE, Length: 359, dtype: int64"
      ]
     },
     "execution_count": 24,
     "metadata": {},
     "output_type": "execute_result"
    }
   ],
   "source": [
    "dataset[\"IDATE\"].value_counts()"
   ]
  },
  {
   "cell_type": "code",
   "execution_count": 25,
   "id": "9da45a3f",
   "metadata": {},
   "outputs": [
    {
     "data": {
      "text/plain": [
       "February     2075\n",
       "March        1754\n",
       "January      1557\n",
       "April         927\n",
       "November      888\n",
       "May           887\n",
       "June          859\n",
       "December      770\n",
       "July          702\n",
       "August        652\n",
       "October       651\n",
       "September     616\n",
       "Name: IMONTH, dtype: int64"
      ]
     },
     "execution_count": 25,
     "metadata": {},
     "output_type": "execute_result"
    }
   ],
   "source": [
    "dataset[\"IMONTH\"].value_counts()"
   ]
  },
  {
   "cell_type": "code",
   "execution_count": 26,
   "id": "d93c0e2f",
   "metadata": {},
   "outputs": [
    {
     "data": {
      "text/plain": [
       "6     532\n",
       "1     524\n",
       "9     501\n",
       "2     465\n",
       "19    453\n",
       "10    451\n",
       "14    448\n",
       "12    448\n",
       "16    442\n",
       "8     441\n",
       "5     440\n",
       "11    439\n",
       "17    430\n",
       "15    420\n",
       "7     412\n",
       "31    404\n",
       "18    397\n",
       "3     393\n",
       "13    389\n",
       "4     382\n",
       "30    371\n",
       "20    353\n",
       "27    349\n",
       "22    343\n",
       "28    342\n",
       "24    333\n",
       "23    322\n",
       "21    319\n",
       "26    285\n",
       "25    258\n",
       "29    252\n",
       "Name: IDAY, dtype: int64"
      ]
     },
     "execution_count": 26,
     "metadata": {},
     "output_type": "execute_result"
    }
   ],
   "source": [
    "dataset[\"IDAY\"].value_counts()"
   ]
  },
  {
   "cell_type": "code",
   "execution_count": 27,
   "id": "0fb18a7e",
   "metadata": {},
   "outputs": [
    {
     "data": {
      "text/plain": [
       "2015    12330\n",
       "2016        8\n",
       "Name: IYEAR, dtype: int64"
      ]
     },
     "execution_count": 27,
     "metadata": {},
     "output_type": "execute_result"
    }
   ],
   "source": [
    "dataset[\"IYEAR\"].value_counts()"
   ]
  },
  {
   "cell_type": "code",
   "execution_count": 28,
   "id": "46df74fd",
   "metadata": {},
   "outputs": [
    {
     "data": {
      "text/plain": [
       "1100    9920\n",
       "1200    2418\n",
       "Name: DISPCODE, dtype: int64"
      ]
     },
     "execution_count": 28,
     "metadata": {},
     "output_type": "execute_result"
    }
   ],
   "source": [
    "dataset[\"DISPCODE\"].value_counts()"
   ]
  },
  {
   "cell_type": "code",
   "execution_count": 29,
   "id": "4d552551",
   "metadata": {},
   "outputs": [
    {
     "data": {
      "text/plain": [
       "2015002624    1\n",
       "2015001346    1\n",
       "2015003301    1\n",
       "2015009446    1\n",
       "2015007399    1\n",
       "             ..\n",
       "2015012190    1\n",
       "2015008096    1\n",
       "2015010145    1\n",
       "2015004002    1\n",
       "2015004671    1\n",
       "Name: SEQNO, Length: 12338, dtype: int64"
      ]
     },
     "execution_count": 29,
     "metadata": {},
     "output_type": "execute_result"
    }
   ],
   "source": [
    "dataset[\"SEQNO\"].value_counts()"
   ]
  },
  {
   "cell_type": "code",
   "execution_count": 30,
   "id": "e940e728",
   "metadata": {},
   "outputs": [
    {
     "data": {
      "text/plain": [
       "2015002624    1\n",
       "2015001346    1\n",
       "2015003301    1\n",
       "2015009446    1\n",
       "2015007399    1\n",
       "             ..\n",
       "2015012190    1\n",
       "2015008096    1\n",
       "2015010145    1\n",
       "2015004002    1\n",
       "2015004671    1\n",
       "Name: _PSU, Length: 12338, dtype: int64"
      ]
     },
     "execution_count": 30,
     "metadata": {},
     "output_type": "execute_result"
    }
   ],
   "source": [
    "dataset[\"_PSU\"].value_counts()"
   ]
  },
  {
   "cell_type": "code",
   "execution_count": 31,
   "id": "00cf0387",
   "metadata": {},
   "outputs": [
    {
     "data": {
      "text/plain": [
       "1     2419\n",
       "2     1795\n",
       "3     1333\n",
       "4     1163\n",
       "5     1003\n",
       "8      975\n",
       "6      749\n",
       "7      648\n",
       "15     605\n",
       "9      356\n",
       "10     302\n",
       "11     241\n",
       "12     196\n",
       "13     190\n",
       "14     182\n",
       "17      88\n",
       "16      79\n",
       "18      13\n",
       "21       1\n",
       "Name: NATTMPTS, dtype: int64"
      ]
     },
     "execution_count": 31,
     "metadata": {},
     "output_type": "execute_result"
    }
   ],
   "source": [
    "dataset[\"NATTMPTS\"].value_counts()"
   ]
  },
  {
   "cell_type": "code",
   "execution_count": 32,
   "id": "838a771c",
   "metadata": {},
   "outputs": [
    {
     "data": {
      "text/plain": [
       "34842    2167\n",
       "24887    1467\n",
       "85938     803\n",
       "9519      687\n",
       "6270      663\n",
       "5551      646\n",
       "5619      643\n",
       "7622      624\n",
       "5857      614\n",
       "5352      609\n",
       "9096      454\n",
       "7332      393\n",
       "5432      341\n",
       "24441     338\n",
       "4465      332\n",
       "4414      323\n",
       "4179      309\n",
       "3593      301\n",
       "16918     243\n",
       "10800      84\n",
       "10158      82\n",
       "9831       79\n",
       "10853      74\n",
       "9659       62\n",
       "Name: NRECSEL, dtype: int64"
      ]
     },
     "execution_count": 32,
     "metadata": {},
     "output_type": "execute_result"
    }
   ],
   "source": [
    "dataset[\"NRECSEL\"].value_counts()"
   ]
  },
  {
   "cell_type": "code",
   "execution_count": 33,
   "id": "1a68cf2f",
   "metadata": {},
   "outputs": [
    {
     "data": {
      "text/plain": [
       "1.346955e+07    1467\n",
       "1.743309e+06     956\n",
       "4.114412e+06     454\n",
       "1.721483e+06     451\n",
       "1.743795e+06     418\n",
       "                ... \n",
       "1.004143e+06      12\n",
       "8.618180e+05      11\n",
       "6.251590e+05      11\n",
       "6.324080e+05      10\n",
       "6.761290e+05       7\n",
       "Name: NRECSTR, Length: 72, dtype: int64"
      ]
     },
     "execution_count": 33,
     "metadata": {},
     "output_type": "execute_result"
    }
   ],
   "source": [
    "dataset[\"NRECSTR\"].value_counts()"
   ]
  },
  {
   "cell_type": "code",
   "execution_count": 34,
   "id": "a56c47ab",
   "metadata": {},
   "outputs": [
    {
     "data": {
      "text/plain": [
       "Yes    8412\n",
       "No        6\n",
       "Name: PVTRESD1, dtype: int64"
      ]
     },
     "execution_count": 34,
     "metadata": {},
     "output_type": "execute_result"
    }
   ],
   "source": [
    "dataset[\"PVTRESD1\"].value_counts()"
   ]
  },
  {
   "cell_type": "code",
   "execution_count": 35,
   "id": "2b7e2b69",
   "metadata": {},
   "outputs": [],
   "source": [
    "dataset[\"PVTRESD1\"].replace(\"Missing\", np.nan, inplace=True)"
   ]
  },
  {
   "cell_type": "code",
   "execution_count": 36,
   "id": "b8515365",
   "metadata": {},
   "outputs": [
    {
     "data": {
      "text/plain": [
       "Yes    8412\n",
       "No        6\n",
       "Name: PVTRESD1, dtype: int64"
      ]
     },
     "execution_count": 36,
     "metadata": {},
     "output_type": "execute_result"
    }
   ],
   "source": [
    "dataset[\"PVTRESD1\"].value_counts()"
   ]
  },
  {
   "cell_type": "code",
   "execution_count": 37,
   "id": "42cedca2",
   "metadata": {},
   "outputs": [
    {
     "data": {
      "text/plain": [
       "3920"
      ]
     },
     "execution_count": 37,
     "metadata": {},
     "output_type": "execute_result"
    }
   ],
   "source": [
    "dataset[\"PVTRESD1\"].isnull().sum()"
   ]
  },
  {
   "cell_type": "code",
   "execution_count": 38,
   "id": "b0c1ac9f",
   "metadata": {},
   "outputs": [
    {
     "data": {
      "text/plain": [
       "Yes    6\n",
       "Name: COLGHOUS, dtype: int64"
      ]
     },
     "execution_count": 38,
     "metadata": {},
     "output_type": "execute_result"
    }
   ],
   "source": [
    "dataset[\"COLGHOUS\"].value_counts()"
   ]
  },
  {
   "cell_type": "code",
   "execution_count": 39,
   "id": "508d5fbc",
   "metadata": {},
   "outputs": [],
   "source": [
    "dataset.drop(\"COLGHOUS\", axis=1, inplace=True)"
   ]
  },
  {
   "cell_type": "code",
   "execution_count": 40,
   "id": "686ccbe8",
   "metadata": {},
   "outputs": [
    {
     "data": {
      "text/plain": [
       "1.0    8418\n",
       "Name: STATERES, dtype: int64"
      ]
     },
     "execution_count": 40,
     "metadata": {},
     "output_type": "execute_result"
    }
   ],
   "source": [
    "dataset[\"STATERES\"].value_counts()"
   ]
  },
  {
   "cell_type": "code",
   "execution_count": 41,
   "id": "d0156d9a",
   "metadata": {},
   "outputs": [
    {
     "data": {
      "text/plain": [
       "3920"
      ]
     },
     "execution_count": 41,
     "metadata": {},
     "output_type": "execute_result"
    }
   ],
   "source": [
    "dataset[\"STATERES\"].isnull().sum()"
   ]
  },
  {
   "cell_type": "code",
   "execution_count": 42,
   "id": "6bfe5172",
   "metadata": {},
   "outputs": [
    {
     "data": {
      "text/plain": [
       "Yes                     8417\n",
       "Not a cellular phone       1\n",
       "Name: CELLFON3, dtype: int64"
      ]
     },
     "execution_count": 42,
     "metadata": {},
     "output_type": "execute_result"
    }
   ],
   "source": [
    "dataset[\"CELLFON3\"].value_counts()"
   ]
  },
  {
   "cell_type": "code",
   "execution_count": 43,
   "id": "35c93e06",
   "metadata": {},
   "outputs": [],
   "source": [
    "dataset[\"CELLFON3\"].replace(\"Missing\", np.nan, inplace=True)"
   ]
  },
  {
   "cell_type": "code",
   "execution_count": 44,
   "id": "f2b2c718",
   "metadata": {},
   "outputs": [
    {
     "data": {
      "text/plain": [
       "Yes                     8417\n",
       "Not a cellular phone       1\n",
       "Name: CELLFON3, dtype: int64"
      ]
     },
     "execution_count": 44,
     "metadata": {},
     "output_type": "execute_result"
    }
   ],
   "source": [
    "dataset[\"CELLFON3\"].value_counts()"
   ]
  },
  {
   "cell_type": "code",
   "execution_count": 45,
   "id": "f4117316",
   "metadata": {},
   "outputs": [
    {
     "data": {
      "text/plain": [
       "3920"
      ]
     },
     "execution_count": 45,
     "metadata": {},
     "output_type": "execute_result"
    }
   ],
   "source": [
    "dataset[\"CELLFON3\"].isnull().sum()"
   ]
  },
  {
   "cell_type": "code",
   "execution_count": 46,
   "id": "62610541",
   "metadata": {},
   "outputs": [
    {
     "data": {
      "text/plain": [
       "Yes, respondent is female    4\n",
       "Yes, respondent is male      2\n",
       "Name: LADULT, dtype: int64"
      ]
     },
     "execution_count": 46,
     "metadata": {},
     "output_type": "execute_result"
    }
   ],
   "source": [
    "dataset[\"LADULT\"].value_counts()"
   ]
  },
  {
   "cell_type": "code",
   "execution_count": 47,
   "id": "62843aa1",
   "metadata": {},
   "outputs": [],
   "source": [
    "dataset.drop(\"LADULT\", axis=1, inplace=True)"
   ]
  },
  {
   "cell_type": "code",
   "execution_count": 48,
   "id": "bbffe0d8",
   "metadata": {},
   "outputs": [
    {
     "data": {
      "text/plain": [
       "2.0    3754\n",
       "1.0    3394\n",
       "3.0     806\n",
       "4.0     342\n",
       "5.0      91\n",
       "6.0      20\n",
       "7.0       3\n",
       "8.0       2\n",
       "Name: NUMADULT, dtype: int64"
      ]
     },
     "execution_count": 48,
     "metadata": {},
     "output_type": "execute_result"
    }
   ],
   "source": [
    "dataset[\"NUMADULT\"].value_counts()"
   ]
  },
  {
   "cell_type": "code",
   "execution_count": 49,
   "id": "1b779797",
   "metadata": {},
   "outputs": [
    {
     "data": {
      "text/plain": [
       "3926"
      ]
     },
     "execution_count": 49,
     "metadata": {},
     "output_type": "execute_result"
    }
   ],
   "source": [
    "dataset[\"NUMADULT\"].isnull().sum()"
   ]
  },
  {
   "cell_type": "code",
   "execution_count": 50,
   "id": "aaa773ff",
   "metadata": {},
   "outputs": [
    {
     "data": {
      "text/plain": [
       "Yes, Male Respondent      1996\n",
       "Yes, Female Respondent    1924\n",
       "Name: CADULT, dtype: int64"
      ]
     },
     "execution_count": 50,
     "metadata": {},
     "output_type": "execute_result"
    }
   ],
   "source": [
    "dataset[\"CADULT\"].value_counts()"
   ]
  },
  {
   "cell_type": "code",
   "execution_count": 51,
   "id": "037cb06b",
   "metadata": {},
   "outputs": [],
   "source": [
    "dataset.drop(\"CADULT\", axis=1, inplace=True)"
   ]
  },
  {
   "cell_type": "code",
   "execution_count": 52,
   "id": "84c5788c",
   "metadata": {},
   "outputs": [
    {
     "data": {
      "text/plain": [
       "Yes    44\n",
       "Name: CCLGHOUS, dtype: int64"
      ]
     },
     "execution_count": 52,
     "metadata": {},
     "output_type": "execute_result"
    }
   ],
   "source": [
    "dataset[\"CCLGHOUS\"].value_counts()"
   ]
  },
  {
   "cell_type": "code",
   "execution_count": 53,
   "id": "b77f00b2",
   "metadata": {},
   "outputs": [],
   "source": [
    "dataset.drop(\"CCLGHOUS\", axis=1, inplace=True)"
   ]
  },
  {
   "cell_type": "code",
   "execution_count": 54,
   "id": "a9fa856f",
   "metadata": {},
   "outputs": [
    {
     "data": {
      "text/plain": [
       "Yes    3471\n",
       "No      449\n",
       "Name: CSTATE, dtype: int64"
      ]
     },
     "execution_count": 54,
     "metadata": {},
     "output_type": "execute_result"
    }
   ],
   "source": [
    "dataset[\"CSTATE\"].value_counts()"
   ]
  },
  {
   "cell_type": "code",
   "execution_count": 55,
   "id": "de2b4020",
   "metadata": {},
   "outputs": [],
   "source": [
    "dataset.drop(\"CSTATE\", axis=1, inplace=True)"
   ]
  },
  {
   "cell_type": "code",
   "execution_count": 56,
   "id": "7a8402ec",
   "metadata": {},
   "outputs": [
    {
     "data": {
      "text/plain": [
       "New York    449\n",
       "Name: RSPSTATE, dtype: int64"
      ]
     },
     "execution_count": 56,
     "metadata": {},
     "output_type": "execute_result"
    }
   ],
   "source": [
    "dataset[\"RSPSTATE\"].value_counts()"
   ]
  },
  {
   "cell_type": "code",
   "execution_count": 57,
   "id": "b3a8409f",
   "metadata": {},
   "outputs": [],
   "source": [
    "dataset.drop(\"RSPSTATE\", axis=1, inplace=True)"
   ]
  },
  {
   "cell_type": "code",
   "execution_count": 58,
   "id": "936f2cf2",
   "metadata": {},
   "outputs": [
    {
     "data": {
      "text/plain": [
       "No     2146\n",
       "Yes    1731\n",
       "Name: LANDLINE, dtype: int64"
      ]
     },
     "execution_count": 58,
     "metadata": {},
     "output_type": "execute_result"
    }
   ],
   "source": [
    "dataset[\"LANDLINE\"].value_counts()"
   ]
  },
  {
   "cell_type": "code",
   "execution_count": 59,
   "id": "65e3f366",
   "metadata": {},
   "outputs": [],
   "source": [
    "dataset.drop(\"LANDLINE\", axis=1, inplace=True)"
   ]
  },
  {
   "cell_type": "code",
   "execution_count": 60,
   "id": "154576f0",
   "metadata": {},
   "outputs": [
    {
     "data": {
      "text/plain": [
       "2.0     1754\n",
       "1.0      938\n",
       "3.0      630\n",
       "4.0      344\n",
       "5.0      131\n",
       "6.0       38\n",
       "7.0       20\n",
       "8.0        7\n",
       "10.0       5\n",
       "9.0        3\n",
       "99.0       2\n",
       "12.0       2\n",
       "11.0       1\n",
       "Name: HHADULT, dtype: int64"
      ]
     },
     "execution_count": 60,
     "metadata": {},
     "output_type": "execute_result"
    }
   ],
   "source": [
    "dataset[\"HHADULT\"].value_counts()"
   ]
  },
  {
   "cell_type": "code",
   "execution_count": 61,
   "id": "eb431091",
   "metadata": {},
   "outputs": [
    {
     "data": {
      "text/plain": [
       "8463"
      ]
     },
     "execution_count": 61,
     "metadata": {},
     "output_type": "execute_result"
    }
   ],
   "source": [
    "dataset[\"HHADULT\"].isnull().sum()"
   ]
  },
  {
   "cell_type": "code",
   "execution_count": 62,
   "id": "2006bdf1",
   "metadata": {},
   "outputs": [],
   "source": [
    "dataset.drop(\"HHADULT\", axis=1, inplace=True)"
   ]
  },
  {
   "cell_type": "code",
   "execution_count": 63,
   "id": "631b06d3",
   "metadata": {},
   "outputs": [
    {
     "data": {
      "text/plain": [
       "Very good    4063\n",
       "Good         3838\n",
       "Excellent    2236\n",
       "Fair         1536\n",
       "Poor          600\n",
       "Name: GENHLTH, dtype: int64"
      ]
     },
     "execution_count": 63,
     "metadata": {},
     "output_type": "execute_result"
    }
   ],
   "source": [
    "dataset[\"GENHLTH\"].value_counts()"
   ]
  },
  {
   "cell_type": "code",
   "execution_count": 64,
   "id": "51b8bef3",
   "metadata": {},
   "outputs": [],
   "source": [
    "dataset[\"GENHLTH\"].replace(\"Don't know/Not Sure\", \"Very good\", inplace=True)"
   ]
  },
  {
   "cell_type": "code",
   "execution_count": 65,
   "id": "d41ac92e",
   "metadata": {},
   "outputs": [
    {
     "data": {
      "text/plain": [
       "Very good    4063\n",
       "Good         3838\n",
       "Excellent    2236\n",
       "Fair         1536\n",
       "Poor          600\n",
       "Name: GENHLTH, dtype: int64"
      ]
     },
     "execution_count": 65,
     "metadata": {},
     "output_type": "execute_result"
    }
   ],
   "source": [
    "dataset[\"GENHLTH\"].value_counts()"
   ]
  },
  {
   "cell_type": "code",
   "execution_count": 66,
   "id": "f6cf5320",
   "metadata": {},
   "outputs": [
    {
     "data": {
      "text/plain": [
       "Very good    4063\n",
       "Good         3838\n",
       "Excellent    2236\n",
       "Fair         1536\n",
       "Poor          600\n",
       "Name: GENHLTH, dtype: int64"
      ]
     },
     "execution_count": 66,
     "metadata": {},
     "output_type": "execute_result"
    }
   ],
   "source": [
    "dataset[\"GENHLTH\"].value_counts()"
   ]
  },
  {
   "cell_type": "code",
   "execution_count": 67,
   "id": "5d1b5709",
   "metadata": {},
   "outputs": [
    {
     "data": {
      "text/plain": [
       "65"
      ]
     },
     "execution_count": 67,
     "metadata": {},
     "output_type": "execute_result"
    }
   ],
   "source": [
    "dataset[\"GENHLTH\"].isnull().sum()"
   ]
  },
  {
   "cell_type": "code",
   "execution_count": 68,
   "id": "44939868",
   "metadata": {},
   "outputs": [
    {
     "data": {
      "text/plain": [
       "None              7201\n",
       "Number of days    4711\n",
       "Name: PHYSHLTH, dtype: int64"
      ]
     },
     "execution_count": 68,
     "metadata": {},
     "output_type": "execute_result"
    }
   ],
   "source": [
    "dataset[\"PHYSHLTH\"].value_counts()"
   ]
  },
  {
   "cell_type": "code",
   "execution_count": 69,
   "id": "158b97c7",
   "metadata": {},
   "outputs": [
    {
     "data": {
      "text/plain": [
       "426"
      ]
     },
     "execution_count": 69,
     "metadata": {},
     "output_type": "execute_result"
    }
   ],
   "source": [
    "dataset[\"PHYSHLTH\"].isnull().sum()"
   ]
  },
  {
   "cell_type": "code",
   "execution_count": 70,
   "id": "874e9fd5",
   "metadata": {},
   "outputs": [
    {
     "data": {
      "text/plain": [
       "None              8012\n",
       "Number of days    4008\n",
       "Name: MENTHLTH, dtype: int64"
      ]
     },
     "execution_count": 70,
     "metadata": {},
     "output_type": "execute_result"
    }
   ],
   "source": [
    "dataset[\"MENTHLTH\"].value_counts()"
   ]
  },
  {
   "cell_type": "code",
   "execution_count": 71,
   "id": "d6b53f96",
   "metadata": {},
   "outputs": [],
   "source": [
    "dataset[\"GENHLTH\"].replace(\"Refused\", np.nan, inplace=True)\n",
    "dataset[\"MENTHLTH\"].replace(\"Refused\", np.nan, inplace=True)\n",
    "dataset[\"MENTHLTH\"].replace(\"Don't know/Not sure\", np.nan, inplace=True)"
   ]
  },
  {
   "cell_type": "code",
   "execution_count": 72,
   "id": "c9fa63cc",
   "metadata": {},
   "outputs": [
    {
     "data": {
      "text/plain": [
       "None              8012\n",
       "Number of days    4008\n",
       "Name: MENTHLTH, dtype: int64"
      ]
     },
     "execution_count": 72,
     "metadata": {},
     "output_type": "execute_result"
    }
   ],
   "source": [
    "dataset[\"MENTHLTH\"].value_counts()"
   ]
  },
  {
   "cell_type": "code",
   "execution_count": 73,
   "id": "c21556e1",
   "metadata": {},
   "outputs": [
    {
     "data": {
      "text/plain": [
       "318"
      ]
     },
     "execution_count": 73,
     "metadata": {},
     "output_type": "execute_result"
    }
   ],
   "source": [
    "dataset[\"MENTHLTH\"].isnull().sum()"
   ]
  },
  {
   "cell_type": "code",
   "execution_count": 74,
   "id": "be280552",
   "metadata": {},
   "outputs": [
    {
     "data": {
      "text/plain": [
       "Very good    4063\n",
       "Good         3838\n",
       "Excellent    2236\n",
       "Fair         1536\n",
       "Poor          600\n",
       "Name: GENHLTH, dtype: int64"
      ]
     },
     "execution_count": 74,
     "metadata": {},
     "output_type": "execute_result"
    }
   ],
   "source": [
    "dataset[\"GENHLTH\"].value_counts()"
   ]
  },
  {
   "cell_type": "code",
   "execution_count": 75,
   "id": "c3b6e6e5",
   "metadata": {},
   "outputs": [
    {
     "data": {
      "text/plain": [
       "None              3792\n",
       "Number of days    2871\n",
       "Name: POORHLTH, dtype: int64"
      ]
     },
     "execution_count": 75,
     "metadata": {},
     "output_type": "execute_result"
    }
   ],
   "source": [
    "dataset[\"POORHLTH\"].value_counts()"
   ]
  },
  {
   "cell_type": "code",
   "execution_count": 76,
   "id": "4df4b51a",
   "metadata": {},
   "outputs": [],
   "source": [
    "dataset[\"POORHLTH\"].replace(\"Not asked or Missing\", np.nan, inplace=True)\n",
    "dataset[\"POORHLTH\"].replace(\"Refused\", np.nan, inplace=True)\n",
    "dataset[\"POORHLTH\"].replace(\"Don't know/Not sure\", np.nan, inplace=True)"
   ]
  },
  {
   "cell_type": "code",
   "execution_count": 77,
   "id": "dd1859a2",
   "metadata": {},
   "outputs": [
    {
     "data": {
      "text/plain": [
       "None              3792\n",
       "Number of days    2871\n",
       "Name: POORHLTH, dtype: int64"
      ]
     },
     "execution_count": 77,
     "metadata": {},
     "output_type": "execute_result"
    }
   ],
   "source": [
    "dataset[\"POORHLTH\"].value_counts()"
   ]
  },
  {
   "cell_type": "code",
   "execution_count": 78,
   "id": "57078371",
   "metadata": {},
   "outputs": [
    {
     "data": {
      "text/plain": [
       "5675"
      ]
     },
     "execution_count": 78,
     "metadata": {},
     "output_type": "execute_result"
    }
   ],
   "source": [
    "dataset[\"POORHLTH\"].isnull().sum()"
   ]
  },
  {
   "cell_type": "code",
   "execution_count": 79,
   "id": "6a011370",
   "metadata": {},
   "outputs": [
    {
     "data": {
      "text/plain": [
       "Yes    11523\n",
       "No       772\n",
       "Name: HLTHPLN1, dtype: int64"
      ]
     },
     "execution_count": 79,
     "metadata": {},
     "output_type": "execute_result"
    }
   ],
   "source": [
    "dataset[\"HLTHPLN1\"].value_counts()"
   ]
  },
  {
   "cell_type": "code",
   "execution_count": 80,
   "id": "1b9b53d9",
   "metadata": {},
   "outputs": [],
   "source": [
    "dataset[\"HLTHPLN1\"].replace(\"Refused\", np.nan, inplace=True)\n",
    "dataset[\"HLTHPLN1\"].replace(\"Don't know/Not Sure\", np.nan, inplace=True)"
   ]
  },
  {
   "cell_type": "code",
   "execution_count": 81,
   "id": "6a1a6349",
   "metadata": {},
   "outputs": [
    {
     "data": {
      "text/plain": [
       "Yes    11523\n",
       "No       772\n",
       "Name: HLTHPLN1, dtype: int64"
      ]
     },
     "execution_count": 81,
     "metadata": {},
     "output_type": "execute_result"
    }
   ],
   "source": [
    "dataset[\"HLTHPLN1\"].value_counts()"
   ]
  },
  {
   "cell_type": "code",
   "execution_count": 82,
   "id": "2eb58475",
   "metadata": {},
   "outputs": [
    {
     "data": {
      "text/plain": [
       "43"
      ]
     },
     "execution_count": 82,
     "metadata": {},
     "output_type": "execute_result"
    }
   ],
   "source": [
    "dataset[\"HLTHPLN1\"].isnull().sum()"
   ]
  },
  {
   "cell_type": "code",
   "execution_count": 83,
   "id": "bf815cb7",
   "metadata": {},
   "outputs": [
    {
     "data": {
      "text/plain": [
       "Yes, only one    9917\n",
       "No               1419\n",
       "More than one     909\n",
       "Name: PERSDOC2, dtype: int64"
      ]
     },
     "execution_count": 83,
     "metadata": {},
     "output_type": "execute_result"
    }
   ],
   "source": [
    "dataset[\"PERSDOC2\"].value_counts()"
   ]
  },
  {
   "cell_type": "code",
   "execution_count": 84,
   "id": "bface810",
   "metadata": {},
   "outputs": [],
   "source": [
    "dataset[\"PERSDOC2\"].replace(\"Refused\", np.nan, inplace=True)\n",
    "dataset[\"PERSDOC2\"].replace(\"Don't know/Not Sure\", np.nan, inplace=True)"
   ]
  },
  {
   "cell_type": "code",
   "execution_count": 85,
   "id": "3525a04b",
   "metadata": {},
   "outputs": [
    {
     "data": {
      "text/plain": [
       "Yes, only one    9917\n",
       "No               1419\n",
       "More than one     909\n",
       "Name: PERSDOC2, dtype: int64"
      ]
     },
     "execution_count": 85,
     "metadata": {},
     "output_type": "execute_result"
    }
   ],
   "source": [
    "dataset[\"PERSDOC2\"].value_counts()"
   ]
  },
  {
   "cell_type": "code",
   "execution_count": 86,
   "id": "81c19a48",
   "metadata": {},
   "outputs": [
    {
     "data": {
      "text/plain": [
       "No     11150\n",
       "Yes     1144\n",
       "Name: MEDCOST, dtype: int64"
      ]
     },
     "execution_count": 86,
     "metadata": {},
     "output_type": "execute_result"
    }
   ],
   "source": [
    "dataset[\"MEDCOST\"].value_counts()"
   ]
  },
  {
   "cell_type": "code",
   "execution_count": 87,
   "id": "79e08c2e",
   "metadata": {},
   "outputs": [],
   "source": [
    "dataset[\"MEDCOST\"].replace(\"Refused\", np.nan, inplace=True)\n",
    "dataset[\"MEDCOST\"].replace(\"Don't know/Not sure\", np.nan, inplace=True)"
   ]
  },
  {
   "cell_type": "code",
   "execution_count": 88,
   "id": "5cb5531e",
   "metadata": {},
   "outputs": [
    {
     "data": {
      "text/plain": [
       "No     11150\n",
       "Yes     1144\n",
       "Name: MEDCOST, dtype: int64"
      ]
     },
     "execution_count": 88,
     "metadata": {},
     "output_type": "execute_result"
    }
   ],
   "source": [
    "dataset[\"MEDCOST\"].value_counts()"
   ]
  },
  {
   "cell_type": "code",
   "execution_count": 89,
   "id": "26f69984",
   "metadata": {},
   "outputs": [
    {
     "data": {
      "text/plain": [
       "Within past year (anytime less than 12 months ago)         9447\n",
       "Within past 2 years (1 year but less than 2 years ago)     1395\n",
       "Within past 5 years (2 years but less than 5 years ago)     770\n",
       "5 or more years ago                                         547\n",
       "Never                                                        69\n",
       "Name: CHECKUP1, dtype: int64"
      ]
     },
     "execution_count": 89,
     "metadata": {},
     "output_type": "execute_result"
    }
   ],
   "source": [
    "dataset[\"CHECKUP1\"].value_counts()"
   ]
  },
  {
   "cell_type": "code",
   "execution_count": 90,
   "id": "04b3a6a0",
   "metadata": {},
   "outputs": [],
   "source": [
    "dataset[\"CHECKUP1\"].replace(\"Refused\", np.nan, inplace=True)\n",
    "dataset[\"CHECKUP1\"].replace(\"Don't know/Not sure\", np.nan, inplace=True)"
   ]
  },
  {
   "cell_type": "code",
   "execution_count": 91,
   "id": "08865047",
   "metadata": {},
   "outputs": [
    {
     "data": {
      "text/plain": [
       "Within past year (anytime less than 12 months ago)         9447\n",
       "Within past 2 years (1 year but less than 2 years ago)     1395\n",
       "Within past 5 years (2 years but less than 5 years ago)     770\n",
       "5 or more years ago                                         547\n",
       "Never                                                        69\n",
       "Name: CHECKUP1, dtype: int64"
      ]
     },
     "execution_count": 91,
     "metadata": {},
     "output_type": "execute_result"
    }
   ],
   "source": [
    "dataset[\"CHECKUP1\"].value_counts()"
   ]
  },
  {
   "cell_type": "code",
   "execution_count": 92,
   "id": "d5af8022",
   "metadata": {},
   "outputs": [
    {
     "data": {
      "text/plain": [
       "No                                            7562\n",
       "Yes                                           4544\n",
       "Told borderline high or pre-hypertensive        97\n",
       "Yes, but female told only during pregnancy      91\n",
       "Don´t know/Not Sure                             14\n",
       "Name: BPHIGH4, dtype: int64"
      ]
     },
     "execution_count": 92,
     "metadata": {},
     "output_type": "execute_result"
    }
   ],
   "source": [
    "dataset[\"BPHIGH4\"].value_counts()"
   ]
  },
  {
   "cell_type": "code",
   "execution_count": 93,
   "id": "461f6001",
   "metadata": {},
   "outputs": [],
   "source": [
    "dataset[\"BPHIGH4\"].replace(\"Refused\", np.nan, inplace=True)\n",
    "dataset[\"BPHIGH4\"].replace(\"Don´t know/Not Sure\", np.nan, inplace=True)"
   ]
  },
  {
   "cell_type": "code",
   "execution_count": 94,
   "id": "70b9f5ac",
   "metadata": {},
   "outputs": [
    {
     "data": {
      "text/plain": [
       "No                                            7562\n",
       "Yes                                           4544\n",
       "Told borderline high or pre-hypertensive        97\n",
       "Yes, but female told only during pregnancy      91\n",
       "Name: BPHIGH4, dtype: int64"
      ]
     },
     "execution_count": 94,
     "metadata": {},
     "output_type": "execute_result"
    }
   ],
   "source": [
    "dataset[\"BPHIGH4\"].value_counts()"
   ]
  },
  {
   "cell_type": "code",
   "execution_count": 977,
   "id": "a1aa8d67",
   "metadata": {},
   "outputs": [
    {
     "data": {
      "text/plain": [
       "44"
      ]
     },
     "execution_count": 977,
     "metadata": {},
     "output_type": "execute_result"
    }
   ],
   "source": [
    "dataset[\"BPHIGH4\"].isnull().sum()"
   ]
  },
  {
   "cell_type": "code",
   "execution_count": 95,
   "id": "0e6ea6c0",
   "metadata": {},
   "outputs": [
    {
     "data": {
      "text/plain": [
       "Yes    3761\n",
       "No      777\n",
       "Name: BPMEDS, dtype: int64"
      ]
     },
     "execution_count": 95,
     "metadata": {},
     "output_type": "execute_result"
    }
   ],
   "source": [
    "dataset[\"BPMEDS\"].value_counts()"
   ]
  },
  {
   "cell_type": "code",
   "execution_count": 96,
   "id": "fc6e93d8",
   "metadata": {},
   "outputs": [],
   "source": [
    "dataset[\"BPMEDS\"].replace(\"Refused\", np.nan, inplace=True)\n",
    "dataset[\"BPMEDS\"].replace(\"Don't know/Not Sure\", np.nan, inplace=True)\n",
    "dataset[\"BPMEDS\"].replace(\"Not asked or Missing\", np.nan, inplace=True)"
   ]
  },
  {
   "cell_type": "code",
   "execution_count": 97,
   "id": "02d3d707",
   "metadata": {},
   "outputs": [
    {
     "data": {
      "text/plain": [
       "Yes    3761\n",
       "No      777\n",
       "Name: BPMEDS, dtype: int64"
      ]
     },
     "execution_count": 97,
     "metadata": {},
     "output_type": "execute_result"
    }
   ],
   "source": [
    "dataset[\"BPMEDS\"].value_counts()"
   ]
  },
  {
   "cell_type": "code",
   "execution_count": 98,
   "id": "b48bcc5f",
   "metadata": {},
   "outputs": [
    {
     "data": {
      "text/plain": [
       "7800"
      ]
     },
     "execution_count": 98,
     "metadata": {},
     "output_type": "execute_result"
    }
   ],
   "source": [
    "dataset[\"BPMEDS\"].isnull().sum()"
   ]
  },
  {
   "cell_type": "code",
   "execution_count": 99,
   "id": "b058c517",
   "metadata": {},
   "outputs": [],
   "source": [
    "dataset.drop(\"BPMEDS\", axis=1, inplace=True)"
   ]
  },
  {
   "cell_type": "code",
   "execution_count": 100,
   "id": "237ba8b4",
   "metadata": {},
   "outputs": [
    {
     "data": {
      "text/plain": [
       "Yes    10851\n",
       "No      1258\n",
       "Name: BLOODCHO, dtype: int64"
      ]
     },
     "execution_count": 100,
     "metadata": {},
     "output_type": "execute_result"
    }
   ],
   "source": [
    "dataset[\"BLOODCHO\"].value_counts()"
   ]
  },
  {
   "cell_type": "code",
   "execution_count": 101,
   "id": "36acaa52",
   "metadata": {},
   "outputs": [],
   "source": [
    "dataset[\"BLOODCHO\"].replace(\"Refused\", np.nan, inplace=True)\n",
    "dataset[\"BLOODCHO\"].replace(\"Don't know/Not Sure\", np.nan, inplace=True)"
   ]
  },
  {
   "cell_type": "code",
   "execution_count": 102,
   "id": "9892c6d1",
   "metadata": {},
   "outputs": [
    {
     "data": {
      "text/plain": [
       "Yes    10851\n",
       "No      1258\n",
       "Name: BLOODCHO, dtype: int64"
      ]
     },
     "execution_count": 102,
     "metadata": {},
     "output_type": "execute_result"
    }
   ],
   "source": [
    "dataset[\"BLOODCHO\"].value_counts()"
   ]
  },
  {
   "cell_type": "code",
   "execution_count": 103,
   "id": "79fd8d32",
   "metadata": {},
   "outputs": [
    {
     "data": {
      "text/plain": [
       "Within the past year (anytime less than 12 months ago)         8422\n",
       "Within the past 2 years (1 year but less than 2 years ago)     1251\n",
       "Within the past 5 years (2 years but less than 5 years ago)     755\n",
       "5 or more years ago                                             316\n",
       "Name: CHOLCHK, dtype: int64"
      ]
     },
     "execution_count": 103,
     "metadata": {},
     "output_type": "execute_result"
    }
   ],
   "source": [
    "dataset[\"CHOLCHK\"].value_counts()"
   ]
  },
  {
   "cell_type": "code",
   "execution_count": 104,
   "id": "6fda0cd3",
   "metadata": {},
   "outputs": [],
   "source": [
    "dataset[\"CHOLCHK\"].replace(\"Refused\", np.nan, inplace=True)\n",
    "dataset[\"CHOLCHK\"].replace(\"Don't know/Not Sure\", np.nan, inplace=True)\n",
    "dataset[\"CHOLCHK\"].replace(\"Not asked or Missing\", np.nan, inplace=True)"
   ]
  },
  {
   "cell_type": "code",
   "execution_count": 105,
   "id": "9697dd44",
   "metadata": {},
   "outputs": [
    {
     "data": {
      "text/plain": [
       "Within the past year (anytime less than 12 months ago)         8422\n",
       "Within the past 2 years (1 year but less than 2 years ago)     1251\n",
       "Within the past 5 years (2 years but less than 5 years ago)     755\n",
       "5 or more years ago                                             316\n",
       "Name: CHOLCHK, dtype: int64"
      ]
     },
     "execution_count": 105,
     "metadata": {},
     "output_type": "execute_result"
    }
   ],
   "source": [
    "dataset[\"CHOLCHK\"].value_counts()"
   ]
  },
  {
   "cell_type": "code",
   "execution_count": 106,
   "id": "3688e742",
   "metadata": {},
   "outputs": [
    {
     "data": {
      "text/plain": [
       "No     6367\n",
       "Yes    4396\n",
       "Name: TOLDHI2, dtype: int64"
      ]
     },
     "execution_count": 106,
     "metadata": {},
     "output_type": "execute_result"
    }
   ],
   "source": [
    "dataset[\"TOLDHI2\"].value_counts()"
   ]
  },
  {
   "cell_type": "code",
   "execution_count": 107,
   "id": "193c4390",
   "metadata": {},
   "outputs": [],
   "source": [
    "dataset[\"TOLDHI2\"].replace(\"Not asked or Missing\", np.nan, inplace=True)\n",
    "dataset[\"TOLDHI2\"].replace(\"Refused\", np.nan, inplace=True)\n",
    "dataset[\"TOLDHI2\"].replace(\"Don't know/Not Sure\", np.nan, inplace=True)"
   ]
  },
  {
   "cell_type": "code",
   "execution_count": 108,
   "id": "2973864d",
   "metadata": {},
   "outputs": [
    {
     "data": {
      "text/plain": [
       "No     6367\n",
       "Yes    4396\n",
       "Name: TOLDHI2, dtype: int64"
      ]
     },
     "execution_count": 108,
     "metadata": {},
     "output_type": "execute_result"
    }
   ],
   "source": [
    "dataset[\"TOLDHI2\"].value_counts()"
   ]
  },
  {
   "cell_type": "code",
   "execution_count": 109,
   "id": "7547f8ee",
   "metadata": {},
   "outputs": [
    {
     "data": {
      "text/plain": [
       "1575"
      ]
     },
     "execution_count": 109,
     "metadata": {},
     "output_type": "execute_result"
    }
   ],
   "source": [
    "dataset[\"TOLDHI2\"].isnull().sum()"
   ]
  },
  {
   "cell_type": "code",
   "execution_count": 110,
   "id": "0b2a7c99",
   "metadata": {},
   "outputs": [
    {
     "data": {
      "text/plain": [
       "No     11648\n",
       "Yes      630\n",
       "Name: CVDINFR4, dtype: int64"
      ]
     },
     "execution_count": 110,
     "metadata": {},
     "output_type": "execute_result"
    }
   ],
   "source": [
    "dataset[\"CVDINFR4\"].value_counts()"
   ]
  },
  {
   "cell_type": "code",
   "execution_count": 111,
   "id": "0b1bdc9d",
   "metadata": {},
   "outputs": [],
   "source": [
    "dataset[\"CVDINFR4\"].replace(\"Refused\", np.nan, inplace=True)\n",
    "dataset[\"CVDINFR4\"].replace(\"Don't know/Not sure\", np.nan, inplace=True)"
   ]
  },
  {
   "cell_type": "code",
   "execution_count": 112,
   "id": "9bf4d368",
   "metadata": {},
   "outputs": [
    {
     "data": {
      "text/plain": [
       "No     11648\n",
       "Yes      630\n",
       "Name: CVDINFR4, dtype: int64"
      ]
     },
     "execution_count": 112,
     "metadata": {},
     "output_type": "execute_result"
    }
   ],
   "source": [
    "dataset[\"CVDINFR4\"].value_counts()"
   ]
  },
  {
   "cell_type": "code",
   "execution_count": 113,
   "id": "c639bb5b",
   "metadata": {},
   "outputs": [
    {
     "data": {
      "text/plain": [
       "60"
      ]
     },
     "execution_count": 113,
     "metadata": {},
     "output_type": "execute_result"
    }
   ],
   "source": [
    "dataset[\"CVDINFR4\"].isnull().sum()"
   ]
  },
  {
   "cell_type": "code",
   "execution_count": 114,
   "id": "4a356c17",
   "metadata": {},
   "outputs": [
    {
     "data": {
      "text/plain": [
       "No     11608\n",
       "Yes      647\n",
       "Name: CVDCRHD4, dtype: int64"
      ]
     },
     "execution_count": 114,
     "metadata": {},
     "output_type": "execute_result"
    }
   ],
   "source": [
    "dataset[\"CVDCRHD4\"].value_counts()"
   ]
  },
  {
   "cell_type": "code",
   "execution_count": 115,
   "id": "95f248f8",
   "metadata": {},
   "outputs": [],
   "source": [
    "dataset[\"CVDCRHD4\"].replace(\"Refused\", np.nan, inplace=True)\n",
    "dataset[\"CVDCRHD4\"].replace(\"Don't know/Not sure\", np.nan, inplace=True)"
   ]
  },
  {
   "cell_type": "code",
   "execution_count": 116,
   "id": "dc80655c",
   "metadata": {},
   "outputs": [
    {
     "data": {
      "text/plain": [
       "No     11608\n",
       "Yes      647\n",
       "Name: CVDCRHD4, dtype: int64"
      ]
     },
     "execution_count": 116,
     "metadata": {},
     "output_type": "execute_result"
    }
   ],
   "source": [
    "dataset[\"CVDCRHD4\"].value_counts()"
   ]
  },
  {
   "cell_type": "code",
   "execution_count": 117,
   "id": "947f39f8",
   "metadata": {},
   "outputs": [
    {
     "data": {
      "text/plain": [
       "83"
      ]
     },
     "execution_count": 117,
     "metadata": {},
     "output_type": "execute_result"
    }
   ],
   "source": [
    "dataset[\"CVDCRHD4\"].isnull().sum()"
   ]
  },
  {
   "cell_type": "code",
   "execution_count": 118,
   "id": "a445d22d",
   "metadata": {},
   "outputs": [
    {
     "data": {
      "text/plain": [
       "No     11894\n",
       "Yes      417\n",
       "Name: CVDSTRK3, dtype: int64"
      ]
     },
     "execution_count": 118,
     "metadata": {},
     "output_type": "execute_result"
    }
   ],
   "source": [
    "dataset[\"CVDSTRK3\"].value_counts()"
   ]
  },
  {
   "cell_type": "code",
   "execution_count": 119,
   "id": "4858db72",
   "metadata": {},
   "outputs": [],
   "source": [
    "dataset[\"CVDSTRK3\"].replace(\"Refused\", np.nan, inplace=True)\n",
    "dataset[\"CVDSTRK3\"].replace(\"Don't know/Not sure\", np.nan, inplace=True)"
   ]
  },
  {
   "cell_type": "code",
   "execution_count": 120,
   "id": "0272bb8f",
   "metadata": {},
   "outputs": [
    {
     "data": {
      "text/plain": [
       "No     11894\n",
       "Yes      417\n",
       "Name: CVDSTRK3, dtype: int64"
      ]
     },
     "execution_count": 120,
     "metadata": {},
     "output_type": "execute_result"
    }
   ],
   "source": [
    "dataset[\"CVDSTRK3\"].value_counts()"
   ]
  },
  {
   "cell_type": "code",
   "execution_count": 121,
   "id": "b583a718",
   "metadata": {},
   "outputs": [
    {
     "data": {
      "text/plain": [
       "27"
      ]
     },
     "execution_count": 121,
     "metadata": {},
     "output_type": "execute_result"
    }
   ],
   "source": [
    "dataset[\"CVDSTRK3\"].isnull().sum()"
   ]
  },
  {
   "cell_type": "code",
   "execution_count": 122,
   "id": "ed6d1e78",
   "metadata": {},
   "outputs": [
    {
     "data": {
      "text/plain": [
       "No     10512\n",
       "Yes     1788\n",
       "Name: ASTHMA3, dtype: int64"
      ]
     },
     "execution_count": 122,
     "metadata": {},
     "output_type": "execute_result"
    }
   ],
   "source": [
    "dataset[\"ASTHMA3\"].value_counts()"
   ]
  },
  {
   "cell_type": "code",
   "execution_count": 123,
   "id": "4edd6a8f",
   "metadata": {},
   "outputs": [],
   "source": [
    "dataset[\"ASTHMA3\"].replace(\"Refused\", np.nan, inplace=True)\n",
    "dataset[\"ASTHMA3\"].replace(\"Don't know/Not Sure\", np.nan, inplace=True)"
   ]
  },
  {
   "cell_type": "code",
   "execution_count": 124,
   "id": "c4037a5c",
   "metadata": {},
   "outputs": [
    {
     "data": {
      "text/plain": [
       "No     10512\n",
       "Yes     1788\n",
       "Name: ASTHMA3, dtype: int64"
      ]
     },
     "execution_count": 124,
     "metadata": {},
     "output_type": "execute_result"
    }
   ],
   "source": [
    "dataset[\"ASTHMA3\"].value_counts()"
   ]
  },
  {
   "cell_type": "code",
   "execution_count": 125,
   "id": "45aff649",
   "metadata": {},
   "outputs": [
    {
     "data": {
      "text/plain": [
       "38"
      ]
     },
     "execution_count": 125,
     "metadata": {},
     "output_type": "execute_result"
    }
   ],
   "source": [
    "dataset[\"ASTHMA3\"].isnull().sum()"
   ]
  },
  {
   "cell_type": "code",
   "execution_count": 126,
   "id": "8179a67c",
   "metadata": {},
   "outputs": [
    {
     "data": {
      "text/plain": [
       "Yes    1214\n",
       "No      530\n",
       "Name: ASTHNOW, dtype: int64"
      ]
     },
     "execution_count": 126,
     "metadata": {},
     "output_type": "execute_result"
    }
   ],
   "source": [
    "dataset[\"ASTHNOW\"].value_counts()"
   ]
  },
  {
   "cell_type": "code",
   "execution_count": 127,
   "id": "8c2ba674",
   "metadata": {},
   "outputs": [],
   "source": [
    "dataset[\"ASTHNOW\"].replace(\"Not asked or Missing\", np.nan, inplace=True)\n",
    "dataset[\"ASTHNOW\"].replace(\"Refused\", np.nan, inplace=True)\n",
    "dataset[\"ASTHNOW\"].replace(\"Don't know/Not Sure\", np.nan, inplace=True)"
   ]
  },
  {
   "cell_type": "code",
   "execution_count": 128,
   "id": "3627de7e",
   "metadata": {},
   "outputs": [
    {
     "data": {
      "text/plain": [
       "Yes    1214\n",
       "No      530\n",
       "Name: ASTHNOW, dtype: int64"
      ]
     },
     "execution_count": 128,
     "metadata": {},
     "output_type": "execute_result"
    }
   ],
   "source": [
    "dataset[\"ASTHNOW\"].value_counts()"
   ]
  },
  {
   "cell_type": "code",
   "execution_count": 129,
   "id": "f5f74cb5",
   "metadata": {},
   "outputs": [
    {
     "data": {
      "text/plain": [
       "10594"
      ]
     },
     "execution_count": 129,
     "metadata": {},
     "output_type": "execute_result"
    }
   ],
   "source": [
    "dataset[\"ASTHNOW\"].isnull().sum()"
   ]
  },
  {
   "cell_type": "code",
   "execution_count": 130,
   "id": "0ccfd788",
   "metadata": {},
   "outputs": [],
   "source": [
    "dataset.drop(\"ASTHNOW\", axis=1, inplace=True)"
   ]
  },
  {
   "cell_type": "code",
   "execution_count": 131,
   "id": "38657efd",
   "metadata": {},
   "outputs": [
    {
     "data": {
      "text/plain": [
       "No     11402\n",
       "Yes      910\n",
       "Name: CHCSCNCR, dtype: int64"
      ]
     },
     "execution_count": 131,
     "metadata": {},
     "output_type": "execute_result"
    }
   ],
   "source": [
    "dataset[\"CHCSCNCR\"].value_counts()"
   ]
  },
  {
   "cell_type": "code",
   "execution_count": 132,
   "id": "624b357a",
   "metadata": {},
   "outputs": [],
   "source": [
    "dataset[\"CHCSCNCR\"].replace(\"Refused\", np.nan, inplace=True)\n",
    "dataset[\"CHCSCNCR\"].replace(\"Don't know / Not sure\", np.nan, inplace=True)"
   ]
  },
  {
   "cell_type": "code",
   "execution_count": 133,
   "id": "938c9b05",
   "metadata": {},
   "outputs": [
    {
     "data": {
      "text/plain": [
       "No     11402\n",
       "Yes      910\n",
       "Name: CHCSCNCR, dtype: int64"
      ]
     },
     "execution_count": 133,
     "metadata": {},
     "output_type": "execute_result"
    }
   ],
   "source": [
    "dataset[\"CHCSCNCR\"].value_counts()"
   ]
  },
  {
   "cell_type": "code",
   "execution_count": 134,
   "id": "7de71edd",
   "metadata": {},
   "outputs": [
    {
     "data": {
      "text/plain": [
       "26"
      ]
     },
     "execution_count": 134,
     "metadata": {},
     "output_type": "execute_result"
    }
   ],
   "source": [
    "dataset[\"CHCSCNCR\"].isnull().sum()"
   ]
  },
  {
   "cell_type": "code",
   "execution_count": 135,
   "id": "fc7d0041",
   "metadata": {},
   "outputs": [
    {
     "data": {
      "text/plain": [
       "No     11377\n",
       "Yes      888\n",
       "Name: CHCCOPD1, dtype: int64"
      ]
     },
     "execution_count": 135,
     "metadata": {},
     "output_type": "execute_result"
    }
   ],
   "source": [
    "dataset[\"CHCCOPD1\"].value_counts()"
   ]
  },
  {
   "cell_type": "code",
   "execution_count": 136,
   "id": "91032e8c",
   "metadata": {},
   "outputs": [],
   "source": [
    "dataset[\"CHCCOPD1\"].replace(\"Refused\", np.nan, inplace=True)\n",
    "dataset[\"CHCCOPD1\"].replace(\"Don't know / Not sure\", np.nan, inplace=True)"
   ]
  },
  {
   "cell_type": "code",
   "execution_count": 137,
   "id": "c8ab6687",
   "metadata": {},
   "outputs": [
    {
     "data": {
      "text/plain": [
       "No     11377\n",
       "Yes      888\n",
       "Name: CHCCOPD1, dtype: int64"
      ]
     },
     "execution_count": 137,
     "metadata": {},
     "output_type": "execute_result"
    }
   ],
   "source": [
    "dataset[\"CHCCOPD1\"].value_counts()"
   ]
  },
  {
   "cell_type": "code",
   "execution_count": 138,
   "id": "26a11134",
   "metadata": {},
   "outputs": [
    {
     "data": {
      "text/plain": [
       "73"
      ]
     },
     "execution_count": 138,
     "metadata": {},
     "output_type": "execute_result"
    }
   ],
   "source": [
    "dataset[\"CHCCOPD1\"].isnull().sum()"
   ]
  },
  {
   "cell_type": "code",
   "execution_count": 139,
   "id": "10415a6a",
   "metadata": {},
   "outputs": [
    {
     "data": {
      "text/plain": [
       "No     8348\n",
       "Yes    3912\n",
       "Name: HAVARTH3, dtype: int64"
      ]
     },
     "execution_count": 139,
     "metadata": {},
     "output_type": "execute_result"
    }
   ],
   "source": [
    "dataset[\"HAVARTH3\"].value_counts()"
   ]
  },
  {
   "cell_type": "code",
   "execution_count": 140,
   "id": "cca6aca6",
   "metadata": {},
   "outputs": [],
   "source": [
    "dataset[\"HAVARTH3\"].replace(\"Refused\", np.nan, inplace=True)\n",
    "dataset[\"HAVARTH3\"].replace(\"Don't know/Not Sure\", np.nan, inplace=True)"
   ]
  },
  {
   "cell_type": "code",
   "execution_count": 141,
   "id": "76f45be3",
   "metadata": {},
   "outputs": [
    {
     "data": {
      "text/plain": [
       "No     8348\n",
       "Yes    3912\n",
       "Name: HAVARTH3, dtype: int64"
      ]
     },
     "execution_count": 141,
     "metadata": {},
     "output_type": "execute_result"
    }
   ],
   "source": [
    "dataset[\"HAVARTH3\"].value_counts()"
   ]
  },
  {
   "cell_type": "code",
   "execution_count": 142,
   "id": "dcc149aa",
   "metadata": {},
   "outputs": [
    {
     "data": {
      "text/plain": [
       "78"
      ]
     },
     "execution_count": 142,
     "metadata": {},
     "output_type": "execute_result"
    }
   ],
   "source": [
    "dataset[\"HAVARTH3\"].isnull().sum()"
   ]
  },
  {
   "cell_type": "code",
   "execution_count": 143,
   "id": "746221d8",
   "metadata": {},
   "outputs": [
    {
     "data": {
      "text/plain": [
       "No     10199\n",
       "Yes     2084\n",
       "Name: ADDEPEV2, dtype: int64"
      ]
     },
     "execution_count": 143,
     "metadata": {},
     "output_type": "execute_result"
    }
   ],
   "source": [
    "dataset[\"ADDEPEV2\"].value_counts()"
   ]
  },
  {
   "cell_type": "code",
   "execution_count": 144,
   "id": "dc0f9fce",
   "metadata": {},
   "outputs": [],
   "source": [
    "dataset[\"ADDEPEV2\"].replace(\"Refused\", np.nan, inplace=True)\n",
    "dataset[\"ADDEPEV2\"].replace(\"Don't know/Not sure\", np.nan, inplace=True)"
   ]
  },
  {
   "cell_type": "code",
   "execution_count": 145,
   "id": "dee6d446",
   "metadata": {},
   "outputs": [
    {
     "data": {
      "text/plain": [
       "No     10199\n",
       "Yes     2084\n",
       "Name: ADDEPEV2, dtype: int64"
      ]
     },
     "execution_count": 145,
     "metadata": {},
     "output_type": "execute_result"
    }
   ],
   "source": [
    "dataset[\"ADDEPEV2\"].value_counts()"
   ]
  },
  {
   "cell_type": "code",
   "execution_count": 146,
   "id": "8308b419",
   "metadata": {},
   "outputs": [
    {
     "data": {
      "text/plain": [
       "55"
      ]
     },
     "execution_count": 146,
     "metadata": {},
     "output_type": "execute_result"
    }
   ],
   "source": [
    "dataset[\"ADDEPEV2\"].isnull().sum()"
   ]
  },
  {
   "cell_type": "code",
   "execution_count": 147,
   "id": "3252cac4",
   "metadata": {},
   "outputs": [
    {
     "data": {
      "text/plain": [
       "No     11955\n",
       "Yes      339\n",
       "Name: CHCKIDNY, dtype: int64"
      ]
     },
     "execution_count": 147,
     "metadata": {},
     "output_type": "execute_result"
    }
   ],
   "source": [
    "dataset[\"CHCKIDNY\"].value_counts()"
   ]
  },
  {
   "cell_type": "code",
   "execution_count": 148,
   "id": "07041357",
   "metadata": {},
   "outputs": [],
   "source": [
    "dataset[\"CHCKIDNY\"].replace(\"Refused\", np.nan, inplace=True)\n",
    "dataset[\"CHCKIDNY\"].replace(\"Don't know / Not sure\", np.nan, inplace=True)"
   ]
  },
  {
   "cell_type": "code",
   "execution_count": 149,
   "id": "4f39c228",
   "metadata": {},
   "outputs": [
    {
     "data": {
      "text/plain": [
       "No     11955\n",
       "Yes      339\n",
       "Name: CHCKIDNY, dtype: int64"
      ]
     },
     "execution_count": 149,
     "metadata": {},
     "output_type": "execute_result"
    }
   ],
   "source": [
    "dataset[\"CHCKIDNY\"].value_counts()"
   ]
  },
  {
   "cell_type": "code",
   "execution_count": 150,
   "id": "b43ed767",
   "metadata": {},
   "outputs": [
    {
     "data": {
      "text/plain": [
       "44"
      ]
     },
     "execution_count": 150,
     "metadata": {},
     "output_type": "execute_result"
    }
   ],
   "source": [
    "dataset[\"CHCKIDNY\"].isnull().sum()"
   ]
  },
  {
   "cell_type": "code",
   "execution_count": 151,
   "id": "0893e00f",
   "metadata": {},
   "outputs": [
    {
     "data": {
      "text/plain": [
       "No                                            10610\n",
       "Yes                                            1458\n",
       "No, pre-diabetes or borderline diabetes         175\n",
       "Yes, but female told only during pregnancy       82\n",
       "Name: DIABETE3, dtype: int64"
      ]
     },
     "execution_count": 151,
     "metadata": {},
     "output_type": "execute_result"
    }
   ],
   "source": [
    "dataset[\"DIABETE3\"].value_counts()"
   ]
  },
  {
   "cell_type": "code",
   "execution_count": 152,
   "id": "553b02d5",
   "metadata": {},
   "outputs": [],
   "source": [
    "dataset[\"DIABETE3\"].replace(\"Refused\", np.nan, inplace=True)\n",
    "dataset[\"DIABETE3\"].replace(\"Don't know/Not Sure\", np.nan, inplace=True)"
   ]
  },
  {
   "cell_type": "code",
   "execution_count": 153,
   "id": "fedd33fc",
   "metadata": {},
   "outputs": [
    {
     "data": {
      "text/plain": [
       "No                                            10610\n",
       "Yes                                            1458\n",
       "No, pre-diabetes or borderline diabetes         175\n",
       "Yes, but female told only during pregnancy       82\n",
       "Name: DIABETE3, dtype: int64"
      ]
     },
     "execution_count": 153,
     "metadata": {},
     "output_type": "execute_result"
    }
   ],
   "source": [
    "dataset[\"DIABETE3\"].value_counts()"
   ]
  },
  {
   "cell_type": "code",
   "execution_count": 154,
   "id": "cfcf7d69",
   "metadata": {},
   "outputs": [
    {
     "data": {
      "text/plain": [
       "Age in years  [97 = 97 and older]    1386\n",
       "Name: DIABAGE2, dtype: int64"
      ]
     },
     "execution_count": 154,
     "metadata": {},
     "output_type": "execute_result"
    }
   ],
   "source": [
    "dataset[\"DIABAGE2\"].value_counts()"
   ]
  },
  {
   "cell_type": "code",
   "execution_count": 155,
   "id": "0c3315c8",
   "metadata": {},
   "outputs": [],
   "source": [
    "dataset[\"DIABAGE2\"].replace(\"Refused\", np.nan, inplace=True)\n",
    "dataset[\"DIABAGE2\"].replace(\"Don't know/Not sure\", np.nan, inplace=True)\n",
    "dataset[\"DIABAGE2\"].replace(\"Not asked or Missing\", np.nan, inplace=True)"
   ]
  },
  {
   "cell_type": "code",
   "execution_count": 156,
   "id": "ece96ee4",
   "metadata": {},
   "outputs": [
    {
     "data": {
      "text/plain": [
       "Age in years  [97 = 97 and older]    1386\n",
       "Name: DIABAGE2, dtype: int64"
      ]
     },
     "execution_count": 156,
     "metadata": {},
     "output_type": "execute_result"
    }
   ],
   "source": [
    "dataset[\"DIABAGE2\"].value_counts()"
   ]
  },
  {
   "cell_type": "code",
   "execution_count": 157,
   "id": "5738b6c7",
   "metadata": {},
   "outputs": [
    {
     "data": {
      "text/plain": [
       "Female    7139\n",
       "Male      5199\n",
       "Name: SEX, dtype: int64"
      ]
     },
     "execution_count": 157,
     "metadata": {},
     "output_type": "execute_result"
    }
   ],
   "source": [
    "dataset[\"SEX\"].value_counts()"
   ]
  },
  {
   "cell_type": "code",
   "execution_count": 158,
   "id": "9b77355c",
   "metadata": {},
   "outputs": [
    {
     "data": {
      "text/plain": [
       "0"
      ]
     },
     "execution_count": 158,
     "metadata": {},
     "output_type": "execute_result"
    }
   ],
   "source": [
    "dataset[\"SEX\"].isnull().sum()"
   ]
  },
  {
   "cell_type": "code",
   "execution_count": 159,
   "id": "5bec70fc",
   "metadata": {},
   "outputs": [
    {
     "data": {
      "text/plain": [
       "Age 65 or older    4031\n",
       "Age 55 - 64        2559\n",
       "Age 45 - 54        2150\n",
       "Age 35 - 44        1471\n",
       "Age 25 - 34        1273\n",
       "Age 18 - 24         657\n",
       "Name: AGE, dtype: int64"
      ]
     },
     "execution_count": 159,
     "metadata": {},
     "output_type": "execute_result"
    }
   ],
   "source": [
    "dataset[\"AGE\"].value_counts()"
   ]
  },
  {
   "cell_type": "code",
   "execution_count": 160,
   "id": "4d2de70b",
   "metadata": {},
   "outputs": [],
   "source": [
    "dataset[\"AGE\"].replace(\"Refused\", np.nan, inplace=True)\n",
    "dataset[\"AGE\"].replace(\"Don't know/Not sure\", np.nan, inplace=True)"
   ]
  },
  {
   "cell_type": "code",
   "execution_count": 161,
   "id": "9ad45961",
   "metadata": {},
   "outputs": [
    {
     "data": {
      "text/plain": [
       "Age 65 or older    4031\n",
       "Age 55 - 64        2559\n",
       "Age 45 - 54        2150\n",
       "Age 35 - 44        1471\n",
       "Age 25 - 34        1273\n",
       "Age 18 - 24         657\n",
       "Name: AGE, dtype: int64"
      ]
     },
     "execution_count": 161,
     "metadata": {},
     "output_type": "execute_result"
    }
   ],
   "source": [
    "dataset[\"AGE\"].value_counts()"
   ]
  },
  {
   "cell_type": "code",
   "execution_count": 162,
   "id": "858bf3c4",
   "metadata": {},
   "outputs": [
    {
     "data": {
      "text/plain": [
       "Series([], Name: HISPANC3, dtype: int64)"
      ]
     },
     "execution_count": 162,
     "metadata": {},
     "output_type": "execute_result"
    }
   ],
   "source": [
    "dataset[\"HISPANC3\"].value_counts()"
   ]
  },
  {
   "cell_type": "code",
   "execution_count": 163,
   "id": "62e1585f",
   "metadata": {},
   "outputs": [
    {
     "data": {
      "text/plain": [
       "12338"
      ]
     },
     "execution_count": 163,
     "metadata": {},
     "output_type": "execute_result"
    }
   ],
   "source": [
    "dataset[\"HISPANC3\"].isnull().sum()"
   ]
  },
  {
   "cell_type": "code",
   "execution_count": 164,
   "id": "7e2396e9",
   "metadata": {},
   "outputs": [],
   "source": [
    "dataset.drop(\"HISPANC3\", axis=1, inplace=True)"
   ]
  },
  {
   "cell_type": "code",
   "execution_count": 165,
   "id": "134a4144",
   "metadata": {},
   "outputs": [
    {
     "data": {
      "text/plain": [
       "Series([], Name: MRACE1, dtype: int64)"
      ]
     },
     "execution_count": 165,
     "metadata": {},
     "output_type": "execute_result"
    }
   ],
   "source": [
    "dataset[\"MRACE1\"].value_counts()"
   ]
  },
  {
   "cell_type": "code",
   "execution_count": 166,
   "id": "9b573805",
   "metadata": {},
   "outputs": [
    {
     "data": {
      "text/plain": [
       "12338"
      ]
     },
     "execution_count": 166,
     "metadata": {},
     "output_type": "execute_result"
    }
   ],
   "source": [
    "dataset[\"MRACE1\"].isnull().sum()"
   ]
  },
  {
   "cell_type": "code",
   "execution_count": 167,
   "id": "c6053918",
   "metadata": {},
   "outputs": [],
   "source": [
    "dataset.drop(\"MRACE1\", axis=1, inplace=True)"
   ]
  },
  {
   "cell_type": "code",
   "execution_count": 168,
   "id": "d42334ed",
   "metadata": {},
   "outputs": [
    {
     "data": {
      "text/plain": [
       "Series([], Name: ORACE3, dtype: int64)"
      ]
     },
     "execution_count": 168,
     "metadata": {},
     "output_type": "execute_result"
    }
   ],
   "source": [
    "dataset[\"ORACE3\"].value_counts()"
   ]
  },
  {
   "cell_type": "code",
   "execution_count": 169,
   "id": "57cfc7b7",
   "metadata": {},
   "outputs": [],
   "source": [
    "dataset.drop(\"ORACE3\", axis=1, inplace=True)"
   ]
  },
  {
   "cell_type": "code",
   "execution_count": 170,
   "id": "46411c8b",
   "metadata": {},
   "outputs": [
    {
     "data": {
      "text/plain": [
       "Married                            5742\n",
       "Never married                      2538\n",
       "Divorced                           1567\n",
       "Widowed                            1505\n",
       "Separated                           424\n",
       "A member of an unmarried couple     408\n",
       "Name: MARITAL, dtype: int64"
      ]
     },
     "execution_count": 170,
     "metadata": {},
     "output_type": "execute_result"
    }
   ],
   "source": [
    "dataset[\"MARITAL\"].value_counts()"
   ]
  },
  {
   "cell_type": "code",
   "execution_count": 171,
   "id": "b3cc2013",
   "metadata": {},
   "outputs": [
    {
     "data": {
      "text/plain": [
       "154"
      ]
     },
     "execution_count": 171,
     "metadata": {},
     "output_type": "execute_result"
    }
   ],
   "source": [
    "dataset[\"MARITAL\"].isnull().sum()"
   ]
  },
  {
   "cell_type": "code",
   "execution_count": 172,
   "id": "28ffee02",
   "metadata": {},
   "outputs": [
    {
     "data": {
      "text/plain": [
       "College 4 years or more (College graduate)                      5272\n",
       "Grade 12 or GED (High school graduate)                          2977\n",
       "College 1 year to 3 years (Some college or technical school)    2883\n",
       "Grades 9 through 11 (Some high school)                           652\n",
       "Grades 1 through 8 (Elementary)                                  440\n",
       "Never attended school or only kindergarten                        22\n",
       "Name: EDUCA, dtype: int64"
      ]
     },
     "execution_count": 172,
     "metadata": {},
     "output_type": "execute_result"
    }
   ],
   "source": [
    "dataset[\"EDUCA\"].value_counts()"
   ]
  },
  {
   "cell_type": "code",
   "execution_count": 173,
   "id": "92784e9e",
   "metadata": {},
   "outputs": [
    {
     "data": {
      "text/plain": [
       "92"
      ]
     },
     "execution_count": 173,
     "metadata": {},
     "output_type": "execute_result"
    }
   ],
   "source": [
    "dataset[\"EDUCA\"].isnull().sum()"
   ]
  },
  {
   "cell_type": "code",
   "execution_count": 174,
   "id": "2be5a72b",
   "metadata": {},
   "outputs": [
    {
     "data": {
      "text/plain": [
       "Own                  7246\n",
       "Rent                 4543\n",
       "Other arrangement     448\n",
       "Name: RENTHOM1, dtype: int64"
      ]
     },
     "execution_count": 174,
     "metadata": {},
     "output_type": "execute_result"
    }
   ],
   "source": [
    "dataset[\"RENTHOM1\"].value_counts()"
   ]
  },
  {
   "cell_type": "code",
   "execution_count": 978,
   "id": "b0c73fad",
   "metadata": {},
   "outputs": [
    {
     "data": {
      "text/plain": [
       "101"
      ]
     },
     "execution_count": 978,
     "metadata": {},
     "output_type": "execute_result"
    }
   ],
   "source": [
    "dataset[\"RENTHOM1\"].isnull().sum()"
   ]
  },
  {
   "cell_type": "code",
   "execution_count": 175,
   "id": "94de39fc",
   "metadata": {},
   "outputs": [
    {
     "data": {
      "text/plain": [
       "Series([], Name: CTYCODE1, dtype: int64)"
      ]
     },
     "execution_count": 175,
     "metadata": {},
     "output_type": "execute_result"
    }
   ],
   "source": [
    "dataset[\"CTYCODE1\"].value_counts()"
   ]
  },
  {
   "cell_type": "code",
   "execution_count": 176,
   "id": "bc1ac485",
   "metadata": {},
   "outputs": [],
   "source": [
    "dataset.drop(\"CTYCODE1\", axis=1, inplace=True)"
   ]
  },
  {
   "cell_type": "code",
   "execution_count": null,
   "id": "51388978",
   "metadata": {},
   "outputs": [],
   "source": []
  },
  {
   "cell_type": "code",
   "execution_count": null,
   "id": "259a9436",
   "metadata": {},
   "outputs": [],
   "source": []
  },
  {
   "cell_type": "code",
   "execution_count": 177,
   "id": "b71526e4",
   "metadata": {},
   "outputs": [
    {
     "data": {
      "text/plain": [
       "Series([], Name: ZIPCODE, dtype: int64)"
      ]
     },
     "execution_count": 177,
     "metadata": {},
     "output_type": "execute_result"
    }
   ],
   "source": [
    "dataset[\"ZIPCODE\"].value_counts()"
   ]
  },
  {
   "cell_type": "code",
   "execution_count": 178,
   "id": "d652c2d3",
   "metadata": {},
   "outputs": [],
   "source": [
    "dataset.drop(\"ZIPCODE\", axis=1, inplace=True)"
   ]
  },
  {
   "cell_type": "code",
   "execution_count": 179,
   "id": "a76961a2",
   "metadata": {},
   "outputs": [
    {
     "data": {
      "text/plain": [
       "No     7879\n",
       "Yes     506\n",
       "Name: NUMHHOL2, dtype: int64"
      ]
     },
     "execution_count": 179,
     "metadata": {},
     "output_type": "execute_result"
    }
   ],
   "source": [
    "dataset[\"NUMHHOL2\"].value_counts()"
   ]
  },
  {
   "cell_type": "code",
   "execution_count": 180,
   "id": "f5c2a9d2",
   "metadata": {},
   "outputs": [
    {
     "data": {
      "text/plain": [
       "3953"
      ]
     },
     "execution_count": 180,
     "metadata": {},
     "output_type": "execute_result"
    }
   ],
   "source": [
    "dataset[\"NUMHHOL2\"].isnull().sum()"
   ]
  },
  {
   "cell_type": "code",
   "execution_count": 181,
   "id": "c21c70cb",
   "metadata": {},
   "outputs": [
    {
     "data": {
      "text/plain": [
       "Residential telephone numbers    328\n",
       "Residential telephone number     167\n",
       "Name: NUMPHON2, dtype: int64"
      ]
     },
     "execution_count": 181,
     "metadata": {},
     "output_type": "execute_result"
    }
   ],
   "source": [
    "dataset[\"NUMPHON2\"].value_counts()"
   ]
  },
  {
   "cell_type": "code",
   "execution_count": 182,
   "id": "8b7c07e8",
   "metadata": {},
   "outputs": [
    {
     "data": {
      "text/plain": [
       "11843"
      ]
     },
     "execution_count": 182,
     "metadata": {},
     "output_type": "execute_result"
    }
   ],
   "source": [
    "dataset[\"NUMPHON2\"].isnull().sum()"
   ]
  },
  {
   "cell_type": "code",
   "execution_count": 183,
   "id": "49f94f1b",
   "metadata": {},
   "outputs": [],
   "source": [
    "dataset.drop(\"NUMPHON2\", axis=1, inplace=True)"
   ]
  },
  {
   "cell_type": "code",
   "execution_count": 184,
   "id": "c50ba228",
   "metadata": {},
   "outputs": [
    {
     "data": {
      "text/plain": [
       "Yes    6737\n",
       "No     1643\n",
       "Name: CPDEMO1, dtype: int64"
      ]
     },
     "execution_count": 184,
     "metadata": {},
     "output_type": "execute_result"
    }
   ],
   "source": [
    "dataset[\"CPDEMO1\"].value_counts()"
   ]
  },
  {
   "cell_type": "code",
   "execution_count": 185,
   "id": "4a1ddd3e",
   "metadata": {},
   "outputs": [
    {
     "data": {
      "text/plain": [
       "3958"
      ]
     },
     "execution_count": 185,
     "metadata": {},
     "output_type": "execute_result"
    }
   ],
   "source": [
    "dataset[\"CPDEMO1\"].isnull().sum()"
   ]
  },
  {
   "cell_type": "code",
   "execution_count": 186,
   "id": "f73addd8",
   "metadata": {},
   "outputs": [
    {
     "data": {
      "text/plain": [
       "No     11098\n",
       "Yes     1226\n",
       "Name: VETERAN3, dtype: int64"
      ]
     },
     "execution_count": 186,
     "metadata": {},
     "output_type": "execute_result"
    }
   ],
   "source": [
    "dataset[\"VETERAN3\"].value_counts()"
   ]
  },
  {
   "cell_type": "code",
   "execution_count": 187,
   "id": "aa13b2bc",
   "metadata": {},
   "outputs": [
    {
     "data": {
      "text/plain": [
       "14"
      ]
     },
     "execution_count": 187,
     "metadata": {},
     "output_type": "execute_result"
    }
   ],
   "source": [
    "dataset[\"VETERAN3\"].isnull().sum()"
   ]
  },
  {
   "cell_type": "code",
   "execution_count": 188,
   "id": "6f80219e",
   "metadata": {},
   "outputs": [
    {
     "data": {
      "text/plain": [
       "Employed for wages                  5094\n",
       "Retired                             3393\n",
       "Self-employed                       1088\n",
       "Unable to work                       841\n",
       "A homemaker                          686\n",
       "A student                            386\n",
       "Out of work for 1 year or more       345\n",
       "Out of work for less than 1 year     326\n",
       "Name: EMPLOY1, dtype: int64"
      ]
     },
     "execution_count": 188,
     "metadata": {},
     "output_type": "execute_result"
    }
   ],
   "source": [
    "dataset[\"EMPLOY1\"].value_counts()"
   ]
  },
  {
   "cell_type": "code",
   "execution_count": 189,
   "id": "3f6c575f",
   "metadata": {},
   "outputs": [
    {
     "data": {
      "text/plain": [
       "None                  8898\n",
       "Number of children    3267\n",
       "Name: CHILDREN, dtype: int64"
      ]
     },
     "execution_count": 189,
     "metadata": {},
     "output_type": "execute_result"
    }
   ],
   "source": [
    "dataset[\"CHILDREN\"].value_counts()"
   ]
  },
  {
   "cell_type": "code",
   "execution_count": 190,
   "id": "580c44a8",
   "metadata": {},
   "outputs": [
    {
     "data": {
      "text/plain": [
       "173"
      ]
     },
     "execution_count": 190,
     "metadata": {},
     "output_type": "execute_result"
    }
   ],
   "source": [
    "dataset[\"CHILDREN\"].isnull().sum()"
   ]
  },
  {
   "cell_type": "code",
   "execution_count": 191,
   "id": "84abb5c9",
   "metadata": {},
   "outputs": [
    {
     "data": {
      "text/plain": [
       "$75,000 or more                                     3715\n",
       "Less than $75,000 ($50,000 to less than $75,000)    1557\n",
       "Less than $50,000 ($35,000 to less than $50,000)    1226\n",
       "Less than $35,000 ($25,000 to less than $35,000)    1009\n",
       "Less than $25,000 ($20,000 to less than $25,000)     870\n",
       "Less than $20,000 ($15,000 to less than $20,000)     842\n",
       "Less than $10,000                                    575\n",
       "Less than $15,000 ($10,000 to less than $15,000)     547\n",
       "Name: INCOME2, dtype: int64"
      ]
     },
     "execution_count": 191,
     "metadata": {},
     "output_type": "execute_result"
    }
   ],
   "source": [
    "dataset[\"INCOME2\"].value_counts()"
   ]
  },
  {
   "cell_type": "code",
   "execution_count": 192,
   "id": "432c8d4f",
   "metadata": {},
   "outputs": [
    {
     "data": {
      "text/plain": [
       "Yes    9489\n",
       "No     2593\n",
       "Name: INTERNET, dtype: int64"
      ]
     },
     "execution_count": 192,
     "metadata": {},
     "output_type": "execute_result"
    }
   ],
   "source": [
    "dataset[\"INTERNET\"].value_counts()"
   ]
  },
  {
   "cell_type": "code",
   "execution_count": 193,
   "id": "7428b226",
   "metadata": {},
   "outputs": [
    {
     "data": {
      "text/plain": [
       "256"
      ]
     },
     "execution_count": 193,
     "metadata": {},
     "output_type": "execute_result"
    }
   ],
   "source": [
    "dataset[\"INTERNET\"].isnull().sum()"
   ]
  },
  {
   "cell_type": "code",
   "execution_count": 194,
   "id": "ec22d15f",
   "metadata": {},
   "outputs": [
    {
     "data": {
      "text/plain": [
       "Series([], Name: WEIGHT2, dtype: int64)"
      ]
     },
     "execution_count": 194,
     "metadata": {},
     "output_type": "execute_result"
    }
   ],
   "source": [
    "dataset[\"WEIGHT2\"].value_counts()"
   ]
  },
  {
   "cell_type": "code",
   "execution_count": 195,
   "id": "9a9e6cd3",
   "metadata": {},
   "outputs": [
    {
     "data": {
      "text/plain": [
       "12338"
      ]
     },
     "execution_count": 195,
     "metadata": {},
     "output_type": "execute_result"
    }
   ],
   "source": [
    "dataset[\"WEIGHT2\"].isnull().sum()"
   ]
  },
  {
   "cell_type": "code",
   "execution_count": 196,
   "id": "12b81400",
   "metadata": {},
   "outputs": [],
   "source": [
    "dataset.drop(\"WEIGHT2\", axis=1, inplace=True)"
   ]
  },
  {
   "cell_type": "code",
   "execution_count": null,
   "id": "a0e0c155",
   "metadata": {},
   "outputs": [],
   "source": []
  },
  {
   "cell_type": "code",
   "execution_count": null,
   "id": "2373a5bf",
   "metadata": {},
   "outputs": [],
   "source": []
  },
  {
   "cell_type": "code",
   "execution_count": 197,
   "id": "90ddbfff",
   "metadata": {},
   "outputs": [
    {
     "data": {
      "text/plain": [
       "Series([], Name: HEIGHT3, dtype: int64)"
      ]
     },
     "execution_count": 197,
     "metadata": {},
     "output_type": "execute_result"
    }
   ],
   "source": [
    "dataset[\"HEIGHT3\"].value_counts()"
   ]
  },
  {
   "cell_type": "code",
   "execution_count": 198,
   "id": "6a61320c",
   "metadata": {},
   "outputs": [
    {
     "data": {
      "text/plain": [
       "12338"
      ]
     },
     "execution_count": 198,
     "metadata": {},
     "output_type": "execute_result"
    }
   ],
   "source": [
    "dataset[\"HEIGHT3\"].isnull().sum()"
   ]
  },
  {
   "cell_type": "code",
   "execution_count": 199,
   "id": "64f439a5",
   "metadata": {},
   "outputs": [],
   "source": [
    "dataset.drop(\"HEIGHT3\", axis=1, inplace=True)"
   ]
  },
  {
   "cell_type": "code",
   "execution_count": 200,
   "id": "7d7e4db3",
   "metadata": {},
   "outputs": [
    {
     "data": {
      "text/plain": [
       "No     1846\n",
       "Yes      78\n",
       "Name: PREGNANT, dtype: int64"
      ]
     },
     "execution_count": 200,
     "metadata": {},
     "output_type": "execute_result"
    }
   ],
   "source": [
    "dataset[\"PREGNANT\"].value_counts()"
   ]
  },
  {
   "cell_type": "code",
   "execution_count": 201,
   "id": "2ef1ba47",
   "metadata": {},
   "outputs": [
    {
     "data": {
      "text/plain": [
       "10414"
      ]
     },
     "execution_count": 201,
     "metadata": {},
     "output_type": "execute_result"
    }
   ],
   "source": [
    "dataset[\"PREGNANT\"].isnull().sum()"
   ]
  },
  {
   "cell_type": "code",
   "execution_count": 202,
   "id": "6421731e",
   "metadata": {},
   "outputs": [],
   "source": [
    "dataset.drop(\"PREGNANT\" ,axis=1 ,inplace=True)"
   ]
  },
  {
   "cell_type": "code",
   "execution_count": 203,
   "id": "ad94d988",
   "metadata": {},
   "outputs": [
    {
     "data": {
      "text/plain": [
       "No     9081\n",
       "Yes    2766\n",
       "Name: QLACTLM2, dtype: int64"
      ]
     },
     "execution_count": 203,
     "metadata": {},
     "output_type": "execute_result"
    }
   ],
   "source": [
    "dataset[\"QLACTLM2\"].value_counts()"
   ]
  },
  {
   "cell_type": "code",
   "execution_count": 204,
   "id": "47ba6534",
   "metadata": {},
   "outputs": [
    {
     "data": {
      "text/plain": [
       "491"
      ]
     },
     "execution_count": 204,
     "metadata": {},
     "output_type": "execute_result"
    }
   ],
   "source": [
    "dataset[\"QLACTLM2\"].isnull().sum()"
   ]
  },
  {
   "cell_type": "code",
   "execution_count": 205,
   "id": "cdebd4b7",
   "metadata": {},
   "outputs": [
    {
     "data": {
      "text/plain": [
       "No     10448\n",
       "Yes     1418\n",
       "Name: USEEQUIP, dtype: int64"
      ]
     },
     "execution_count": 205,
     "metadata": {},
     "output_type": "execute_result"
    }
   ],
   "source": [
    "dataset[\"USEEQUIP\"].value_counts()"
   ]
  },
  {
   "cell_type": "code",
   "execution_count": 206,
   "id": "b2943635",
   "metadata": {},
   "outputs": [
    {
     "data": {
      "text/plain": [
       "472"
      ]
     },
     "execution_count": 206,
     "metadata": {},
     "output_type": "execute_result"
    }
   ],
   "source": [
    "dataset[\"USEEQUIP\"].isnull().sum()"
   ]
  },
  {
   "cell_type": "code",
   "execution_count": 207,
   "id": "def910a5",
   "metadata": {},
   "outputs": [
    {
     "data": {
      "text/plain": [
       "No     11273\n",
       "Yes      543\n",
       "Name: BLIND, dtype: int64"
      ]
     },
     "execution_count": 207,
     "metadata": {},
     "output_type": "execute_result"
    }
   ],
   "source": [
    "dataset[\"BLIND\"].value_counts()"
   ]
  },
  {
   "cell_type": "code",
   "execution_count": 208,
   "id": "4142f9b0",
   "metadata": {},
   "outputs": [
    {
     "data": {
      "text/plain": [
       "522"
      ]
     },
     "execution_count": 208,
     "metadata": {},
     "output_type": "execute_result"
    }
   ],
   "source": [
    "dataset[\"BLIND\"].isnull().sum()"
   ]
  },
  {
   "cell_type": "code",
   "execution_count": 209,
   "id": "b982c0ea",
   "metadata": {},
   "outputs": [
    {
     "data": {
      "text/plain": [
       "No     10786\n",
       "Yes      997\n",
       "Name: DECIDE, dtype: int64"
      ]
     },
     "execution_count": 209,
     "metadata": {},
     "output_type": "execute_result"
    }
   ],
   "source": [
    "dataset[\"DECIDE\"].value_counts()"
   ]
  },
  {
   "cell_type": "code",
   "execution_count": 210,
   "id": "66ef2370",
   "metadata": {},
   "outputs": [
    {
     "data": {
      "text/plain": [
       "555"
      ]
     },
     "execution_count": 210,
     "metadata": {},
     "output_type": "execute_result"
    }
   ],
   "source": [
    "dataset[\"DECIDE\"].isnull().sum()"
   ]
  },
  {
   "cell_type": "code",
   "execution_count": 211,
   "id": "a1c85eab",
   "metadata": {},
   "outputs": [
    {
     "data": {
      "text/plain": [
       "No     9917\n",
       "Yes    1861\n",
       "Name: DIFFWALK, dtype: int64"
      ]
     },
     "execution_count": 211,
     "metadata": {},
     "output_type": "execute_result"
    }
   ],
   "source": [
    "dataset[\"DIFFWALK\"].value_counts()"
   ]
  },
  {
   "cell_type": "code",
   "execution_count": 212,
   "id": "f9110363",
   "metadata": {},
   "outputs": [
    {
     "data": {
      "text/plain": [
       "560"
      ]
     },
     "execution_count": 212,
     "metadata": {},
     "output_type": "execute_result"
    }
   ],
   "source": [
    "dataset[\"DIFFWALK\"].isnull().sum()"
   ]
  },
  {
   "cell_type": "code",
   "execution_count": 213,
   "id": "b5bb3745",
   "metadata": {},
   "outputs": [
    {
     "data": {
      "text/plain": [
       "No     11313\n",
       "Yes      473\n",
       "Name: DIFFDRES, dtype: int64"
      ]
     },
     "execution_count": 213,
     "metadata": {},
     "output_type": "execute_result"
    }
   ],
   "source": [
    "dataset[\"DIFFDRES\"].value_counts()"
   ]
  },
  {
   "cell_type": "code",
   "execution_count": 214,
   "id": "4de49a8e",
   "metadata": {},
   "outputs": [
    {
     "data": {
      "text/plain": [
       "552"
      ]
     },
     "execution_count": 214,
     "metadata": {},
     "output_type": "execute_result"
    }
   ],
   "source": [
    "dataset[\"DIFFDRES\"].isnull().sum()"
   ]
  },
  {
   "cell_type": "code",
   "execution_count": 215,
   "id": "87a434ac",
   "metadata": {},
   "outputs": [
    {
     "data": {
      "text/plain": [
       "No     10820\n",
       "Yes      913\n",
       "Name: DIFFALON, dtype: int64"
      ]
     },
     "execution_count": 215,
     "metadata": {},
     "output_type": "execute_result"
    }
   ],
   "source": [
    "dataset[\"DIFFALON\"].value_counts()"
   ]
  },
  {
   "cell_type": "code",
   "execution_count": 216,
   "id": "11a3506b",
   "metadata": {},
   "outputs": [
    {
     "data": {
      "text/plain": [
       "605"
      ]
     },
     "execution_count": 216,
     "metadata": {},
     "output_type": "execute_result"
    }
   ],
   "source": [
    "dataset[\"DIFFALON\"].isnull().sum()"
   ]
  },
  {
   "cell_type": "code",
   "execution_count": 217,
   "id": "2c7db4ef",
   "metadata": {},
   "outputs": [
    {
     "data": {
      "text/plain": [
       "No     6624\n",
       "Yes    5070\n",
       "Name: SMOKE100, dtype: int64"
      ]
     },
     "execution_count": 217,
     "metadata": {},
     "output_type": "execute_result"
    }
   ],
   "source": [
    "dataset[\"SMOKE100\"].value_counts()"
   ]
  },
  {
   "cell_type": "code",
   "execution_count": 218,
   "id": "01bcf902",
   "metadata": {},
   "outputs": [
    {
     "data": {
      "text/plain": [
       "644"
      ]
     },
     "execution_count": 218,
     "metadata": {},
     "output_type": "execute_result"
    }
   ],
   "source": [
    "dataset[\"SMOKE100\"].isnull().sum()"
   ]
  },
  {
   "cell_type": "code",
   "execution_count": 219,
   "id": "28059715",
   "metadata": {},
   "outputs": [
    {
     "data": {
      "text/plain": [
       "Not at all    3472\n",
       "Every day     1075\n",
       "Some days      495\n",
       "Name: SMOKDAY2, dtype: int64"
      ]
     },
     "execution_count": 219,
     "metadata": {},
     "output_type": "execute_result"
    }
   ],
   "source": [
    "dataset[\"SMOKDAY2\"].value_counts()"
   ]
  },
  {
   "cell_type": "code",
   "execution_count": 220,
   "id": "fa8c7fed",
   "metadata": {},
   "outputs": [
    {
     "data": {
      "text/plain": [
       "Yes    926\n",
       "No     639\n",
       "Name: STOPSMK2, dtype: int64"
      ]
     },
     "execution_count": 220,
     "metadata": {},
     "output_type": "execute_result"
    }
   ],
   "source": [
    "dataset[\"STOPSMK2\"].value_counts()"
   ]
  },
  {
   "cell_type": "code",
   "execution_count": 221,
   "id": "b56224d4",
   "metadata": {},
   "outputs": [
    {
     "data": {
      "text/plain": [
       "10773"
      ]
     },
     "execution_count": 221,
     "metadata": {},
     "output_type": "execute_result"
    }
   ],
   "source": [
    "dataset[\"STOPSMK2\"].isnull().sum()"
   ]
  },
  {
   "cell_type": "code",
   "execution_count": 222,
   "id": "32965960",
   "metadata": {},
   "outputs": [],
   "source": [
    "dataset.drop(\"STOPSMK2\", axis=1, inplace=True)"
   ]
  },
  {
   "cell_type": "code",
   "execution_count": 223,
   "id": "b8311714",
   "metadata": {},
   "outputs": [
    {
     "data": {
      "text/plain": [
       "10 years or more                                                  2245\n",
       "Within the past 5 years (1 year but less than 5 years ago)         397\n",
       "Within the past 10 years (5 years but less than 10 years ago)      346\n",
       "Within the past year (6 months but less than 1 year ago)           131\n",
       "Never smoked regularly                                             108\n",
       "Within the past month (less than 1 month ago)                       73\n",
       "Within the past 3 months (1 month but less than 3 months ago)       73\n",
       "Within the past 6 months (3 months but less than 6 months ago)      71\n",
       "Name: LASTSMK2, dtype: int64"
      ]
     },
     "execution_count": 223,
     "metadata": {},
     "output_type": "execute_result"
    }
   ],
   "source": [
    "dataset[\"LASTSMK2\"].value_counts()"
   ]
  },
  {
   "cell_type": "code",
   "execution_count": 224,
   "id": "798457f8",
   "metadata": {},
   "outputs": [
    {
     "data": {
      "text/plain": [
       "Not at all    11388\n",
       "Some days       140\n",
       "Every day        74\n",
       "Name: USENOW3, dtype: int64"
      ]
     },
     "execution_count": 224,
     "metadata": {},
     "output_type": "execute_result"
    }
   ],
   "source": [
    "dataset[\"USENOW3\"].value_counts()"
   ]
  },
  {
   "cell_type": "code",
   "execution_count": 225,
   "id": "f76964bb",
   "metadata": {},
   "outputs": [
    {
     "data": {
      "text/plain": [
       "No drinks in past 30 days    5087\n",
       "Days in past 30 days         4329\n",
       "Days per week                2112\n",
       "Name: ALCDAY5, dtype: int64"
      ]
     },
     "execution_count": 225,
     "metadata": {},
     "output_type": "execute_result"
    }
   ],
   "source": [
    "dataset[\"ALCDAY5\"].value_counts()"
   ]
  },
  {
   "cell_type": "code",
   "execution_count": 226,
   "id": "61426ab5",
   "metadata": {},
   "outputs": [
    {
     "data": {
      "text/plain": [
       "Number of drinks    6309\n",
       "Name: AVEDRNK2, dtype: int64"
      ]
     },
     "execution_count": 226,
     "metadata": {},
     "output_type": "execute_result"
    }
   ],
   "source": [
    "dataset[\"AVEDRNK2\"].value_counts()"
   ]
  },
  {
   "cell_type": "code",
   "execution_count": 227,
   "id": "1e8f93e1",
   "metadata": {},
   "outputs": [
    {
     "data": {
      "text/plain": [
       "6029"
      ]
     },
     "execution_count": 227,
     "metadata": {},
     "output_type": "execute_result"
    }
   ],
   "source": [
    "dataset[\"AVEDRNK2\"].isnull().sum()"
   ]
  },
  {
   "cell_type": "code",
   "execution_count": 228,
   "id": "5e2e9f9f",
   "metadata": {},
   "outputs": [
    {
     "data": {
      "text/plain": [
       "None               4795\n",
       "Number of Times    1503\n",
       "Name: DRNK3GE5, dtype: int64"
      ]
     },
     "execution_count": 228,
     "metadata": {},
     "output_type": "execute_result"
    }
   ],
   "source": [
    "dataset[\"DRNK3GE5\"].value_counts()"
   ]
  },
  {
   "cell_type": "code",
   "execution_count": 229,
   "id": "f30965fd",
   "metadata": {},
   "outputs": [
    {
     "data": {
      "text/plain": [
       "6040"
      ]
     },
     "execution_count": 229,
     "metadata": {},
     "output_type": "execute_result"
    }
   ],
   "source": [
    "dataset[\"DRNK3GE5\"].isnull().sum()"
   ]
  },
  {
   "cell_type": "code",
   "execution_count": 230,
   "id": "9adb190f",
   "metadata": {},
   "outputs": [
    {
     "data": {
      "text/plain": [
       "Number of drinks    6183\n",
       "Name: MAXDRNKS, dtype: int64"
      ]
     },
     "execution_count": 230,
     "metadata": {},
     "output_type": "execute_result"
    }
   ],
   "source": [
    "dataset[\"MAXDRNKS\"].value_counts()"
   ]
  },
  {
   "cell_type": "code",
   "execution_count": 231,
   "id": "3739688f",
   "metadata": {},
   "outputs": [
    {
     "data": {
      "text/plain": [
       "6155"
      ]
     },
     "execution_count": 231,
     "metadata": {},
     "output_type": "execute_result"
    }
   ],
   "source": [
    "dataset[\"MAXDRNKS\"].isnull().sum()"
   ]
  },
  {
   "cell_type": "code",
   "execution_count": 232,
   "id": "45e54e91",
   "metadata": {},
   "outputs": [
    {
     "data": {
      "text/plain": [
       "Never                           4287\n",
       "Times per day                   2466\n",
       "Times per month                 2316\n",
       "Times per week                  1960\n",
       "Less than one time per month      23\n",
       "Name: FRUITJU1, dtype: int64"
      ]
     },
     "execution_count": 232,
     "metadata": {},
     "output_type": "execute_result"
    }
   ],
   "source": [
    "dataset[\"FRUITJU1\"].value_counts()"
   ]
  },
  {
   "cell_type": "code",
   "execution_count": 233,
   "id": "083b42bf",
   "metadata": {},
   "outputs": [
    {
     "data": {
      "text/plain": [
       "Times per day                   5557\n",
       "Times per week                  2636\n",
       "Times per month                 2397\n",
       "Never                            487\n",
       "Less than one time per month       1\n",
       "Name: FRUIT1, dtype: int64"
      ]
     },
     "execution_count": 233,
     "metadata": {},
     "output_type": "execute_result"
    }
   ],
   "source": [
    "dataset[\"FRUIT1\"].value_counts()"
   ]
  },
  {
   "cell_type": "code",
   "execution_count": 234,
   "id": "a16f0902",
   "metadata": {},
   "outputs": [
    {
     "data": {
      "text/plain": [
       "Times per month                 4312\n",
       "Times per week                  3618\n",
       "Never                           2351\n",
       "Times per day                    740\n",
       "Less than one time per month       7\n",
       "Name: FVBEANS, dtype: int64"
      ]
     },
     "execution_count": 234,
     "metadata": {},
     "output_type": "execute_result"
    }
   ],
   "source": [
    "dataset[\"FVBEANS\"].value_counts()"
   ]
  },
  {
   "cell_type": "code",
   "execution_count": 235,
   "id": "f2cee08e",
   "metadata": {},
   "outputs": [
    {
     "data": {
      "text/plain": [
       "Times per week                  4308\n",
       "Times per month                 3412\n",
       "Times per day                   2680\n",
       "Never                            639\n",
       "Less than one time per month       3\n",
       "Name: FVGREEN, dtype: int64"
      ]
     },
     "execution_count": 235,
     "metadata": {},
     "output_type": "execute_result"
    }
   ],
   "source": [
    "dataset[\"FVGREEN\"].value_counts()"
   ]
  },
  {
   "cell_type": "code",
   "execution_count": 236,
   "id": "6537febf",
   "metadata": {},
   "outputs": [
    {
     "data": {
      "text/plain": [
       "Times per month                 4249\n",
       "Times per week                  4229\n",
       "Never                           1619\n",
       "Times per day                    918\n",
       "Less than one time per month       7\n",
       "Name: FVORANG, dtype: int64"
      ]
     },
     "execution_count": 236,
     "metadata": {},
     "output_type": "execute_result"
    }
   ],
   "source": [
    "dataset[\"FVORANG\"].value_counts()"
   ]
  },
  {
   "cell_type": "code",
   "execution_count": 237,
   "id": "7c43832c",
   "metadata": {},
   "outputs": [
    {
     "data": {
      "text/plain": [
       "Times per week                  3780\n",
       "Times per day                   3578\n",
       "Times per month                 3285\n",
       "Never                            272\n",
       "Less than one time per month       1\n",
       "Name: VEGETAB1, dtype: int64"
      ]
     },
     "execution_count": 237,
     "metadata": {},
     "output_type": "execute_result"
    }
   ],
   "source": [
    "dataset[\"VEGETAB1\"].value_counts()"
   ]
  },
  {
   "cell_type": "code",
   "execution_count": 238,
   "id": "ba7e424b",
   "metadata": {},
   "outputs": [
    {
     "data": {
      "text/plain": [
       "Yes    7837\n",
       "No     3118\n",
       "Name: EXERANY2, dtype: int64"
      ]
     },
     "execution_count": 238,
     "metadata": {},
     "output_type": "execute_result"
    }
   ],
   "source": [
    "dataset[\"EXERANY2\"].value_counts()"
   ]
  },
  {
   "cell_type": "code",
   "execution_count": 239,
   "id": "1534ed60",
   "metadata": {},
   "outputs": [
    {
     "data": {
      "text/plain": [
       "1383"
      ]
     },
     "execution_count": 239,
     "metadata": {},
     "output_type": "execute_result"
    }
   ],
   "source": [
    "dataset[\"EXERANY2\"].isnull().sum()"
   ]
  },
  {
   "cell_type": "code",
   "execution_count": 240,
   "id": "4bcb6770",
   "metadata": {},
   "outputs": [
    {
     "data": {
      "text/plain": [
       "Walking                                                     4232\n",
       "Running                                                      623\n",
       "Weight lifting                                               329\n",
       "Gardening (spading, weeding, digging, filling)               236\n",
       "Bicycling machine exercise                                   216\n",
       "                                                            ... \n",
       "Hunting small game – quail                                     1\n",
       "Badminton                                                      1\n",
       "Squash                                                         1\n",
       "Active Gaming Devices (Wii Fit, Dance, Dance revolution)       1\n",
       "Sledding, tobogganing                                          1\n",
       "Name: EXRACT11, Length: 65, dtype: int64"
      ]
     },
     "execution_count": 240,
     "metadata": {},
     "output_type": "execute_result"
    }
   ],
   "source": [
    "dataset[\"EXRACT11\"].value_counts()"
   ]
  },
  {
   "cell_type": "code",
   "execution_count": 241,
   "id": "29cc0dee",
   "metadata": {},
   "outputs": [
    {
     "data": {
      "text/plain": [
       "Times per week     5440\n",
       "Times per month    2153\n",
       "Name: EXEROFT1, dtype: int64"
      ]
     },
     "execution_count": 241,
     "metadata": {},
     "output_type": "execute_result"
    }
   ],
   "source": [
    "dataset[\"EXEROFT1\"].value_counts()"
   ]
  },
  {
   "cell_type": "code",
   "execution_count": 242,
   "id": "014a8b53",
   "metadata": {},
   "outputs": [
    {
     "data": {
      "text/plain": [
       "4745"
      ]
     },
     "execution_count": 242,
     "metadata": {},
     "output_type": "execute_result"
    }
   ],
   "source": [
    "dataset[\"EXEROFT1\"].isnull().sum()"
   ]
  },
  {
   "cell_type": "code",
   "execution_count": 243,
   "id": "47e61a48",
   "metadata": {},
   "outputs": [
    {
     "data": {
      "text/plain": [
       "Hours and Minutes    7604\n",
       "Name: EXERHMM1, dtype: int64"
      ]
     },
     "execution_count": 243,
     "metadata": {},
     "output_type": "execute_result"
    }
   ],
   "source": [
    "dataset[\"EXERHMM1\"].value_counts()"
   ]
  },
  {
   "cell_type": "code",
   "execution_count": 244,
   "id": "b7c255f6",
   "metadata": {},
   "outputs": [
    {
     "data": {
      "text/plain": [
       "4734"
      ]
     },
     "execution_count": 244,
     "metadata": {},
     "output_type": "execute_result"
    }
   ],
   "source": [
    "dataset[\"EXERHMM1\"].isnull().sum()"
   ]
  },
  {
   "cell_type": "code",
   "execution_count": 245,
   "id": "d52f7342",
   "metadata": {},
   "outputs": [
    {
     "data": {
      "text/plain": [
       "No other activity                                               2307\n",
       "Walking                                                         1155\n",
       "Weight lifting                                                   545\n",
       "Household Activities (vacuuming, dusting, home repair, etc.)     437\n",
       "Running                                                          237\n",
       "                                                                ... \n",
       "Paddleball                                                         1\n",
       "Handball                                                           1\n",
       "Hunting small game – quail                                         1\n",
       "Squash                                                             1\n",
       "Mountain climbing                                                  1\n",
       "Name: EXRACT21, Length: 71, dtype: int64"
      ]
     },
     "execution_count": 245,
     "metadata": {},
     "output_type": "execute_result"
    }
   ],
   "source": [
    "dataset[\"EXRACT21\"].value_counts()"
   ]
  },
  {
   "cell_type": "code",
   "execution_count": 246,
   "id": "b556fbbe",
   "metadata": {},
   "outputs": [
    {
     "data": {
      "text/plain": [
       "Times per week     3432\n",
       "Times per month    1748\n",
       "Name: EXEROFT2, dtype: int64"
      ]
     },
     "execution_count": 246,
     "metadata": {},
     "output_type": "execute_result"
    }
   ],
   "source": [
    "dataset[\"EXEROFT2\"].value_counts()"
   ]
  },
  {
   "cell_type": "code",
   "execution_count": 247,
   "id": "ebbb6b95",
   "metadata": {},
   "outputs": [
    {
     "data": {
      "text/plain": [
       "7158"
      ]
     },
     "execution_count": 247,
     "metadata": {},
     "output_type": "execute_result"
    }
   ],
   "source": [
    "dataset[\"EXEROFT2\"].isnull().sum()"
   ]
  },
  {
   "cell_type": "code",
   "execution_count": 248,
   "id": "89d9bd4e",
   "metadata": {},
   "outputs": [],
   "source": [
    "dataset.drop(\"EXEROFT2\", axis=1, inplace=True)"
   ]
  },
  {
   "cell_type": "code",
   "execution_count": 249,
   "id": "261627c6",
   "metadata": {},
   "outputs": [
    {
     "data": {
      "text/plain": [
       "Hours and Minutes    5169\n",
       "Name: EXERHMM2, dtype: int64"
      ]
     },
     "execution_count": 249,
     "metadata": {},
     "output_type": "execute_result"
    }
   ],
   "source": [
    "dataset[\"EXERHMM2\"].value_counts()"
   ]
  },
  {
   "cell_type": "code",
   "execution_count": 250,
   "id": "4864d4d4",
   "metadata": {},
   "outputs": [
    {
     "data": {
      "text/plain": [
       "7169"
      ]
     },
     "execution_count": 250,
     "metadata": {},
     "output_type": "execute_result"
    }
   ],
   "source": [
    "dataset[\"EXERHMM2\"].isnull().sum()"
   ]
  },
  {
   "cell_type": "code",
   "execution_count": 251,
   "id": "8c24fdb1",
   "metadata": {},
   "outputs": [],
   "source": [
    "dataset.drop(\"EXERHMM2\", axis=1, inplace=True)"
   ]
  },
  {
   "cell_type": "code",
   "execution_count": 252,
   "id": "62b27842",
   "metadata": {},
   "outputs": [
    {
     "data": {
      "text/plain": [
       "Never              6317\n",
       "Times per week     3032\n",
       "Times per month    1392\n",
       "Name: STRENGTH, dtype: int64"
      ]
     },
     "execution_count": 252,
     "metadata": {},
     "output_type": "execute_result"
    }
   ],
   "source": [
    "dataset[\"STRENGTH\"].value_counts()"
   ]
  },
  {
   "cell_type": "code",
   "execution_count": 253,
   "id": "d840c3ce",
   "metadata": {},
   "outputs": [
    {
     "data": {
      "text/plain": [
       "No     1787\n",
       "Yes    1662\n",
       "Name: LMTJOIN3, dtype: int64"
      ]
     },
     "execution_count": 253,
     "metadata": {},
     "output_type": "execute_result"
    }
   ],
   "source": [
    "dataset[\"LMTJOIN3\"].value_counts()"
   ]
  },
  {
   "cell_type": "code",
   "execution_count": 254,
   "id": "0ab16afd",
   "metadata": {},
   "outputs": [
    {
     "data": {
      "text/plain": [
       "8889"
      ]
     },
     "execution_count": 254,
     "metadata": {},
     "output_type": "execute_result"
    }
   ],
   "source": [
    "dataset[\"LMTJOIN3\"].isnull().sum()"
   ]
  },
  {
   "cell_type": "code",
   "execution_count": 255,
   "id": "6e7ffa87",
   "metadata": {},
   "outputs": [],
   "source": [
    "dataset.drop(\"LMTJOIN3\", axis=1, inplace=True)"
   ]
  },
  {
   "cell_type": "code",
   "execution_count": 256,
   "id": "d266f9bc",
   "metadata": {},
   "outputs": [
    {
     "data": {
      "text/plain": [
       "No     2392\n",
       "Yes     958\n",
       "Name: ARTHDIS2, dtype: int64"
      ]
     },
     "execution_count": 256,
     "metadata": {},
     "output_type": "execute_result"
    }
   ],
   "source": [
    "dataset[\"ARTHDIS2\"].value_counts()"
   ]
  },
  {
   "cell_type": "code",
   "execution_count": 257,
   "id": "a789417a",
   "metadata": {},
   "outputs": [
    {
     "data": {
      "text/plain": [
       "8988"
      ]
     },
     "execution_count": 257,
     "metadata": {},
     "output_type": "execute_result"
    }
   ],
   "source": [
    "dataset[\"ARTHDIS2\"].isnull().sum()"
   ]
  },
  {
   "cell_type": "code",
   "execution_count": 258,
   "id": "4ecf2908",
   "metadata": {},
   "outputs": [],
   "source": [
    "dataset.drop(\"ARTHDIS2\", axis=1, inplace=True)"
   ]
  },
  {
   "cell_type": "code",
   "execution_count": 259,
   "id": "183f79ee",
   "metadata": {},
   "outputs": [
    {
     "data": {
      "text/plain": [
       "Not at all    1977\n",
       "A little       858\n",
       "A lot          599\n",
       "Name: ARTHSOCL, dtype: int64"
      ]
     },
     "execution_count": 259,
     "metadata": {},
     "output_type": "execute_result"
    }
   ],
   "source": [
    "dataset[\"ARTHSOCL\"].value_counts()"
   ]
  },
  {
   "cell_type": "code",
   "execution_count": 260,
   "id": "15423cfe",
   "metadata": {},
   "outputs": [
    {
     "data": {
      "text/plain": [
       "8904"
      ]
     },
     "execution_count": 260,
     "metadata": {},
     "output_type": "execute_result"
    }
   ],
   "source": [
    "dataset[\"ARTHSOCL\"].isnull().sum()"
   ]
  },
  {
   "cell_type": "code",
   "execution_count": 261,
   "id": "5e8f519d",
   "metadata": {},
   "outputs": [],
   "source": [
    "dataset.drop(\"ARTHSOCL\", axis=1, inplace=True)"
   ]
  },
  {
   "cell_type": "code",
   "execution_count": 262,
   "id": "2f7d4922",
   "metadata": {},
   "outputs": [
    {
     "data": {
      "text/plain": [
       "Enter number [0-10]    2943\n",
       "Name: JOINPAIN, dtype: int64"
      ]
     },
     "execution_count": 262,
     "metadata": {},
     "output_type": "execute_result"
    }
   ],
   "source": [
    "dataset[\"JOINPAIN\"].value_counts()"
   ]
  },
  {
   "cell_type": "code",
   "execution_count": 263,
   "id": "c1739526",
   "metadata": {},
   "outputs": [
    {
     "data": {
      "text/plain": [
       "9395"
      ]
     },
     "execution_count": 263,
     "metadata": {},
     "output_type": "execute_result"
    }
   ],
   "source": [
    "dataset[\"JOINPAIN\"].isnull().sum()"
   ]
  },
  {
   "cell_type": "code",
   "execution_count": 264,
   "id": "5a790fbc",
   "metadata": {},
   "outputs": [],
   "source": [
    "dataset.drop(\"JOINPAIN\", axis=1, inplace=True)"
   ]
  },
  {
   "cell_type": "code",
   "execution_count": 265,
   "id": "8170e6b1",
   "metadata": {},
   "outputs": [
    {
     "data": {
      "text/plain": [
       "Always                          9523\n",
       "Nearly always                    615\n",
       "Sometimes                        274\n",
       "Never                            188\n",
       "Never drive or ride in a car     101\n",
       "Seldom                            96\n",
       "Name: SEATBELT, dtype: int64"
      ]
     },
     "execution_count": 265,
     "metadata": {},
     "output_type": "execute_result"
    }
   ],
   "source": [
    "dataset[\"SEATBELT\"].value_counts()"
   ]
  },
  {
   "cell_type": "code",
   "execution_count": 266,
   "id": "88b15343",
   "metadata": {},
   "outputs": [
    {
     "data": {
      "text/plain": [
       "1541"
      ]
     },
     "execution_count": 266,
     "metadata": {},
     "output_type": "execute_result"
    }
   ],
   "source": [
    "dataset[\"SEATBELT\"].isnull().sum()"
   ]
  },
  {
   "cell_type": "code",
   "execution_count": 267,
   "id": "c2a7031b",
   "metadata": {},
   "outputs": [
    {
     "data": {
      "text/plain": [
       "No     5604\n",
       "Yes    5163\n",
       "Name: FLUSHOT6, dtype: int64"
      ]
     },
     "execution_count": 267,
     "metadata": {},
     "output_type": "execute_result"
    }
   ],
   "source": [
    "dataset[\"FLUSHOT6\"].value_counts()"
   ]
  },
  {
   "cell_type": "code",
   "execution_count": 268,
   "id": "cae59848",
   "metadata": {},
   "outputs": [
    {
     "data": {
      "text/plain": [
       "1571"
      ]
     },
     "execution_count": 268,
     "metadata": {},
     "output_type": "execute_result"
    }
   ],
   "source": [
    "dataset[\"FLUSHOT6\"].isnull().sum()"
   ]
  },
  {
   "cell_type": "code",
   "execution_count": 269,
   "id": "35fc0d05",
   "metadata": {},
   "outputs": [
    {
     "data": {
      "text/plain": [
       "Month / Year    4897\n",
       "Name: FLSHTMY2, dtype: int64"
      ]
     },
     "execution_count": 269,
     "metadata": {},
     "output_type": "execute_result"
    }
   ],
   "source": [
    "dataset[\"FLSHTMY2\"].value_counts()"
   ]
  },
  {
   "cell_type": "code",
   "execution_count": 270,
   "id": "2241bd93",
   "metadata": {},
   "outputs": [
    {
     "data": {
      "text/plain": [
       "7441"
      ]
     },
     "execution_count": 270,
     "metadata": {},
     "output_type": "execute_result"
    }
   ],
   "source": [
    "dataset[\"FLSHTMY2\"].isnull().sum()"
   ]
  },
  {
   "cell_type": "code",
   "execution_count": 271,
   "id": "0666be99",
   "metadata": {},
   "outputs": [],
   "source": [
    "dataset.drop(\"FLSHTMY2\", axis=1, inplace=True)"
   ]
  },
  {
   "cell_type": "code",
   "execution_count": 272,
   "id": "e23ef9e2",
   "metadata": {},
   "outputs": [
    {
     "data": {
      "text/plain": [
       "A doctor´s office or health maintenance organization (HMO)                      2445\n",
       "A store (Examples: supermarket, drug store)                                     1148\n",
       "Workplace                                                                        652\n",
       "Another type of clinic or health center (Example: a community health center)     332\n",
       "A hospital (Example: inpatient)                                                  328\n",
       "Some other kind of place                                                          94\n",
       "A senior, recreation, or community center                                         53\n",
       "A health department                                                               48\n",
       "A school                                                                          28\n",
       "An emergency room                                                                  5\n",
       "Received vaccination in Canada/Mexico (Volunteered – Do not read)                  2\n",
       "Name: IMFVPLAC, dtype: int64"
      ]
     },
     "execution_count": 272,
     "metadata": {},
     "output_type": "execute_result"
    }
   ],
   "source": [
    "dataset[\"IMFVPLAC\"].value_counts()"
   ]
  },
  {
   "cell_type": "code",
   "execution_count": 273,
   "id": "9c178df8",
   "metadata": {},
   "outputs": [
    {
     "data": {
      "text/plain": [
       "7203"
      ]
     },
     "execution_count": 273,
     "metadata": {},
     "output_type": "execute_result"
    }
   ],
   "source": [
    "dataset[\"IMFVPLAC\"].isnull().sum()"
   ]
  },
  {
   "cell_type": "code",
   "execution_count": 274,
   "id": "b6510b7a",
   "metadata": {},
   "outputs": [],
   "source": [
    "dataset.drop(\"IMFVPLAC\", axis=1, inplace=True)"
   ]
  },
  {
   "cell_type": "code",
   "execution_count": 275,
   "id": "2423f795",
   "metadata": {},
   "outputs": [
    {
     "data": {
      "text/plain": [
       "No     5799\n",
       "Yes    4058\n",
       "Name: PNEUVAC3, dtype: int64"
      ]
     },
     "execution_count": 275,
     "metadata": {},
     "output_type": "execute_result"
    }
   ],
   "source": [
    "dataset[\"PNEUVAC3\"].value_counts()"
   ]
  },
  {
   "cell_type": "code",
   "execution_count": 276,
   "id": "c65ecc25",
   "metadata": {},
   "outputs": [
    {
     "data": {
      "text/plain": [
       "2481"
      ]
     },
     "execution_count": 276,
     "metadata": {},
     "output_type": "execute_result"
    }
   ],
   "source": [
    "dataset[\"PNEUVAC3\"].isnull().sum()"
   ]
  },
  {
   "cell_type": "code",
   "execution_count": 277,
   "id": "dbeb7dd7",
   "metadata": {},
   "outputs": [
    {
     "data": {
      "text/plain": [
       "No     6190\n",
       "Yes    4292\n",
       "Name: HIVTST6, dtype: int64"
      ]
     },
     "execution_count": 277,
     "metadata": {},
     "output_type": "execute_result"
    }
   ],
   "source": [
    "dataset[\"HIVTST6\"].value_counts()"
   ]
  },
  {
   "cell_type": "code",
   "execution_count": 278,
   "id": "a99e6d42",
   "metadata": {},
   "outputs": [
    {
     "data": {
      "text/plain": [
       "1856"
      ]
     },
     "execution_count": 278,
     "metadata": {},
     "output_type": "execute_result"
    }
   ],
   "source": [
    "dataset[\"HIVTST6\"].isnull().sum()"
   ]
  },
  {
   "cell_type": "code",
   "execution_count": 279,
   "id": "539e2bfc",
   "metadata": {},
   "outputs": [
    {
     "data": {
      "text/plain": [
       "Code month and year             2713\n",
       "Unknown month and known year     935\n",
       "Name: HIVTSTD3, dtype: int64"
      ]
     },
     "execution_count": 279,
     "metadata": {},
     "output_type": "execute_result"
    }
   ],
   "source": [
    "dataset[\"HIVTSTD3\"].value_counts()"
   ]
  },
  {
   "cell_type": "code",
   "execution_count": 280,
   "id": "bd9548cc",
   "metadata": {},
   "outputs": [
    {
     "data": {
      "text/plain": [
       "8690"
      ]
     },
     "execution_count": 280,
     "metadata": {},
     "output_type": "execute_result"
    }
   ],
   "source": [
    "dataset[\"HIVTSTD3\"].isnull().sum()"
   ]
  },
  {
   "cell_type": "code",
   "execution_count": 281,
   "id": "dec0ca0c",
   "metadata": {},
   "outputs": [],
   "source": [
    "dataset.drop(\"HIVTSTD3\", axis=1, inplace=True)"
   ]
  },
  {
   "cell_type": "code",
   "execution_count": 282,
   "id": "743b774d",
   "metadata": {},
   "outputs": [
    {
     "data": {
      "text/plain": [
       "Private doctor or HMO                              2200\n",
       "Clinic                                              779\n",
       "Hospital inpatient                                  411\n",
       "Somewhere else                                      319\n",
       "Emergency room                                      173\n",
       "Counseling and testing site                         147\n",
       "At home                                             125\n",
       "Jail or prison (or other correctional facility)      36\n",
       "Drug treatment facility                              14\n",
       "Name: WHRTST10, dtype: int64"
      ]
     },
     "execution_count": 282,
     "metadata": {},
     "output_type": "execute_result"
    }
   ],
   "source": [
    "dataset[\"WHRTST10\"].value_counts()"
   ]
  },
  {
   "cell_type": "code",
   "execution_count": 283,
   "id": "1296892a",
   "metadata": {},
   "outputs": [
    {
     "data": {
      "text/plain": [
       "8134"
      ]
     },
     "execution_count": 283,
     "metadata": {},
     "output_type": "execute_result"
    }
   ],
   "source": [
    "dataset[\"WHRTST10\"].isnull().sum()"
   ]
  },
  {
   "cell_type": "code",
   "execution_count": 284,
   "id": "f08f66b2",
   "metadata": {},
   "outputs": [],
   "source": [
    "dataset.drop(\"WHRTST10\", axis=1, inplace=True)"
   ]
  },
  {
   "cell_type": "code",
   "execution_count": 285,
   "id": "d7f49458",
   "metadata": {},
   "outputs": [
    {
     "data": {
      "text/plain": [
       "Yes    3214\n",
       "No     1769\n",
       "Name: PDIABTST, dtype: int64"
      ]
     },
     "execution_count": 285,
     "metadata": {},
     "output_type": "execute_result"
    }
   ],
   "source": [
    "dataset[\"PDIABTST\"].value_counts()"
   ]
  },
  {
   "cell_type": "code",
   "execution_count": 286,
   "id": "1b428e7f",
   "metadata": {},
   "outputs": [
    {
     "data": {
      "text/plain": [
       "7355"
      ]
     },
     "execution_count": 286,
     "metadata": {},
     "output_type": "execute_result"
    }
   ],
   "source": [
    "dataset[\"PDIABTST\"].isnull().sum()"
   ]
  },
  {
   "cell_type": "code",
   "execution_count": 287,
   "id": "71893c1c",
   "metadata": {},
   "outputs": [],
   "source": [
    "dataset.drop(\"PDIABTST\", axis=1, inplace=True)"
   ]
  },
  {
   "cell_type": "code",
   "execution_count": 288,
   "id": "a421b899",
   "metadata": {},
   "outputs": [
    {
     "data": {
      "text/plain": [
       "No                       4671\n",
       "Yes                       503\n",
       "Yes, during pregnancy      44\n",
       "Name: PREDIAB1, dtype: int64"
      ]
     },
     "execution_count": 288,
     "metadata": {},
     "output_type": "execute_result"
    }
   ],
   "source": [
    "dataset[\"PREDIAB1\"].value_counts()"
   ]
  },
  {
   "cell_type": "code",
   "execution_count": 289,
   "id": "9bc8302e",
   "metadata": {},
   "outputs": [
    {
     "data": {
      "text/plain": [
       "7120"
      ]
     },
     "execution_count": 289,
     "metadata": {},
     "output_type": "execute_result"
    }
   ],
   "source": [
    "dataset[\"PREDIAB1\"].isnull().sum()"
   ]
  },
  {
   "cell_type": "code",
   "execution_count": 290,
   "id": "b0421db0",
   "metadata": {},
   "outputs": [],
   "source": [
    "dataset.drop(\"PREDIAB1\", axis=1, inplace=True)"
   ]
  },
  {
   "cell_type": "code",
   "execution_count": 291,
   "id": "0a9b3893",
   "metadata": {},
   "outputs": [
    {
     "data": {
      "text/plain": [
       "No     500\n",
       "Yes    209\n",
       "Name: INSULIN, dtype: int64"
      ]
     },
     "execution_count": 291,
     "metadata": {},
     "output_type": "execute_result"
    }
   ],
   "source": [
    "dataset[\"INSULIN\"].value_counts()"
   ]
  },
  {
   "cell_type": "code",
   "execution_count": 292,
   "id": "2310b817",
   "metadata": {},
   "outputs": [
    {
     "data": {
      "text/plain": [
       "11629"
      ]
     },
     "execution_count": 292,
     "metadata": {},
     "output_type": "execute_result"
    }
   ],
   "source": [
    "dataset[\"INSULIN\"].isnull().sum()"
   ]
  },
  {
   "cell_type": "code",
   "execution_count": 293,
   "id": "065dd39c",
   "metadata": {},
   "outputs": [],
   "source": [
    "dataset.drop(\"INSULIN\", axis=1, inplace=True)"
   ]
  },
  {
   "cell_type": "code",
   "execution_count": 294,
   "id": "614b8e22",
   "metadata": {},
   "outputs": [
    {
     "data": {
      "text/plain": [
       "Times per day      443\n",
       "Never              120\n",
       "Times per week      98\n",
       "Times per month     30\n",
       "Times per year      13\n",
       "Name: BLDSUGAR, dtype: int64"
      ]
     },
     "execution_count": 294,
     "metadata": {},
     "output_type": "execute_result"
    }
   ],
   "source": [
    "dataset[\"BLDSUGAR\"].value_counts()"
   ]
  },
  {
   "cell_type": "code",
   "execution_count": 295,
   "id": "18711e27",
   "metadata": {},
   "outputs": [
    {
     "data": {
      "text/plain": [
       "11634"
      ]
     },
     "execution_count": 295,
     "metadata": {},
     "output_type": "execute_result"
    }
   ],
   "source": [
    "dataset[\"BLDSUGAR\"].isnull().sum()"
   ]
  },
  {
   "cell_type": "code",
   "execution_count": 296,
   "id": "206ae589",
   "metadata": {},
   "outputs": [],
   "source": [
    "dataset.drop(\"BLDSUGAR\", axis=1, inplace=True)"
   ]
  },
  {
   "cell_type": "code",
   "execution_count": 297,
   "id": "74dad00d",
   "metadata": {},
   "outputs": [
    {
     "data": {
      "text/plain": [
       "Times per day      382\n",
       "Never              118\n",
       "Times per week     112\n",
       "Times per month     47\n",
       "Times per year      19\n",
       "No feet              5\n",
       "Name: FEETCHK2, dtype: int64"
      ]
     },
     "execution_count": 297,
     "metadata": {},
     "output_type": "execute_result"
    }
   ],
   "source": [
    "dataset[\"FEETCHK2\"].value_counts()"
   ]
  },
  {
   "cell_type": "code",
   "execution_count": 298,
   "id": "0ca5b5c8",
   "metadata": {},
   "outputs": [
    {
     "data": {
      "text/plain": [
       "11655"
      ]
     },
     "execution_count": 298,
     "metadata": {},
     "output_type": "execute_result"
    }
   ],
   "source": [
    "dataset[\"FEETCHK2\"].isnull().sum()"
   ]
  },
  {
   "cell_type": "code",
   "execution_count": 299,
   "id": "c693c9ab",
   "metadata": {},
   "outputs": [],
   "source": [
    "dataset.drop(\"FEETCHK2\", axis=1, inplace=True)"
   ]
  },
  {
   "cell_type": "code",
   "execution_count": 300,
   "id": "ea6bb996",
   "metadata": {},
   "outputs": [
    {
     "data": {
      "text/plain": [
       "Number of times  [76=76 or more]    612\n",
       "None                                 57\n",
       "Name: DOCTDIAB, dtype: int64"
      ]
     },
     "execution_count": 300,
     "metadata": {},
     "output_type": "execute_result"
    }
   ],
   "source": [
    "dataset[\"DOCTDIAB\"].value_counts()"
   ]
  },
  {
   "cell_type": "code",
   "execution_count": 301,
   "id": "10c5f6b1",
   "metadata": {},
   "outputs": [
    {
     "data": {
      "text/plain": [
       "11669"
      ]
     },
     "execution_count": 301,
     "metadata": {},
     "output_type": "execute_result"
    }
   ],
   "source": [
    "dataset[\"DOCTDIAB\"].isnull().sum()"
   ]
  },
  {
   "cell_type": "code",
   "execution_count": 302,
   "id": "ec725a9a",
   "metadata": {},
   "outputs": [],
   "source": [
    "dataset.drop(\"DOCTDIAB\", axis=1, inplace=True)"
   ]
  },
  {
   "cell_type": "code",
   "execution_count": 303,
   "id": "b9d76d65",
   "metadata": {},
   "outputs": [
    {
     "data": {
      "text/plain": [
       "Number of times  [76=76 or more]    591\n",
       "None                                 41\n",
       "Name: CHKHEMO3, dtype: int64"
      ]
     },
     "execution_count": 303,
     "metadata": {},
     "output_type": "execute_result"
    }
   ],
   "source": [
    "dataset[\"CHKHEMO3\"].value_counts()"
   ]
  },
  {
   "cell_type": "code",
   "execution_count": 304,
   "id": "f7034f98",
   "metadata": {},
   "outputs": [],
   "source": [
    "dataset.drop(\"CHKHEMO3\", axis=1, inplace=True)"
   ]
  },
  {
   "cell_type": "code",
   "execution_count": 305,
   "id": "16af790b",
   "metadata": {},
   "outputs": [
    {
     "data": {
      "text/plain": [
       "Number of times  [76=76 or more]    524\n",
       "None                                155\n",
       "Name: FEETCHK, dtype: int64"
      ]
     },
     "execution_count": 305,
     "metadata": {},
     "output_type": "execute_result"
    }
   ],
   "source": [
    "dataset[\"FEETCHK\"].value_counts()"
   ]
  },
  {
   "cell_type": "code",
   "execution_count": 306,
   "id": "22a9d356",
   "metadata": {},
   "outputs": [],
   "source": [
    "dataset.drop(\"FEETCHK\", axis=1, inplace=True)"
   ]
  },
  {
   "cell_type": "code",
   "execution_count": 307,
   "id": "fe0d7744",
   "metadata": {},
   "outputs": [
    {
     "data": {
      "text/plain": [
       "Within the past year (1 month but less than 12 months ago)    374\n",
       "Within the past month (anytime less than 1 month ago)         143\n",
       "Within the past 2 years (1 year but less than 2 years ago)     88\n",
       "2 or more years ago                                            65\n",
       "Never                                                          27\n",
       "Name: EYEEXAM, dtype: int64"
      ]
     },
     "execution_count": 307,
     "metadata": {},
     "output_type": "execute_result"
    }
   ],
   "source": [
    "dataset[\"EYEEXAM\"].value_counts()"
   ]
  },
  {
   "cell_type": "code",
   "execution_count": 308,
   "id": "cb891285",
   "metadata": {},
   "outputs": [
    {
     "data": {
      "text/plain": [
       "11641"
      ]
     },
     "execution_count": 308,
     "metadata": {},
     "output_type": "execute_result"
    }
   ],
   "source": [
    "dataset[\"EYEEXAM\"].isnull().sum()"
   ]
  },
  {
   "cell_type": "code",
   "execution_count": 309,
   "id": "d9d92f12",
   "metadata": {},
   "outputs": [],
   "source": [
    "dataset.drop(\"EYEEXAM\", axis=1, inplace=True)"
   ]
  },
  {
   "cell_type": "code",
   "execution_count": 310,
   "id": "14984b65",
   "metadata": {},
   "outputs": [
    {
     "data": {
      "text/plain": [
       "No     554\n",
       "Yes    146\n",
       "Name: DIABEYE, dtype: int64"
      ]
     },
     "execution_count": 310,
     "metadata": {},
     "output_type": "execute_result"
    }
   ],
   "source": [
    "dataset[\"DIABEYE\"].value_counts()"
   ]
  },
  {
   "cell_type": "code",
   "execution_count": 311,
   "id": "9e7cb77b",
   "metadata": {},
   "outputs": [],
   "source": [
    "dataset.drop(\"DIABEYE\", axis=1, inplace=True)"
   ]
  },
  {
   "cell_type": "code",
   "execution_count": 312,
   "id": "54ee35a7",
   "metadata": {},
   "outputs": [
    {
     "data": {
      "text/plain": [
       "No     399\n",
       "Yes    305\n",
       "Name: DIABEDU, dtype: int64"
      ]
     },
     "execution_count": 312,
     "metadata": {},
     "output_type": "execute_result"
    }
   ],
   "source": [
    "dataset[\"DIABEDU\"].value_counts()"
   ]
  },
  {
   "cell_type": "code",
   "execution_count": 313,
   "id": "8d8012d7",
   "metadata": {},
   "outputs": [],
   "source": [
    "dataset.drop(\"DIABEDU\", axis=1, inplace=True)"
   ]
  },
  {
   "cell_type": "code",
   "execution_count": 314,
   "id": "1bed70f5",
   "metadata": {},
   "outputs": [
    {
     "data": {
      "text/plain": [
       "No                                           4054\n",
       "Yes                                          1073\n",
       "Caregiving recipient died in past 30 days      12\n",
       "Name: CAREGIV1, dtype: int64"
      ]
     },
     "execution_count": 314,
     "metadata": {},
     "output_type": "execute_result"
    }
   ],
   "source": [
    "dataset[\"CAREGIV1\"].value_counts()"
   ]
  },
  {
   "cell_type": "code",
   "execution_count": 315,
   "id": "12797dc1",
   "metadata": {},
   "outputs": [
    {
     "data": {
      "text/plain": [
       "7199"
      ]
     },
     "execution_count": 315,
     "metadata": {},
     "output_type": "execute_result"
    }
   ],
   "source": [
    "dataset[\"CAREGIV1\"].isnull().sum()"
   ]
  },
  {
   "cell_type": "code",
   "execution_count": 316,
   "id": "da89bcea",
   "metadata": {},
   "outputs": [],
   "source": [
    "dataset.drop(\"CAREGIV1\", axis=1, inplace=True)"
   ]
  },
  {
   "cell_type": "code",
   "execution_count": 317,
   "id": "226c7da2",
   "metadata": {},
   "outputs": [
    {
     "data": {
      "text/plain": [
       "Mother                        266\n",
       "Non-relative/Family friend    214\n",
       "Father                         88\n",
       "Husband                        88\n",
       "Child                          83\n",
       "Other relative                 77\n",
       "Wife                           65\n",
       "Mother-in-law                  41\n",
       "Brother or brother-in-law      37\n",
       "Sister or sister-in-law        34\n",
       "Grandmother                    30\n",
       "Father-in-law                  18\n",
       "Grandfather                    12\n",
       "Grandchild                      7\n",
       "Same-sex partner                2\n",
       "Name: CRGVREL1, dtype: int64"
      ]
     },
     "execution_count": 317,
     "metadata": {},
     "output_type": "execute_result"
    }
   ],
   "source": [
    "dataset[\"CRGVREL1\"].value_counts()"
   ]
  },
  {
   "cell_type": "code",
   "execution_count": 318,
   "id": "f2ccdda1",
   "metadata": {},
   "outputs": [
    {
     "data": {
      "text/plain": [
       "11276"
      ]
     },
     "execution_count": 318,
     "metadata": {},
     "output_type": "execute_result"
    }
   ],
   "source": [
    "dataset[\"CRGVREL1\"].isnull().sum()"
   ]
  },
  {
   "cell_type": "code",
   "execution_count": 319,
   "id": "0b50af53",
   "metadata": {},
   "outputs": [],
   "source": [
    "dataset.drop(\"CRGVREL1\", axis=1, inplace=True)"
   ]
  },
  {
   "cell_type": "code",
   "execution_count": 320,
   "id": "464daac3",
   "metadata": {},
   "outputs": [
    {
     "data": {
      "text/plain": [
       "More than 5 years                307\n",
       "2 years to less than 5 years     213\n",
       "Less than 30 days                194\n",
       "6 months to less than 2 years    189\n",
       "1 month to less than 6 months    142\n",
       "Name: CRGVLNG1, dtype: int64"
      ]
     },
     "execution_count": 320,
     "metadata": {},
     "output_type": "execute_result"
    }
   ],
   "source": [
    "dataset[\"CRGVLNG1\"].value_counts()"
   ]
  },
  {
   "cell_type": "code",
   "execution_count": 321,
   "id": "769c840b",
   "metadata": {},
   "outputs": [
    {
     "data": {
      "text/plain": [
       "11293"
      ]
     },
     "execution_count": 321,
     "metadata": {},
     "output_type": "execute_result"
    }
   ],
   "source": [
    "dataset[\"CRGVLNG1\"].isnull().sum()"
   ]
  },
  {
   "cell_type": "code",
   "execution_count": 322,
   "id": "7833aa72",
   "metadata": {},
   "outputs": [],
   "source": [
    "dataset.drop(\"CRGVLNG1\", axis=1, inplace=True)"
   ]
  },
  {
   "cell_type": "code",
   "execution_count": 323,
   "id": "a10eed9a",
   "metadata": {},
   "outputs": [
    {
     "data": {
      "text/plain": [
       "Up to 8 hours per week     635\n",
       "40 hours or more           148\n",
       "9 to 19 hours per week     137\n",
       "20 to 39 hours per week     91\n",
       "Name: CRGVHRS1, dtype: int64"
      ]
     },
     "execution_count": 323,
     "metadata": {},
     "output_type": "execute_result"
    }
   ],
   "source": [
    "dataset[\"CRGVHRS1\"].value_counts()"
   ]
  },
  {
   "cell_type": "code",
   "execution_count": 324,
   "id": "ec367cd0",
   "metadata": {},
   "outputs": [
    {
     "data": {
      "text/plain": [
       "11327"
      ]
     },
     "execution_count": 324,
     "metadata": {},
     "output_type": "execute_result"
    }
   ],
   "source": [
    "dataset[\"CRGVHRS1\"].isnull().sum()"
   ]
  },
  {
   "cell_type": "code",
   "execution_count": 325,
   "id": "757d5b38",
   "metadata": {},
   "outputs": [],
   "source": [
    "dataset.drop(\"CRGVHRS1\", axis=1, inplace=True)"
   ]
  },
  {
   "cell_type": "code",
   "execution_count": 326,
   "id": "6beec5c3",
   "metadata": {},
   "outputs": [
    {
     "data": {
      "text/plain": [
       "Other                                                                           413\n",
       "Dementia and other Cognitive Impairment Disorders                               111\n",
       "Heart Disease, Hypertension                                                      97\n",
       "Cancer                                                                           94\n",
       "Arthritis/Rheumatism                                                             81\n",
       "Diabetes                                                                         58\n",
       "Mental Illnesses, such as Anxiety, Depression, or Schizophrenia                  42\n",
       "Developmental Disabilities such as Autism, Down's Syndrome, and Spina Bifida     38\n",
       "Chronic respiratory conditions such as Emphysema or COPD                         36\n",
       "Other organ failure or diseases such as kidney or liver problems                 23\n",
       "Substance Abuse or Addiction Disorders                                            5\n",
       "Asthma                                                                            4\n",
       "Human Immunodeficiency Virus Infection (HIV)                                      3\n",
       "Name: CRGVPRB1, dtype: int64"
      ]
     },
     "execution_count": 326,
     "metadata": {},
     "output_type": "execute_result"
    }
   ],
   "source": [
    "dataset[\"CRGVPRB1\"].value_counts()"
   ]
  },
  {
   "cell_type": "code",
   "execution_count": 327,
   "id": "8f0dfd10",
   "metadata": {},
   "outputs": [
    {
     "data": {
      "text/plain": [
       "11333"
      ]
     },
     "execution_count": 327,
     "metadata": {},
     "output_type": "execute_result"
    }
   ],
   "source": [
    "dataset[\"CRGVPRB1\"].isnull().sum()"
   ]
  },
  {
   "cell_type": "code",
   "execution_count": 328,
   "id": "c59bcddd",
   "metadata": {},
   "outputs": [],
   "source": [
    "dataset.drop(\"CRGVPRB1\", axis=1, inplace=True)"
   ]
  },
  {
   "cell_type": "code",
   "execution_count": 329,
   "id": "d4b5418e",
   "metadata": {},
   "outputs": [
    {
     "data": {
      "text/plain": [
       "No     546\n",
       "Yes    511\n",
       "Name: CRGVPERS, dtype: int64"
      ]
     },
     "execution_count": 329,
     "metadata": {},
     "output_type": "execute_result"
    }
   ],
   "source": [
    "dataset[\"CRGVPERS\"].value_counts()"
   ]
  },
  {
   "cell_type": "code",
   "execution_count": 330,
   "id": "2fa3cfdd",
   "metadata": {},
   "outputs": [],
   "source": [
    "dataset.drop(\"CRGVPERS\", axis=1, inplace=True)"
   ]
  },
  {
   "cell_type": "code",
   "execution_count": 331,
   "id": "29ca57dc",
   "metadata": {},
   "outputs": [
    {
     "data": {
      "text/plain": [
       "Yes    822\n",
       "No     233\n",
       "Name: CRGVHOUS, dtype: int64"
      ]
     },
     "execution_count": 331,
     "metadata": {},
     "output_type": "execute_result"
    }
   ],
   "source": [
    "dataset[\"CRGVHOUS\"].value_counts()"
   ]
  },
  {
   "cell_type": "code",
   "execution_count": 332,
   "id": "3c188548",
   "metadata": {},
   "outputs": [],
   "source": [
    "dataset.drop(\"CRGVHOUS\", axis=1, inplace=True)"
   ]
  },
  {
   "cell_type": "code",
   "execution_count": 333,
   "id": "4dd5fbeb",
   "metadata": {},
   "outputs": [
    {
     "data": {
      "text/plain": [
       "You don't need any of these support services             837\n",
       "Help in getting access to services                       103\n",
       "Support groups                                            35\n",
       "Individual counseling to help cope with giving care       22\n",
       "Classes about giving care, such as giving medications     16\n",
       "Respite care                                              16\n",
       "Name: CRGVMST2, dtype: int64"
      ]
     },
     "execution_count": 333,
     "metadata": {},
     "output_type": "execute_result"
    }
   ],
   "source": [
    "dataset[\"CRGVMST2\"].value_counts()"
   ]
  },
  {
   "cell_type": "code",
   "execution_count": 334,
   "id": "8562eb61",
   "metadata": {},
   "outputs": [],
   "source": [
    "dataset.drop(\"CRGVMST2\", axis=1, inplace=True)"
   ]
  },
  {
   "cell_type": "code",
   "execution_count": 335,
   "id": "36aad394",
   "metadata": {},
   "outputs": [
    {
     "data": {
      "text/plain": [
       "No     3109\n",
       "Yes     754\n",
       "Name: CRGVEXPT, dtype: int64"
      ]
     },
     "execution_count": 335,
     "metadata": {},
     "output_type": "execute_result"
    }
   ],
   "source": [
    "dataset[\"CRGVEXPT\"].value_counts()"
   ]
  },
  {
   "cell_type": "code",
   "execution_count": 336,
   "id": "4f5b8437",
   "metadata": {},
   "outputs": [
    {
     "data": {
      "text/plain": [
       "8475"
      ]
     },
     "execution_count": 336,
     "metadata": {},
     "output_type": "execute_result"
    }
   ],
   "source": [
    "dataset[\"CRGVEXPT\"].isnull().sum()"
   ]
  },
  {
   "cell_type": "code",
   "execution_count": 337,
   "id": "12d19680",
   "metadata": {},
   "outputs": [],
   "source": [
    "dataset.drop(\"CRGVEXPT\", axis=1, inplace=True)"
   ]
  },
  {
   "cell_type": "code",
   "execution_count": 338,
   "id": "470eb464",
   "metadata": {},
   "outputs": [
    {
     "data": {
      "text/plain": [
       "No     3398\n",
       "Yes     403\n",
       "Name: CIMEMLOS, dtype: int64"
      ]
     },
     "execution_count": 338,
     "metadata": {},
     "output_type": "execute_result"
    }
   ],
   "source": [
    "dataset[\"CIMEMLOS\"].value_counts()"
   ]
  },
  {
   "cell_type": "code",
   "execution_count": 339,
   "id": "4549e19a",
   "metadata": {},
   "outputs": [
    {
     "data": {
      "text/plain": [
       "8537"
      ]
     },
     "execution_count": 339,
     "metadata": {},
     "output_type": "execute_result"
    }
   ],
   "source": [
    "dataset[\"CIMEMLOS\"].isnull().sum()"
   ]
  },
  {
   "cell_type": "code",
   "execution_count": 340,
   "id": "5d017ba6",
   "metadata": {},
   "outputs": [],
   "source": [
    "dataset.drop(\"CIMEMLOS\", axis=1, inplace=True)"
   ]
  },
  {
   "cell_type": "code",
   "execution_count": 341,
   "id": "4783839a",
   "metadata": {},
   "outputs": [
    {
     "data": {
      "text/plain": [
       "Never        195\n",
       "Sometimes     97\n",
       "Rarely        59\n",
       "Always        27\n",
       "Usually       25\n",
       "Name: CDHOUSE, dtype: int64"
      ]
     },
     "execution_count": 341,
     "metadata": {},
     "output_type": "execute_result"
    }
   ],
   "source": [
    "dataset[\"CDHOUSE\"].value_counts()"
   ]
  },
  {
   "cell_type": "code",
   "execution_count": 342,
   "id": "abb95adb",
   "metadata": {},
   "outputs": [],
   "source": [
    "dataset.drop(\"CDHOUSE\", axis=1, inplace=True)"
   ]
  },
  {
   "cell_type": "code",
   "execution_count": 343,
   "id": "6b5a0fd1",
   "metadata": {},
   "outputs": [
    {
     "data": {
      "text/plain": [
       "Never        236\n",
       "Sometimes     90\n",
       "Rarely        41\n",
       "Usually       21\n",
       "Always        18\n",
       "Name: CDASSIST, dtype: int64"
      ]
     },
     "execution_count": 343,
     "metadata": {},
     "output_type": "execute_result"
    }
   ],
   "source": [
    "dataset[\"CDASSIST\"].value_counts()"
   ]
  },
  {
   "cell_type": "code",
   "execution_count": 344,
   "id": "c0054714",
   "metadata": {},
   "outputs": [],
   "source": [
    "dataset.drop(\"CDASSIST\", axis=1, inplace=True)"
   ]
  },
  {
   "cell_type": "code",
   "execution_count": 345,
   "id": "533108f1",
   "metadata": {},
   "outputs": [
    {
     "data": {
      "text/plain": [
       "Always       35\n",
       "Sometimes    33\n",
       "Usually      28\n",
       "Rarely       17\n",
       "Never        12\n",
       "Name: CDHELP, dtype: int64"
      ]
     },
     "execution_count": 345,
     "metadata": {},
     "output_type": "execute_result"
    }
   ],
   "source": [
    "dataset[\"CDHELP\"].value_counts()"
   ]
  },
  {
   "cell_type": "code",
   "execution_count": 346,
   "id": "99a55b3e",
   "metadata": {},
   "outputs": [],
   "source": [
    "dataset.drop(\"CDHELP\", axis=1, inplace=True)"
   ]
  },
  {
   "cell_type": "code",
   "execution_count": 347,
   "id": "58e750eb",
   "metadata": {},
   "outputs": [
    {
     "data": {
      "text/plain": [
       "Never        207\n",
       "Rarely        77\n",
       "Sometimes     60\n",
       "Always        36\n",
       "Usually       21\n",
       "Name: CDSOCIAL, dtype: int64"
      ]
     },
     "execution_count": 347,
     "metadata": {},
     "output_type": "execute_result"
    }
   ],
   "source": [
    "dataset[\"CDSOCIAL\"].value_counts()"
   ]
  },
  {
   "cell_type": "code",
   "execution_count": 348,
   "id": "b59e7ec4",
   "metadata": {},
   "outputs": [],
   "source": [
    "dataset.drop(\"CDSOCIAL\", axis=1, inplace=True)"
   ]
  },
  {
   "cell_type": "code",
   "execution_count": 349,
   "id": "08f40110",
   "metadata": {},
   "outputs": [
    {
     "data": {
      "text/plain": [
       "No     226\n",
       "Yes    183\n",
       "Name: CDDISCUS, dtype: int64"
      ]
     },
     "execution_count": 349,
     "metadata": {},
     "output_type": "execute_result"
    }
   ],
   "source": [
    "dataset[\"CDDISCUS\"].value_counts()"
   ]
  },
  {
   "cell_type": "code",
   "execution_count": 350,
   "id": "58d8124f",
   "metadata": {},
   "outputs": [],
   "source": [
    "dataset.drop(\"CDDISCUS\", axis=1, inplace=True)"
   ]
  },
  {
   "cell_type": "code",
   "execution_count": 351,
   "id": "962ebbdd",
   "metadata": {},
   "outputs": [
    {
     "data": {
      "text/plain": [
       "I can do most things I would like to do        745\n",
       "I can do everything I would like to do         388\n",
       "I can do some things I would like to do        388\n",
       "I can hardly do anything I would like to do    116\n",
       "Don´t know/Not Sure                              4\n",
       "Name: ARTTODAY, dtype: int64"
      ]
     },
     "execution_count": 351,
     "metadata": {},
     "output_type": "execute_result"
    }
   ],
   "source": [
    "dataset[\"ARTTODAY\"].value_counts()"
   ]
  },
  {
   "cell_type": "code",
   "execution_count": 352,
   "id": "2ff2e530",
   "metadata": {},
   "outputs": [],
   "source": [
    "dataset.drop(\"ARTTODAY\", axis=1, inplace=True)"
   ]
  },
  {
   "cell_type": "code",
   "execution_count": 353,
   "id": "44de36c6",
   "metadata": {},
   "outputs": [
    {
     "data": {
      "text/plain": [
       "No                     973\n",
       "Yes                    663\n",
       "Don´t know/Not Sure      2\n",
       "Name: ARTHWGT, dtype: int64"
      ]
     },
     "execution_count": 353,
     "metadata": {},
     "output_type": "execute_result"
    }
   ],
   "source": [
    "dataset[\"ARTHWGT\"].value_counts()"
   ]
  },
  {
   "cell_type": "code",
   "execution_count": 354,
   "id": "a721f6c2",
   "metadata": {},
   "outputs": [],
   "source": [
    "dataset.drop(\"ARTHWGT\", axis=1, inplace=True)"
   ]
  },
  {
   "cell_type": "code",
   "execution_count": 355,
   "id": "758130f5",
   "metadata": {},
   "outputs": [
    {
     "data": {
      "text/plain": [
       "Yes                    1028\n",
       "No                      603\n",
       "Don´t know/Not Sure       5\n",
       "Name: ARTHEXER, dtype: int64"
      ]
     },
     "execution_count": 355,
     "metadata": {},
     "output_type": "execute_result"
    }
   ],
   "source": [
    "dataset[\"ARTHEXER\"].value_counts()"
   ]
  },
  {
   "cell_type": "code",
   "execution_count": 356,
   "id": "08f7403c",
   "metadata": {},
   "outputs": [],
   "source": [
    "dataset.drop(\"ARTHEXER\", axis=1, inplace=True)"
   ]
  },
  {
   "cell_type": "code",
   "execution_count": 357,
   "id": "0a3bb1a5",
   "metadata": {},
   "outputs": [
    {
     "data": {
      "text/plain": [
       "No                     1447\n",
       "Yes                     189\n",
       "Don´t know/Not Sure       3\n",
       "Name: ARTHEDU, dtype: int64"
      ]
     },
     "execution_count": 357,
     "metadata": {},
     "output_type": "execute_result"
    }
   ],
   "source": [
    "dataset[\"ARTHEDU\"].value_counts()"
   ]
  },
  {
   "cell_type": "code",
   "execution_count": 358,
   "id": "f7ba6302",
   "metadata": {},
   "outputs": [],
   "source": [
    "dataset.drop(\"ARTHEDU\", axis=1, inplace=True)"
   ]
  },
  {
   "cell_type": "code",
   "execution_count": 359,
   "id": "518cbd2d",
   "metadata": {},
   "outputs": [
    {
     "data": {
      "text/plain": [
       "No     2317\n",
       "Yes    1067\n",
       "Name: BLDSTOOL, dtype: int64"
      ]
     },
     "execution_count": 359,
     "metadata": {},
     "output_type": "execute_result"
    }
   ],
   "source": [
    "dataset[\"BLDSTOOL\"].value_counts()"
   ]
  },
  {
   "cell_type": "code",
   "execution_count": 360,
   "id": "60d557b9",
   "metadata": {},
   "outputs": [
    {
     "data": {
      "text/plain": [
       "8954"
      ]
     },
     "execution_count": 360,
     "metadata": {},
     "output_type": "execute_result"
    }
   ],
   "source": [
    "dataset[\"BLDSTOOL\"].isnull().sum()"
   ]
  },
  {
   "cell_type": "code",
   "execution_count": 361,
   "id": "5e251238",
   "metadata": {},
   "outputs": [],
   "source": [
    "dataset.drop(\"BLDSTOOL\", axis=1, inplace=True)"
   ]
  },
  {
   "cell_type": "code",
   "execution_count": 362,
   "id": "d9688ade",
   "metadata": {},
   "outputs": [
    {
     "data": {
      "text/plain": [
       "5 or more years ago                                            393\n",
       "Within the past year (anytime less than 12 months ago)         275\n",
       "Within the past 2 years (1 year but less than 2 years ago)     146\n",
       "Within the past 5 years (3 years but less than 5 years ago)    132\n",
       "Within the past 3 years (2 years but less than 3 years ago)    102\n",
       "Name: LSTBLDS3, dtype: int64"
      ]
     },
     "execution_count": 362,
     "metadata": {},
     "output_type": "execute_result"
    }
   ],
   "source": [
    "dataset[\"LSTBLDS3\"].value_counts()"
   ]
  },
  {
   "cell_type": "code",
   "execution_count": null,
   "id": "3cd78c0a",
   "metadata": {},
   "outputs": [],
   "source": []
  },
  {
   "cell_type": "code",
   "execution_count": 363,
   "id": "44d8ac63",
   "metadata": {},
   "outputs": [],
   "source": [
    "dataset.drop(\"LSTBLDS3\", axis=1, inplace=True)"
   ]
  },
  {
   "cell_type": "code",
   "execution_count": 364,
   "id": "55944f45",
   "metadata": {},
   "outputs": [
    {
     "data": {
      "text/plain": [
       "Yes    2571\n",
       "No      827\n",
       "Name: HADSIGM3, dtype: int64"
      ]
     },
     "execution_count": 364,
     "metadata": {},
     "output_type": "execute_result"
    }
   ],
   "source": [
    "dataset[\"HADSIGM3\"].value_counts()"
   ]
  },
  {
   "cell_type": "code",
   "execution_count": 365,
   "id": "5d8aafaf",
   "metadata": {},
   "outputs": [
    {
     "data": {
      "text/plain": [
       "8940"
      ]
     },
     "execution_count": 365,
     "metadata": {},
     "output_type": "execute_result"
    }
   ],
   "source": [
    "dataset[\"HADSIGM3\"].isnull().sum()"
   ]
  },
  {
   "cell_type": "code",
   "execution_count": 366,
   "id": "f8b2328e",
   "metadata": {},
   "outputs": [],
   "source": [
    "dataset.drop(\"HADSIGM3\", axis=1, inplace=True)"
   ]
  },
  {
   "cell_type": "code",
   "execution_count": 367,
   "id": "af1c7b4c",
   "metadata": {},
   "outputs": [
    {
     "data": {
      "text/plain": [
       "Colonoscopy      2428\n",
       "Sigmoidoscopy      64\n",
       "Name: HADSGCO1, dtype: int64"
      ]
     },
     "execution_count": 367,
     "metadata": {},
     "output_type": "execute_result"
    }
   ],
   "source": [
    "dataset[\"HADSGCO1\"].value_counts()"
   ]
  },
  {
   "cell_type": "code",
   "execution_count": 368,
   "id": "e76f26c0",
   "metadata": {},
   "outputs": [],
   "source": [
    "dataset.drop(\"HADSGCO1\", axis=1, inplace=True)"
   ]
  },
  {
   "cell_type": "code",
   "execution_count": 369,
   "id": "eedc8461",
   "metadata": {},
   "outputs": [
    {
     "data": {
      "text/plain": [
       "Within the past 5 years (3 years but less than 5 years ago)      588\n",
       "Within the past year (anytime less than 12 months ago)           559\n",
       "Within the past 10 years (5 years but less than 10 years ago)    451\n",
       "Within the past 3 years (2 years but less than 3 years ago)      396\n",
       "Within the past 2 years (1 year but less than 2 years ago)       394\n",
       "10 or more years ago                                             155\n",
       "Name: LASTSIG3, dtype: int64"
      ]
     },
     "execution_count": 369,
     "metadata": {},
     "output_type": "execute_result"
    }
   ],
   "source": [
    "dataset[\"LASTSIG3\"].value_counts()"
   ]
  },
  {
   "cell_type": "code",
   "execution_count": 370,
   "id": "8044b702",
   "metadata": {},
   "outputs": [
    {
     "data": {
      "text/plain": [
       "9795"
      ]
     },
     "execution_count": 370,
     "metadata": {},
     "output_type": "execute_result"
    }
   ],
   "source": [
    "dataset[\"LASTSIG3\"].isnull().sum()"
   ]
  },
  {
   "cell_type": "code",
   "execution_count": 371,
   "id": "cd354973",
   "metadata": {},
   "outputs": [],
   "source": [
    "dataset.drop(\"LASTSIG3\", axis=1, inplace=True)"
   ]
  },
  {
   "cell_type": "code",
   "execution_count": 372,
   "id": "35d62989",
   "metadata": {},
   "outputs": [
    {
     "data": {
      "text/plain": [
       "Series([], Name: TYPEWORK, dtype: int64)"
      ]
     },
     "execution_count": 372,
     "metadata": {},
     "output_type": "execute_result"
    }
   ],
   "source": [
    "dataset[\"TYPEWORK\"].value_counts()"
   ]
  },
  {
   "cell_type": "code",
   "execution_count": 373,
   "id": "a0cd619d",
   "metadata": {},
   "outputs": [
    {
     "data": {
      "text/plain": [
       "12338"
      ]
     },
     "execution_count": 373,
     "metadata": {},
     "output_type": "execute_result"
    }
   ],
   "source": [
    "dataset[\"TYPEWORK\"].isnull().sum()"
   ]
  },
  {
   "cell_type": "code",
   "execution_count": 374,
   "id": "cd8100c6",
   "metadata": {},
   "outputs": [],
   "source": [
    "dataset.drop(\"TYPEWORK\",axis=1, inplace=True)"
   ]
  },
  {
   "cell_type": "code",
   "execution_count": 375,
   "id": "e287d3e4",
   "metadata": {},
   "outputs": [
    {
     "data": {
      "text/plain": [
       "Series([], Name: TYPEINDS, dtype: int64)"
      ]
     },
     "execution_count": 375,
     "metadata": {},
     "output_type": "execute_result"
    }
   ],
   "source": [
    "dataset[\"TYPEINDS\"].value_counts()"
   ]
  },
  {
   "cell_type": "code",
   "execution_count": 376,
   "id": "a7912bf2",
   "metadata": {},
   "outputs": [
    {
     "data": {
      "text/plain": [
       "12338"
      ]
     },
     "execution_count": 376,
     "metadata": {},
     "output_type": "execute_result"
    }
   ],
   "source": [
    "dataset[\"TYPEINDS\"].isnull().sum()"
   ]
  },
  {
   "cell_type": "code",
   "execution_count": 377,
   "id": "ee805a6f",
   "metadata": {},
   "outputs": [],
   "source": [
    "dataset.drop(\"TYPEINDS\", axis=1, inplace=True)"
   ]
  },
  {
   "cell_type": "code",
   "execution_count": 378,
   "id": "a9d835cf",
   "metadata": {},
   "outputs": [
    {
     "data": {
      "text/plain": [
       "Straight          9328\n",
       "Lesbian or gay     193\n",
       "Bisexual           174\n",
       "Other               45\n",
       "Name: SXORIENT, dtype: int64"
      ]
     },
     "execution_count": 378,
     "metadata": {},
     "output_type": "execute_result"
    }
   ],
   "source": [
    "dataset[\"SXORIENT\"].value_counts()"
   ]
  },
  {
   "cell_type": "code",
   "execution_count": 379,
   "id": "64fbe37d",
   "metadata": {},
   "outputs": [
    {
     "data": {
      "text/plain": [
       "2598"
      ]
     },
     "execution_count": 379,
     "metadata": {},
     "output_type": "execute_result"
    }
   ],
   "source": [
    "dataset[\"SXORIENT\"].isnull().sum()"
   ]
  },
  {
   "cell_type": "code",
   "execution_count": 380,
   "id": "6ec78387",
   "metadata": {},
   "outputs": [
    {
     "data": {
      "text/plain": [
       "Series([], Name: TRNSGNDR, dtype: int64)"
      ]
     },
     "execution_count": 380,
     "metadata": {},
     "output_type": "execute_result"
    }
   ],
   "source": [
    "dataset[\"TRNSGNDR\"].value_counts()"
   ]
  },
  {
   "cell_type": "code",
   "execution_count": 381,
   "id": "4b165089",
   "metadata": {},
   "outputs": [
    {
     "data": {
      "text/plain": [
       "12338"
      ]
     },
     "execution_count": 381,
     "metadata": {},
     "output_type": "execute_result"
    }
   ],
   "source": [
    "dataset[\"TRNSGNDR\"].isnull().sum()"
   ]
  },
  {
   "cell_type": "code",
   "execution_count": 382,
   "id": "34ea7be4",
   "metadata": {},
   "outputs": [],
   "source": [
    "dataset.drop(\"TRNSGNDR\", axis=1, inplace=True)"
   ]
  },
  {
   "cell_type": "code",
   "execution_count": 383,
   "id": "04a8eb8a",
   "metadata": {},
   "outputs": [
    {
     "data": {
      "text/plain": [
       "Series([], Name: RCSBIRTH, dtype: int64)"
      ]
     },
     "execution_count": 383,
     "metadata": {},
     "output_type": "execute_result"
    }
   ],
   "source": [
    "dataset[\"RCSBIRTH\"].value_counts()"
   ]
  },
  {
   "cell_type": "code",
   "execution_count": 384,
   "id": "3a427a5b",
   "metadata": {},
   "outputs": [
    {
     "data": {
      "text/plain": [
       "12338"
      ]
     },
     "execution_count": 384,
     "metadata": {},
     "output_type": "execute_result"
    }
   ],
   "source": [
    "dataset[\"RCSBIRTH\"].isnull().sum()"
   ]
  },
  {
   "cell_type": "code",
   "execution_count": 385,
   "id": "82685ea4",
   "metadata": {},
   "outputs": [],
   "source": [
    "dataset.drop(\"RCSBIRTH\", axis=1, inplace=True)"
   ]
  },
  {
   "cell_type": "code",
   "execution_count": 386,
   "id": "6eb4c795",
   "metadata": {},
   "outputs": [
    {
     "data": {
      "text/plain": [
       "Boy     675\n",
       "Girl    561\n",
       "Name: RCSGENDR, dtype: int64"
      ]
     },
     "execution_count": 386,
     "metadata": {},
     "output_type": "execute_result"
    }
   ],
   "source": [
    "dataset[\"RCSGENDR\"].value_counts()"
   ]
  },
  {
   "cell_type": "code",
   "execution_count": 387,
   "id": "9bb3881b",
   "metadata": {},
   "outputs": [],
   "source": [
    "dataset.drop(\"RCSGENDR\", axis=1, inplace=True)"
   ]
  },
  {
   "cell_type": "code",
   "execution_count": 388,
   "id": "a06c87a7",
   "metadata": {},
   "outputs": [
    {
     "data": {
      "text/plain": [
       "Series([], Name: RCHISLA1, dtype: int64)"
      ]
     },
     "execution_count": 388,
     "metadata": {},
     "output_type": "execute_result"
    }
   ],
   "source": [
    "dataset[\"RCHISLA1\"].value_counts()"
   ]
  },
  {
   "cell_type": "code",
   "execution_count": 389,
   "id": "94d608af",
   "metadata": {},
   "outputs": [
    {
     "data": {
      "text/plain": [
       "12338"
      ]
     },
     "execution_count": 389,
     "metadata": {},
     "output_type": "execute_result"
    }
   ],
   "source": [
    "dataset[\"RCHISLA1\"].isnull().sum()"
   ]
  },
  {
   "cell_type": "code",
   "execution_count": 390,
   "id": "88dc6f9c",
   "metadata": {},
   "outputs": [],
   "source": [
    "dataset.drop(\"RCHISLA1\", axis=1, inplace=True)"
   ]
  },
  {
   "cell_type": "code",
   "execution_count": 391,
   "id": "30acab67",
   "metadata": {},
   "outputs": [
    {
     "data": {
      "text/plain": [
       "Series([], Name: RCSRACE1, dtype: int64)"
      ]
     },
     "execution_count": 391,
     "metadata": {},
     "output_type": "execute_result"
    }
   ],
   "source": [
    "dataset[\"RCSRACE1\"].value_counts()"
   ]
  },
  {
   "cell_type": "code",
   "execution_count": 392,
   "id": "4499a8c4",
   "metadata": {},
   "outputs": [
    {
     "data": {
      "text/plain": [
       "12338"
      ]
     },
     "execution_count": 392,
     "metadata": {},
     "output_type": "execute_result"
    }
   ],
   "source": [
    "dataset[\"RCSRACE1\"].isnull().sum()"
   ]
  },
  {
   "cell_type": "code",
   "execution_count": 393,
   "id": "28ed6c5e",
   "metadata": {},
   "outputs": [],
   "source": [
    "dataset.drop(\"RCSRACE1\", axis=1, inplace=True)"
   ]
  },
  {
   "cell_type": "code",
   "execution_count": 394,
   "id": "e5efd484",
   "metadata": {},
   "outputs": [
    {
     "data": {
      "text/plain": [
       "Series([], Name: RCSBRAC2, dtype: int64)"
      ]
     },
     "execution_count": 394,
     "metadata": {},
     "output_type": "execute_result"
    }
   ],
   "source": [
    "dataset[\"RCSBRAC2\"].value_counts()"
   ]
  },
  {
   "cell_type": "code",
   "execution_count": 395,
   "id": "af057526",
   "metadata": {},
   "outputs": [],
   "source": [
    "dataset.drop(\"RCSBRAC2\", axis=1, inplace=True)"
   ]
  },
  {
   "cell_type": "code",
   "execution_count": 396,
   "id": "09274cfb",
   "metadata": {},
   "outputs": [
    {
     "data": {
      "text/plain": [
       "Parent (include biologic, step, or adoptive parent)       1004\n",
       "Grandparent                                                 89\n",
       "Sibling (include biologic, step, and adoptive sibling)      64\n",
       "Other relative                                              30\n",
       "Foster parent or guardian                                   26\n",
       "Not related in any way                                      23\n",
       "Name: RCSRLTN2, dtype: int64"
      ]
     },
     "execution_count": 396,
     "metadata": {},
     "output_type": "execute_result"
    }
   ],
   "source": [
    "dataset[\"RCSRLTN2\"].value_counts()"
   ]
  },
  {
   "cell_type": "code",
   "execution_count": 397,
   "id": "bb89dc7f",
   "metadata": {},
   "outputs": [
    {
     "data": {
      "text/plain": [
       "11102"
      ]
     },
     "execution_count": 397,
     "metadata": {},
     "output_type": "execute_result"
    }
   ],
   "source": [
    "dataset[\"RCSRLTN2\"].isnull().sum()"
   ]
  },
  {
   "cell_type": "code",
   "execution_count": 398,
   "id": "86024ac3",
   "metadata": {},
   "outputs": [],
   "source": [
    "dataset.drop(\"RCSRLTN2\", axis=1, inplace=True)"
   ]
  },
  {
   "cell_type": "code",
   "execution_count": 399,
   "id": "c926e7e8",
   "metadata": {},
   "outputs": [
    {
     "data": {
      "text/plain": [
       "No     1044\n",
       "Yes     176\n",
       "Name: CASTHDX2, dtype: int64"
      ]
     },
     "execution_count": 399,
     "metadata": {},
     "output_type": "execute_result"
    }
   ],
   "source": [
    "dataset[\"CASTHDX2\"].value_counts()"
   ]
  },
  {
   "cell_type": "code",
   "execution_count": 400,
   "id": "39da5b76",
   "metadata": {},
   "outputs": [],
   "source": [
    "dataset.drop(\"CASTHDX2\", axis=1, inplace=True)"
   ]
  },
  {
   "cell_type": "code",
   "execution_count": 401,
   "id": "c1a7228b",
   "metadata": {},
   "outputs": [
    {
     "data": {
      "text/plain": [
       "Yes    112\n",
       "No      57\n",
       "Name: CASTHNO2, dtype: int64"
      ]
     },
     "execution_count": 401,
     "metadata": {},
     "output_type": "execute_result"
    }
   ],
   "source": [
    "dataset[\"CASTHNO2\"].value_counts()"
   ]
  },
  {
   "cell_type": "code",
   "execution_count": 402,
   "id": "4fe22a33",
   "metadata": {},
   "outputs": [],
   "source": [
    "dataset.drop(\"CASTHNO2\", axis=1, inplace=True)"
   ]
  },
  {
   "cell_type": "code",
   "execution_count": 403,
   "id": "0d7c9045",
   "metadata": {},
   "outputs": [
    {
     "data": {
      "text/plain": [
       "Series([], Name: ADHISPA, dtype: int64)"
      ]
     },
     "execution_count": 403,
     "metadata": {},
     "output_type": "execute_result"
    }
   ],
   "source": [
    "dataset[\"ADHISPA\"].value_counts()"
   ]
  },
  {
   "cell_type": "code",
   "execution_count": 404,
   "id": "42e6e986",
   "metadata": {},
   "outputs": [],
   "source": [
    "dataset.drop(\"ADHISPA\", axis=1, inplace=True)"
   ]
  },
  {
   "cell_type": "code",
   "execution_count": 405,
   "id": "c96a3676",
   "metadata": {},
   "outputs": [
    {
     "data": {
      "text/plain": [
       "Series([], Name: CHHISPA, dtype: int64)"
      ]
     },
     "execution_count": 405,
     "metadata": {},
     "output_type": "execute_result"
    }
   ],
   "source": [
    "dataset[\"CHHISPA\"].value_counts()"
   ]
  },
  {
   "cell_type": "code",
   "execution_count": 406,
   "id": "8b40fac2",
   "metadata": {},
   "outputs": [],
   "source": [
    "dataset.drop(\"CHHISPA\", axis=1, inplace=True)"
   ]
  },
  {
   "cell_type": "code",
   "execution_count": 407,
   "id": "34e44fc2",
   "metadata": {},
   "outputs": [
    {
     "data": {
      "text/plain": [
       "Questionnaire version A landline                4240\n",
       "Questionnaire version B landline                4178\n",
       "Questionnaire version B cellphone               1767\n",
       "Questionnaire version A cellphone               1704\n",
       "Core only cellphone (collected out of state)     449\n",
       "Name: QSTVER, dtype: int64"
      ]
     },
     "execution_count": 407,
     "metadata": {},
     "output_type": "execute_result"
    }
   ],
   "source": [
    "dataset[\"QSTVER\"].value_counts()"
   ]
  },
  {
   "cell_type": "code",
   "execution_count": 408,
   "id": "9b830189",
   "metadata": {},
   "outputs": [
    {
     "data": {
      "text/plain": [
       "0"
      ]
     },
     "execution_count": 408,
     "metadata": {},
     "output_type": "execute_result"
    }
   ],
   "source": [
    "dataset[\"QSTVER\"].isnull().sum()"
   ]
  },
  {
   "cell_type": "code",
   "execution_count": 409,
   "id": "a3bc1039",
   "metadata": {},
   "outputs": [
    {
     "data": {
      "text/plain": [
       "English    11592\n",
       "Spanish      746\n",
       "Name: QSTLANG, dtype: int64"
      ]
     },
     "execution_count": 409,
     "metadata": {},
     "output_type": "execute_result"
    }
   ],
   "source": [
    "dataset[\"QSTLANG\"].value_counts()"
   ]
  },
  {
   "cell_type": "code",
   "execution_count": 410,
   "id": "4ccbe818",
   "metadata": {},
   "outputs": [
    {
     "data": {
      "text/plain": [
       "0"
      ]
     },
     "execution_count": 410,
     "metadata": {},
     "output_type": "execute_result"
    }
   ],
   "source": [
    "dataset[\"QSTLANG\"].isnull().sum()"
   ]
  },
  {
   "cell_type": "code",
   "execution_count": 411,
   "id": "f615b6af",
   "metadata": {},
   "outputs": [
    {
     "data": {
      "text/plain": [
       "Stretching          9\n",
       "Physical therapy    8\n",
       "Treadmill           7\n",
       "Physical Therapy    4\n",
       "Pushups             4\n",
       "                   ..\n",
       "Snowboarding        1\n",
       "Cardio mixture      1\n",
       "Skipping            1\n",
       "Balancing           1\n",
       "object with boat    1\n",
       "Name: EXACTOT1, Length: 93, dtype: int64"
      ]
     },
     "execution_count": 411,
     "metadata": {},
     "output_type": "execute_result"
    }
   ],
   "source": [
    "dataset[\"EXACTOT1\"].value_counts()"
   ]
  },
  {
   "cell_type": "code",
   "execution_count": 412,
   "id": "9e4f1f17",
   "metadata": {},
   "outputs": [
    {
     "data": {
      "text/plain": [
       "12208"
      ]
     },
     "execution_count": 412,
     "metadata": {},
     "output_type": "execute_result"
    }
   ],
   "source": [
    "dataset[\"EXACTOT1\"].isnull().sum()"
   ]
  },
  {
   "cell_type": "code",
   "execution_count": 413,
   "id": "14ee1ead",
   "metadata": {},
   "outputs": [
    {
     "data": {
      "text/plain": [
       "Stretching             26\n",
       "Sex                    19\n",
       "Physical Therapy        4\n",
       "Physical therapy        3\n",
       "Sit-ups                 3\n",
       "                       ..\n",
       "Dog agility sprints     1\n",
       "Meditation              1\n",
       "Strength Lifting        1\n",
       "Hula-hoop               1\n",
       "Snowmobiling            1\n",
       "Name: EXACTOT2, Length: 128, dtype: int64"
      ]
     },
     "execution_count": 413,
     "metadata": {},
     "output_type": "execute_result"
    }
   ],
   "source": [
    "dataset[\"EXACTOT2\"].value_counts()"
   ]
  },
  {
   "cell_type": "code",
   "execution_count": 414,
   "id": "810b03a5",
   "metadata": {},
   "outputs": [
    {
     "data": {
      "text/plain": [
       "12142"
      ]
     },
     "execution_count": 414,
     "metadata": {},
     "output_type": "execute_result"
    }
   ],
   "source": [
    "dataset[\"EXACTOT2\"].isnull().sum()"
   ]
  },
  {
   "cell_type": "code",
   "execution_count": 415,
   "id": "49c69f3c",
   "metadata": {},
   "outputs": [
    {
     "data": {
      "text/plain": [
       "Series([], Name: _MSACODE, dtype: int64)"
      ]
     },
     "execution_count": 415,
     "metadata": {},
     "output_type": "execute_result"
    }
   ],
   "source": [
    "dataset[\"_MSACODE\"].value_counts()"
   ]
  },
  {
   "cell_type": "code",
   "execution_count": 416,
   "id": "8a06b7ce",
   "metadata": {},
   "outputs": [],
   "source": [
    "dataset.drop(\"_MSACODE\", axis=1, inplace=True)"
   ]
  },
  {
   "cell_type": "code",
   "execution_count": 417,
   "id": "e375a155",
   "metadata": {},
   "outputs": [
    {
     "data": {
      "text/plain": [
       "Series([], Name: MSCODE, dtype: int64)"
      ]
     },
     "execution_count": 417,
     "metadata": {},
     "output_type": "execute_result"
    }
   ],
   "source": [
    "dataset[\"MSCODE\"].value_counts()"
   ]
  },
  {
   "cell_type": "code",
   "execution_count": 418,
   "id": "cb4b3e53",
   "metadata": {},
   "outputs": [],
   "source": [
    "dataset.drop(\"MSCODE\", axis=1, inplace=True)"
   ]
  },
  {
   "cell_type": "code",
   "execution_count": 419,
   "id": "fddaf3de",
   "metadata": {},
   "outputs": [
    {
     "data": {
      "text/plain": [
       "361071    2167\n",
       "362079    1467\n",
       "361072     803\n",
       "361041     687\n",
       "361011     663\n",
       "361061     646\n",
       "361021     643\n",
       "361051     624\n",
       "361081     614\n",
       "361031     609\n",
       "362049     454\n",
       "362059     393\n",
       "362089     341\n",
       "361042     338\n",
       "362069     332\n",
       "362029     323\n",
       "362019     309\n",
       "362039     301\n",
       "361052     243\n",
       "361012      84\n",
       "361032      82\n",
       "361022      79\n",
       "361082      74\n",
       "361062      62\n",
       "Name: _STSTR, dtype: int64"
      ]
     },
     "execution_count": 419,
     "metadata": {},
     "output_type": "execute_result"
    }
   ],
   "source": [
    "dataset[\"_STSTR\"].value_counts()"
   ]
  },
  {
   "cell_type": "code",
   "execution_count": 420,
   "id": "e44187bb",
   "metadata": {},
   "outputs": [
    {
     "data": {
      "text/plain": [
       "0"
      ]
     },
     "execution_count": 420,
     "metadata": {},
     "output_type": "execute_result"
    }
   ],
   "source": [
    "dataset[\"_STSTR\"].isnull().sum()"
   ]
  },
  {
   "cell_type": "code",
   "execution_count": 421,
   "id": "c3f8e9d9",
   "metadata": {},
   "outputs": [
    {
     "data": {
      "text/plain": [
       "49.891968     2167\n",
       "541.228186    1467\n",
       "74.843348      803\n",
       "68.207835      687\n",
       "41.346566      663\n",
       "42.993239      646\n",
       "68.231492      643\n",
       "74.592399      624\n",
       "69.129716      614\n",
       "55.183780      609\n",
       "452.331980     454\n",
       "444.056711     393\n",
       "362.390015     341\n",
       "102.302136     338\n",
       "196.349347     332\n",
       "406.437069     323\n",
       "290.635397     309\n",
       "436.510631     301\n",
       "111.865760     243\n",
       "62.023653       84\n",
       "82.827335       82\n",
       "102.420849      79\n",
       "103.676952      74\n",
       "64.439632       62\n",
       "Name: _STRWT, dtype: int64"
      ]
     },
     "execution_count": 421,
     "metadata": {},
     "output_type": "execute_result"
    }
   ],
   "source": [
    "dataset[\"_STRWT\"].value_counts()"
   ]
  },
  {
   "cell_type": "code",
   "execution_count": 422,
   "id": "d42110c8",
   "metadata": {},
   "outputs": [
    {
     "data": {
      "text/plain": [
       "0"
      ]
     },
     "execution_count": 422,
     "metadata": {},
     "output_type": "execute_result"
    }
   ],
   "source": [
    "dataset[\"_STRWT\"].isnull().sum()"
   ]
  },
  {
   "cell_type": "code",
   "execution_count": 423,
   "id": "28a17a5e",
   "metadata": {},
   "outputs": [
    {
     "data": {
      "text/plain": [
       "2.000000    3583\n",
       "1.000000    3476\n",
       "3.000000     772\n",
       "4.000000     325\n",
       "5.000000      83\n",
       "0.500000      76\n",
       "1.500000      31\n",
       "6.000000      20\n",
       "0.666667      19\n",
       "0.333333       8\n",
       "2.500000       7\n",
       "0.400000       3\n",
       "8.000000       2\n",
       "1.333333       2\n",
       "7.000000       2\n",
       "2.333333       1\n",
       "0.166667       1\n",
       "0.200000       1\n",
       "Name: _RAW, dtype: int64"
      ]
     },
     "execution_count": 423,
     "metadata": {},
     "output_type": "execute_result"
    }
   ],
   "source": [
    "dataset[\"_RAW\"].value_counts()"
   ]
  },
  {
   "cell_type": "code",
   "execution_count": 424,
   "id": "85f79304",
   "metadata": {},
   "outputs": [
    {
     "data": {
      "text/plain": [
       "3926"
      ]
     },
     "execution_count": 424,
     "metadata": {},
     "output_type": "execute_result"
    }
   ],
   "source": [
    "dataset[\"_RAW\"].isnull().sum()"
   ]
  },
  {
   "cell_type": "code",
   "execution_count": 425,
   "id": "2ce9c411",
   "metadata": {},
   "outputs": [
    {
     "data": {
      "text/plain": [
       "541.228186    1467\n",
       "49.891968     1013\n",
       "99.783935      801\n",
       "452.331980     454\n",
       "444.056711     393\n",
       "              ... \n",
       "523.903438       1\n",
       "331.102683       1\n",
       "31.011827        1\n",
       "66.522624        1\n",
       "818.417090       1\n",
       "Name: _WT2, Length: 147, dtype: int64"
      ]
     },
     "execution_count": 425,
     "metadata": {},
     "output_type": "execute_result"
    }
   ],
   "source": [
    "dataset[\"_WT2\"].value_counts()"
   ]
  },
  {
   "cell_type": "code",
   "execution_count": 426,
   "id": "c0ee3377",
   "metadata": {},
   "outputs": [
    {
     "data": {
      "text/plain": [
       "6"
      ]
     },
     "execution_count": 426,
     "metadata": {},
     "output_type": "execute_result"
    }
   ],
   "source": [
    "dataset[\"_WT2\"].isnull().sum()"
   ]
  },
  {
   "cell_type": "code",
   "execution_count": 427,
   "id": "9f4569c0",
   "metadata": {},
   "outputs": [
    {
     "data": {
      "text/plain": [
       "1.000000    7395\n",
       "2.000000    3583\n",
       "3.000000     772\n",
       "4.000000     325\n",
       "5.000000     113\n",
       "0.500000      73\n",
       "1.500000      31\n",
       "0.666667      24\n",
       "0.333333      10\n",
       "2.500000       7\n",
       "1.333333       3\n",
       "1.666667       2\n",
       "Name: _RAWRAKE, dtype: int64"
      ]
     },
     "execution_count": 427,
     "metadata": {},
     "output_type": "execute_result"
    }
   ],
   "source": [
    "dataset[\"_RAWRAKE\"].value_counts()"
   ]
  },
  {
   "cell_type": "code",
   "execution_count": 428,
   "id": "56583359",
   "metadata": {},
   "outputs": [
    {
     "data": {
      "text/plain": [
       "0"
      ]
     },
     "execution_count": 428,
     "metadata": {},
     "output_type": "execute_result"
    }
   ],
   "source": [
    "dataset[\"_RAWRAKE\"].isnull().sum()"
   ]
  },
  {
   "cell_type": "code",
   "execution_count": 429,
   "id": "6e2a56ab",
   "metadata": {},
   "outputs": [
    {
     "data": {
      "text/plain": [
       "541.228186    1468\n",
       "49.891968     1012\n",
       "99.783935      801\n",
       "452.331980     454\n",
       "444.056711     391\n",
       "              ... \n",
       "66.522624        1\n",
       "409.683398       1\n",
       "51.210425        1\n",
       "414.707807       1\n",
       "34.100712        1\n",
       "Name: _WT2RAKE, Length: 135, dtype: int64"
      ]
     },
     "execution_count": 429,
     "metadata": {},
     "output_type": "execute_result"
    }
   ],
   "source": [
    "dataset[\"_WT2RAKE\"].value_counts()"
   ]
  },
  {
   "cell_type": "code",
   "execution_count": 430,
   "id": "948ea38c",
   "metadata": {},
   "outputs": [
    {
     "data": {
      "text/plain": [
       "0"
      ]
     },
     "execution_count": 430,
     "metadata": {},
     "output_type": "execute_result"
    }
   ],
   "source": [
    "dataset[\"_WT2RAKE\"].isnull().sum()"
   ]
  },
  {
   "cell_type": "code",
   "execution_count": 431,
   "id": "16b2c292",
   "metadata": {},
   "outputs": [
    {
     "data": {
      "text/plain": [
       "7    4373\n",
       "4    1479\n",
       "5    1272\n",
       "2    1067\n",
       "1    1064\n",
       "8    1047\n",
       "6    1033\n",
       "3    1003\n",
       "Name: _REGION, dtype: int64"
      ]
     },
     "execution_count": 431,
     "metadata": {},
     "output_type": "execute_result"
    }
   ],
   "source": [
    "dataset[\"_REGION\"].value_counts()"
   ]
  },
  {
   "cell_type": "code",
   "execution_count": 432,
   "id": "db62d4b7",
   "metadata": {},
   "outputs": [
    {
     "data": {
      "text/plain": [
       "0"
      ]
     },
     "execution_count": 432,
     "metadata": {},
     "output_type": "execute_result"
    }
   ],
   "source": [
    "dataset[\"_REGION\"].isnull().sum()"
   ]
  },
  {
   "cell_type": "code",
   "execution_count": 433,
   "id": "04ef914c",
   "metadata": {},
   "outputs": [
    {
     "data": {
      "text/plain": [
       "Age 65 or older    4032\n",
       "Age 55 to 64       2675\n",
       "Age 45 to 54       2209\n",
       "Age 35 to 44       1490\n",
       "Age 25 to 34       1275\n",
       "Age 18 to 24        657\n",
       "Name: _IMPAGE, dtype: int64"
      ]
     },
     "execution_count": 433,
     "metadata": {},
     "output_type": "execute_result"
    }
   ],
   "source": [
    "dataset[\"_IMPAGE\"].value_counts()"
   ]
  },
  {
   "cell_type": "code",
   "execution_count": 434,
   "id": "feedd3d6",
   "metadata": {},
   "outputs": [
    {
     "data": {
      "text/plain": [
       "0"
      ]
     },
     "execution_count": 434,
     "metadata": {},
     "output_type": "execute_result"
    }
   ],
   "source": [
    "dataset[\"_IMPAGE\"].isnull().sum()"
   ]
  },
  {
   "cell_type": "code",
   "execution_count": 435,
   "id": "a6d65edd",
   "metadata": {},
   "outputs": [
    {
     "data": {
      "text/plain": [
       "Series([], Name: _IMPRACE, dtype: int64)"
      ]
     },
     "execution_count": 435,
     "metadata": {},
     "output_type": "execute_result"
    }
   ],
   "source": [
    "dataset[\"_IMPRACE\"].value_counts()"
   ]
  },
  {
   "cell_type": "code",
   "execution_count": 436,
   "id": "adf09549",
   "metadata": {},
   "outputs": [],
   "source": [
    "dataset.drop(\"_IMPRACE\", axis=1, inplace=True)"
   ]
  },
  {
   "cell_type": "code",
   "execution_count": 437,
   "id": "d57f7d4e",
   "metadata": {},
   "outputs": [
    {
     "data": {
      "text/plain": [
       "Number of phones    8090\n",
       "Name: _IMPNPH, dtype: int64"
      ]
     },
     "execution_count": 437,
     "metadata": {},
     "output_type": "execute_result"
    }
   ],
   "source": [
    "dataset[\"_IMPNPH\"].value_counts()"
   ]
  },
  {
   "cell_type": "code",
   "execution_count": 438,
   "id": "5a6a95f4",
   "metadata": {},
   "outputs": [
    {
     "data": {
      "text/plain": [
       "4248"
      ]
     },
     "execution_count": 438,
     "metadata": {},
     "output_type": "execute_result"
    }
   ],
   "source": [
    "dataset[\"_IMPNPH\"].isnull().sum()"
   ]
  },
  {
   "cell_type": "code",
   "execution_count": 439,
   "id": "f78dfc08",
   "metadata": {},
   "outputs": [
    {
     "data": {
      "text/plain": [
       "College 4 years or more (College graduate)                      5310\n",
       "Grade 12 or GED (High school graduate)                          2997\n",
       "College 1 year to 3 years (Some college or technical school)    2909\n",
       "Grades 9 through 11 (Some high school)                           657\n",
       "Grades 1 through 8 (Elementary)                                  443\n",
       "Never attended school or only kindergarten                        22\n",
       "Name: _IMPEDUC, dtype: int64"
      ]
     },
     "execution_count": 439,
     "metadata": {},
     "output_type": "execute_result"
    }
   ],
   "source": [
    "dataset[\"_IMPEDUC\"].value_counts()"
   ]
  },
  {
   "cell_type": "code",
   "execution_count": 440,
   "id": "e2cb480e",
   "metadata": {},
   "outputs": [
    {
     "data": {
      "text/plain": [
       "0"
      ]
     },
     "execution_count": 440,
     "metadata": {},
     "output_type": "execute_result"
    }
   ],
   "source": [
    "dataset[\"_IMPEDUC\"].isnull().sum()"
   ]
  },
  {
   "cell_type": "code",
   "execution_count": 441,
   "id": "1e6b3051",
   "metadata": {},
   "outputs": [
    {
     "data": {
      "text/plain": [
       "Married                            5823\n",
       "Never married                      2569\n",
       "Divorced                           1586\n",
       "Widowed                            1517\n",
       "Separated                           431\n",
       "A member of an unmarried couple     412\n",
       "Name: _IMPMRTL, dtype: int64"
      ]
     },
     "execution_count": 441,
     "metadata": {},
     "output_type": "execute_result"
    }
   ],
   "source": [
    "dataset[\"_IMPMRTL\"].value_counts()"
   ]
  },
  {
   "cell_type": "code",
   "execution_count": 442,
   "id": "f7bb00e2",
   "metadata": {},
   "outputs": [
    {
     "data": {
      "text/plain": [
       "0"
      ]
     },
     "execution_count": 442,
     "metadata": {},
     "output_type": "execute_result"
    }
   ],
   "source": [
    "dataset[\"_IMPMRTL\"].isnull().sum()"
   ]
  },
  {
   "cell_type": "code",
   "execution_count": 443,
   "id": "b3ee0572",
   "metadata": {},
   "outputs": [
    {
     "data": {
      "text/plain": [
       "Own                  7306\n",
       "Rent                 4577\n",
       "Other arrangement     455\n",
       "Name: _IMPHOME, dtype: int64"
      ]
     },
     "execution_count": 443,
     "metadata": {},
     "output_type": "execute_result"
    }
   ],
   "source": [
    "dataset[\"_IMPHOME\"].value_counts()"
   ]
  },
  {
   "cell_type": "code",
   "execution_count": 444,
   "id": "4ac6f0f2",
   "metadata": {},
   "outputs": [
    {
     "data": {
      "text/plain": [
       "0"
      ]
     },
     "execution_count": 444,
     "metadata": {},
     "output_type": "execute_result"
    }
   ],
   "source": [
    "dataset[\"_IMPHOME\"].isnull().sum()"
   ]
  },
  {
   "cell_type": "code",
   "execution_count": 445,
   "id": "ce5b20d7",
   "metadata": {},
   "outputs": [
    {
     "data": {
      "text/plain": [
       "New York          11889\n",
       "Connecticut          83\n",
       "Massachusetts        51\n",
       "New Jersey           45\n",
       "California           29\n",
       "Pennsylvania         22\n",
       "Colorado             16\n",
       "South Carolina       16\n",
       "Kansas               13\n",
       "Washington           11\n",
       "Florida              10\n",
       "Hawaii               10\n",
       "Virginia              9\n",
       "New Hampshire         8\n",
       "Delaware              8\n",
       "North Carolina        7\n",
       "West Virginia         7\n",
       "Utah                  7\n",
       "Puerto Rico           7\n",
       "Ohio                  6\n",
       "Missouri              6\n",
       "Illinois              6\n",
       "Nebraska              6\n",
       "New Mexico            5\n",
       "Oregon                5\n",
       "Rhode Island          5\n",
       "Maryland              5\n",
       "Michigan              5\n",
       "Texas                 4\n",
       "Maine                 4\n",
       "Kentucky              4\n",
       "Indiana               4\n",
       "Alabama               3\n",
       "Nevada                2\n",
       "North Dakota          2\n",
       "Wisconsin             2\n",
       "Arizona               2\n",
       "Alaska                2\n",
       "South Dakota          2\n",
       "Georgia               2\n",
       "Arkansas              1\n",
       "Idaho                 1\n",
       "Tennessee             1\n",
       "Wyoming               1\n",
       "Iowa                  1\n",
       "Mississippi           1\n",
       "Montana               1\n",
       "Guam                  1\n",
       "Name: O_STATE, dtype: int64"
      ]
     },
     "execution_count": 445,
     "metadata": {},
     "output_type": "execute_result"
    }
   ],
   "source": [
    "dataset[\"O_STATE\"].value_counts()"
   ]
  },
  {
   "cell_type": "code",
   "execution_count": 446,
   "id": "8a09e134",
   "metadata": {},
   "outputs": [
    {
     "data": {
      "text/plain": [
       "0"
      ]
     },
     "execution_count": 446,
     "metadata": {},
     "output_type": "execute_result"
    }
   ],
   "source": [
    "dataset[\"O_STATE\"].isnull().sum()"
   ]
  },
  {
   "cell_type": "code",
   "execution_count": 447,
   "id": "a6ef74e2",
   "metadata": {},
   "outputs": [
    {
     "data": {
      "text/plain": [
       "Series([], Name: _CHISPNC, dtype: int64)"
      ]
     },
     "execution_count": 447,
     "metadata": {},
     "output_type": "execute_result"
    }
   ],
   "source": [
    "dataset[\"_CHISPNC\"].value_counts()"
   ]
  },
  {
   "cell_type": "code",
   "execution_count": 448,
   "id": "3936b0ce",
   "metadata": {},
   "outputs": [
    {
     "data": {
      "text/plain": [
       "12338"
      ]
     },
     "execution_count": 448,
     "metadata": {},
     "output_type": "execute_result"
    }
   ],
   "source": [
    "dataset[\"_CHISPNC\"].isnull().sum()"
   ]
  },
  {
   "cell_type": "code",
   "execution_count": 449,
   "id": "58e3c12e",
   "metadata": {},
   "outputs": [],
   "source": [
    "dataset.drop(\"_CHISPNC\", axis=1, inplace=True)"
   ]
  },
  {
   "cell_type": "code",
   "execution_count": 450,
   "id": "c03b8df8",
   "metadata": {},
   "outputs": [
    {
     "data": {
      "text/plain": [
       "Series([], Name: _CRACE1, dtype: int64)"
      ]
     },
     "execution_count": 450,
     "metadata": {},
     "output_type": "execute_result"
    }
   ],
   "source": [
    "dataset[\"_CRACE1\"].value_counts()"
   ]
  },
  {
   "cell_type": "code",
   "execution_count": 451,
   "id": "6f9017ab",
   "metadata": {},
   "outputs": [],
   "source": [
    "dataset.drop(\"_CRACE1\", axis=1, inplace=True)"
   ]
  },
  {
   "cell_type": "code",
   "execution_count": 452,
   "id": "e4f50ff6",
   "metadata": {},
   "outputs": [
    {
     "data": {
      "text/plain": [
       "Series([], Name: _CPRACE, dtype: int64)"
      ]
     },
     "execution_count": 452,
     "metadata": {},
     "output_type": "execute_result"
    }
   ],
   "source": [
    "dataset[\"_CPRACE\"].value_counts()"
   ]
  },
  {
   "cell_type": "code",
   "execution_count": 453,
   "id": "5e8823e4",
   "metadata": {},
   "outputs": [],
   "source": [
    "dataset.drop(\"_CPRACE\", axis=1, inplace=True)"
   ]
  },
  {
   "cell_type": "code",
   "execution_count": 454,
   "id": "1b90daaa",
   "metadata": {},
   "outputs": [
    {
     "data": {
      "text/plain": [
       "Series([], Name: _IMPCAGE, dtype: int64)"
      ]
     },
     "execution_count": 454,
     "metadata": {},
     "output_type": "execute_result"
    }
   ],
   "source": [
    "dataset[\"_IMPCAGE\"].value_counts()"
   ]
  },
  {
   "cell_type": "code",
   "execution_count": 455,
   "id": "800e4da5",
   "metadata": {},
   "outputs": [],
   "source": [
    "dataset.drop(\"_IMPCAGE\", axis=1, inplace=True)"
   ]
  },
  {
   "cell_type": "code",
   "execution_count": 456,
   "id": "613507db",
   "metadata": {},
   "outputs": [
    {
     "data": {
      "text/plain": [
       "Series([], Name: _IMPCRAC, dtype: int64)"
      ]
     },
     "execution_count": 456,
     "metadata": {},
     "output_type": "execute_result"
    }
   ],
   "source": [
    "dataset[\"_IMPCRAC\"].value_counts()"
   ]
  },
  {
   "cell_type": "code",
   "execution_count": 457,
   "id": "8d1a2d0e",
   "metadata": {},
   "outputs": [],
   "source": [
    "dataset.drop(\"_IMPCRAC\", axis=1, inplace=True)"
   ]
  },
  {
   "cell_type": "code",
   "execution_count": 458,
   "id": "18d9b0de",
   "metadata": {},
   "outputs": [
    {
     "data": {
      "text/plain": [
       "Male      709\n",
       "Female    562\n",
       "Name: _IMPCSEX, dtype: int64"
      ]
     },
     "execution_count": 458,
     "metadata": {},
     "output_type": "execute_result"
    }
   ],
   "source": [
    "dataset[\"_IMPCSEX\"].value_counts()"
   ]
  },
  {
   "cell_type": "code",
   "execution_count": 459,
   "id": "3c7c4f79",
   "metadata": {},
   "outputs": [],
   "source": [
    "dataset.drop(\"_IMPCSEX\", axis=1, inplace=True)"
   ]
  },
  {
   "cell_type": "code",
   "execution_count": 460,
   "id": "2d890b3f",
   "metadata": {},
   "outputs": [
    {
     "data": {
      "text/plain": [
       "1.000000    429\n",
       "2.000000    305\n",
       "0.333333    192\n",
       "0.666667    167\n",
       "3.000000    161\n",
       "0.500000     11\n",
       "1.500000      6\n",
       "Name: _RAWCH, dtype: int64"
      ]
     },
     "execution_count": 460,
     "metadata": {},
     "output_type": "execute_result"
    }
   ],
   "source": [
    "dataset[\"_RAWCH\"].value_counts()"
   ]
  },
  {
   "cell_type": "code",
   "execution_count": 461,
   "id": "0591d050",
   "metadata": {},
   "outputs": [
    {
     "data": {
      "text/plain": [
       "11067"
      ]
     },
     "execution_count": 461,
     "metadata": {},
     "output_type": "execute_result"
    }
   ],
   "source": [
    "dataset[\"_RAWCH\"].isnull().sum()"
   ]
  },
  {
   "cell_type": "code",
   "execution_count": 462,
   "id": "9a198e89",
   "metadata": {},
   "outputs": [],
   "source": [
    "dataset.drop(\"_RAWCH\", axis=1, inplace=True)"
   ]
  },
  {
   "cell_type": "code",
   "execution_count": 463,
   "id": "45141686",
   "metadata": {},
   "outputs": [
    {
     "data": {
      "text/plain": [
       "49.891968     83\n",
       "99.783935     75\n",
       "180.409395    66\n",
       "360.818791    65\n",
       "74.843348     54\n",
       "              ..\n",
       "16.630656      1\n",
       "37.296199      1\n",
       "24.947783      1\n",
       "111.888598     1\n",
       "102.311752     1\n",
       "Name: _WT2CH, Length: 84, dtype: int64"
      ]
     },
     "execution_count": 463,
     "metadata": {},
     "output_type": "execute_result"
    }
   ],
   "source": [
    "dataset[\"_WT2CH\"].value_counts()"
   ]
  },
  {
   "cell_type": "code",
   "execution_count": 464,
   "id": "ee0bda7c",
   "metadata": {},
   "outputs": [
    {
     "data": {
      "text/plain": [
       "11067"
      ]
     },
     "execution_count": 464,
     "metadata": {},
     "output_type": "execute_result"
    }
   ],
   "source": [
    "dataset[\"_WT2CH\"].isnull().sum()"
   ]
  },
  {
   "cell_type": "code",
   "execution_count": 465,
   "id": "3637ce54",
   "metadata": {},
   "outputs": [],
   "source": [
    "dataset.drop(\"_WT2CH\", axis=1, inplace=True)"
   ]
  },
  {
   "cell_type": "code",
   "execution_count": 466,
   "id": "5e59aad3",
   "metadata": {},
   "outputs": [
    {
     "data": {
      "text/plain": [
       "2.0    227\n",
       "3.0    191\n",
       "7.0    180\n",
       "4.0    159\n",
       "5.0    134\n",
       "6.0    132\n",
       "1.0    132\n",
       "8.0    116\n",
       "Name: _CLCM1V1, dtype: int64"
      ]
     },
     "execution_count": 466,
     "metadata": {},
     "output_type": "execute_result"
    }
   ],
   "source": [
    "dataset[\"_CLCM1V1\"].value_counts()"
   ]
  },
  {
   "cell_type": "code",
   "execution_count": 467,
   "id": "58771be0",
   "metadata": {},
   "outputs": [
    {
     "data": {
      "text/plain": [
       "11067"
      ]
     },
     "execution_count": 467,
     "metadata": {},
     "output_type": "execute_result"
    }
   ],
   "source": [
    "dataset[\"_CLCM1V1\"].isnull().sum()"
   ]
  },
  {
   "cell_type": "code",
   "execution_count": 468,
   "id": "33a795d6",
   "metadata": {},
   "outputs": [],
   "source": [
    "dataset.drop(\"_CLCM1V1\", axis=1, inplace=True)"
   ]
  },
  {
   "cell_type": "code",
   "execution_count": 469,
   "id": "022fc6b9",
   "metadata": {},
   "outputs": [
    {
     "data": {
      "text/plain": [
       "1.0    707\n",
       "3.0    276\n",
       "2.0    147\n",
       "4.0    141\n",
       "Name: _CLCM2V1, dtype: int64"
      ]
     },
     "execution_count": 469,
     "metadata": {},
     "output_type": "execute_result"
    }
   ],
   "source": [
    "dataset[\"_CLCM2V1\"].value_counts()"
   ]
  },
  {
   "cell_type": "code",
   "execution_count": 470,
   "id": "8b0bcb9d",
   "metadata": {},
   "outputs": [],
   "source": [
    "dataset.drop(\"_CLCM2V1\", axis=1, inplace=True)"
   ]
  },
  {
   "cell_type": "code",
   "execution_count": 471,
   "id": "8c02f686",
   "metadata": {},
   "outputs": [
    {
     "data": {
      "text/plain": [
       "1.0    412\n",
       "5.0    295\n",
       "3.0    139\n",
       "6.0    137\n",
       "7.0    130\n",
       "4.0     85\n",
       "2.0     73\n",
       "Name: _CLCM3V1, dtype: int64"
      ]
     },
     "execution_count": 471,
     "metadata": {},
     "output_type": "execute_result"
    }
   ],
   "source": [
    "dataset[\"_CLCM3V1\"].value_counts()"
   ]
  },
  {
   "cell_type": "code",
   "execution_count": 472,
   "id": "19ffac58",
   "metadata": {},
   "outputs": [],
   "source": [
    "dataset.drop(\"_CLCM3V1\", axis=1, inplace=True)"
   ]
  },
  {
   "cell_type": "code",
   "execution_count": 473,
   "id": "28d712a1",
   "metadata": {},
   "outputs": [
    {
     "data": {
      "text/plain": [
       "9.0     378\n",
       "5.0     188\n",
       "1.0     141\n",
       "10.0    140\n",
       "11.0    128\n",
       "7.0      79\n",
       "3.0      57\n",
       "6.0      52\n",
       "8.0      40\n",
       "4.0      38\n",
       "2.0      30\n",
       "Name: _CLCM4V1, dtype: int64"
      ]
     },
     "execution_count": 473,
     "metadata": {},
     "output_type": "execute_result"
    }
   ],
   "source": [
    "dataset[\"_CLCM4V1\"].value_counts()"
   ]
  },
  {
   "cell_type": "code",
   "execution_count": 474,
   "id": "4fb1152e",
   "metadata": {},
   "outputs": [
    {
     "data": {
      "text/plain": [
       "11067"
      ]
     },
     "execution_count": 474,
     "metadata": {},
     "output_type": "execute_result"
    }
   ],
   "source": [
    "dataset[\"_CLCM4V1\"].isnull().sum()"
   ]
  },
  {
   "cell_type": "code",
   "execution_count": 475,
   "id": "14d01609",
   "metadata": {},
   "outputs": [],
   "source": [
    "dataset.drop(\"_CLCM4V1\", axis=1, inplace=True)"
   ]
  },
  {
   "cell_type": "code",
   "execution_count": 476,
   "id": "4e432dbb",
   "metadata": {},
   "outputs": [
    {
     "data": {
      "text/plain": [
       "3.0    926\n",
       "1.0    236\n",
       "2.0    109\n",
       "Name: _CLCM5V1, dtype: int64"
      ]
     },
     "execution_count": 476,
     "metadata": {},
     "output_type": "execute_result"
    }
   ],
   "source": [
    "dataset[\"_CLCM5V1\"].value_counts()"
   ]
  },
  {
   "cell_type": "code",
   "execution_count": 477,
   "id": "64c14b9f",
   "metadata": {},
   "outputs": [],
   "source": [
    "dataset.drop(\"_CLCM5V1\", axis=1, inplace=True)"
   ]
  },
  {
   "cell_type": "code",
   "execution_count": 478,
   "id": "591322d4",
   "metadata": {},
   "outputs": [
    {
     "data": {
      "text/plain": [
       "1646.421811    10\n",
       "2250.840615     8\n",
       "4063.501917     6\n",
       "2871.194566     6\n",
       "1453.516563     6\n",
       "               ..\n",
       "7576.546221     1\n",
       "426.823796      1\n",
       "1875.725179     1\n",
       "1336.921869     1\n",
       "2138.996632     1\n",
       "Name: _CLCWTV1, Length: 816, dtype: int64"
      ]
     },
     "execution_count": 478,
     "metadata": {},
     "output_type": "execute_result"
    }
   ],
   "source": [
    "dataset[\"_CLCWTV1\"].value_counts()"
   ]
  },
  {
   "cell_type": "code",
   "execution_count": 479,
   "id": "b35fdb3a",
   "metadata": {},
   "outputs": [
    {
     "data": {
      "text/plain": [
       "11067"
      ]
     },
     "execution_count": 479,
     "metadata": {},
     "output_type": "execute_result"
    }
   ],
   "source": [
    "dataset[\"_CLCWTV1\"].isnull().sum()"
   ]
  },
  {
   "cell_type": "code",
   "execution_count": 480,
   "id": "cff4555b",
   "metadata": {},
   "outputs": [],
   "source": [
    "dataset.drop(\"_CLCWTV1\", axis=1, inplace=True)"
   ]
  },
  {
   "cell_type": "code",
   "execution_count": 481,
   "id": "41fcaae1",
   "metadata": {},
   "outputs": [
    {
     "data": {
      "text/plain": [
       "Land Line: Cell Phone Mostly     6737\n",
       "No Dual Phone Use                3870\n",
       "Cell Phone: Cell Phone Mostly    1731\n",
       "Name: _DUALUSE, dtype: int64"
      ]
     },
     "execution_count": 481,
     "metadata": {},
     "output_type": "execute_result"
    }
   ],
   "source": [
    "dataset[\"_DUALUSE\"].value_counts()"
   ]
  },
  {
   "cell_type": "code",
   "execution_count": 482,
   "id": "30256296",
   "metadata": {},
   "outputs": [
    {
     "data": {
      "text/plain": [
       "0"
      ]
     },
     "execution_count": 482,
     "metadata": {},
     "output_type": "execute_result"
    }
   ],
   "source": [
    "dataset[\"_DUALUSE\"].isnull().sum()"
   ]
  },
  {
   "cell_type": "code",
   "execution_count": 483,
   "id": "ac7a559d",
   "metadata": {},
   "outputs": [
    {
     "data": {
      "text/plain": [
       "0.753933    6737\n",
       "0.246067    1731\n",
       "Name: _DUALCOR, dtype: int64"
      ]
     },
     "execution_count": 483,
     "metadata": {},
     "output_type": "execute_result"
    }
   ],
   "source": [
    "dataset[\"_DUALCOR\"].value_counts()"
   ]
  },
  {
   "cell_type": "code",
   "execution_count": 484,
   "id": "63d94144",
   "metadata": {},
   "outputs": [
    {
     "data": {
      "text/plain": [
       "3870"
      ]
     },
     "execution_count": 484,
     "metadata": {},
     "output_type": "execute_result"
    }
   ],
   "source": [
    "dataset[\"_DUALCOR\"].isnull().sum()"
   ]
  },
  {
   "cell_type": "code",
   "execution_count": 485,
   "id": "60ce52d9",
   "metadata": {},
   "outputs": [
    {
     "data": {
      "text/plain": [
       "12    1583\n",
       "11    1292\n",
       "13    1291\n",
       "5     1092\n",
       "14    1092\n",
       "6      955\n",
       "4      917\n",
       "10     879\n",
       "9      694\n",
       "7      694\n",
       "3      611\n",
       "2      581\n",
       "1      349\n",
       "8      308\n",
       "Name: _LLCPM01, dtype: int64"
      ]
     },
     "execution_count": 485,
     "metadata": {},
     "output_type": "execute_result"
    }
   ],
   "source": [
    "dataset[\"_LLCPM01\"].value_counts()"
   ]
  },
  {
   "cell_type": "code",
   "execution_count": 486,
   "id": "a8b3d308",
   "metadata": {},
   "outputs": [
    {
     "data": {
      "text/plain": [
       "0"
      ]
     },
     "execution_count": 486,
     "metadata": {},
     "output_type": "execute_result"
    }
   ],
   "source": [
    "dataset[\"_LLCPM01\"].isnull().sum()"
   ]
  },
  {
   "cell_type": "code",
   "execution_count": 487,
   "id": "43eae05a",
   "metadata": {},
   "outputs": [
    {
     "data": {
      "text/plain": [
       "1    8713\n",
       "4    1503\n",
       "2    1333\n",
       "3     505\n",
       "5     284\n",
       "Name: _LLCPM02, dtype: int64"
      ]
     },
     "execution_count": 487,
     "metadata": {},
     "output_type": "execute_result"
    }
   ],
   "source": [
    "dataset[\"_LLCPM02\"].value_counts()"
   ]
  },
  {
   "cell_type": "code",
   "execution_count": 488,
   "id": "57a1f708",
   "metadata": {},
   "outputs": [
    {
     "data": {
      "text/plain": [
       "0"
      ]
     },
     "execution_count": 488,
     "metadata": {},
     "output_type": "execute_result"
    }
   ],
   "source": [
    "dataset[\"_LLCPM02\"].isnull().sum()"
   ]
  },
  {
   "cell_type": "code",
   "execution_count": 489,
   "id": "1edbff7f",
   "metadata": {},
   "outputs": [
    {
     "data": {
      "text/plain": [
       "4    5310\n",
       "2    2997\n",
       "3    2909\n",
       "1    1122\n",
       "Name: _LLCPM03, dtype: int64"
      ]
     },
     "execution_count": 489,
     "metadata": {},
     "output_type": "execute_result"
    }
   ],
   "source": [
    "dataset[\"_LLCPM03\"].value_counts()"
   ]
  },
  {
   "cell_type": "code",
   "execution_count": 490,
   "id": "3a350a6d",
   "metadata": {},
   "outputs": [
    {
     "data": {
      "text/plain": [
       "0"
      ]
     },
     "execution_count": 490,
     "metadata": {},
     "output_type": "execute_result"
    }
   ],
   "source": [
    "dataset[\"_LLCPM03\"].isnull().sum()"
   ]
  },
  {
   "cell_type": "code",
   "execution_count": 491,
   "id": "78a5a1a7",
   "metadata": {},
   "outputs": [
    {
     "data": {
      "text/plain": [
       "1    5823\n",
       "3    3534\n",
       "2    2981\n",
       "Name: _LLCPM04, dtype: int64"
      ]
     },
     "execution_count": 491,
     "metadata": {},
     "output_type": "execute_result"
    }
   ],
   "source": [
    "dataset[\"_LLCPM04\"].value_counts()"
   ]
  },
  {
   "cell_type": "code",
   "execution_count": 492,
   "id": "b31687d4",
   "metadata": {},
   "outputs": [
    {
     "data": {
      "text/plain": [
       "0"
      ]
     },
     "execution_count": 492,
     "metadata": {},
     "output_type": "execute_result"
    }
   ],
   "source": [
    "dataset[\"_LLCPM04\"].isnull().sum()"
   ]
  },
  {
   "cell_type": "code",
   "execution_count": 493,
   "id": "8c24e0df",
   "metadata": {},
   "outputs": [
    {
     "data": {
      "text/plain": [
       "1    7306\n",
       "2    5032\n",
       "Name: _LLCPM05, dtype: int64"
      ]
     },
     "execution_count": 493,
     "metadata": {},
     "output_type": "execute_result"
    }
   ],
   "source": [
    "dataset[\"_LLCPM05\"].value_counts()"
   ]
  },
  {
   "cell_type": "code",
   "execution_count": 494,
   "id": "eca2c291",
   "metadata": {},
   "outputs": [
    {
     "data": {
      "text/plain": [
       "0"
      ]
     },
     "execution_count": 494,
     "metadata": {},
     "output_type": "execute_result"
    }
   ],
   "source": [
    "dataset[\"_LLCPM05\"].isnull().sum()"
   ]
  },
  {
   "cell_type": "code",
   "execution_count": 495,
   "id": "0b15fb96",
   "metadata": {},
   "outputs": [
    {
     "data": {
      "text/plain": [
       "5    4998\n",
       "1    3715\n",
       "7     913\n",
       "6     834\n",
       "3     590\n",
       "2     499\n",
       "4     395\n",
       "8     394\n",
       "Name: _LLCPM06, dtype: int64"
      ]
     },
     "execution_count": 495,
     "metadata": {},
     "output_type": "execute_result"
    }
   ],
   "source": [
    "dataset[\"_LLCPM06\"].value_counts()"
   ]
  },
  {
   "cell_type": "code",
   "execution_count": 496,
   "id": "cd0278e6",
   "metadata": {},
   "outputs": [
    {
     "data": {
      "text/plain": [
       "0"
      ]
     },
     "execution_count": 496,
     "metadata": {},
     "output_type": "execute_result"
    }
   ],
   "source": [
    "dataset[\"_LLCPM06\"].isnull().sum()"
   ]
  },
  {
   "cell_type": "code",
   "execution_count": 497,
   "id": "89acda44",
   "metadata": {},
   "outputs": [
    {
     "data": {
      "text/plain": [
       "8     5414\n",
       "4     2283\n",
       "1     1016\n",
       "10     718\n",
       "6      607\n",
       "9      575\n",
       "5      507\n",
       "3      489\n",
       "2      427\n",
       "7      302\n",
       "Name: _LLCPM07, dtype: int64"
      ]
     },
     "execution_count": 497,
     "metadata": {},
     "output_type": "execute_result"
    }
   ],
   "source": [
    "dataset[\"_LLCPM07\"].value_counts()"
   ]
  },
  {
   "cell_type": "code",
   "execution_count": 498,
   "id": "70d8e874",
   "metadata": {},
   "outputs": [
    {
     "data": {
      "text/plain": [
       "0"
      ]
     },
     "execution_count": 498,
     "metadata": {},
     "output_type": "execute_result"
    }
   ],
   "source": [
    "dataset[\"_LLCPM07\"].isnull().sum()"
   ]
  },
  {
   "cell_type": "code",
   "execution_count": 499,
   "id": "398231a7",
   "metadata": {},
   "outputs": [
    {
     "data": {
      "text/plain": [
       "3    8468\n",
       "1    2189\n",
       "2    1681\n",
       "Name: _LLCPM08, dtype: int64"
      ]
     },
     "execution_count": 499,
     "metadata": {},
     "output_type": "execute_result"
    }
   ],
   "source": [
    "dataset[\"_LLCPM08\"].value_counts()"
   ]
  },
  {
   "cell_type": "code",
   "execution_count": 500,
   "id": "991beff2",
   "metadata": {},
   "outputs": [
    {
     "data": {
      "text/plain": [
       "0"
      ]
     },
     "execution_count": 500,
     "metadata": {},
     "output_type": "execute_result"
    }
   ],
   "source": [
    "dataset[\"_LLCPM08\"].isnull().sum()"
   ]
  },
  {
   "cell_type": "code",
   "execution_count": 501,
   "id": "bb581090",
   "metadata": {},
   "outputs": [
    {
     "data": {
      "text/plain": [
       "7    4373\n",
       "4    1479\n",
       "5    1272\n",
       "2    1067\n",
       "1    1064\n",
       "8    1047\n",
       "6    1033\n",
       "3    1003\n",
       "Name: _LLCPM09, dtype: int64"
      ]
     },
     "execution_count": 501,
     "metadata": {},
     "output_type": "execute_result"
    }
   ],
   "source": [
    "dataset[\"_LLCPM09\"].value_counts()"
   ]
  },
  {
   "cell_type": "code",
   "execution_count": 502,
   "id": "9d29d38f",
   "metadata": {},
   "outputs": [
    {
     "data": {
      "text/plain": [
       "0"
      ]
     },
     "execution_count": 502,
     "metadata": {},
     "output_type": "execute_result"
    }
   ],
   "source": [
    "dataset[\"_LLCPM09\"].isnull().sum()"
   ]
  },
  {
   "cell_type": "code",
   "execution_count": 503,
   "id": "81cdc782",
   "metadata": {},
   "outputs": [
    {
     "data": {
      "text/plain": [
       "45    839\n",
       "44    753\n",
       "46    675\n",
       "42    651\n",
       "43    647\n",
       "47    543\n",
       "23    315\n",
       "24    301\n",
       "31    279\n",
       "41    265\n",
       "11    264\n",
       "25    260\n",
       "52    258\n",
       "30    256\n",
       "3     255\n",
       "38    249\n",
       "32    234\n",
       "4     231\n",
       "16    230\n",
       "17    230\n",
       "26    218\n",
       "12    209\n",
       "39    206\n",
       "53    201\n",
       "10    195\n",
       "22    188\n",
       "2     187\n",
       "54    186\n",
       "18    184\n",
       "37    178\n",
       "33    174\n",
       "51    173\n",
       "13    165\n",
       "40    159\n",
       "5     157\n",
       "15    152\n",
       "29    147\n",
       "6     130\n",
       "21    124\n",
       "28    118\n",
       "36    114\n",
       "19    114\n",
       "1     104\n",
       "50    103\n",
       "9      94\n",
       "14     93\n",
       "8      83\n",
       "20     73\n",
       "35     73\n",
       "49     68\n",
       "27     64\n",
       "48     58\n",
       "7      57\n",
       "34     54\n",
       "Name: _LLCPM10, dtype: int64"
      ]
     },
     "execution_count": 503,
     "metadata": {},
     "output_type": "execute_result"
    }
   ],
   "source": [
    "dataset[\"_LLCPM10\"].value_counts()"
   ]
  },
  {
   "cell_type": "code",
   "execution_count": 504,
   "id": "3b2b138a",
   "metadata": {},
   "outputs": [
    {
     "data": {
      "text/plain": [
       "0"
      ]
     },
     "execution_count": 504,
     "metadata": {},
     "output_type": "execute_result"
    }
   ],
   "source": [
    "dataset[\"_LLCPM10\"].isnull().sum()"
   ]
  },
  {
   "cell_type": "code",
   "execution_count": 505,
   "id": "352d2573",
   "metadata": {},
   "outputs": [
    {
     "data": {
      "text/plain": [
       "0"
      ]
     },
     "execution_count": 505,
     "metadata": {},
     "output_type": "execute_result"
    }
   ],
   "source": [
    "dataset[\"_LLCPM11\"].isnull().sum()"
   ]
  },
  {
   "cell_type": "code",
   "execution_count": 506,
   "id": "782817f7",
   "metadata": {},
   "outputs": [
    {
     "data": {
      "text/plain": [
       "18    1997\n",
       "8     1115\n",
       "21    1029\n",
       "3      971\n",
       "12     949\n",
       "16     947\n",
       "1      945\n",
       "23     922\n",
       "19     912\n",
       "5      867\n",
       "20     312\n",
       "10     180\n",
       "14     157\n",
       "22     123\n",
       "2      119\n",
       "13     106\n",
       "4       96\n",
       "11      93\n",
       "9       91\n",
       "17      86\n",
       "6       77\n",
       "25      63\n",
       "24      62\n",
       "15      60\n",
       "7       59\n",
       "Name: _LLCPM12, dtype: int64"
      ]
     },
     "execution_count": 506,
     "metadata": {},
     "output_type": "execute_result"
    }
   ],
   "source": [
    "dataset[\"_LLCPM12\"].value_counts()"
   ]
  },
  {
   "cell_type": "code",
   "execution_count": 507,
   "id": "840ac42e",
   "metadata": {},
   "outputs": [
    {
     "data": {
      "text/plain": [
       "0"
      ]
     },
     "execution_count": 507,
     "metadata": {},
     "output_type": "execute_result"
    }
   ],
   "source": [
    "dataset[\"_LLCPM12\"].isnull().sum()"
   ]
  },
  {
   "cell_type": "code",
   "execution_count": 508,
   "id": "ba3330ed",
   "metadata": {},
   "outputs": [
    {
     "data": {
      "text/plain": [
       "10    5073\n",
       "3     1228\n",
       "6     1188\n",
       "7      995\n",
       "8      793\n",
       "1      729\n",
       "5      686\n",
       "2      596\n",
       "4      528\n",
       "9      522\n",
       "Name: _LLCPM13, dtype: int64"
      ]
     },
     "execution_count": 508,
     "metadata": {},
     "output_type": "execute_result"
    }
   ],
   "source": [
    "dataset[\"_LLCPM13\"].value_counts()"
   ]
  },
  {
   "cell_type": "code",
   "execution_count": 509,
   "id": "b9f62fda",
   "metadata": {},
   "outputs": [
    {
     "data": {
      "text/plain": [
       "0"
      ]
     },
     "execution_count": 509,
     "metadata": {},
     "output_type": "execute_result"
    }
   ],
   "source": [
    "dataset[\"_LLCPM13\"].isnull().sum()"
   ]
  },
  {
   "cell_type": "code",
   "execution_count": 510,
   "id": "21e94b63",
   "metadata": {},
   "outputs": [
    {
     "data": {
      "text/plain": [
       "30    4502\n",
       "16     727\n",
       "24     628\n",
       "6      579\n",
       "4      501\n",
       "12     487\n",
       "10     422\n",
       "20     399\n",
       "2      350\n",
       "7      348\n",
       "27     344\n",
       "18     228\n",
       "1      220\n",
       "22     214\n",
       "8      204\n",
       "33     202\n",
       "21     194\n",
       "23     188\n",
       "31     173\n",
       "3      159\n",
       "17     131\n",
       "34     114\n",
       "11     106\n",
       "25     104\n",
       "19     102\n",
       "9       97\n",
       "5       95\n",
       "28      92\n",
       "29      86\n",
       "32      82\n",
       "14      76\n",
       "15      66\n",
       "26      61\n",
       "13      57\n",
       "Name: _LLCPM14, dtype: int64"
      ]
     },
     "execution_count": 510,
     "metadata": {},
     "output_type": "execute_result"
    }
   ],
   "source": [
    "dataset[\"_LLCPM14\"].value_counts()"
   ]
  },
  {
   "cell_type": "code",
   "execution_count": 511,
   "id": "48598b9f",
   "metadata": {},
   "outputs": [
    {
     "data": {
      "text/plain": [
       "0"
      ]
     },
     "execution_count": 511,
     "metadata": {},
     "output_type": "execute_result"
    }
   ],
   "source": [
    "dataset[\"_LLCPM14\"].isnull().sum()"
   ]
  },
  {
   "cell_type": "code",
   "execution_count": 512,
   "id": "1c8e572a",
   "metadata": {},
   "outputs": [
    {
     "data": {
      "text/plain": [
       "62    1212\n",
       "63    1039\n",
       "61     907\n",
       "64     772\n",
       "60     516\n",
       "      ... \n",
       "52      68\n",
       "25      65\n",
       "7       55\n",
       "20      53\n",
       "39      50\n",
       "Name: _LLCPM15, Length: 64, dtype: int64"
      ]
     },
     "execution_count": 512,
     "metadata": {},
     "output_type": "execute_result"
    }
   ],
   "source": [
    "dataset[\"_LLCPM15\"].value_counts()"
   ]
  },
  {
   "cell_type": "code",
   "execution_count": 513,
   "id": "057c61de",
   "metadata": {},
   "outputs": [
    {
     "data": {
      "text/plain": [
       "0"
      ]
     },
     "execution_count": 513,
     "metadata": {},
     "output_type": "execute_result"
    }
   ],
   "source": [
    "dataset[\"_LLCPM15\"].isnull().sum()"
   ]
  },
  {
   "cell_type": "code",
   "execution_count": 514,
   "id": "1a59fc24",
   "metadata": {},
   "outputs": [
    {
     "data": {
      "text/plain": [
       "0"
      ]
     },
     "execution_count": 514,
     "metadata": {},
     "output_type": "execute_result"
    }
   ],
   "source": [
    "dataset[\"_LLCPM16\"].isnull().sum()"
   ]
  },
  {
   "cell_type": "code",
   "execution_count": 515,
   "id": "30da8959",
   "metadata": {},
   "outputs": [
    {
     "data": {
      "text/plain": [
       "1638.192812    23\n",
       "276.261576     22\n",
       "2042.167778    20\n",
       "2117.541967    20\n",
       "515.501238     19\n",
       "               ..\n",
       "1863.469800     1\n",
       "2470.578697     1\n",
       "769.150996      1\n",
       "810.620438      1\n",
       "1732.932094     1\n",
       "Name: _LLCPWT, Length: 8642, dtype: int64"
      ]
     },
     "execution_count": 515,
     "metadata": {},
     "output_type": "execute_result"
    }
   ],
   "source": [
    "dataset[\"_LLCPWT\"].value_counts()"
   ]
  },
  {
   "cell_type": "code",
   "execution_count": 516,
   "id": "3e292ba4",
   "metadata": {},
   "outputs": [
    {
     "data": {
      "text/plain": [
       "0"
      ]
     },
     "execution_count": 516,
     "metadata": {},
     "output_type": "execute_result"
    }
   ],
   "source": [
    "dataset[\"_LLCPWT\"].isnull().sum()"
   ]
  },
  {
   "cell_type": "code",
   "execution_count": 517,
   "id": "17efb77d",
   "metadata": {},
   "outputs": [
    {
     "data": {
      "text/plain": [
       "12.0    757\n",
       "13.0    650\n",
       "11.0    641\n",
       "14.0    564\n",
       "5.0     549\n",
       "6.0     469\n",
       "4.0     461\n",
       "10.0    398\n",
       "7.0     364\n",
       "9.0     302\n",
       "3.0     294\n",
       "2.0     216\n",
       "8.0     140\n",
       "1.0     139\n",
       "Name: _LCM01V1, dtype: int64"
      ]
     },
     "execution_count": 517,
     "metadata": {},
     "output_type": "execute_result"
    }
   ],
   "source": [
    "dataset[\"_LCM01V1\"].value_counts()"
   ]
  },
  {
   "cell_type": "code",
   "execution_count": 518,
   "id": "7ebb26c6",
   "metadata": {},
   "outputs": [
    {
     "data": {
      "text/plain": [
       "6394"
      ]
     },
     "execution_count": 518,
     "metadata": {},
     "output_type": "execute_result"
    }
   ],
   "source": [
    "dataset[\"_LCM01V1\"].isnull().sum()"
   ]
  },
  {
   "cell_type": "code",
   "execution_count": 519,
   "id": "1be736d9",
   "metadata": {},
   "outputs": [],
   "source": [
    "dataset.drop(\"_LCM01V1\", axis=1, inplace=True)"
   ]
  },
  {
   "cell_type": "code",
   "execution_count": 520,
   "id": "09cf40c7",
   "metadata": {},
   "outputs": [
    {
     "data": {
      "text/plain": [
       "1.0    4187\n",
       "3.0     743\n",
       "2.0     651\n",
       "4.0     363\n",
       "Name: _LCM02V1, dtype: int64"
      ]
     },
     "execution_count": 520,
     "metadata": {},
     "output_type": "execute_result"
    }
   ],
   "source": [
    "dataset[\"_LCM02V1\"].value_counts()"
   ]
  },
  {
   "cell_type": "code",
   "execution_count": 521,
   "id": "61260690",
   "metadata": {},
   "outputs": [
    {
     "data": {
      "text/plain": [
       "6394"
      ]
     },
     "execution_count": 521,
     "metadata": {},
     "output_type": "execute_result"
    }
   ],
   "source": [
    "dataset[\"_LCM02V1\"].isnull().sum()"
   ]
  },
  {
   "cell_type": "code",
   "execution_count": 522,
   "id": "76783d18",
   "metadata": {},
   "outputs": [],
   "source": [
    "dataset.drop(\"_LCM02V1\", axis=1, inplace=True)"
   ]
  },
  {
   "cell_type": "code",
   "execution_count": 523,
   "id": "4d49c20f",
   "metadata": {},
   "outputs": [
    {
     "data": {
      "text/plain": [
       "4.0    2513\n",
       "2.0    1486\n",
       "3.0    1368\n",
       "1.0     577\n",
       "Name: _LCM03V1, dtype: int64"
      ]
     },
     "execution_count": 523,
     "metadata": {},
     "output_type": "execute_result"
    }
   ],
   "source": [
    "dataset[\"_LCM03V1\"].value_counts()"
   ]
  },
  {
   "cell_type": "code",
   "execution_count": 524,
   "id": "a8b24a75",
   "metadata": {},
   "outputs": [
    {
     "data": {
      "text/plain": [
       "6394"
      ]
     },
     "execution_count": 524,
     "metadata": {},
     "output_type": "execute_result"
    }
   ],
   "source": [
    "dataset[\"_LCM03V1\"].isnull().sum()"
   ]
  },
  {
   "cell_type": "code",
   "execution_count": 525,
   "id": "dd5a007c",
   "metadata": {},
   "outputs": [],
   "source": [
    "dataset.drop(\"_LCM03V1\", axis=1, inplace=True)"
   ]
  },
  {
   "cell_type": "code",
   "execution_count": 526,
   "id": "677e8ee3",
   "metadata": {},
   "outputs": [
    {
     "data": {
      "text/plain": [
       "1.0    2832\n",
       "3.0    1792\n",
       "2.0    1320\n",
       "Name: _LCM04V1, dtype: int64"
      ]
     },
     "execution_count": 526,
     "metadata": {},
     "output_type": "execute_result"
    }
   ],
   "source": [
    "dataset[\"_LCM04V1\"].value_counts()"
   ]
  },
  {
   "cell_type": "code",
   "execution_count": 527,
   "id": "9dfa4bba",
   "metadata": {},
   "outputs": [
    {
     "data": {
      "text/plain": [
       "6394"
      ]
     },
     "execution_count": 527,
     "metadata": {},
     "output_type": "execute_result"
    }
   ],
   "source": [
    "dataset[\"_LCM04V1\"].isnull().sum()"
   ]
  },
  {
   "cell_type": "code",
   "execution_count": 528,
   "id": "046c7e3e",
   "metadata": {},
   "outputs": [],
   "source": [
    "dataset.drop(\"_LCM04V1\", axis=1, inplace=True)"
   ]
  },
  {
   "cell_type": "code",
   "execution_count": 529,
   "id": "1d717234",
   "metadata": {},
   "outputs": [
    {
     "data": {
      "text/plain": [
       "1.0    3602\n",
       "2.0    2342\n",
       "Name: _LCM05V1, dtype: int64"
      ]
     },
     "execution_count": 529,
     "metadata": {},
     "output_type": "execute_result"
    }
   ],
   "source": [
    "dataset[\"_LCM05V1\"].value_counts()"
   ]
  },
  {
   "cell_type": "code",
   "execution_count": 530,
   "id": "bab5340f",
   "metadata": {},
   "outputs": [
    {
     "data": {
      "text/plain": [
       "6394"
      ]
     },
     "execution_count": 530,
     "metadata": {},
     "output_type": "execute_result"
    }
   ],
   "source": [
    "dataset[\"_LCM05V1\"].isnull().sum()"
   ]
  },
  {
   "cell_type": "code",
   "execution_count": 531,
   "id": "42c7dac2",
   "metadata": {},
   "outputs": [],
   "source": [
    "dataset.drop(\"_LCM05V1\", axis=1, inplace=True)"
   ]
  },
  {
   "cell_type": "code",
   "execution_count": 532,
   "id": "50d7f9a5",
   "metadata": {},
   "outputs": [
    {
     "data": {
      "text/plain": [
       "5.0    2405\n",
       "1.0    1782\n",
       "7.0     461\n",
       "6.0     407\n",
       "3.0     282\n",
       "2.0     244\n",
       "4.0     184\n",
       "8.0     179\n",
       "Name: _LCM06V1, dtype: int64"
      ]
     },
     "execution_count": 532,
     "metadata": {},
     "output_type": "execute_result"
    }
   ],
   "source": [
    "dataset[\"_LCM06V1\"].value_counts()"
   ]
  },
  {
   "cell_type": "code",
   "execution_count": 533,
   "id": "65be2ddb",
   "metadata": {},
   "outputs": [
    {
     "data": {
      "text/plain": [
       "6394"
      ]
     },
     "execution_count": 533,
     "metadata": {},
     "output_type": "execute_result"
    }
   ],
   "source": [
    "dataset[\"_LCM06V1\"].isnull().sum()"
   ]
  },
  {
   "cell_type": "code",
   "execution_count": 534,
   "id": "ca66e9f1",
   "metadata": {},
   "outputs": [],
   "source": [
    "dataset.drop(\"_LCM06V1\", axis=1, inplace=True)"
   ]
  },
  {
   "cell_type": "code",
   "execution_count": 535,
   "id": "040398fc",
   "metadata": {},
   "outputs": [
    {
     "data": {
      "text/plain": [
       "9.0     2705\n",
       "5.0     1094\n",
       "1.0      388\n",
       "11.0     369\n",
       "7.0      313\n",
       "10.0     279\n",
       "6.0      262\n",
       "3.0      191\n",
       "8.0      125\n",
       "2.0      110\n",
       "4.0      108\n",
       "Name: _LCM07V1, dtype: int64"
      ]
     },
     "execution_count": 535,
     "metadata": {},
     "output_type": "execute_result"
    }
   ],
   "source": [
    "dataset[\"_LCM07V1\"].value_counts()"
   ]
  },
  {
   "cell_type": "code",
   "execution_count": 536,
   "id": "b3a9a2e4",
   "metadata": {},
   "outputs": [
    {
     "data": {
      "text/plain": [
       "6394"
      ]
     },
     "execution_count": 536,
     "metadata": {},
     "output_type": "execute_result"
    }
   ],
   "source": [
    "dataset[\"_LCM07V1\"].isnull().sum()"
   ]
  },
  {
   "cell_type": "code",
   "execution_count": 537,
   "id": "7c9de5b6",
   "metadata": {},
   "outputs": [],
   "source": [
    "dataset.drop(\"_LCM07V1\", axis=1, inplace=True)"
   ]
  },
  {
   "cell_type": "code",
   "execution_count": 538,
   "id": "3a3e5120",
   "metadata": {},
   "outputs": [
    {
     "data": {
      "text/plain": [
       "3.0    3382\n",
       "1.0    1704\n",
       "2.0     858\n",
       "Name: _LCM08V1, dtype: int64"
      ]
     },
     "execution_count": 538,
     "metadata": {},
     "output_type": "execute_result"
    }
   ],
   "source": [
    "dataset[\"_LCM08V1\"].value_counts()"
   ]
  },
  {
   "cell_type": "code",
   "execution_count": 539,
   "id": "9270a79d",
   "metadata": {},
   "outputs": [
    {
     "data": {
      "text/plain": [
       "6394"
      ]
     },
     "execution_count": 539,
     "metadata": {},
     "output_type": "execute_result"
    }
   ],
   "source": [
    "dataset[\"_LCM08V1\"].isnull().sum()"
   ]
  },
  {
   "cell_type": "code",
   "execution_count": 540,
   "id": "586a1930",
   "metadata": {},
   "outputs": [],
   "source": [
    "dataset.drop(\"_LCM08V1\", axis=1, inplace=True)"
   ]
  },
  {
   "cell_type": "code",
   "execution_count": 541,
   "id": "08e33ae8",
   "metadata": {
    "scrolled": true
   },
   "outputs": [
    {
     "data": {
      "text/plain": [
       "751.417615     13\n",
       "1296.061704    13\n",
       "414.141605     13\n",
       "1717.919137    13\n",
       "1339.280187    12\n",
       "               ..\n",
       "1032.178884     1\n",
       "1116.786108     1\n",
       "4224.006575     1\n",
       "1297.017067     1\n",
       "4224.787917     1\n",
       "Name: _LCPWTV1, Length: 4249, dtype: int64"
      ]
     },
     "execution_count": 541,
     "metadata": {},
     "output_type": "execute_result"
    }
   ],
   "source": [
    "dataset[\"_LCPWTV1\"].value_counts()"
   ]
  },
  {
   "cell_type": "code",
   "execution_count": 542,
   "id": "5ae06a30",
   "metadata": {},
   "outputs": [
    {
     "data": {
      "text/plain": [
       "6394"
      ]
     },
     "execution_count": 542,
     "metadata": {},
     "output_type": "execute_result"
    }
   ],
   "source": [
    "dataset[\"_LCPWTV1\"].isnull().sum()"
   ]
  },
  {
   "cell_type": "code",
   "execution_count": 543,
   "id": "1b8d6f28",
   "metadata": {},
   "outputs": [],
   "source": [
    "dataset.drop(\"_LCPWTV1\", axis=1, inplace=True)"
   ]
  },
  {
   "cell_type": "code",
   "execution_count": 544,
   "id": "f689fff6",
   "metadata": {},
   "outputs": [
    {
     "data": {
      "text/plain": [
       "12.0    818\n",
       "11.0    638\n",
       "13.0    631\n",
       "5.0     529\n",
       "14.0    518\n",
       "6.0     473\n",
       "10.0    450\n",
       "4.0     436\n",
       "7.0     326\n",
       "9.0     301\n",
       "3.0     279\n",
       "2.0     253\n",
       "1.0     164\n",
       "8.0     129\n",
       "Name: _LCM01V2, dtype: int64"
      ]
     },
     "execution_count": 544,
     "metadata": {},
     "output_type": "execute_result"
    }
   ],
   "source": [
    "dataset[\"_LCM01V2\"].value_counts()"
   ]
  },
  {
   "cell_type": "code",
   "execution_count": 545,
   "id": "38171193",
   "metadata": {},
   "outputs": [
    {
     "data": {
      "text/plain": [
       "6393"
      ]
     },
     "execution_count": 545,
     "metadata": {},
     "output_type": "execute_result"
    }
   ],
   "source": [
    "dataset[\"_LCM01V2\"].isnull().sum()"
   ]
  },
  {
   "cell_type": "code",
   "execution_count": 546,
   "id": "f5137865",
   "metadata": {},
   "outputs": [],
   "source": [
    "dataset.drop(\"_LCM01V2\", axis=1, inplace=True)"
   ]
  },
  {
   "cell_type": "code",
   "execution_count": 547,
   "id": "3ffc7d81",
   "metadata": {},
   "outputs": [
    {
     "data": {
      "text/plain": [
       "1.0    4234\n",
       "3.0     715\n",
       "2.0     647\n",
       "4.0     349\n",
       "Name: _LCM02V2, dtype: int64"
      ]
     },
     "execution_count": 547,
     "metadata": {},
     "output_type": "execute_result"
    }
   ],
   "source": [
    "dataset[\"_LCM02V2\"].value_counts()"
   ]
  },
  {
   "cell_type": "code",
   "execution_count": 548,
   "id": "f5617780",
   "metadata": {},
   "outputs": [
    {
     "data": {
      "text/plain": [
       "6393"
      ]
     },
     "execution_count": 548,
     "metadata": {},
     "output_type": "execute_result"
    }
   ],
   "source": [
    "dataset[\"_LCM02V2\"].isnull().sum()"
   ]
  },
  {
   "cell_type": "code",
   "execution_count": 549,
   "id": "79f28a65",
   "metadata": {},
   "outputs": [],
   "source": [
    "dataset.drop(\"_LCM02V2\", axis=1, inplace=True)"
   ]
  },
  {
   "cell_type": "code",
   "execution_count": 550,
   "id": "7a1d5b30",
   "metadata": {},
   "outputs": [
    {
     "data": {
      "text/plain": [
       "4.0    2480\n",
       "3.0    1472\n",
       "2.0    1463\n",
       "1.0     530\n",
       "Name: _LCM03V2, dtype: int64"
      ]
     },
     "execution_count": 550,
     "metadata": {},
     "output_type": "execute_result"
    }
   ],
   "source": [
    "dataset[\"_LCM03V2\"].value_counts()"
   ]
  },
  {
   "cell_type": "code",
   "execution_count": 551,
   "id": "f6826c23",
   "metadata": {},
   "outputs": [
    {
     "data": {
      "text/plain": [
       "6393"
      ]
     },
     "execution_count": 551,
     "metadata": {},
     "output_type": "execute_result"
    }
   ],
   "source": [
    "dataset[\"_LCM03V2\"].isnull().sum()"
   ]
  },
  {
   "cell_type": "code",
   "execution_count": 552,
   "id": "80bd5633",
   "metadata": {},
   "outputs": [],
   "source": [
    "dataset.drop(\"_LCM03V2\", axis=1, inplace=True)"
   ]
  },
  {
   "cell_type": "code",
   "execution_count": 553,
   "id": "1b87bded",
   "metadata": {},
   "outputs": [
    {
     "data": {
      "text/plain": [
       "1.0    2833\n",
       "3.0    1691\n",
       "2.0    1421\n",
       "Name: _LCM04V2, dtype: int64"
      ]
     },
     "execution_count": 553,
     "metadata": {},
     "output_type": "execute_result"
    }
   ],
   "source": [
    "dataset[\"_LCM04V2\"].value_counts()"
   ]
  },
  {
   "cell_type": "code",
   "execution_count": 554,
   "id": "66407028",
   "metadata": {},
   "outputs": [
    {
     "data": {
      "text/plain": [
       "6393"
      ]
     },
     "execution_count": 554,
     "metadata": {},
     "output_type": "execute_result"
    }
   ],
   "source": [
    "dataset[\"_LCM04V2\"].isnull().sum()"
   ]
  },
  {
   "cell_type": "code",
   "execution_count": 555,
   "id": "403b9af2",
   "metadata": {},
   "outputs": [],
   "source": [
    "dataset.drop(\"_LCM04V2\", axis=1, inplace=True)"
   ]
  },
  {
   "cell_type": "code",
   "execution_count": 556,
   "id": "1a975246",
   "metadata": {},
   "outputs": [
    {
     "data": {
      "text/plain": [
       "1.0    3593\n",
       "2.0    2352\n",
       "Name: _LCM05V2, dtype: int64"
      ]
     },
     "execution_count": 556,
     "metadata": {},
     "output_type": "execute_result"
    }
   ],
   "source": [
    "dataset[\"_LCM05V2\"].value_counts()"
   ]
  },
  {
   "cell_type": "code",
   "execution_count": 557,
   "id": "42bb9621",
   "metadata": {},
   "outputs": [
    {
     "data": {
      "text/plain": [
       "6393"
      ]
     },
     "execution_count": 557,
     "metadata": {},
     "output_type": "execute_result"
    }
   ],
   "source": [
    "dataset[\"_LCM05V2\"].isnull().sum()"
   ]
  },
  {
   "cell_type": "code",
   "execution_count": 558,
   "id": "83e302ef",
   "metadata": {},
   "outputs": [],
   "source": [
    "dataset.drop(\"_LCM05V2\", axis=1, inplace=True)"
   ]
  },
  {
   "cell_type": "code",
   "execution_count": 559,
   "id": "7daa7e73",
   "metadata": {},
   "outputs": [
    {
     "data": {
      "text/plain": [
       "5.0    2468\n",
       "1.0    1766\n",
       "7.0     586\n",
       "6.0     431\n",
       "3.0     284\n",
       "2.0     234\n",
       "4.0     176\n",
       "Name: _LCM06V2, dtype: int64"
      ]
     },
     "execution_count": 559,
     "metadata": {},
     "output_type": "execute_result"
    }
   ],
   "source": [
    "dataset[\"_LCM06V2\"].value_counts()"
   ]
  },
  {
   "cell_type": "code",
   "execution_count": 560,
   "id": "e9682eaa",
   "metadata": {},
   "outputs": [
    {
     "data": {
      "text/plain": [
       "6393"
      ]
     },
     "execution_count": 560,
     "metadata": {},
     "output_type": "execute_result"
    }
   ],
   "source": [
    "dataset[\"_LCM06V2\"].isnull().sum()"
   ]
  },
  {
   "cell_type": "code",
   "execution_count": 561,
   "id": "e0bf7dd7",
   "metadata": {},
   "outputs": [],
   "source": [
    "dataset.drop(\"_LCM06V2\", axis=1, inplace=True)"
   ]
  },
  {
   "cell_type": "code",
   "execution_count": 562,
   "id": "634857a4",
   "metadata": {},
   "outputs": [
    {
     "data": {
      "text/plain": [
       "9.0     2660\n",
       "5.0     1130\n",
       "1.0      444\n",
       "11.0     342\n",
       "10.0     293\n",
       "7.0      281\n",
       "6.0      234\n",
       "3.0      209\n",
       "8.0      158\n",
       "2.0      120\n",
       "4.0       74\n",
       "Name: _LCM07V2, dtype: int64"
      ]
     },
     "execution_count": 562,
     "metadata": {},
     "output_type": "execute_result"
    }
   ],
   "source": [
    "dataset[\"_LCM07V2\"].value_counts()"
   ]
  },
  {
   "cell_type": "code",
   "execution_count": 563,
   "id": "69f2cb99",
   "metadata": {},
   "outputs": [
    {
     "data": {
      "text/plain": [
       "6393"
      ]
     },
     "execution_count": 563,
     "metadata": {},
     "output_type": "execute_result"
    }
   ],
   "source": [
    "dataset[\"_LCM07V2\"].isnull().sum()"
   ]
  },
  {
   "cell_type": "code",
   "execution_count": 564,
   "id": "b64720e0",
   "metadata": {},
   "outputs": [],
   "source": [
    "dataset.drop(\"_LCM07V2\", axis=1, inplace=True)"
   ]
  },
  {
   "cell_type": "code",
   "execution_count": 565,
   "id": "e3f6cc90",
   "metadata": {},
   "outputs": [
    {
     "data": {
      "text/plain": [
       "3.0    3355\n",
       "1.0    1767\n",
       "2.0     823\n",
       "Name: _LCM08V2, dtype: int64"
      ]
     },
     "execution_count": 565,
     "metadata": {},
     "output_type": "execute_result"
    }
   ],
   "source": [
    "dataset[\"_LCM08V2\"].value_counts()"
   ]
  },
  {
   "cell_type": "code",
   "execution_count": 566,
   "id": "f4bf0874",
   "metadata": {},
   "outputs": [
    {
     "data": {
      "text/plain": [
       "6393"
      ]
     },
     "execution_count": 566,
     "metadata": {},
     "output_type": "execute_result"
    }
   ],
   "source": [
    "dataset[\"_LCM08V2\"].isnull().sum()"
   ]
  },
  {
   "cell_type": "code",
   "execution_count": 567,
   "id": "ff419cd9",
   "metadata": {},
   "outputs": [],
   "source": [
    "dataset.drop(\"_LCM08V2\", axis=1, inplace=True)"
   ]
  },
  {
   "cell_type": "code",
   "execution_count": 568,
   "id": "9b3a8d65",
   "metadata": {},
   "outputs": [
    {
     "data": {
      "text/plain": [
       "7.0    2071\n",
       "4.0     736\n",
       "5.0     591\n",
       "8.0     528\n",
       "1.0     519\n",
       "2.0     503\n",
       "3.0     499\n",
       "6.0     498\n",
       "Name: _LCM09V2, dtype: int64"
      ]
     },
     "execution_count": 568,
     "metadata": {},
     "output_type": "execute_result"
    }
   ],
   "source": [
    "dataset[\"_LCM09V2\"].value_counts()"
   ]
  },
  {
   "cell_type": "code",
   "execution_count": 569,
   "id": "399abc41",
   "metadata": {},
   "outputs": [
    {
     "data": {
      "text/plain": [
       "6393"
      ]
     },
     "execution_count": 569,
     "metadata": {},
     "output_type": "execute_result"
    }
   ],
   "source": [
    "dataset[\"_LCM09V2\"].isnull().sum()"
   ]
  },
  {
   "cell_type": "code",
   "execution_count": 570,
   "id": "28c11a1e",
   "metadata": {},
   "outputs": [],
   "source": [
    "dataset.drop(\"_LCM09V2\", axis=1, inplace=True)"
   ]
  },
  {
   "cell_type": "code",
   "execution_count": 571,
   "id": "e2865505",
   "metadata": {},
   "outputs": [
    {
     "data": {
      "text/plain": [
       "40.0    428\n",
       "39.0    363\n",
       "41.0    336\n",
       "38.0    309\n",
       "42.0    270\n",
       "37.0    254\n",
       "20.0    162\n",
       "19.0    157\n",
       "32.0    130\n",
       "45.0    130\n",
       "26.0    130\n",
       "25.0    130\n",
       "9.0     129\n",
       "21.0    127\n",
       "17.0    122\n",
       "13.0    119\n",
       "4.0     119\n",
       "3.0     119\n",
       "14.0    114\n",
       "27.0    113\n",
       "36.0    111\n",
       "33.0    107\n",
       "18.0     98\n",
       "10.0     98\n",
       "22.0     96\n",
       "23.0     96\n",
       "47.0     93\n",
       "44.0     91\n",
       "2.0      91\n",
       "46.0     90\n",
       "15.0     89\n",
       "8.0      87\n",
       "29.0     83\n",
       "31.0     82\n",
       "11.0     77\n",
       "5.0      76\n",
       "28.0     74\n",
       "34.0     69\n",
       "48.0     68\n",
       "24.0     61\n",
       "12.0     60\n",
       "35.0     60\n",
       "6.0      60\n",
       "43.0     56\n",
       "16.0     55\n",
       "1.0      54\n",
       "7.0      52\n",
       "30.0     50\n",
       "Name: _LCM10V2, dtype: int64"
      ]
     },
     "execution_count": 571,
     "metadata": {},
     "output_type": "execute_result"
    }
   ],
   "source": [
    "dataset[\"_LCM10V2\"].value_counts()"
   ]
  },
  {
   "cell_type": "code",
   "execution_count": 572,
   "id": "5e4a3ffa",
   "metadata": {},
   "outputs": [
    {
     "data": {
      "text/plain": [
       "6393"
      ]
     },
     "execution_count": 572,
     "metadata": {},
     "output_type": "execute_result"
    }
   ],
   "source": [
    "dataset[\"_LCM10V2\"].isnull().sum()"
   ]
  },
  {
   "cell_type": "code",
   "execution_count": 573,
   "id": "a6993738",
   "metadata": {},
   "outputs": [],
   "source": [
    "dataset.drop(\"_LCM10V2\", axis=1, inplace=True)"
   ]
  },
  {
   "cell_type": "code",
   "execution_count": 574,
   "id": "e7031704",
   "metadata": {},
   "outputs": [
    {
     "data": {
      "text/plain": [
       "14.0    1264\n",
       "13.0     807\n",
       "8.0      414\n",
       "10.0     337\n",
       "7.0      322\n",
       "16.0     308\n",
       "2.0      304\n",
       "6.0      293\n",
       "12.0     284\n",
       "4.0      281\n",
       "9.0      254\n",
       "3.0      222\n",
       "15.0     220\n",
       "1.0      215\n",
       "11.0     214\n",
       "5.0      206\n",
       "Name: _LCM11V2, dtype: int64"
      ]
     },
     "execution_count": 574,
     "metadata": {},
     "output_type": "execute_result"
    }
   ],
   "source": [
    "dataset[\"_LCM11V2\"].value_counts()"
   ]
  },
  {
   "cell_type": "code",
   "execution_count": 575,
   "id": "fee4a9c8",
   "metadata": {},
   "outputs": [
    {
     "data": {
      "text/plain": [
       "6393"
      ]
     },
     "execution_count": 575,
     "metadata": {},
     "output_type": "execute_result"
    }
   ],
   "source": [
    "dataset[\"_LCM11V2\"].isnull().sum()"
   ]
  },
  {
   "cell_type": "code",
   "execution_count": 576,
   "id": "dc32d696",
   "metadata": {},
   "outputs": [],
   "source": [
    "dataset.drop(\"_LCM11V2\", axis=1, inplace=True)"
   ]
  },
  {
   "cell_type": "code",
   "execution_count": 577,
   "id": "af3b6033",
   "metadata": {},
   "outputs": [
    {
     "data": {
      "text/plain": [
       "13.0    955\n",
       "6.0     563\n",
       "3.0     503\n",
       "12.0    498\n",
       "16.0    480\n",
       "1.0     467\n",
       "18.0    465\n",
       "14.0    450\n",
       "9.0     441\n",
       "4.0     428\n",
       "15.0    130\n",
       "7.0      95\n",
       "11.0     82\n",
       "8.0      78\n",
       "5.0      71\n",
       "10.0     68\n",
       "19.0     63\n",
       "17.0     56\n",
       "2.0      52\n",
       "Name: _LCM12V2, dtype: int64"
      ]
     },
     "execution_count": 577,
     "metadata": {},
     "output_type": "execute_result"
    }
   ],
   "source": [
    "dataset[\"_LCM12V2\"].value_counts()"
   ]
  },
  {
   "cell_type": "code",
   "execution_count": 578,
   "id": "18675288",
   "metadata": {},
   "outputs": [
    {
     "data": {
      "text/plain": [
       "6393"
      ]
     },
     "execution_count": 578,
     "metadata": {},
     "output_type": "execute_result"
    }
   ],
   "source": [
    "dataset[\"_LCM12V2\"].isnull().sum()"
   ]
  },
  {
   "cell_type": "code",
   "execution_count": 579,
   "id": "d3223606",
   "metadata": {},
   "outputs": [],
   "source": [
    "dataset.drop(\"_LCM12V2\", axis=1, inplace=True)"
   ]
  },
  {
   "cell_type": "code",
   "execution_count": 580,
   "id": "2c73ecf4",
   "metadata": {},
   "outputs": [
    {
     "data": {
      "text/plain": [
       "6393"
      ]
     },
     "execution_count": 580,
     "metadata": {},
     "output_type": "execute_result"
    }
   ],
   "source": [
    "dataset[\"_LCPWTV2\"].isnull().sum()"
   ]
  },
  {
   "cell_type": "code",
   "execution_count": 581,
   "id": "d917955c",
   "metadata": {},
   "outputs": [],
   "source": [
    "dataset.drop(\"_LCPWTV2\", axis=1, inplace=True)"
   ]
  },
  {
   "cell_type": "code",
   "execution_count": 582,
   "id": "fdb34181",
   "metadata": {},
   "outputs": [
    {
     "data": {
      "text/plain": [
       "Good or Better Health                     10137\n",
       "Fair or Poor Health                        2136\n",
       "Don't know/Not Sure Or Refused/Missing       65\n",
       "Name: _RFHLTH, dtype: int64"
      ]
     },
     "execution_count": 582,
     "metadata": {},
     "output_type": "execute_result"
    }
   ],
   "source": [
    "dataset[\"_RFHLTH\"].value_counts()"
   ]
  },
  {
   "cell_type": "code",
   "execution_count": 583,
   "id": "d5e762ee",
   "metadata": {},
   "outputs": [
    {
     "data": {
      "text/plain": [
       "0"
      ]
     },
     "execution_count": 583,
     "metadata": {},
     "output_type": "execute_result"
    }
   ],
   "source": [
    "dataset[\"_RFHLTH\"].isnull().sum()"
   ]
  },
  {
   "cell_type": "code",
   "execution_count": 584,
   "id": "1604e9a4",
   "metadata": {},
   "outputs": [
    {
     "data": {
      "text/plain": [
       "Have health care coverage                  7379\n",
       "Don't know/Not Sure, Refused or Missing    4255\n",
       "Do not have health care coverage            704\n",
       "Name: _HCVU651, dtype: int64"
      ]
     },
     "execution_count": 584,
     "metadata": {},
     "output_type": "execute_result"
    }
   ],
   "source": [
    "dataset[\"_HCVU651\"].value_counts()"
   ]
  },
  {
   "cell_type": "code",
   "execution_count": 585,
   "id": "9faa99bd",
   "metadata": {},
   "outputs": [
    {
     "data": {
      "text/plain": [
       "0"
      ]
     },
     "execution_count": 585,
     "metadata": {},
     "output_type": "execute_result"
    }
   ],
   "source": [
    "dataset[\"_HCVU651\"].isnull().sum()"
   ]
  },
  {
   "cell_type": "code",
   "execution_count": 586,
   "id": "a53a150d",
   "metadata": {},
   "outputs": [
    {
     "data": {
      "text/plain": [
       "No                                     7750\n",
       "Yes                                    4544\n",
       "Don't know/Not Sure/Refused/Missing      44\n",
       "Name: _RFHYPE5, dtype: int64"
      ]
     },
     "execution_count": 586,
     "metadata": {},
     "output_type": "execute_result"
    }
   ],
   "source": [
    "dataset[\"_RFHYPE5\"].value_counts()"
   ]
  },
  {
   "cell_type": "code",
   "execution_count": 587,
   "id": "4c9da544",
   "metadata": {},
   "outputs": [
    {
     "data": {
      "text/plain": [
       "0"
      ]
     },
     "execution_count": 587,
     "metadata": {},
     "output_type": "execute_result"
    }
   ],
   "source": [
    "dataset[\"_RFHYPE5\"].isnull().sum()"
   ]
  },
  {
   "cell_type": "code",
   "execution_count": 588,
   "id": "5009ef00",
   "metadata": {},
   "outputs": [
    {
     "data": {
      "text/plain": [
       "Had cholesterol checked in past 5 years             10428\n",
       "Have never had cholesterol checked                   1258\n",
       "Don't know/Not Sure Or Refused/Missing                336\n",
       "Did not have cholesterol checked in past 5 years      316\n",
       "Name: _CHOLCHK, dtype: int64"
      ]
     },
     "execution_count": 588,
     "metadata": {},
     "output_type": "execute_result"
    }
   ],
   "source": [
    "dataset[\"_CHOLCHK\"].value_counts()"
   ]
  },
  {
   "cell_type": "code",
   "execution_count": 589,
   "id": "39877da7",
   "metadata": {},
   "outputs": [
    {
     "data": {
      "text/plain": [
       "0"
      ]
     },
     "execution_count": 589,
     "metadata": {},
     "output_type": "execute_result"
    }
   ],
   "source": [
    "dataset[\"_CHOLCHK\"].isnull().sum()"
   ]
  },
  {
   "cell_type": "code",
   "execution_count": 590,
   "id": "9891ff13",
   "metadata": {},
   "outputs": [
    {
     "data": {
      "text/plain": [
       "No                                        6367\n",
       "Yes                                       4396\n",
       "Don't know/Not Sure Or Refused/Missing      88\n",
       "Name: _RFCHOL, dtype: int64"
      ]
     },
     "execution_count": 590,
     "metadata": {},
     "output_type": "execute_result"
    }
   ],
   "source": [
    "dataset[\"_RFCHOL\"].value_counts()"
   ]
  },
  {
   "cell_type": "code",
   "execution_count": 591,
   "id": "8037bf4f",
   "metadata": {},
   "outputs": [
    {
     "data": {
      "text/plain": [
       "1487"
      ]
     },
     "execution_count": 591,
     "metadata": {},
     "output_type": "execute_result"
    }
   ],
   "source": [
    "dataset[\"_RFCHOL\"].isnull().sum()"
   ]
  },
  {
   "cell_type": "code",
   "execution_count": 592,
   "id": "0549dad9",
   "metadata": {},
   "outputs": [
    {
     "data": {
      "text/plain": [
       "Did not report having MI or CHD    11282\n",
       "Reported having MI or CHD            957\n",
       "Name: _MICHD, dtype: int64"
      ]
     },
     "execution_count": 592,
     "metadata": {},
     "output_type": "execute_result"
    }
   ],
   "source": [
    "dataset[\"_MICHD\"].value_counts()"
   ]
  },
  {
   "cell_type": "code",
   "execution_count": 593,
   "id": "a2378f82",
   "metadata": {},
   "outputs": [
    {
     "data": {
      "text/plain": [
       "99"
      ]
     },
     "execution_count": 593,
     "metadata": {},
     "output_type": "execute_result"
    }
   ],
   "source": [
    "dataset[\"_MICHD\"].isnull().sum()"
   ]
  },
  {
   "cell_type": "code",
   "execution_count": 594,
   "id": "947eecff",
   "metadata": {},
   "outputs": [
    {
     "data": {
      "text/plain": [
       "No                                        10512\n",
       "Yes                                        1788\n",
       "Don't know/Not Sure Or Refused/Missing       38\n",
       "Name: _LTASTH1, dtype: int64"
      ]
     },
     "execution_count": 594,
     "metadata": {},
     "output_type": "execute_result"
    }
   ],
   "source": [
    "dataset[\"_LTASTH1\"].value_counts()"
   ]
  },
  {
   "cell_type": "code",
   "execution_count": 595,
   "id": "e7637be4",
   "metadata": {},
   "outputs": [
    {
     "data": {
      "text/plain": [
       "0"
      ]
     },
     "execution_count": 595,
     "metadata": {},
     "output_type": "execute_result"
    }
   ],
   "source": [
    "dataset[\"_LTASTH1\"].isnull().sum()"
   ]
  },
  {
   "cell_type": "code",
   "execution_count": 596,
   "id": "33863c69",
   "metadata": {},
   "outputs": [
    {
     "data": {
      "text/plain": [
       "No                                        11042\n",
       "Yes                                        1214\n",
       "Don't know/Not Sure Or Refused/Missing       82\n",
       "Name: _CASTHM1, dtype: int64"
      ]
     },
     "execution_count": 596,
     "metadata": {},
     "output_type": "execute_result"
    }
   ],
   "source": [
    "dataset[\"_CASTHM1\"].value_counts()"
   ]
  },
  {
   "cell_type": "code",
   "execution_count": 597,
   "id": "9b16a4e7",
   "metadata": {},
   "outputs": [
    {
     "data": {
      "text/plain": [
       "0"
      ]
     },
     "execution_count": 597,
     "metadata": {},
     "output_type": "execute_result"
    }
   ],
   "source": [
    "dataset[\"_CASTHM1\"].isnull().sum()"
   ]
  },
  {
   "cell_type": "code",
   "execution_count": 598,
   "id": "8f648957",
   "metadata": {},
   "outputs": [
    {
     "data": {
      "text/plain": [
       "Never                                     10512\n",
       "Current                                    1214\n",
       "Former                                      530\n",
       "Don't know/Not Sure Or Refused/Missing       82\n",
       "Name: _ASTHMS1, dtype: int64"
      ]
     },
     "execution_count": 598,
     "metadata": {},
     "output_type": "execute_result"
    }
   ],
   "source": [
    "dataset[\"_ASTHMS1\"].value_counts()"
   ]
  },
  {
   "cell_type": "code",
   "execution_count": 599,
   "id": "6843724c",
   "metadata": {},
   "outputs": [
    {
     "data": {
      "text/plain": [
       "0"
      ]
     },
     "execution_count": 599,
     "metadata": {},
     "output_type": "execute_result"
    }
   ],
   "source": [
    "dataset[\"_ASTHMS1\"].isnull().sum()"
   ]
  },
  {
   "cell_type": "code",
   "execution_count": 600,
   "id": "b4d867d0",
   "metadata": {},
   "outputs": [
    {
     "data": {
      "text/plain": [
       "Not diagnosed with arthritis           8348\n",
       "Diagnosed with arthritis               3912\n",
       "Don´t know/Not Sure/Refused/Missing      78\n",
       "Name: _DRDXAR1, dtype: int64"
      ]
     },
     "execution_count": 600,
     "metadata": {},
     "output_type": "execute_result"
    }
   ],
   "source": [
    "dataset[\"_DRDXAR1\"].value_counts()"
   ]
  },
  {
   "cell_type": "code",
   "execution_count": 601,
   "id": "2cf11e25",
   "metadata": {},
   "outputs": [
    {
     "data": {
      "text/plain": [
       "0"
      ]
     },
     "execution_count": 601,
     "metadata": {},
     "output_type": "execute_result"
    }
   ],
   "source": [
    "dataset[\"_DRDXAR1\"].isnull().sum()"
   ]
  },
  {
   "cell_type": "code",
   "execution_count": 602,
   "id": "9724055c",
   "metadata": {},
   "outputs": [
    {
     "data": {
      "text/plain": [
       "Series([], Name: _MRACE1, dtype: int64)"
      ]
     },
     "execution_count": 602,
     "metadata": {},
     "output_type": "execute_result"
    }
   ],
   "source": [
    "dataset[\"_MRACE1\"].value_counts()"
   ]
  },
  {
   "cell_type": "code",
   "execution_count": 603,
   "id": "a1f27dd9",
   "metadata": {},
   "outputs": [
    {
     "data": {
      "text/plain": [
       "12338"
      ]
     },
     "execution_count": 603,
     "metadata": {},
     "output_type": "execute_result"
    }
   ],
   "source": [
    "dataset[\"_MRACE1\"].isnull().sum()"
   ]
  },
  {
   "cell_type": "code",
   "execution_count": 604,
   "id": "ce4b833a",
   "metadata": {},
   "outputs": [],
   "source": [
    "dataset.drop(\"_MRACE1\", axis=1, inplace=True)"
   ]
  },
  {
   "cell_type": "code",
   "execution_count": 605,
   "id": "c05c5c6f",
   "metadata": {},
   "outputs": [
    {
     "data": {
      "text/plain": [
       "Series([], Name: _M_RACE, dtype: int64)"
      ]
     },
     "execution_count": 605,
     "metadata": {},
     "output_type": "execute_result"
    }
   ],
   "source": [
    "dataset[\"_M_RACE\"].value_counts()"
   ]
  },
  {
   "cell_type": "code",
   "execution_count": 606,
   "id": "335dbc00",
   "metadata": {},
   "outputs": [
    {
     "data": {
      "text/plain": [
       "12338"
      ]
     },
     "execution_count": 606,
     "metadata": {},
     "output_type": "execute_result"
    }
   ],
   "source": [
    "dataset[\"_M_RACE\"].isnull().sum()"
   ]
  },
  {
   "cell_type": "code",
   "execution_count": 607,
   "id": "38c69955",
   "metadata": {},
   "outputs": [],
   "source": [
    "dataset.drop(\"_M_RACE\", axis=1, inplace=True)"
   ]
  },
  {
   "cell_type": "code",
   "execution_count": 608,
   "id": "798d1a38",
   "metadata": {},
   "outputs": [
    {
     "data": {
      "text/plain": [
       "Series([], Name: _HISPANC, dtype: int64)"
      ]
     },
     "execution_count": 608,
     "metadata": {},
     "output_type": "execute_result"
    }
   ],
   "source": [
    "dataset[\"_HISPANC\"].value_counts()"
   ]
  },
  {
   "cell_type": "code",
   "execution_count": 609,
   "id": "eae7978c",
   "metadata": {},
   "outputs": [
    {
     "data": {
      "text/plain": [
       "12338"
      ]
     },
     "execution_count": 609,
     "metadata": {},
     "output_type": "execute_result"
    }
   ],
   "source": [
    "dataset[\"_HISPANC\"].isnull().sum()"
   ]
  },
  {
   "cell_type": "code",
   "execution_count": 610,
   "id": "b7b8e5d2",
   "metadata": {},
   "outputs": [],
   "source": [
    "dataset.drop(\"_HISPANC\", axis=1, inplace=True)"
   ]
  },
  {
   "cell_type": "code",
   "execution_count": 611,
   "id": "1a22ba57",
   "metadata": {},
   "outputs": [
    {
     "data": {
      "text/plain": [
       "Series([], Name: _RACE, dtype: int64)"
      ]
     },
     "execution_count": 611,
     "metadata": {},
     "output_type": "execute_result"
    }
   ],
   "source": [
    "dataset[\"_RACE\"].value_counts()"
   ]
  },
  {
   "cell_type": "code",
   "execution_count": 612,
   "id": "7a09743e",
   "metadata": {},
   "outputs": [
    {
     "data": {
      "text/plain": [
       "12338"
      ]
     },
     "execution_count": 612,
     "metadata": {},
     "output_type": "execute_result"
    }
   ],
   "source": [
    "dataset[\"_RACE\"].isnull().sum()"
   ]
  },
  {
   "cell_type": "code",
   "execution_count": 613,
   "id": "cdd4c601",
   "metadata": {},
   "outputs": [],
   "source": [
    "dataset.drop(\"_RACE\", axis=1, inplace=True)"
   ]
  },
  {
   "cell_type": "code",
   "execution_count": 614,
   "id": "507914b3",
   "metadata": {},
   "outputs": [
    {
     "data": {
      "text/plain": [
       "Series([], Name: _RACEG21, dtype: int64)"
      ]
     },
     "execution_count": 614,
     "metadata": {},
     "output_type": "execute_result"
    }
   ],
   "source": [
    "dataset[\"_RACEG21\"].value_counts()"
   ]
  },
  {
   "cell_type": "code",
   "execution_count": 615,
   "id": "a5b659c5",
   "metadata": {},
   "outputs": [
    {
     "data": {
      "text/plain": [
       "12338"
      ]
     },
     "execution_count": 615,
     "metadata": {},
     "output_type": "execute_result"
    }
   ],
   "source": [
    "dataset[\"_RACEG21\"].isnull().sum()"
   ]
  },
  {
   "cell_type": "code",
   "execution_count": 616,
   "id": "c6460151",
   "metadata": {},
   "outputs": [],
   "source": [
    "dataset.drop(\"_RACEG21\", axis=1, inplace=True)"
   ]
  },
  {
   "cell_type": "code",
   "execution_count": 617,
   "id": "b041b250",
   "metadata": {},
   "outputs": [
    {
     "data": {
      "text/plain": [
       "Series([], Name: _RACEGR3, dtype: int64)"
      ]
     },
     "execution_count": 617,
     "metadata": {},
     "output_type": "execute_result"
    }
   ],
   "source": [
    "dataset[\"_RACEGR3\"].value_counts()"
   ]
  },
  {
   "cell_type": "code",
   "execution_count": 618,
   "id": "1bb57564",
   "metadata": {},
   "outputs": [
    {
     "data": {
      "text/plain": [
       "12338"
      ]
     },
     "execution_count": 618,
     "metadata": {},
     "output_type": "execute_result"
    }
   ],
   "source": [
    "dataset[\"_RACEGR3\"].isnull().sum()"
   ]
  },
  {
   "cell_type": "code",
   "execution_count": 619,
   "id": "1ced0661",
   "metadata": {},
   "outputs": [],
   "source": [
    "dataset.drop(\"_RACEGR3\", axis=1, inplace=True)"
   ]
  },
  {
   "cell_type": "code",
   "execution_count": 620,
   "id": "2f95757f",
   "metadata": {},
   "outputs": [
    {
     "data": {
      "text/plain": [
       "Series([], Name: _RACE_G1, dtype: int64)"
      ]
     },
     "execution_count": 620,
     "metadata": {},
     "output_type": "execute_result"
    }
   ],
   "source": [
    "dataset[\"_RACE_G1\"].value_counts()"
   ]
  },
  {
   "cell_type": "code",
   "execution_count": 621,
   "id": "1317f2d2",
   "metadata": {},
   "outputs": [
    {
     "data": {
      "text/plain": [
       "12338"
      ]
     },
     "execution_count": 621,
     "metadata": {},
     "output_type": "execute_result"
    }
   ],
   "source": [
    "dataset[\"_RACE_G1\"].isnull().sum()"
   ]
  },
  {
   "cell_type": "code",
   "execution_count": 622,
   "id": "4fd51956",
   "metadata": {},
   "outputs": [],
   "source": [
    "dataset.drop(\"_RACE_G1\", axis=1, inplace=True)"
   ]
  },
  {
   "cell_type": "code",
   "execution_count": 623,
   "id": "60c7cd1b",
   "metadata": {
    "scrolled": true
   },
   "outputs": [
    {
     "data": {
      "text/plain": [
       "Age 55 to 59                  1314\n",
       "Age 65 to 69                  1295\n",
       "Age 60 to 64                  1245\n",
       "Age 50 to 54                  1171\n",
       "Age 80 or older               1046\n",
       "Age 45 to 49                   979\n",
       "Age 70 to 74                   950\n",
       "Age 40 to 44                   745\n",
       "Age 75 to 79                   740\n",
       "Age 35 to 39                   726\n",
       "Age 18 to 24                   657\n",
       "Age 30 to 34                   650\n",
       "Age 25 to 29                   623\n",
       "Don't know/Refused/Missing     197\n",
       "Name: _AGEG5YR, dtype: int64"
      ]
     },
     "execution_count": 623,
     "metadata": {},
     "output_type": "execute_result"
    }
   ],
   "source": [
    "dataset[\"_AGEG5YR\"].value_counts()"
   ]
  },
  {
   "cell_type": "code",
   "execution_count": 624,
   "id": "79e16cf6",
   "metadata": {},
   "outputs": [
    {
     "data": {
      "text/plain": [
       "0"
      ]
     },
     "execution_count": 624,
     "metadata": {},
     "output_type": "execute_result"
    }
   ],
   "source": [
    "dataset[\"_AGEG5YR\"].isnull().sum()"
   ]
  },
  {
   "cell_type": "code",
   "execution_count": 625,
   "id": "3bcebdee",
   "metadata": {},
   "outputs": [
    {
     "data": {
      "text/plain": [
       "Age 18 to 64                  8110\n",
       "Age 65 or older               4031\n",
       "Don't know/Refused/Missing     197\n",
       "Name: _AGE65YR, dtype: int64"
      ]
     },
     "execution_count": 625,
     "metadata": {},
     "output_type": "execute_result"
    }
   ],
   "source": [
    "dataset[\"_AGE65YR\"].value_counts()"
   ]
  },
  {
   "cell_type": "code",
   "execution_count": 626,
   "id": "03f6d7fb",
   "metadata": {},
   "outputs": [
    {
     "data": {
      "text/plain": [
       "0"
      ]
     },
     "execution_count": 626,
     "metadata": {},
     "output_type": "execute_result"
    }
   ],
   "source": [
    "dataset[\"_AGE65YR\"].isnull().sum()"
   ]
  },
  {
   "cell_type": "code",
   "execution_count": 627,
   "id": "d9334bf8",
   "metadata": {},
   "outputs": [
    {
     "data": {
      "text/plain": [
       "Imputed Age 60 to 64       1359\n",
       "Imputed Age 55 to 59       1316\n",
       "Imputed Age 65 to 69       1296\n",
       "Imputed Age 50 to 54       1205\n",
       "Imputed Age 80 or older    1046\n",
       "Imputed Age 45 to 49       1004\n",
       "Imputed Age 70 to 74        950\n",
       "Imputed Age 40 to 44        760\n",
       "Imputed Age 75 to 79        740\n",
       "Imputed Age 35 to 39        730\n",
       "Imputed Age 18 to 24        657\n",
       "Imputed Age 30 to 34        651\n",
       "Imputed Age 25 to 29        624\n",
       "Name: _AGE80, dtype: int64"
      ]
     },
     "execution_count": 627,
     "metadata": {},
     "output_type": "execute_result"
    }
   ],
   "source": [
    "dataset[\"_AGE80\"].value_counts()"
   ]
  },
  {
   "cell_type": "code",
   "execution_count": 628,
   "id": "6a3f260a",
   "metadata": {},
   "outputs": [
    {
     "data": {
      "text/plain": [
       "0"
      ]
     },
     "execution_count": 628,
     "metadata": {},
     "output_type": "execute_result"
    }
   ],
   "source": [
    "dataset[\"_AGE80\"].isnull().sum()"
   ]
  },
  {
   "cell_type": "code",
   "execution_count": 629,
   "id": "308c1abf",
   "metadata": {},
   "outputs": [
    {
     "data": {
      "text/plain": [
       "Age 65 or older    4032\n",
       "Age 55 to 64       2675\n",
       "Age 45 to 54       2209\n",
       "Age 35 to 44       1490\n",
       "Age 25 to 34       1275\n",
       "Age 18 to 24        657\n",
       "Name: _AGE_G, dtype: int64"
      ]
     },
     "execution_count": 629,
     "metadata": {},
     "output_type": "execute_result"
    }
   ],
   "source": [
    "dataset[\"_AGE_G\"].value_counts()"
   ]
  },
  {
   "cell_type": "code",
   "execution_count": 630,
   "id": "00344e19",
   "metadata": {},
   "outputs": [
    {
     "data": {
      "text/plain": [
       "0"
      ]
     },
     "execution_count": 630,
     "metadata": {},
     "output_type": "execute_result"
    }
   ],
   "source": [
    "dataset[\"_AGE_G\"].isnull().sum()"
   ]
  },
  {
   "cell_type": "code",
   "execution_count": 631,
   "id": "e0792a0c",
   "metadata": {},
   "outputs": [
    {
     "data": {
      "text/plain": [
       "Series([], Name: HTIN4, dtype: int64)"
      ]
     },
     "execution_count": 631,
     "metadata": {},
     "output_type": "execute_result"
    }
   ],
   "source": [
    "dataset[\"HTIN4\"].value_counts()"
   ]
  },
  {
   "cell_type": "code",
   "execution_count": 632,
   "id": "82da5ca3",
   "metadata": {},
   "outputs": [
    {
     "data": {
      "text/plain": [
       "12338"
      ]
     },
     "execution_count": 632,
     "metadata": {},
     "output_type": "execute_result"
    }
   ],
   "source": [
    "dataset[\"HTIN4\"].isnull().sum()"
   ]
  },
  {
   "cell_type": "code",
   "execution_count": 633,
   "id": "94dca1fe",
   "metadata": {},
   "outputs": [],
   "source": [
    "dataset.drop(\"HTIN4\", axis=1, inplace=True)"
   ]
  },
  {
   "cell_type": "code",
   "execution_count": 634,
   "id": "3d3f6652",
   "metadata": {},
   "outputs": [
    {
     "data": {
      "text/plain": [
       "Series([], Name: HTM4, dtype: int64)"
      ]
     },
     "execution_count": 634,
     "metadata": {},
     "output_type": "execute_result"
    }
   ],
   "source": [
    "dataset[\"HTM4\"].value_counts()"
   ]
  },
  {
   "cell_type": "code",
   "execution_count": 635,
   "id": "cb8a8c3e",
   "metadata": {},
   "outputs": [
    {
     "data": {
      "text/plain": [
       "12338"
      ]
     },
     "execution_count": 635,
     "metadata": {},
     "output_type": "execute_result"
    }
   ],
   "source": [
    "dataset[\"HTM4\"].isnull().sum()"
   ]
  },
  {
   "cell_type": "code",
   "execution_count": 636,
   "id": "93871151",
   "metadata": {},
   "outputs": [],
   "source": [
    "dataset.drop(\"HTM4\", axis=1, inplace=True)"
   ]
  },
  {
   "cell_type": "code",
   "execution_count": 637,
   "id": "9b4291be",
   "metadata": {},
   "outputs": [
    {
     "data": {
      "text/plain": [
       "Series([], Name: WTKG3, dtype: int64)"
      ]
     },
     "execution_count": 637,
     "metadata": {},
     "output_type": "execute_result"
    }
   ],
   "source": [
    "dataset[\"WTKG3\"].value_counts()"
   ]
  },
  {
   "cell_type": "code",
   "execution_count": 638,
   "id": "694e6007",
   "metadata": {},
   "outputs": [
    {
     "data": {
      "text/plain": [
       "12338"
      ]
     },
     "execution_count": 638,
     "metadata": {},
     "output_type": "execute_result"
    }
   ],
   "source": [
    "dataset[\"WTKG3\"].isnull().sum()"
   ]
  },
  {
   "cell_type": "code",
   "execution_count": 639,
   "id": "34449ba3",
   "metadata": {},
   "outputs": [],
   "source": [
    "dataset.drop(\"WTKG3\", axis=1, inplace=True)"
   ]
  },
  {
   "cell_type": "code",
   "execution_count": 640,
   "id": "449c89d5",
   "metadata": {},
   "outputs": [
    {
     "data": {
      "text/plain": [
       "1 or greater                  11264\n",
       "Don't know/Refused/Missing     1074\n",
       "Name: _BMI5, dtype: int64"
      ]
     },
     "execution_count": 640,
     "metadata": {},
     "output_type": "execute_result"
    }
   ],
   "source": [
    "dataset[\"_BMI5\"].value_counts()"
   ]
  },
  {
   "cell_type": "code",
   "execution_count": 641,
   "id": "e7bd27d5",
   "metadata": {},
   "outputs": [
    {
     "data": {
      "text/plain": [
       "0"
      ]
     },
     "execution_count": 641,
     "metadata": {},
     "output_type": "execute_result"
    }
   ],
   "source": [
    "dataset[\"_BMI5\"].isnull().sum()"
   ]
  },
  {
   "cell_type": "code",
   "execution_count": 642,
   "id": "bb408712",
   "metadata": {},
   "outputs": [
    {
     "data": {
      "text/plain": [
       "Normal Weight                 4117\n",
       "Overweight                    4005\n",
       "Obese                         2933\n",
       "Don't know/Refused/Missing    1074\n",
       "Underweight                    209\n",
       "Name: _BMI5CAT, dtype: int64"
      ]
     },
     "execution_count": 642,
     "metadata": {},
     "output_type": "execute_result"
    }
   ],
   "source": [
    "dataset[\"_BMI5CAT\"].value_counts()"
   ]
  },
  {
   "cell_type": "code",
   "execution_count": 643,
   "id": "35e2983b",
   "metadata": {},
   "outputs": [
    {
     "data": {
      "text/plain": [
       "0"
      ]
     },
     "execution_count": 643,
     "metadata": {},
     "output_type": "execute_result"
    }
   ],
   "source": [
    "dataset[\"_BMI5CAT\"].isnull().sum()"
   ]
  },
  {
   "cell_type": "code",
   "execution_count": 644,
   "id": "ddffea37",
   "metadata": {},
   "outputs": [
    {
     "data": {
      "text/plain": [
       "Yes                           6938\n",
       "No                            4326\n",
       "Don't know/Refused/Missing    1074\n",
       "Name: _RFBMI5, dtype: int64"
      ]
     },
     "execution_count": 644,
     "metadata": {},
     "output_type": "execute_result"
    }
   ],
   "source": [
    "dataset[\"_RFBMI5\"].value_counts()"
   ]
  },
  {
   "cell_type": "code",
   "execution_count": 645,
   "id": "6263cc4a",
   "metadata": {},
   "outputs": [
    {
     "data": {
      "text/plain": [
       "0"
      ]
     },
     "execution_count": 645,
     "metadata": {},
     "output_type": "execute_result"
    }
   ],
   "source": [
    "dataset[\"_RFBMI5\"].isnull().sum()"
   ]
  },
  {
   "cell_type": "code",
   "execution_count": 646,
   "id": "20ed5f95",
   "metadata": {},
   "outputs": [
    {
     "data": {
      "text/plain": [
       "No children in household              8898\n",
       "One child in household                1395\n",
       "Two children in household             1211\n",
       "Three children in household            436\n",
       "Don't know/Not sure/Missing            173\n",
       "Four children in household             127\n",
       "Five or more children in household      98\n",
       "Name: _CHLDCNT, dtype: int64"
      ]
     },
     "execution_count": 646,
     "metadata": {},
     "output_type": "execute_result"
    }
   ],
   "source": [
    "dataset[\"_CHLDCNT\"].value_counts()"
   ]
  },
  {
   "cell_type": "code",
   "execution_count": 647,
   "id": "885e9ad7",
   "metadata": {},
   "outputs": [
    {
     "data": {
      "text/plain": [
       "0"
      ]
     },
     "execution_count": 647,
     "metadata": {},
     "output_type": "execute_result"
    }
   ],
   "source": [
    "dataset[\"_CHLDCNT\"].isnull().sum()"
   ]
  },
  {
   "cell_type": "code",
   "execution_count": 648,
   "id": "3caeff2a",
   "metadata": {},
   "outputs": [
    {
     "data": {
      "text/plain": [
       "Graduated from College or Technical School    5272\n",
       "Graduated High School                         2977\n",
       "Attended College or Technical School          2883\n",
       "Did not graduate High School                  1114\n",
       "Don't know/Not sure/Missing                     92\n",
       "Name: _EDUCAG, dtype: int64"
      ]
     },
     "execution_count": 648,
     "metadata": {},
     "output_type": "execute_result"
    }
   ],
   "source": [
    "dataset[\"_EDUCAG\"].value_counts()"
   ]
  },
  {
   "cell_type": "code",
   "execution_count": 649,
   "id": "6f231dde",
   "metadata": {},
   "outputs": [
    {
     "data": {
      "text/plain": [
       "0"
      ]
     },
     "execution_count": 649,
     "metadata": {},
     "output_type": "execute_result"
    }
   ],
   "source": [
    "dataset[\"_EDUCAG\"].isnull().sum()"
   ]
  },
  {
   "cell_type": "code",
   "execution_count": 650,
   "id": "c8173735",
   "metadata": {},
   "outputs": [
    {
     "data": {
      "text/plain": [
       "$50,000 or more                 5272\n",
       "Don't know/Not sure/Missing     1997\n",
       "$15,000 to less than $25,000    1712\n",
       "$35,000 to less than $50,000    1226\n",
       "Less than $15,000               1122\n",
       "$25,000 to less than $35,000    1009\n",
       "Name: _INCOMG, dtype: int64"
      ]
     },
     "execution_count": 650,
     "metadata": {},
     "output_type": "execute_result"
    }
   ],
   "source": [
    "dataset[\"_INCOMG\"].value_counts()"
   ]
  },
  {
   "cell_type": "code",
   "execution_count": 651,
   "id": "21165cb2",
   "metadata": {},
   "outputs": [
    {
     "data": {
      "text/plain": [
       "0"
      ]
     },
     "execution_count": 651,
     "metadata": {},
     "output_type": "execute_result"
    }
   ],
   "source": [
    "dataset[\"_INCOMG\"].isnull().sum()"
   ]
  },
  {
   "cell_type": "code",
   "execution_count": 652,
   "id": "b918cc52",
   "metadata": {},
   "outputs": [
    {
     "data": {
      "text/plain": [
       "Never smoked                             6624\n",
       "Former smoker                            3472\n",
       "Current smoker - now smokes every day    1075\n",
       "Don't know/Refused/Missing                672\n",
       "Current smoker - now smokes some days     495\n",
       "Name: _SMOKER3, dtype: int64"
      ]
     },
     "execution_count": 652,
     "metadata": {},
     "output_type": "execute_result"
    }
   ],
   "source": [
    "dataset[\"_SMOKER3\"].value_counts()"
   ]
  },
  {
   "cell_type": "code",
   "execution_count": 653,
   "id": "9995e24a",
   "metadata": {},
   "outputs": [
    {
     "data": {
      "text/plain": [
       "0"
      ]
     },
     "execution_count": 653,
     "metadata": {},
     "output_type": "execute_result"
    }
   ],
   "source": [
    "dataset[\"_SMOKER3\"].isnull().sum()"
   ]
  },
  {
   "cell_type": "code",
   "execution_count": 654,
   "id": "1b41e81b",
   "metadata": {},
   "outputs": [
    {
     "data": {
      "text/plain": [
       "No                            10096\n",
       "Yes                            1570\n",
       "Don't know/Refused/Missing      672\n",
       "Name: _RFSMOK3, dtype: int64"
      ]
     },
     "execution_count": 654,
     "metadata": {},
     "output_type": "execute_result"
    }
   ],
   "source": [
    "dataset[\"_RFSMOK3\"].value_counts()"
   ]
  },
  {
   "cell_type": "code",
   "execution_count": 655,
   "id": "db3d1846",
   "metadata": {},
   "outputs": [
    {
     "data": {
      "text/plain": [
       "0"
      ]
     },
     "execution_count": 655,
     "metadata": {},
     "output_type": "execute_result"
    }
   ],
   "source": [
    "dataset[\"_RFSMOK3\"].isnull().sum()"
   ]
  },
  {
   "cell_type": "code",
   "execution_count": 656,
   "id": "54730ccf",
   "metadata": {},
   "outputs": [
    {
     "data": {
      "text/plain": [
       "Yes                6441\n",
       "No                 5087\n",
       "Refused/Missing     747\n",
       "Name: DRNKANY5, dtype: int64"
      ]
     },
     "execution_count": 656,
     "metadata": {},
     "output_type": "execute_result"
    }
   ],
   "source": [
    "dataset[\"DRNKANY5\"].value_counts()"
   ]
  },
  {
   "cell_type": "code",
   "execution_count": 657,
   "id": "5f7cfd69",
   "metadata": {},
   "outputs": [
    {
     "data": {
      "text/plain": [
       "63"
      ]
     },
     "execution_count": 657,
     "metadata": {},
     "output_type": "execute_result"
    }
   ],
   "source": [
    "dataset[\"DRNKANY5\"].isnull().sum()"
   ]
  },
  {
   "cell_type": "code",
   "execution_count": 658,
   "id": "fa952697",
   "metadata": {},
   "outputs": [
    {
     "data": {
      "text/plain": [
       "Drink-Occasions per day                   6441\n",
       "No Drink-Occasions per day                5087\n",
       "Don't know/Not Sure Or Refused/Missing     810\n",
       "Name: DROCDY3_, dtype: int64"
      ]
     },
     "execution_count": 658,
     "metadata": {},
     "output_type": "execute_result"
    }
   ],
   "source": [
    "dataset[\"DROCDY3_\"].value_counts()"
   ]
  },
  {
   "cell_type": "code",
   "execution_count": 659,
   "id": "76ae5340",
   "metadata": {},
   "outputs": [
    {
     "data": {
      "text/plain": [
       "0"
      ]
     },
     "execution_count": 659,
     "metadata": {},
     "output_type": "execute_result"
    }
   ],
   "source": [
    "dataset[\"DROCDY3_\"].isnull().sum()"
   ]
  },
  {
   "cell_type": "code",
   "execution_count": 660,
   "id": "9a917630",
   "metadata": {},
   "outputs": [
    {
     "data": {
      "text/plain": [
       "No                            9882\n",
       "Yes                           1503\n",
       "Don't know/Refused/Missing     953\n",
       "Name: _RFBING5, dtype: int64"
      ]
     },
     "execution_count": 660,
     "metadata": {},
     "output_type": "execute_result"
    }
   ],
   "source": [
    "dataset[\"_RFBING5\"].value_counts()"
   ]
  },
  {
   "cell_type": "code",
   "execution_count": 661,
   "id": "828c8ec9",
   "metadata": {},
   "outputs": [
    {
     "data": {
      "text/plain": [
       "0"
      ]
     },
     "execution_count": 661,
     "metadata": {},
     "output_type": "execute_result"
    }
   ],
   "source": [
    "dataset[\"_RFBING5\"].isnull().sum()"
   ]
  },
  {
   "cell_type": "code",
   "execution_count": 662,
   "id": "9cb2fc6a",
   "metadata": {},
   "outputs": [
    {
     "data": {
      "text/plain": [
       "0        5087\n",
       "99900     942\n",
       "23        674\n",
       "47        565\n",
       "93        383\n",
       "         ... \n",
       "443         1\n",
       "2450        1\n",
       "1213        1\n",
       "2613        1\n",
       "2520        1\n",
       "Name: _DRNKWEK, Length: 102, dtype: int64"
      ]
     },
     "execution_count": 662,
     "metadata": {},
     "output_type": "execute_result"
    }
   ],
   "source": [
    "dataset[\"_DRNKWEK\"].value_counts()"
   ]
  },
  {
   "cell_type": "code",
   "execution_count": 663,
   "id": "6dd86fff",
   "metadata": {},
   "outputs": [
    {
     "data": {
      "text/plain": [
       "0"
      ]
     },
     "execution_count": 663,
     "metadata": {},
     "output_type": "execute_result"
    }
   ],
   "source": [
    "dataset[\"_DRNKWEK\"].isnull().sum()"
   ]
  },
  {
   "cell_type": "code",
   "execution_count": 664,
   "id": "5deda898",
   "metadata": {},
   "outputs": [
    {
     "data": {
      "text/plain": [
       "1    10763\n",
       "9      942\n",
       "2      633\n",
       "Name: _RFDRHV5, dtype: int64"
      ]
     },
     "execution_count": 664,
     "metadata": {},
     "output_type": "execute_result"
    }
   ],
   "source": [
    "dataset[\"_RFDRHV5\"].value_counts()"
   ]
  },
  {
   "cell_type": "code",
   "execution_count": 665,
   "id": "64f5e4c8",
   "metadata": {},
   "outputs": [
    {
     "data": {
      "text/plain": [
       "0"
      ]
     },
     "execution_count": 665,
     "metadata": {},
     "output_type": "execute_result"
    }
   ],
   "source": [
    "dataset[\"_RFDRHV5\"].isnull().sum()"
   ]
  },
  {
   "cell_type": "code",
   "execution_count": 666,
   "id": "0cddbb75",
   "metadata": {},
   "outputs": [
    {
     "data": {
      "text/plain": [
       "0.0       4287\n",
       "100.0     2078\n",
       "29.0       580\n",
       "43.0       479\n",
       "14.0       451\n",
       "7.0        449\n",
       "200.0      393\n",
       "3.0        388\n",
       "10.0       275\n",
       "17.0       266\n",
       "13.0       182\n",
       "57.0       173\n",
       "71.0       157\n",
       "33.0       153\n",
       "50.0       129\n",
       "67.0       109\n",
       "300.0      105\n",
       "20.0        68\n",
       "400.0       39\n",
       "83.0        37\n",
       "27.0        32\n",
       "23.0        30\n",
       "40.0        27\n",
       "86.0        27\n",
       "2.0         23\n",
       "500.0       23\n",
       "143.0       17\n",
       "47.0        15\n",
       "93.0         9\n",
       "30.0         7\n",
       "286.0        4\n",
       "53.0         4\n",
       "150.0        3\n",
       "600.0        3\n",
       "70.0         3\n",
       "167.0        2\n",
       "429.0        2\n",
       "80.0         2\n",
       "700.0        2\n",
       "214.0        2\n",
       "97.0         2\n",
       "114.0        1\n",
       "1000.0       1\n",
       "103.0        1\n",
       "60.0         1\n",
       "330.0        1\n",
       "2500.0       1\n",
       "357.0        1\n",
       "73.0         1\n",
       "129.0        1\n",
       "800.0        1\n",
       "186.0        1\n",
       "133.0        1\n",
       "63.0         1\n",
       "77.0         1\n",
       "147.0        1\n",
       "Name: FTJUDA1_, dtype: int64"
      ]
     },
     "execution_count": 666,
     "metadata": {},
     "output_type": "execute_result"
    }
   ],
   "source": [
    "dataset[\"FTJUDA1_\"].value_counts()"
   ]
  },
  {
   "cell_type": "code",
   "execution_count": 667,
   "id": "5e289e8c",
   "metadata": {},
   "outputs": [
    {
     "data": {
      "text/plain": [
       "1286"
      ]
     },
     "execution_count": 667,
     "metadata": {},
     "output_type": "execute_result"
    }
   ],
   "source": [
    "dataset[\"FTJUDA1_\"].isnull().sum()"
   ]
  },
  {
   "cell_type": "code",
   "execution_count": 668,
   "id": "f46f3d18",
   "metadata": {},
   "outputs": [
    {
     "data": {
      "text/plain": [
       "100.0     3259\n",
       "200.0     1823\n",
       "43.0       694\n",
       "300.0      609\n",
       "29.0       575\n",
       "          ... \n",
       "2500.0       1\n",
       "800.0        1\n",
       "129.0        1\n",
       "140.0        1\n",
       "714.0        1\n",
       "Name: FRUTDA1_, Length: 67, dtype: int64"
      ]
     },
     "execution_count": 668,
     "metadata": {},
     "output_type": "execute_result"
    }
   ],
   "source": [
    "dataset[\"FRUTDA1_\"].value_counts()"
   ]
  },
  {
   "cell_type": "code",
   "execution_count": 669,
   "id": "2e4d4ab7",
   "metadata": {},
   "outputs": [
    {
     "data": {
      "text/plain": [
       "1260"
      ]
     },
     "execution_count": 669,
     "metadata": {},
     "output_type": "execute_result"
    }
   ],
   "source": [
    "dataset[\"FRUTDA1_\"].isnull().sum()"
   ]
  },
  {
   "cell_type": "code",
   "execution_count": 670,
   "id": "3f3fe538",
   "metadata": {},
   "outputs": [
    {
     "data": {
      "text/plain": [
       "0.0       2351\n",
       "14.0      1222\n",
       "29.0      1127\n",
       "7.0        876\n",
       "43.0       757\n",
       "3.0        625\n",
       "100.0      618\n",
       "10.0       542\n",
       "17.0       521\n",
       "13.0       443\n",
       "33.0       393\n",
       "57.0       304\n",
       "50.0       226\n",
       "71.0       152\n",
       "67.0       150\n",
       "20.0       148\n",
       "200.0      134\n",
       "27.0       108\n",
       "23.0        86\n",
       "40.0        58\n",
       "83.0        41\n",
       "300.0       30\n",
       "86.0        18\n",
       "47.0        17\n",
       "53.0        12\n",
       "143.0       10\n",
       "30.0         8\n",
       "2.0          7\n",
       "500.0        5\n",
       "400.0        5\n",
       "37.0         5\n",
       "70.0         5\n",
       "286.0        3\n",
       "60.0         3\n",
       "114.0        3\n",
       "214.0        2\n",
       "80.0         2\n",
       "133.0        2\n",
       "290.0        1\n",
       "140.0        1\n",
       "2200.0       1\n",
       "93.0         1\n",
       "129.0        1\n",
       "77.0         1\n",
       "167.0        1\n",
       "429.0        1\n",
       "117.0        1\n",
       "Name: BEANDAY_, dtype: int64"
      ]
     },
     "execution_count": 670,
     "metadata": {},
     "output_type": "execute_result"
    }
   ],
   "source": [
    "dataset[\"BEANDAY_\"].value_counts()"
   ]
  },
  {
   "cell_type": "code",
   "execution_count": 671,
   "id": "45a272e1",
   "metadata": {},
   "outputs": [
    {
     "data": {
      "text/plain": [
       "1310"
      ]
     },
     "execution_count": 671,
     "metadata": {},
     "output_type": "execute_result"
    }
   ],
   "source": [
    "dataset[\"BEANDAY_\"].isnull().sum()"
   ]
  },
  {
   "cell_type": "code",
   "execution_count": 672,
   "id": "e94d5b6c",
   "metadata": {},
   "outputs": [
    {
     "data": {
      "text/plain": [
       "100.0    2178\n",
       "43.0     1143\n",
       "29.0      986\n",
       "14.0      686\n",
       "57.0      668\n",
       "200.0     650\n",
       "0.0       639\n",
       "71.0      562\n",
       "67.0      479\n",
       "50.0      382\n",
       "33.0      372\n",
       "7.0       296\n",
       "17.0      286\n",
       "10.0      257\n",
       "13.0      241\n",
       "83.0      190\n",
       "3.0       169\n",
       "86.0      115\n",
       "20.0      109\n",
       "300.0     103\n",
       "27.0       98\n",
       "40.0       90\n",
       "23.0       82\n",
       "47.0       23\n",
       "500.0      21\n",
       "400.0      21\n",
       "143.0      19\n",
       "53.0       16\n",
       "133.0      15\n",
       "93.0       15\n",
       "30.0       13\n",
       "114.0      11\n",
       "60.0       11\n",
       "87.0       10\n",
       "73.0       10\n",
       "90.0        8\n",
       "70.0        8\n",
       "167.0       7\n",
       "150.0       5\n",
       "80.0        5\n",
       "286.0       4\n",
       "37.0        4\n",
       "429.0       4\n",
       "214.0       3\n",
       "2.0         3\n",
       "117.0       3\n",
       "600.0       3\n",
       "77.0        3\n",
       "103.0       3\n",
       "171.0       3\n",
       "330.0       1\n",
       "233.0       1\n",
       "110.0       1\n",
       "63.0        1\n",
       "157.0       1\n",
       "129.0       1\n",
       "800.0       1\n",
       "700.0       1\n",
       "97.0        1\n",
       "183.0       1\n",
       "Name: GRENDAY_, dtype: int64"
      ]
     },
     "execution_count": 672,
     "metadata": {},
     "output_type": "execute_result"
    }
   ],
   "source": [
    "dataset[\"GRENDAY_\"].value_counts()"
   ]
  },
  {
   "cell_type": "code",
   "execution_count": 673,
   "id": "f2c17f36",
   "metadata": {},
   "outputs": [
    {
     "data": {
      "text/plain": [
       "1296"
      ]
     },
     "execution_count": 673,
     "metadata": {},
     "output_type": "execute_result"
    }
   ],
   "source": [
    "dataset[\"GRENDAY_\"].isnull().sum()"
   ]
  },
  {
   "cell_type": "code",
   "execution_count": 674,
   "id": "307c2535",
   "metadata": {},
   "outputs": [
    {
     "data": {
      "text/plain": [
       "0.0      1619\n",
       "14.0     1471\n",
       "29.0     1268\n",
       "43.0      884\n",
       "100.0     812\n",
       "7.0       751\n",
       "17.0      557\n",
       "3.0       528\n",
       "10.0      500\n",
       "33.0      471\n",
       "13.0      423\n",
       "57.0      320\n",
       "50.0      285\n",
       "71.0      213\n",
       "67.0      198\n",
       "200.0     148\n",
       "20.0      136\n",
       "27.0      102\n",
       "23.0       94\n",
       "83.0       47\n",
       "40.0       45\n",
       "86.0       32\n",
       "300.0      28\n",
       "47.0       16\n",
       "30.0        9\n",
       "60.0        9\n",
       "143.0       8\n",
       "2.0         7\n",
       "53.0        6\n",
       "400.0       6\n",
       "500.0       5\n",
       "73.0        4\n",
       "37.0        4\n",
       "114.0       4\n",
       "93.0        3\n",
       "80.0        3\n",
       "133.0       1\n",
       "70.0        1\n",
       "63.0        1\n",
       "171.0       1\n",
       "90.0        1\n",
       "103.0       1\n",
       "Name: ORNGDAY_, dtype: int64"
      ]
     },
     "execution_count": 674,
     "metadata": {},
     "output_type": "execute_result"
    }
   ],
   "source": [
    "dataset[\"ORNGDAY_\"].value_counts()"
   ]
  },
  {
   "cell_type": "code",
   "execution_count": 675,
   "id": "647bc18a",
   "metadata": {},
   "outputs": [
    {
     "data": {
      "text/plain": [
       "1316"
      ]
     },
     "execution_count": 675,
     "metadata": {},
     "output_type": "execute_result"
    }
   ],
   "source": [
    "dataset[\"ORNGDAY_\"].isnull().sum()"
   ]
  },
  {
   "cell_type": "code",
   "execution_count": 676,
   "id": "1fbff624",
   "metadata": {
    "scrolled": true
   },
   "outputs": [
    {
     "data": {
      "text/plain": [
       "100.0    3080\n",
       "43.0      955\n",
       "200.0     922\n",
       "29.0      840\n",
       "57.0      560\n",
       "71.0      520\n",
       "14.0      516\n",
       "67.0      488\n",
       "33.0      372\n",
       "50.0      354\n",
       "0.0       272\n",
       "83.0      215\n",
       "17.0      210\n",
       "13.0      204\n",
       "7.0       179\n",
       "10.0      170\n",
       "300.0     155\n",
       "86.0      145\n",
       "3.0       112\n",
       "20.0      104\n",
       "27.0       92\n",
       "40.0       82\n",
       "23.0       70\n",
       "400.0      32\n",
       "143.0      31\n",
       "133.0      24\n",
       "93.0       23\n",
       "47.0       23\n",
       "500.0      20\n",
       "53.0       13\n",
       "167.0      12\n",
       "150.0      11\n",
       "60.0       10\n",
       "90.0       10\n",
       "70.0        9\n",
       "114.0       9\n",
       "80.0        8\n",
       "117.0       8\n",
       "97.0        6\n",
       "30.0        6\n",
       "73.0        6\n",
       "214.0       6\n",
       "87.0        5\n",
       "171.0       4\n",
       "330.0       4\n",
       "429.0       3\n",
       "77.0        2\n",
       "700.0       2\n",
       "103.0       2\n",
       "600.0       1\n",
       "286.0       1\n",
       "129.0       1\n",
       "250.0       1\n",
       "457.0       1\n",
       "2.0         1\n",
       "63.0        1\n",
       "37.0        1\n",
       "157.0       1\n",
       "183.0       1\n",
       "Name: VEGEDA1_, dtype: int64"
      ]
     },
     "execution_count": 676,
     "metadata": {},
     "output_type": "execute_result"
    }
   ],
   "source": [
    "dataset[\"VEGEDA1_\"].value_counts()"
   ]
  },
  {
   "cell_type": "code",
   "execution_count": 677,
   "id": "a2df2e51",
   "metadata": {},
   "outputs": [
    {
     "data": {
      "text/plain": [
       "1422"
      ]
     },
     "execution_count": 677,
     "metadata": {},
     "output_type": "execute_result"
    }
   ],
   "source": [
    "dataset[\"VEGEDA1_\"].isnull().sum()"
   ]
  },
  {
   "cell_type": "code",
   "execution_count": 678,
   "id": "45daa8f4",
   "metadata": {},
   "outputs": [
    {
     "data": {
      "text/plain": [
       "No missing fruit responses            10903\n",
       "Has 1 or 2 missing fruit responses     1435\n",
       "Name: _MISFRTN, dtype: int64"
      ]
     },
     "execution_count": 678,
     "metadata": {},
     "output_type": "execute_result"
    }
   ],
   "source": [
    "dataset[\"_MISFRTN\"].value_counts()"
   ]
  },
  {
   "cell_type": "code",
   "execution_count": 679,
   "id": "89f11500",
   "metadata": {},
   "outputs": [
    {
     "data": {
      "text/plain": [
       "0"
      ]
     },
     "execution_count": 679,
     "metadata": {},
     "output_type": "execute_result"
    }
   ],
   "source": [
    "dataset[\"_MISFRTN\"].isnull().sum()"
   ]
  },
  {
   "cell_type": "code",
   "execution_count": 680,
   "id": "b9a8c30a",
   "metadata": {},
   "outputs": [
    {
     "data": {
      "text/plain": [
       "No missing vegetable responses                   10685\n",
       "Has 1, 2, 3, or 4 missing vegetable responses     1653\n",
       "Name: _MISVEGN, dtype: int64"
      ]
     },
     "execution_count": 680,
     "metadata": {},
     "output_type": "execute_result"
    }
   ],
   "source": [
    "dataset[\"_MISVEGN\"].value_counts()"
   ]
  },
  {
   "cell_type": "code",
   "execution_count": 681,
   "id": "32393c38",
   "metadata": {},
   "outputs": [
    {
     "data": {
      "text/plain": [
       "0"
      ]
     },
     "execution_count": 681,
     "metadata": {},
     "output_type": "execute_result"
    }
   ],
   "source": [
    "dataset[\"_MISVEGN\"].isnull().sum()"
   ]
  },
  {
   "cell_type": "code",
   "execution_count": 682,
   "id": "7c912e71",
   "metadata": {},
   "outputs": [
    {
     "data": {
      "text/plain": [
       "Included - Not Missing Fruit Responses    10903\n",
       "Not Included - Missing Fruit Responses     1435\n",
       "Name: _FRTRESP, dtype: int64"
      ]
     },
     "execution_count": 682,
     "metadata": {},
     "output_type": "execute_result"
    }
   ],
   "source": [
    "dataset[\"_FRTRESP\"].value_counts()"
   ]
  },
  {
   "cell_type": "code",
   "execution_count": 683,
   "id": "8a135acc",
   "metadata": {},
   "outputs": [
    {
     "data": {
      "text/plain": [
       "0"
      ]
     },
     "execution_count": 683,
     "metadata": {},
     "output_type": "execute_result"
    }
   ],
   "source": [
    "dataset[\"_FRTRESP\"].isnull().sum()"
   ]
  },
  {
   "cell_type": "code",
   "execution_count": 684,
   "id": "2d54af8d",
   "metadata": {},
   "outputs": [
    {
     "data": {
      "text/plain": [
       "Included - Not Missing Vegetable Responses    10685\n",
       "Not Included - Missing Vegetable Responses     1653\n",
       "Name: _VEGRESP, dtype: int64"
      ]
     },
     "execution_count": 684,
     "metadata": {},
     "output_type": "execute_result"
    }
   ],
   "source": [
    "dataset[\"_VEGRESP\"].value_counts()"
   ]
  },
  {
   "cell_type": "code",
   "execution_count": 685,
   "id": "0e4d9707",
   "metadata": {},
   "outputs": [
    {
     "data": {
      "text/plain": [
       "0"
      ]
     },
     "execution_count": 685,
     "metadata": {},
     "output_type": "execute_result"
    }
   ],
   "source": [
    "dataset[\"_VEGRESP\"].isnull().sum()"
   ]
  },
  {
   "cell_type": "code",
   "execution_count": 686,
   "id": "1f02c6cc",
   "metadata": {},
   "outputs": [
    {
     "data": {
      "text/plain": [
       "200.0     1619\n",
       "100.0     1349\n",
       "300.0      763\n",
       "43.0       360\n",
       "400.0      308\n",
       "          ... \n",
       "231.0        1\n",
       "5000.0       1\n",
       "471.0        1\n",
       "1300.0       1\n",
       "620.0        1\n",
       "Name: _FRUTSUM, Length: 229, dtype: int64"
      ]
     },
     "execution_count": 686,
     "metadata": {},
     "output_type": "execute_result"
    }
   ],
   "source": [
    "dataset[\"_FRUTSUM\"].value_counts()"
   ]
  },
  {
   "cell_type": "code",
   "execution_count": 687,
   "id": "59987c9d",
   "metadata": {},
   "outputs": [
    {
     "data": {
      "text/plain": [
       "1435"
      ]
     },
     "execution_count": 687,
     "metadata": {},
     "output_type": "execute_result"
    }
   ],
   "source": [
    "dataset[\"_FRUTSUM\"].isnull().sum()"
   ]
  },
  {
   "cell_type": "code",
   "execution_count": 688,
   "id": "3a233e68",
   "metadata": {},
   "outputs": [
    {
     "data": {
      "text/plain": [
       "200.0    213\n",
       "143.0    191\n",
       "100.0    171\n",
       "243.0    166\n",
       "157.0    166\n",
       "        ... \n",
       "389.0      1\n",
       "464.0      1\n",
       "399.0      1\n",
       "523.0      1\n",
       "375.0      1\n",
       "Name: _VEGESUM, Length: 555, dtype: int64"
      ]
     },
     "execution_count": 688,
     "metadata": {},
     "output_type": "execute_result"
    }
   ],
   "source": [
    "dataset[\"_VEGESUM\"].value_counts()"
   ]
  },
  {
   "cell_type": "code",
   "execution_count": 689,
   "id": "a76700f9",
   "metadata": {},
   "outputs": [
    {
     "data": {
      "text/plain": [
       "1653"
      ]
     },
     "execution_count": 689,
     "metadata": {},
     "output_type": "execute_result"
    }
   ],
   "source": [
    "dataset[\"_VEGESUM\"].isnull().sum()"
   ]
  },
  {
   "cell_type": "code",
   "execution_count": 690,
   "id": "f7a2e995",
   "metadata": {},
   "outputs": [
    {
     "data": {
      "text/plain": [
       "Consumed fruit one or more times per day     7261\n",
       "Consumed fruit less than one time per day    3642\n",
       "Don´t know, refused or missing values        1435\n",
       "Name: _FRTLT1, dtype: int64"
      ]
     },
     "execution_count": 690,
     "metadata": {},
     "output_type": "execute_result"
    }
   ],
   "source": [
    "dataset[\"_FRTLT1\"].value_counts()"
   ]
  },
  {
   "cell_type": "code",
   "execution_count": 691,
   "id": "88fd75d2",
   "metadata": {},
   "outputs": [
    {
     "data": {
      "text/plain": [
       "0"
      ]
     },
     "execution_count": 691,
     "metadata": {},
     "output_type": "execute_result"
    }
   ],
   "source": [
    "dataset[\"_FRTLT1\"].isnull().sum()"
   ]
  },
  {
   "cell_type": "code",
   "execution_count": 692,
   "id": "974e3a35",
   "metadata": {},
   "outputs": [
    {
     "data": {
      "text/plain": [
       "Consumed vegetables one or more times per day     8466\n",
       "Consumed vegetables less than one time per day    2219\n",
       "Don´t know, refused or missing values             1653\n",
       "Name: _VEGLT1, dtype: int64"
      ]
     },
     "execution_count": 692,
     "metadata": {},
     "output_type": "execute_result"
    }
   ],
   "source": [
    "dataset[\"_VEGLT1\"].value_counts()"
   ]
  },
  {
   "cell_type": "code",
   "execution_count": 693,
   "id": "9df78dff",
   "metadata": {},
   "outputs": [
    {
     "data": {
      "text/plain": [
       "0"
      ]
     },
     "execution_count": 693,
     "metadata": {},
     "output_type": "execute_result"
    }
   ],
   "source": [
    "dataset[\"_VEGLT1\"].isnull().sum()"
   ]
  },
  {
   "cell_type": "code",
   "execution_count": 694,
   "id": "2f4c54d2",
   "metadata": {},
   "outputs": [
    {
     "data": {
      "text/plain": [
       "Included - Values are in accepted range    12337\n",
       "Not Included - Values are too high             1\n",
       "Name: _FRT16, dtype: int64"
      ]
     },
     "execution_count": 694,
     "metadata": {},
     "output_type": "execute_result"
    }
   ],
   "source": [
    "dataset[\"_FRT16\"].value_counts()"
   ]
  },
  {
   "cell_type": "code",
   "execution_count": 695,
   "id": "85825c8c",
   "metadata": {},
   "outputs": [
    {
     "data": {
      "text/plain": [
       "0"
      ]
     },
     "execution_count": 695,
     "metadata": {},
     "output_type": "execute_result"
    }
   ],
   "source": [
    "dataset[\"_FRT16\"].isnull().sum()"
   ]
  },
  {
   "cell_type": "code",
   "execution_count": 696,
   "id": "f6fc28a5",
   "metadata": {},
   "outputs": [
    {
     "data": {
      "text/plain": [
       "Included - Values are in accepted range    12338\n",
       "Name: _VEG23, dtype: int64"
      ]
     },
     "execution_count": 696,
     "metadata": {},
     "output_type": "execute_result"
    }
   ],
   "source": [
    "dataset[\"_VEG23\"].value_counts()"
   ]
  },
  {
   "cell_type": "code",
   "execution_count": 697,
   "id": "53394245",
   "metadata": {},
   "outputs": [
    {
     "data": {
      "text/plain": [
       "0"
      ]
     },
     "execution_count": 697,
     "metadata": {},
     "output_type": "execute_result"
    }
   ],
   "source": [
    "dataset[\"_VEG23\"].isnull().sum()"
   ]
  },
  {
   "cell_type": "code",
   "execution_count": 698,
   "id": "57c9c450",
   "metadata": {},
   "outputs": [
    {
     "data": {
      "text/plain": [
       "No missing values and in accepted range    10902\n",
       "Missing Fruit responses                     1435\n",
       "Fruit values out of range                      1\n",
       "Name: _FRUITEX, dtype: int64"
      ]
     },
     "execution_count": 698,
     "metadata": {},
     "output_type": "execute_result"
    }
   ],
   "source": [
    "dataset[\"_FRUITEX\"].value_counts()"
   ]
  },
  {
   "cell_type": "code",
   "execution_count": 699,
   "id": "ebe3cc3e",
   "metadata": {},
   "outputs": [
    {
     "data": {
      "text/plain": [
       "0"
      ]
     },
     "execution_count": 699,
     "metadata": {},
     "output_type": "execute_result"
    }
   ],
   "source": [
    "dataset[\"_FRUITEX\"].isnull().sum()"
   ]
  },
  {
   "cell_type": "code",
   "execution_count": 700,
   "id": "54c18d69",
   "metadata": {},
   "outputs": [
    {
     "data": {
      "text/plain": [
       "No missing values and in accepted range    10685\n",
       "Missing Vegetable responses                 1653\n",
       "Name: _VEGETEX, dtype: int64"
      ]
     },
     "execution_count": 700,
     "metadata": {},
     "output_type": "execute_result"
    }
   ],
   "source": [
    "dataset[\"_VEGETEX\"].value_counts()"
   ]
  },
  {
   "cell_type": "code",
   "execution_count": 701,
   "id": "ff80b05e",
   "metadata": {},
   "outputs": [
    {
     "data": {
      "text/plain": [
       "0"
      ]
     },
     "execution_count": 701,
     "metadata": {},
     "output_type": "execute_result"
    }
   ],
   "source": [
    "dataset[\"_VEGETEX\"].isnull().sum()"
   ]
  },
  {
   "cell_type": "code",
   "execution_count": 702,
   "id": "b0ddd33e",
   "metadata": {},
   "outputs": [
    {
     "data": {
      "text/plain": [
       "Had physical activity or exercise                   7837\n",
       "No physical activity or exercise in last 30 days    3118\n",
       "Don't know/Refused/Missing                          1383\n",
       "Name: _TOTINDA, dtype: int64"
      ]
     },
     "execution_count": 702,
     "metadata": {},
     "output_type": "execute_result"
    }
   ],
   "source": [
    "dataset[\"_TOTINDA\"].value_counts()"
   ]
  },
  {
   "cell_type": "code",
   "execution_count": 703,
   "id": "37858440",
   "metadata": {},
   "outputs": [
    {
     "data": {
      "text/plain": [
       "0"
      ]
     },
     "execution_count": 703,
     "metadata": {},
     "output_type": "execute_result"
    }
   ],
   "source": [
    "dataset[\"_TOTINDA\"].isnull().sum()"
   ]
  },
  {
   "cell_type": "code",
   "execution_count": 704,
   "id": "a0d9c334",
   "metadata": {},
   "outputs": [
    {
     "data": {
      "text/plain": [
       "35.0     4304\n",
       "60.0      743\n",
       "0.0       503\n",
       "50.0      440\n",
       "68.0      375\n",
       "73.0      244\n",
       "38.0      237\n",
       "70.0      173\n",
       "45.0      129\n",
       "53.0       81\n",
       "78.0       78\n",
       "40.0       63\n",
       "33.0       62\n",
       "58.0       57\n",
       "43.0       51\n",
       "90.0       48\n",
       "65.0       37\n",
       "55.0       28\n",
       "80.0       19\n",
       "103.0      17\n",
       "48.0       16\n",
       "30.0       15\n",
       "128.0      15\n",
       "25.0        5\n",
       "125.0       4\n",
       "110.0       3\n",
       "63.0        2\n",
       "120.0       2\n",
       "Name: METVL11_, dtype: int64"
      ]
     },
     "execution_count": 704,
     "metadata": {},
     "output_type": "execute_result"
    }
   ],
   "source": [
    "dataset[\"METVL11_\"].value_counts()"
   ]
  },
  {
   "cell_type": "code",
   "execution_count": 705,
   "id": "21eba65e",
   "metadata": {},
   "outputs": [
    {
     "data": {
      "text/plain": [
       "4587"
      ]
     },
     "execution_count": 705,
     "metadata": {},
     "output_type": "execute_result"
    }
   ],
   "source": [
    "dataset[\"METVL11_\"].isnull().sum()"
   ]
  },
  {
   "cell_type": "code",
   "execution_count": 706,
   "id": "affe7d04",
   "metadata": {},
   "outputs": [
    {
     "data": {
      "text/plain": [
       "0.0      3112\n",
       "35.0     1258\n",
       "33.0      439\n",
       "60.0      398\n",
       "68.0      372\n",
       "50.0      323\n",
       "38.0      259\n",
       "73.0      210\n",
       "45.0      193\n",
       "70.0      163\n",
       "90.0      141\n",
       "40.0      138\n",
       "53.0      106\n",
       "78.0       95\n",
       "58.0       69\n",
       "55.0       59\n",
       "43.0       50\n",
       "65.0       45\n",
       "30.0       27\n",
       "25.0       23\n",
       "48.0       21\n",
       "80.0       16\n",
       "128.0      14\n",
       "103.0      11\n",
       "110.0       9\n",
       "125.0       6\n",
       "98.0        2\n",
       "120.0       1\n",
       "Name: METVL21_, dtype: int64"
      ]
     },
     "execution_count": 706,
     "metadata": {},
     "output_type": "execute_result"
    }
   ],
   "source": [
    "dataset[\"METVL21_\"].value_counts()"
   ]
  },
  {
   "cell_type": "code",
   "execution_count": 707,
   "id": "40a91d20",
   "metadata": {},
   "outputs": [
    {
     "data": {
      "text/plain": [
       "4778"
      ]
     },
     "execution_count": 707,
     "metadata": {},
     "output_type": "execute_result"
    }
   ],
   "source": [
    "dataset[\"METVL21_\"].isnull().sum()"
   ]
  },
  {
   "cell_type": "code",
   "execution_count": 708,
   "id": "2bf78203",
   "metadata": {},
   "outputs": [
    {
     "data": {
      "text/plain": [
       "99900    197\n",
       "2284     174\n",
       "2506     169\n",
       "2580     166\n",
       "2617     161\n",
       "        ... \n",
       "830        3\n",
       "1285       2\n",
       "610        1\n",
       "555        1\n",
       "720        1\n",
       "Name: MAXVO2_, Length: 162, dtype: int64"
      ]
     },
     "execution_count": 708,
     "metadata": {},
     "output_type": "execute_result"
    }
   ],
   "source": [
    "dataset[\"MAXVO2_\"].value_counts()"
   ]
  },
  {
   "cell_type": "code",
   "execution_count": 709,
   "id": "17cc949c",
   "metadata": {},
   "outputs": [
    {
     "data": {
      "text/plain": [
       "0"
      ]
     },
     "execution_count": 709,
     "metadata": {},
     "output_type": "execute_result"
    }
   ],
   "source": [
    "dataset[\"MAXVO2_\"].isnull().sum()"
   ]
  },
  {
   "cell_type": "code",
   "execution_count": 710,
   "id": "8a2d5c0c",
   "metadata": {},
   "outputs": [
    {
     "data": {
      "text/plain": [
       "99900    197\n",
       "392      174\n",
       "430      169\n",
       "442      166\n",
       "449      161\n",
       "        ... \n",
       "152        3\n",
       "220        2\n",
       "95         1\n",
       "123        1\n",
       "105        1\n",
       "Name: FC60_, Length: 155, dtype: int64"
      ]
     },
     "execution_count": 710,
     "metadata": {},
     "output_type": "execute_result"
    }
   ],
   "source": [
    "dataset[\"FC60_\"].value_counts()"
   ]
  },
  {
   "cell_type": "code",
   "execution_count": 711,
   "id": "4ccad890",
   "metadata": {},
   "outputs": [
    {
     "data": {
      "text/plain": [
       "0"
      ]
     },
     "execution_count": 711,
     "metadata": {},
     "output_type": "execute_result"
    }
   ],
   "source": [
    "dataset[\"FC60_\"].isnull().sum()"
   ]
  },
  {
   "cell_type": "code",
   "execution_count": 712,
   "id": "075d99b3",
   "metadata": {},
   "outputs": [
    {
     "data": {
      "text/plain": [
       "1.0    4579\n",
       "2.0    2567\n",
       "0.0     500\n",
       "Name: ACTIN11_, dtype: int64"
      ]
     },
     "execution_count": 712,
     "metadata": {},
     "output_type": "execute_result"
    }
   ],
   "source": [
    "dataset[\"ACTIN11_\"].value_counts()"
   ]
  },
  {
   "cell_type": "code",
   "execution_count": 713,
   "id": "253a2be1",
   "metadata": {},
   "outputs": [
    {
     "data": {
      "text/plain": [
       "4692"
      ]
     },
     "execution_count": 713,
     "metadata": {},
     "output_type": "execute_result"
    }
   ],
   "source": [
    "dataset[\"ACTIN11_\"].isnull().sum()"
   ]
  },
  {
   "cell_type": "code",
   "execution_count": 714,
   "id": "c236b971",
   "metadata": {},
   "outputs": [
    {
     "data": {
      "text/plain": [
       "0.0    3086\n",
       "1.0    2298\n",
       "2.0    2077\n",
       "Name: ACTIN21_, dtype: int64"
      ]
     },
     "execution_count": 714,
     "metadata": {},
     "output_type": "execute_result"
    }
   ],
   "source": [
    "dataset[\"ACTIN21_\"].value_counts()"
   ]
  },
  {
   "cell_type": "code",
   "execution_count": 715,
   "id": "b57be8fc",
   "metadata": {},
   "outputs": [
    {
     "data": {
      "text/plain": [
       "4877"
      ]
     },
     "execution_count": 715,
     "metadata": {},
     "output_type": "execute_result"
    }
   ],
   "source": [
    "dataset[\"ACTIN21_\"].isnull().sum()"
   ]
  },
  {
   "cell_type": "code",
   "execution_count": 716,
   "id": "b2c6d30c",
   "metadata": {},
   "outputs": [
    {
     "data": {
      "text/plain": [
       "30.0     1912\n",
       "60.0     1693\n",
       "45.0      733\n",
       "20.0      605\n",
       "120.0     482\n",
       "90.0      394\n",
       "15.0      299\n",
       "40.0      265\n",
       "180.0     202\n",
       "10.0      144\n",
       "240.0     121\n",
       "25.0      121\n",
       "1.0       115\n",
       "35.0       76\n",
       "2.0        56\n",
       "50.0       49\n",
       "300.0      49\n",
       "75.0       38\n",
       "5.0        30\n",
       "3.0        28\n",
       "150.0      27\n",
       "360.0      21\n",
       "4.0        16\n",
       "80.0       15\n",
       "55.0       13\n",
       "12.0       12\n",
       "270.0      10\n",
       "105.0       8\n",
       "480.0       7\n",
       "210.0       7\n",
       "6.0         7\n",
       "8.0         7\n",
       "70.0        6\n",
       "7.0         5\n",
       "22.0        3\n",
       "85.0        3\n",
       "16.0        2\n",
       "19.0        2\n",
       "110.0       2\n",
       "99.0        2\n",
       "160.0       2\n",
       "135.0       2\n",
       "419.0       1\n",
       "390.0       1\n",
       "125.0       1\n",
       "17.0        1\n",
       "13.0        1\n",
       "170.0       1\n",
       "132.0       1\n",
       "599.0       1\n",
       "38.0        1\n",
       "28.0        1\n",
       "18.0        1\n",
       "65.0        1\n",
       "33.0        1\n",
       "Name: PADUR1_, dtype: int64"
      ]
     },
     "execution_count": 716,
     "metadata": {},
     "output_type": "execute_result"
    }
   ],
   "source": [
    "dataset[\"PADUR1_\"].value_counts()"
   ]
  },
  {
   "cell_type": "code",
   "execution_count": 717,
   "id": "475d36bc",
   "metadata": {},
   "outputs": [
    {
     "data": {
      "text/plain": [
       "4734"
      ]
     },
     "execution_count": 717,
     "metadata": {},
     "output_type": "execute_result"
    }
   ],
   "source": [
    "dataset[\"PADUR1_\"].isnull().sum()"
   ]
  },
  {
   "cell_type": "code",
   "execution_count": 718,
   "id": "30c953d0",
   "metadata": {},
   "outputs": [
    {
     "data": {
      "text/plain": [
       "30.0     1122\n",
       "60.0     1100\n",
       "20.0      476\n",
       "120.0     382\n",
       "45.0      370\n",
       "15.0      343\n",
       "90.0      213\n",
       "180.0     171\n",
       "10.0      168\n",
       "40.0      120\n",
       "1.0       100\n",
       "240.0      88\n",
       "25.0       69\n",
       "5.0        67\n",
       "2.0        51\n",
       "300.0      46\n",
       "150.0      42\n",
       "3.0        30\n",
       "360.0      28\n",
       "50.0       27\n",
       "35.0       25\n",
       "4.0        20\n",
       "75.0       18\n",
       "8.0        11\n",
       "12.0        9\n",
       "270.0       9\n",
       "7.0         9\n",
       "6.0         9\n",
       "80.0        7\n",
       "210.0       5\n",
       "419.0       5\n",
       "55.0        4\n",
       "105.0       4\n",
       "70.0        3\n",
       "480.0       3\n",
       "160.0       3\n",
       "18.0        2\n",
       "17.0        2\n",
       "410.0       2\n",
       "65.0        1\n",
       "135.0       1\n",
       "48.0        1\n",
       "100.0       1\n",
       "21.0        1\n",
       "14.0        1\n",
       "Name: PADUR2_, dtype: int64"
      ]
     },
     "execution_count": 718,
     "metadata": {},
     "output_type": "execute_result"
    }
   ],
   "source": [
    "dataset[\"PADUR2_\"].value_counts()"
   ]
  },
  {
   "cell_type": "code",
   "execution_count": 719,
   "id": "e80a77e8",
   "metadata": {},
   "outputs": [
    {
     "data": {
      "text/plain": [
       "7169"
      ]
     },
     "execution_count": 719,
     "metadata": {},
     "output_type": "execute_result"
    }
   ],
   "source": [
    "dataset[\"PADUR2_\"].isnull().sum()"
   ]
  },
  {
   "cell_type": "code",
   "execution_count": 720,
   "id": "a80653c4",
   "metadata": {},
   "outputs": [],
   "source": [
    "dataset.drop(\"PADUR2_\", axis=1, inplace=True)"
   ]
  },
  {
   "cell_type": "code",
   "execution_count": 721,
   "id": "37526412",
   "metadata": {},
   "outputs": [
    {
     "data": {
      "text/plain": [
       "7000.0     1327\n",
       "3000.0     1284\n",
       "2000.0      961\n",
       "5000.0      755\n",
       "4000.0      720\n",
       "           ... \n",
       "79000.0       1\n",
       "18667.0       1\n",
       "49000.0       1\n",
       "99000.0       1\n",
       "7700.0        1\n",
       "Name: PAFREQ1_, Length: 62, dtype: int64"
      ]
     },
     "execution_count": 721,
     "metadata": {},
     "output_type": "execute_result"
    }
   ],
   "source": [
    "dataset[\"PAFREQ1_\"].value_counts()"
   ]
  },
  {
   "cell_type": "code",
   "execution_count": 722,
   "id": "d97145ab",
   "metadata": {},
   "outputs": [
    {
     "data": {
      "text/plain": [
       "4745"
      ]
     },
     "execution_count": 722,
     "metadata": {},
     "output_type": "execute_result"
    }
   ],
   "source": [
    "dataset[\"PAFREQ1_\"].isnull().sum()"
   ]
  },
  {
   "cell_type": "code",
   "execution_count": 723,
   "id": "7a4e0703",
   "metadata": {},
   "outputs": [
    {
     "data": {
      "text/plain": [
       "2000.0     869\n",
       "3000.0     747\n",
       "1000.0     643\n",
       "7000.0     631\n",
       "5000.0     307\n",
       "4000.0     284\n",
       "933.0      202\n",
       "467.0      183\n",
       "700.0      150\n",
       "1167.0     125\n",
       "4667.0     122\n",
       "2333.0     119\n",
       "3500.0     109\n",
       "6000.0     104\n",
       "1867.0     103\n",
       "233.0       92\n",
       "1400.0      89\n",
       "2800.0      58\n",
       "5833.0      46\n",
       "1633.0      38\n",
       "14000.0     32\n",
       "3267.0      16\n",
       "10000.0     14\n",
       "21000.0     12\n",
       "6533.0       9\n",
       "3733.0       9\n",
       "20000.0      7\n",
       "2100.0       6\n",
       "30000.0      4\n",
       "4200.0       3\n",
       "3033.0       3\n",
       "7233.0       3\n",
       "5600.0       3\n",
       "15000.0      3\n",
       "40000.0      3\n",
       "12000.0      3\n",
       "4900.0       2\n",
       "23100.0      2\n",
       "8167.0       2\n",
       "11667.0      2\n",
       "25000.0      2\n",
       "8000.0       2\n",
       "3967.0       2\n",
       "99000.0      2\n",
       "22000.0      1\n",
       "28000.0      1\n",
       "18667.0      1\n",
       "24000.0      1\n",
       "19600.0      1\n",
       "5133.0       1\n",
       "6767.0       1\n",
       "42000.0      1\n",
       "35000.0      1\n",
       "9333.0       1\n",
       "70000.0      1\n",
       "6300.0       1\n",
       "14467.0      1\n",
       "Name: PAFREQ2_, dtype: int64"
      ]
     },
     "execution_count": 723,
     "metadata": {},
     "output_type": "execute_result"
    }
   ],
   "source": [
    "dataset[\"PAFREQ2_\"].value_counts()"
   ]
  },
  {
   "cell_type": "code",
   "execution_count": 724,
   "id": "b21fad76",
   "metadata": {},
   "outputs": [
    {
     "data": {
      "text/plain": [
       "7158"
      ]
     },
     "execution_count": 724,
     "metadata": {},
     "output_type": "execute_result"
    }
   ],
   "source": [
    "dataset[\"PAFREQ2_\"].isnull().sum()"
   ]
  },
  {
   "cell_type": "code",
   "execution_count": 725,
   "id": "f3f50ff1",
   "metadata": {},
   "outputs": [],
   "source": [
    "dataset.drop(\"PAFREQ2_\", axis=1, inplace=True)"
   ]
  },
  {
   "cell_type": "code",
   "execution_count": 726,
   "id": "5fd0a981",
   "metadata": {},
   "outputs": [
    {
     "data": {
      "text/plain": [
       "0.0       750\n",
       "180.0     488\n",
       "120.0     456\n",
       "90.0      445\n",
       "60.0      418\n",
       "         ... \n",
       "33.0        1\n",
       "4410.0      1\n",
       "378.0       1\n",
       "195.0       1\n",
       "275.0       1\n",
       "Name: _MINAC11, Length: 215, dtype: int64"
      ]
     },
     "execution_count": 726,
     "metadata": {},
     "output_type": "execute_result"
    }
   ],
   "source": [
    "dataset[\"_MINAC11\"].value_counts()"
   ]
  },
  {
   "cell_type": "code",
   "execution_count": 727,
   "id": "ae8f4e90",
   "metadata": {},
   "outputs": [
    {
     "data": {
      "text/plain": [
       "4833"
      ]
     },
     "execution_count": 727,
     "metadata": {},
     "output_type": "execute_result"
    }
   ],
   "source": [
    "dataset[\"_MINAC11\"].isnull().sum()"
   ]
  },
  {
   "cell_type": "code",
   "execution_count": 728,
   "id": "c69e56ff",
   "metadata": {},
   "outputs": [
    {
     "data": {
      "text/plain": [
       "0.0      3395\n",
       "60.0      363\n",
       "120.0     293\n",
       "90.0      235\n",
       "180.0     198\n",
       "         ... \n",
       "131.0       1\n",
       "419.0       1\n",
       "810.0       1\n",
       "651.0       1\n",
       "467.0       1\n",
       "Name: _MINAC21, Length: 157, dtype: int64"
      ]
     },
     "execution_count": 728,
     "metadata": {},
     "output_type": "execute_result"
    }
   ],
   "source": [
    "dataset[\"_MINAC21\"].value_counts()"
   ]
  },
  {
   "cell_type": "code",
   "execution_count": 729,
   "id": "c4d04607",
   "metadata": {},
   "outputs": [
    {
     "data": {
      "text/plain": [
       "4904"
      ]
     },
     "execution_count": 729,
     "metadata": {},
     "output_type": "execute_result"
    }
   ],
   "source": [
    "dataset[\"_MINAC21\"].isnull().sum()"
   ]
  },
  {
   "cell_type": "code",
   "execution_count": 730,
   "id": "6b2e93f5",
   "metadata": {},
   "outputs": [
    {
     "data": {
      "text/plain": [
       "0.0        6317\n",
       "3000.0      823\n",
       "2000.0      741\n",
       "1000.0      489\n",
       "7000.0      355\n",
       "4000.0      323\n",
       "5000.0      279\n",
       "467.0       194\n",
       "933.0       127\n",
       "233.0       127\n",
       "700.0       121\n",
       "2333.0      120\n",
       "1167.0      120\n",
       "6000.0      102\n",
       "3500.0       93\n",
       "4667.0       86\n",
       "1867.0       78\n",
       "2800.0       44\n",
       "1400.0       43\n",
       "5833.0       30\n",
       "1633.0       22\n",
       "14000.0      20\n",
       "3733.0       14\n",
       "3267.0       12\n",
       "6533.0       11\n",
       "21000.0       4\n",
       "12000.0       4\n",
       "4900.0        4\n",
       "2100.0        4\n",
       "5600.0        3\n",
       "10000.0       3\n",
       "5133.0        3\n",
       "6067.0        3\n",
       "7233.0        3\n",
       "6767.0        2\n",
       "4200.0        2\n",
       "10500.0       2\n",
       "15000.0       2\n",
       "8000.0        2\n",
       "3033.0        2\n",
       "35000.0       1\n",
       "2567.0        1\n",
       "40000.0       1\n",
       "23100.0       1\n",
       "30000.0       1\n",
       "6300.0        1\n",
       "28000.0       1\n",
       "Name: STRFREQ_, dtype: int64"
      ]
     },
     "execution_count": 730,
     "metadata": {},
     "output_type": "execute_result"
    }
   ],
   "source": [
    "dataset[\"STRFREQ_\"].value_counts()"
   ]
  },
  {
   "cell_type": "code",
   "execution_count": 731,
   "id": "94aa0304",
   "metadata": {},
   "outputs": [
    {
     "data": {
      "text/plain": [
       "1597"
      ]
     },
     "execution_count": 731,
     "metadata": {},
     "output_type": "execute_result"
    }
   ],
   "source": [
    "dataset[\"STRFREQ_\"].isnull().sum()"
   ]
  },
  {
   "cell_type": "code",
   "execution_count": 732,
   "id": "784ad318",
   "metadata": {},
   "outputs": [
    {
     "data": {
      "text/plain": [
       "0    10281\n",
       "9     1383\n",
       "1      674\n",
       "Name: PAMISS1_, dtype: int64"
      ]
     },
     "execution_count": 732,
     "metadata": {},
     "output_type": "execute_result"
    }
   ],
   "source": [
    "dataset[\"PAMISS1_\"].value_counts()"
   ]
  },
  {
   "cell_type": "code",
   "execution_count": 733,
   "id": "e10a4d8a",
   "metadata": {},
   "outputs": [
    {
     "data": {
      "text/plain": [
       "0"
      ]
     },
     "execution_count": 733,
     "metadata": {},
     "output_type": "execute_result"
    }
   ],
   "source": [
    "dataset[\"PAMISS1_\"].isnull().sum()"
   ]
  },
  {
   "cell_type": "code",
   "execution_count": 734,
   "id": "8a8cc754",
   "metadata": {},
   "outputs": [
    {
     "data": {
      "text/plain": [
       "0.0      743\n",
       "180.0    445\n",
       "120.0    414\n",
       "420.0    343\n",
       "60.0     321\n",
       "        ... \n",
       "165.0      1\n",
       "455.0      1\n",
       "385.0      1\n",
       "990.0      1\n",
       "149.0      1\n",
       "Name: PAMIN11_, Length: 245, dtype: int64"
      ]
     },
     "execution_count": 734,
     "metadata": {},
     "output_type": "execute_result"
    }
   ],
   "source": [
    "dataset[\"PAMIN11_\"].value_counts()"
   ]
  },
  {
   "cell_type": "code",
   "execution_count": 735,
   "id": "c0c04252",
   "metadata": {},
   "outputs": [
    {
     "data": {
      "text/plain": [
       "4930"
      ]
     },
     "execution_count": 735,
     "metadata": {},
     "output_type": "execute_result"
    }
   ],
   "source": [
    "dataset[\"PAMIN11_\"].isnull().sum()"
   ]
  },
  {
   "cell_type": "code",
   "execution_count": 736,
   "id": "364af7a2",
   "metadata": {},
   "outputs": [
    {
     "data": {
      "text/plain": [
       "0.0       3349\n",
       "120.0      316\n",
       "60.0       249\n",
       "240.0      227\n",
       "180.0      189\n",
       "          ... \n",
       "118.0        1\n",
       "1500.0       1\n",
       "1302.0       1\n",
       "4060.0       1\n",
       "96.0         1\n",
       "Name: PAMIN21_, Length: 183, dtype: int64"
      ]
     },
     "execution_count": 736,
     "metadata": {},
     "output_type": "execute_result"
    }
   ],
   "source": [
    "dataset[\"PAMIN21_\"].value_counts()"
   ]
  },
  {
   "cell_type": "code",
   "execution_count": 737,
   "id": "0f549543",
   "metadata": {},
   "outputs": [
    {
     "data": {
      "text/plain": [
       "5006"
      ]
     },
     "execution_count": 737,
     "metadata": {},
     "output_type": "execute_result"
    }
   ],
   "source": [
    "dataset[\"PAMIN21_\"].isnull().sum()"
   ]
  },
  {
   "cell_type": "code",
   "execution_count": 738,
   "id": "0934ac1d",
   "metadata": {},
   "outputs": [
    {
     "data": {
      "text/plain": [
       "0.0       391\n",
       "180.0     284\n",
       "120.0     280\n",
       "420.0     270\n",
       "210.0     237\n",
       "         ... \n",
       "459.0       1\n",
       "1830.0      1\n",
       "557.0       1\n",
       "2596.0      1\n",
       "67.0        1\n",
       "Name: PA1MIN_, Length: 780, dtype: int64"
      ]
     },
     "execution_count": 738,
     "metadata": {},
     "output_type": "execute_result"
    }
   ],
   "source": [
    "dataset[\"PA1MIN_\"].value_counts()"
   ]
  },
  {
   "cell_type": "code",
   "execution_count": 739,
   "id": "b9b1b19c",
   "metadata": {},
   "outputs": [
    {
     "data": {
      "text/plain": [
       "4761"
      ]
     },
     "execution_count": 739,
     "metadata": {},
     "output_type": "execute_result"
    }
   ],
   "source": [
    "dataset[\"PA1MIN_\"].isnull().sum()"
   ]
  },
  {
   "cell_type": "code",
   "execution_count": 740,
   "id": "3131515c",
   "metadata": {},
   "outputs": [
    {
     "data": {
      "text/plain": [
       "0.0      5166\n",
       "180.0     187\n",
       "120.0     174\n",
       "90.0      149\n",
       "60.0      141\n",
       "         ... \n",
       "275.0       1\n",
       "99.0        1\n",
       "595.0       1\n",
       "357.0       1\n",
       "322.0       1\n",
       "Name: PAVIG11_, Length: 153, dtype: int64"
      ]
     },
     "execution_count": 740,
     "metadata": {},
     "output_type": "execute_result"
    }
   ],
   "source": [
    "dataset[\"PAVIG11_\"].value_counts()"
   ]
  },
  {
   "cell_type": "code",
   "execution_count": 741,
   "id": "2305a60f",
   "metadata": {},
   "outputs": [
    {
     "data": {
      "text/plain": [
       "4784"
      ]
     },
     "execution_count": 741,
     "metadata": {},
     "output_type": "execute_result"
    }
   ],
   "source": [
    "dataset[\"PAVIG11_\"].isnull().sum()"
   ]
  },
  {
   "cell_type": "code",
   "execution_count": 742,
   "id": "9a2515fc",
   "metadata": {},
   "outputs": [
    {
     "data": {
      "text/plain": [
       "0.0       5520\n",
       "60.0       181\n",
       "120.0      157\n",
       "180.0      110\n",
       "90.0       103\n",
       "          ... \n",
       "1680.0       1\n",
       "146.0        1\n",
       "131.0        1\n",
       "1257.0       1\n",
       "233.0        1\n",
       "Name: PAVIG21_, Length: 126, dtype: int64"
      ]
     },
     "execution_count": 742,
     "metadata": {},
     "output_type": "execute_result"
    }
   ],
   "source": [
    "dataset[\"PAVIG21_\"].value_counts()"
   ]
  },
  {
   "cell_type": "code",
   "execution_count": 743,
   "id": "8c166efd",
   "metadata": {},
   "outputs": [
    {
     "data": {
      "text/plain": [
       "4940"
      ]
     },
     "execution_count": 743,
     "metadata": {},
     "output_type": "execute_result"
    }
   ],
   "source": [
    "dataset[\"PAVIG21_\"].isnull().sum()"
   ]
  },
  {
   "cell_type": "code",
   "execution_count": 744,
   "id": "99a86b10",
   "metadata": {},
   "outputs": [
    {
     "data": {
      "text/plain": [
       "0.0      4120\n",
       "60.0      233\n",
       "120.0     220\n",
       "180.0     213\n",
       "90.0      177\n",
       "         ... \n",
       "96.0        1\n",
       "539.0       1\n",
       "404.0       1\n",
       "616.0       1\n",
       "620.0       1\n",
       "Name: PA1VIGM_, Length: 389, dtype: int64"
      ]
     },
     "execution_count": 744,
     "metadata": {},
     "output_type": "execute_result"
    }
   ],
   "source": [
    "dataset[\"PA1VIGM_\"].value_counts()"
   ]
  },
  {
   "cell_type": "code",
   "execution_count": 745,
   "id": "98a95c34",
   "metadata": {},
   "outputs": [
    {
     "data": {
      "text/plain": [
       "4714"
      ]
     },
     "execution_count": 745,
     "metadata": {},
     "output_type": "execute_result"
    }
   ],
   "source": [
    "dataset[\"PA1VIGM_\"].isnull().sum()"
   ]
  },
  {
   "cell_type": "code",
   "execution_count": 746,
   "id": "579ca98a",
   "metadata": {},
   "outputs": [
    {
     "data": {
      "text/plain": [
       "Inactive                               3372\n",
       "Highly Active                          3255\n",
       "Don't know/Not Sure/Refused/Missing    1966\n",
       "Insufficiently Active                  1878\n",
       "Active                                 1867\n",
       "Name: _PACAT1, dtype: int64"
      ]
     },
     "execution_count": 746,
     "metadata": {},
     "output_type": "execute_result"
    }
   ],
   "source": [
    "dataset[\"_PACAT1\"].value_counts()"
   ]
  },
  {
   "cell_type": "code",
   "execution_count": 747,
   "id": "c76d93ad",
   "metadata": {},
   "outputs": [
    {
     "data": {
      "text/plain": [
       "0"
      ]
     },
     "execution_count": 747,
     "metadata": {},
     "output_type": "execute_result"
    }
   ],
   "source": [
    "dataset[\"_PACAT1\"].isnull().sum()"
   ]
  },
  {
   "cell_type": "code",
   "execution_count": 748,
   "id": "fe8eb72d",
   "metadata": {},
   "outputs": [
    {
     "data": {
      "text/plain": [
       "Did Not Meet Aerobic Recommendations    5250\n",
       "Meet Aerobic Recommendations            5196\n",
       "Don't know/Not Sure/Refused/Missing     1892\n",
       "Name: _PAINDX1, dtype: int64"
      ]
     },
     "execution_count": 748,
     "metadata": {},
     "output_type": "execute_result"
    }
   ],
   "source": [
    "dataset[\"_PAINDX1\"].value_counts()"
   ]
  },
  {
   "cell_type": "code",
   "execution_count": 749,
   "id": "49eaae6a",
   "metadata": {},
   "outputs": [
    {
     "data": {
      "text/plain": [
       "0"
      ]
     },
     "execution_count": 749,
     "metadata": {},
     "output_type": "execute_result"
    }
   ],
   "source": [
    "dataset[\"_PAINDX1\"].isnull().sum()"
   ]
  },
  {
   "cell_type": "code",
   "execution_count": 750,
   "id": "931cd6ca",
   "metadata": {},
   "outputs": [
    {
     "data": {
      "text/plain": [
       "150+ minutes (or vigorous equivalent minutes) of physical activity      5196\n",
       "0 minutes (or vigorous equivalent minutes) of physical activity         3372\n",
       "Don't know/Not Sure/Refused/Missing                                     1892\n",
       "1-149 minutes  (or vigorous equivalent minutes) of physical activity    1878\n",
       "Name: _PA150R2, dtype: int64"
      ]
     },
     "execution_count": 750,
     "metadata": {},
     "output_type": "execute_result"
    }
   ],
   "source": [
    "dataset[\"_PA150R2\"].value_counts()"
   ]
  },
  {
   "cell_type": "code",
   "execution_count": 751,
   "id": "daaa642c",
   "metadata": {},
   "outputs": [
    {
     "data": {
      "text/plain": [
       "0"
      ]
     },
     "execution_count": 751,
     "metadata": {},
     "output_type": "execute_result"
    }
   ],
   "source": [
    "dataset[\"_PA150R2\"].isnull().sum()"
   ]
  },
  {
   "cell_type": "code",
   "execution_count": 752,
   "id": "2f57e7db",
   "metadata": {},
   "outputs": [
    {
     "data": {
      "text/plain": [
       "1-300 minutes  (or vigorous equivalent minutes) of physical activity    3745\n",
       "0 minutes  (or vigorous equivalent minutes) of physical activity        3372\n",
       "301+ minutes  (or vigorous equivalent minutes) of physical activity     3255\n",
       "Don't know/Not Sure/Refused/Missing                                     1966\n",
       "Name: _PA300R2, dtype: int64"
      ]
     },
     "execution_count": 752,
     "metadata": {},
     "output_type": "execute_result"
    }
   ],
   "source": [
    "dataset[\"_PA300R2\"].value_counts()"
   ]
  },
  {
   "cell_type": "code",
   "execution_count": 753,
   "id": "c313b351",
   "metadata": {},
   "outputs": [
    {
     "data": {
      "text/plain": [
       "0"
      ]
     },
     "execution_count": 753,
     "metadata": {},
     "output_type": "execute_result"
    }
   ],
   "source": [
    "dataset[\"_PA300R2\"].isnull().sum()"
   ]
  },
  {
   "cell_type": "code",
   "execution_count": 754,
   "id": "fe8a4001",
   "metadata": {},
   "outputs": [
    {
     "data": {
      "text/plain": [
       "0-300 minutes  (or vigorous equivalent minutes) of physical activity    7117\n",
       "301+ minutes  (or vigorous equivalent minutes) of physical activity     3255\n",
       "Don't know/Not Sure/Refused/Missing                                     1966\n",
       "Name: _PA30021, dtype: int64"
      ]
     },
     "execution_count": 754,
     "metadata": {},
     "output_type": "execute_result"
    }
   ],
   "source": [
    "dataset[\"_PA30021\"].value_counts()"
   ]
  },
  {
   "cell_type": "code",
   "execution_count": 755,
   "id": "94776b93",
   "metadata": {},
   "outputs": [
    {
     "data": {
      "text/plain": [
       "0"
      ]
     },
     "execution_count": 755,
     "metadata": {},
     "output_type": "execute_result"
    }
   ],
   "source": [
    "dataset[\"_PA30021\"].isnull().sum()"
   ]
  },
  {
   "cell_type": "code",
   "execution_count": 756,
   "id": "749496c1",
   "metadata": {},
   "outputs": [
    {
     "data": {
      "text/plain": [
       "Did not meet muscle strengthening recommendations    7638\n",
       "Meet muscle strengthening recommendations            3103\n",
       "Don't know/Not Sure/Refused/Missing                  1597\n",
       "Name: _PASTRNG, dtype: int64"
      ]
     },
     "execution_count": 756,
     "metadata": {},
     "output_type": "execute_result"
    }
   ],
   "source": [
    "dataset[\"_PASTRNG\"].value_counts()"
   ]
  },
  {
   "cell_type": "code",
   "execution_count": 757,
   "id": "77f12045",
   "metadata": {},
   "outputs": [
    {
     "data": {
      "text/plain": [
       "0"
      ]
     },
     "execution_count": 757,
     "metadata": {},
     "output_type": "execute_result"
    }
   ],
   "source": [
    "dataset[\"_PASTRNG\"].isnull().sum()"
   ]
  },
  {
   "cell_type": "code",
   "execution_count": 758,
   "id": "c2183a54",
   "metadata": {},
   "outputs": [
    {
     "data": {
      "text/plain": [
       "Did not meet Either Guideline          4253\n",
       "Met Aerobic Guidelines Only            3095\n",
       "Don't know/Not Sure/Refused/Missing    2036\n",
       "Met Both Guidelines                    2023\n",
       "Met Strengthening Guidelines Only       931\n",
       "Name: _PAREC1, dtype: int64"
      ]
     },
     "execution_count": 758,
     "metadata": {},
     "output_type": "execute_result"
    }
   ],
   "source": [
    "dataset[\"_PAREC1\"].value_counts()"
   ]
  },
  {
   "cell_type": "code",
   "execution_count": 759,
   "id": "f01e115c",
   "metadata": {},
   "outputs": [
    {
     "data": {
      "text/plain": [
       "0"
      ]
     },
     "execution_count": 759,
     "metadata": {},
     "output_type": "execute_result"
    }
   ],
   "source": [
    "dataset[\"_PAREC1\"].isnull().sum()"
   ]
  },
  {
   "cell_type": "code",
   "execution_count": 760,
   "id": "dee7043b",
   "metadata": {},
   "outputs": [
    {
     "data": {
      "text/plain": [
       "Did Not Meet Both Guidelines           8279\n",
       "Don't know/Not Sure/Refused/Missing    2036\n",
       "Met Both Guidelines                    2023\n",
       "Name: _PASTAE1, dtype: int64"
      ]
     },
     "execution_count": 760,
     "metadata": {},
     "output_type": "execute_result"
    }
   ],
   "source": [
    "dataset[\"_PASTAE1\"].value_counts()"
   ]
  },
  {
   "cell_type": "code",
   "execution_count": 761,
   "id": "faa154b2",
   "metadata": {},
   "outputs": [
    {
     "data": {
      "text/plain": [
       "0"
      ]
     },
     "execution_count": 761,
     "metadata": {},
     "output_type": "execute_result"
    }
   ],
   "source": [
    "dataset[\"_PASTAE1\"].isnull().sum()"
   ]
  },
  {
   "cell_type": "code",
   "execution_count": 762,
   "id": "7b3a9170",
   "metadata": {},
   "outputs": [
    {
     "data": {
      "text/plain": [
       "Not told they have arthritis                               8348\n",
       "Told have arthritis and no limited usual activities        1787\n",
       "Told have arthritis and have limited usual activities      1662\n",
       "Don´t know, refused or missing usual activities limited     463\n",
       "Don´t know, refused or missing arthritis or not asked        78\n",
       "Name: _LMTACT1, dtype: int64"
      ]
     },
     "execution_count": 762,
     "metadata": {},
     "output_type": "execute_result"
    }
   ],
   "source": [
    "dataset[\"_LMTACT1\"].value_counts()"
   ]
  },
  {
   "cell_type": "code",
   "execution_count": 763,
   "id": "e0e4bedf",
   "metadata": {},
   "outputs": [
    {
     "data": {
      "text/plain": [
       "0"
      ]
     },
     "execution_count": 763,
     "metadata": {},
     "output_type": "execute_result"
    }
   ],
   "source": [
    "dataset[\"_LMTACT1\"].isnull().sum()"
   ]
  },
  {
   "cell_type": "code",
   "execution_count": 764,
   "id": "36461572",
   "metadata": {},
   "outputs": [
    {
     "data": {
      "text/plain": [
       "Not told they have arthritis                             8348\n",
       "Told have arthritis and no limited work                  2392\n",
       "Told have arthritis and have limited work                 958\n",
       "Don´t know, refused or missing work limited               562\n",
       "Don´t know, refused or missing arthritis or not asked      78\n",
       "Name: _LMTWRK1, dtype: int64"
      ]
     },
     "execution_count": 764,
     "metadata": {},
     "output_type": "execute_result"
    }
   ],
   "source": [
    "dataset[\"_LMTWRK1\"].value_counts()"
   ]
  },
  {
   "cell_type": "code",
   "execution_count": 765,
   "id": "44532d24",
   "metadata": {},
   "outputs": [
    {
     "data": {
      "text/plain": [
       "0"
      ]
     },
     "execution_count": 765,
     "metadata": {},
     "output_type": "execute_result"
    }
   ],
   "source": [
    "dataset[\"_LMTWRK1\"].isnull().sum()"
   ]
  },
  {
   "cell_type": "code",
   "execution_count": 766,
   "id": "f42d355e",
   "metadata": {},
   "outputs": [
    {
     "data": {
      "text/plain": [
       "Not told they have arthritis                                  8348\n",
       "Told have arthritis and social activities not limited         1977\n",
       "Told have arthritis and social activities limited a little     858\n",
       "Told have arthritis and social activities limited a lot        599\n",
       "Don´t know, refused or missing social activities limited       478\n",
       "Don´t know, refused or missing arthritis or not asked           78\n",
       "Name: _LMTSCL1, dtype: int64"
      ]
     },
     "execution_count": 766,
     "metadata": {},
     "output_type": "execute_result"
    }
   ],
   "source": [
    "dataset[\"_LMTSCL1\"].value_counts()"
   ]
  },
  {
   "cell_type": "code",
   "execution_count": 767,
   "id": "2ad0b64a",
   "metadata": {},
   "outputs": [
    {
     "data": {
      "text/plain": [
       "0"
      ]
     },
     "execution_count": 767,
     "metadata": {},
     "output_type": "execute_result"
    }
   ],
   "source": [
    "dataset[\"_LMTSCL1\"].isnull().sum()"
   ]
  },
  {
   "cell_type": "code",
   "execution_count": 768,
   "id": "d737408b",
   "metadata": {},
   "outputs": [
    {
     "data": {
      "text/plain": [
       "Always or Almost Always Wear Seat Belt        10239\n",
       "Don't know/Not Sure Or Refused/Missing         1541\n",
       "Sometimes, Seldom, or Never Wear Seat Belt      558\n",
       "Name: _RFSEAT2, dtype: int64"
      ]
     },
     "execution_count": 768,
     "metadata": {},
     "output_type": "execute_result"
    }
   ],
   "source": [
    "dataset[\"_RFSEAT2\"].value_counts()"
   ]
  },
  {
   "cell_type": "code",
   "execution_count": 769,
   "id": "0aa1d35e",
   "metadata": {},
   "outputs": [
    {
     "data": {
      "text/plain": [
       "0"
      ]
     },
     "execution_count": 769,
     "metadata": {},
     "output_type": "execute_result"
    }
   ],
   "source": [
    "dataset[\"_RFSEAT2\"].isnull().sum()"
   ]
  },
  {
   "cell_type": "code",
   "execution_count": 770,
   "id": "4bdabcb4",
   "metadata": {},
   "outputs": [
    {
     "data": {
      "text/plain": [
       "Always Wear Seat Belt                     9624\n",
       "Don't know/Not Sure Or Refused/Missing    1541\n",
       "Don't Always Wear Seat Belt               1173\n",
       "Name: _RFSEAT3, dtype: int64"
      ]
     },
     "execution_count": 770,
     "metadata": {},
     "output_type": "execute_result"
    }
   ],
   "source": [
    "dataset[\"_RFSEAT3\"].value_counts()"
   ]
  },
  {
   "cell_type": "code",
   "execution_count": 771,
   "id": "7705126a",
   "metadata": {},
   "outputs": [
    {
     "data": {
      "text/plain": [
       "0"
      ]
     },
     "execution_count": 771,
     "metadata": {},
     "output_type": "execute_result"
    }
   ],
   "source": [
    "dataset[\"_RFSEAT3\"].isnull().sum()"
   ]
  },
  {
   "cell_type": "code",
   "execution_count": 772,
   "id": "2556b255",
   "metadata": {},
   "outputs": [
    {
     "data": {
      "text/plain": [
       "Age Less Than 65                          8110\n",
       "Yes                                       2206\n",
       "No                                        1386\n",
       "Don't know/Not Sure Or Refused/Missing     636\n",
       "Name: _FLSHOT6, dtype: int64"
      ]
     },
     "execution_count": 772,
     "metadata": {},
     "output_type": "execute_result"
    }
   ],
   "source": [
    "dataset[\"_FLSHOT6\"].value_counts()"
   ]
  },
  {
   "cell_type": "code",
   "execution_count": 773,
   "id": "c66b913f",
   "metadata": {},
   "outputs": [
    {
     "data": {
      "text/plain": [
       "0"
      ]
     },
     "execution_count": 773,
     "metadata": {},
     "output_type": "execute_result"
    }
   ],
   "source": [
    "dataset[\"_FLSHOT6\"].isnull().sum()"
   ]
  },
  {
   "cell_type": "code",
   "execution_count": 774,
   "id": "7c1b3100",
   "metadata": {},
   "outputs": [
    {
     "data": {
      "text/plain": [
       "Age Less Than 65                          8110\n",
       "Yes                                       2495\n",
       "No                                         984\n",
       "Don't know/Not Sure Or Refused/Missing     749\n",
       "Name: _PNEUMO2, dtype: int64"
      ]
     },
     "execution_count": 774,
     "metadata": {},
     "output_type": "execute_result"
    }
   ],
   "source": [
    "dataset[\"_PNEUMO2\"].value_counts()"
   ]
  },
  {
   "cell_type": "code",
   "execution_count": 775,
   "id": "19ca0dca",
   "metadata": {},
   "outputs": [
    {
     "data": {
      "text/plain": [
       "0"
      ]
     },
     "execution_count": 775,
     "metadata": {},
     "output_type": "execute_result"
    }
   ],
   "source": [
    "dataset[\"_PNEUMO2\"].isnull().sum()"
   ]
  },
  {
   "cell_type": "code",
   "execution_count": 776,
   "id": "3bbb82c0",
   "metadata": {},
   "outputs": [
    {
     "data": {
      "text/plain": [
       "No                             6190\n",
       "Yes                            4292\n",
       "Not asked or missing           1610\n",
       "Don't know/Not Sure/Refused     246\n",
       "Name: _AIDTST3, dtype: int64"
      ]
     },
     "execution_count": 776,
     "metadata": {},
     "output_type": "execute_result"
    }
   ],
   "source": [
    "dataset[\"_AIDTST3\"].value_counts()"
   ]
  },
  {
   "cell_type": "code",
   "execution_count": 777,
   "id": "1090c58c",
   "metadata": {},
   "outputs": [
    {
     "data": {
      "text/plain": [
       "0"
      ]
     },
     "execution_count": 777,
     "metadata": {},
     "output_type": "execute_result"
    }
   ],
   "source": [
    "dataset[\"_AIDTST3\"].isnull().sum()"
   ]
  },
  {
   "cell_type": "code",
   "execution_count": 778,
   "id": "8728e7fd",
   "metadata": {},
   "outputs": [
    {
     "data": {
      "text/plain": [
       "No     5247\n",
       "Yes    4225\n",
       "8         1\n",
       "Name: MEDICARE, dtype: int64"
      ]
     },
     "execution_count": 778,
     "metadata": {},
     "output_type": "execute_result"
    }
   ],
   "source": [
    "dataset[\"MEDICARE\"].value_counts()"
   ]
  },
  {
   "cell_type": "code",
   "execution_count": 779,
   "id": "47d6f83d",
   "metadata": {},
   "outputs": [
    {
     "data": {
      "text/plain": [
       "2865"
      ]
     },
     "execution_count": 779,
     "metadata": {},
     "output_type": "execute_result"
    }
   ],
   "source": [
    "dataset[\"MEDICARE\"].isnull().sum()"
   ]
  },
  {
   "cell_type": "code",
   "execution_count": 780,
   "id": "7a813725",
   "metadata": {},
   "outputs": [
    {
     "data": {
      "text/plain": [
       "A plan purchased through an employer or union (includes plans purchased through another person's employer)    4422\n",
       "Medicare                                                                                                      2482\n",
       "Medicaid or other state program                                                                                988\n",
       "A plan that you or another family member buys on your own                                                      914\n",
       "Some other source                                                                                              239\n",
       "TRICARE (formerly CHAMPUS), VA, or Military                                                                    156\n",
       "None (no coverage)                                                                                              67\n",
       "Alaska Native, Indian Health Service, Tribal Health Services                                                     6\n",
       "Name: HLTHCVR1, dtype: int64"
      ]
     },
     "execution_count": 780,
     "metadata": {},
     "output_type": "execute_result"
    }
   ],
   "source": [
    "dataset[\"HLTHCVR1\"].value_counts()"
   ]
  },
  {
   "cell_type": "code",
   "execution_count": 781,
   "id": "61e02900",
   "metadata": {},
   "outputs": [
    {
     "data": {
      "text/plain": [
       "3064"
      ]
     },
     "execution_count": 781,
     "metadata": {},
     "output_type": "execute_result"
    }
   ],
   "source": [
    "dataset[\"HLTHCVR1\"].isnull().sum()"
   ]
  },
  {
   "cell_type": "code",
   "execution_count": 782,
   "id": "6dff6002",
   "metadata": {},
   "outputs": [
    {
     "data": {
      "text/plain": [
       "No, I did not delay getting medical care/did not need medical care    8693\n",
       "You couldn't get an appointment soon enough                            440\n",
       "You didn't have transportation                                         321\n",
       "Once you got there, you had to wait too long to see the doctor         290\n",
       "Other                                                                  150\n",
       "You couldn't get through on the telephone                              107\n",
       "The (clinic/doctor's) office wasn't open when you got there.            46\n",
       "Name: DELAYMED, dtype: int64"
      ]
     },
     "execution_count": 782,
     "metadata": {},
     "output_type": "execute_result"
    }
   ],
   "source": [
    "dataset[\"DELAYMED\"].value_counts()"
   ]
  },
  {
   "cell_type": "code",
   "execution_count": 783,
   "id": "531e7f23",
   "metadata": {},
   "outputs": [
    {
     "data": {
      "text/plain": [
       "2291"
      ]
     },
     "execution_count": 783,
     "metadata": {},
     "output_type": "execute_result"
    }
   ],
   "source": [
    "dataset[\"DELAYMED\"].isnull().sum()"
   ]
  },
  {
   "cell_type": "code",
   "execution_count": 784,
   "id": "07b0ff05",
   "metadata": {},
   "outputs": [
    {
     "data": {
      "text/plain": [
       "No     8959\n",
       "Yes     523\n",
       "Name: NOCOV121, dtype: int64"
      ]
     },
     "execution_count": 784,
     "metadata": {},
     "output_type": "execute_result"
    }
   ],
   "source": [
    "dataset[\"NOCOV121\"].value_counts()"
   ]
  },
  {
   "cell_type": "code",
   "execution_count": 785,
   "id": "2fa8aea5",
   "metadata": {},
   "outputs": [
    {
     "data": {
      "text/plain": [
       "2856"
      ]
     },
     "execution_count": 785,
     "metadata": {},
     "output_type": "execute_result"
    }
   ],
   "source": [
    "dataset[\"NOCOV121\"].isnull().sum()"
   ]
  },
  {
   "cell_type": "code",
   "execution_count": 786,
   "id": "0b515eef",
   "metadata": {},
   "outputs": [
    {
     "data": {
      "text/plain": [
       "6 months or less                                   147\n",
       "More than 3 years                                  131\n",
       "Never                                              118\n",
       "More than 1 year but not more than 3 years ago     109\n",
       "More than 6 months but not more than 1 year ago     70\n",
       "Dont know/Not Sure                                  27\n",
       "Name: LSTCOVRG, dtype: int64"
      ]
     },
     "execution_count": 786,
     "metadata": {},
     "output_type": "execute_result"
    }
   ],
   "source": [
    "dataset[\"LSTCOVRG\"].value_counts()"
   ]
  },
  {
   "cell_type": "code",
   "execution_count": 787,
   "id": "f3468e8a",
   "metadata": {},
   "outputs": [
    {
     "data": {
      "text/plain": [
       "11736"
      ]
     },
     "execution_count": 787,
     "metadata": {},
     "output_type": "execute_result"
    }
   ],
   "source": [
    "dataset[\"LSTCOVRG\"].isnull().sum()"
   ]
  },
  {
   "cell_type": "code",
   "execution_count": 788,
   "id": "f987f2f2",
   "metadata": {},
   "outputs": [],
   "source": [
    "dataset.drop(\"LSTCOVRG\", axis=1, inplace=True)"
   ]
  },
  {
   "cell_type": "code",
   "execution_count": 789,
   "id": "16b69510",
   "metadata": {},
   "outputs": [
    {
     "data": {
      "text/plain": [
       "Number of times    9103\n",
       "None                681\n",
       "Name: DRVISITS, dtype: int64"
      ]
     },
     "execution_count": 789,
     "metadata": {},
     "output_type": "execute_result"
    }
   ],
   "source": [
    "dataset[\"DRVISITS\"].value_counts()"
   ]
  },
  {
   "cell_type": "code",
   "execution_count": 790,
   "id": "3965c073",
   "metadata": {},
   "outputs": [
    {
     "data": {
      "text/plain": [
       "2554"
      ]
     },
     "execution_count": 790,
     "metadata": {},
     "output_type": "execute_result"
    }
   ],
   "source": [
    "dataset[\"DRVISITS\"].isnull().sum()"
   ]
  },
  {
   "cell_type": "code",
   "execution_count": 791,
   "id": "da81c0b2",
   "metadata": {},
   "outputs": [
    {
     "data": {
      "text/plain": [
       "No     11150\n",
       "Yes     1144\n",
       "Name: MEDCOST, dtype: int64"
      ]
     },
     "execution_count": 791,
     "metadata": {},
     "output_type": "execute_result"
    }
   ],
   "source": [
    "dataset[\"MEDCOST\"].value_counts()"
   ]
  },
  {
   "cell_type": "code",
   "execution_count": 792,
   "id": "9654acb8",
   "metadata": {},
   "outputs": [
    {
     "data": {
      "text/plain": [
       "2250"
      ]
     },
     "execution_count": 792,
     "metadata": {},
     "output_type": "execute_result"
    }
   ],
   "source": [
    "dataset[\"MEDSCOST\"].isnull().sum()"
   ]
  },
  {
   "cell_type": "code",
   "execution_count": 793,
   "id": "4fc8194d",
   "metadata": {},
   "outputs": [
    {
     "data": {
      "text/plain": [
       "Very satisfied          6721\n",
       "Somewhat satisfied      2767\n",
       "Not at all satisfied     340\n",
       "Not applicable           116\n",
       "Dont know/Not Sure        38\n",
       "Name: CARERCVD, dtype: int64"
      ]
     },
     "execution_count": 793,
     "metadata": {},
     "output_type": "execute_result"
    }
   ],
   "source": [
    "dataset[\"CARERCVD\"].value_counts()"
   ]
  },
  {
   "cell_type": "code",
   "execution_count": 794,
   "id": "f66ac7ba",
   "metadata": {},
   "outputs": [
    {
     "data": {
      "text/plain": [
       "2356"
      ]
     },
     "execution_count": 794,
     "metadata": {},
     "output_type": "execute_result"
    }
   ],
   "source": [
    "dataset[\"CARERCVD\"].isnull().sum()"
   ]
  },
  {
   "cell_type": "code",
   "execution_count": 795,
   "id": "fa2c651d",
   "metadata": {},
   "outputs": [
    {
     "data": {
      "text/plain": [
       "No     8839\n",
       "Yes    1173\n",
       "Name: MEDBILL1, dtype: int64"
      ]
     },
     "execution_count": 795,
     "metadata": {},
     "output_type": "execute_result"
    }
   ],
   "source": [
    "dataset[\"MEDBILL1\"].value_counts()"
   ]
  },
  {
   "cell_type": "code",
   "execution_count": 796,
   "id": "525378b5",
   "metadata": {},
   "outputs": [
    {
     "data": {
      "text/plain": [
       "2326"
      ]
     },
     "execution_count": 796,
     "metadata": {},
     "output_type": "execute_result"
    }
   ],
   "source": [
    "dataset[\"MEDBILL1\"].isnull().sum()"
   ]
  },
  {
   "cell_type": "code",
   "execution_count": 797,
   "id": "c53a8731",
   "metadata": {},
   "outputs": [
    {
     "data": {
      "text/plain": [
       "No                                      1897\n",
       "Yes, employed full time or part time     245\n",
       "Yes, self employed                        96\n",
       "Name: EMPLSTYR, dtype: int64"
      ]
     },
     "execution_count": 797,
     "metadata": {},
     "output_type": "execute_result"
    }
   ],
   "source": [
    "dataset[\"EMPLSTYR\"].value_counts()"
   ]
  },
  {
   "cell_type": "code",
   "execution_count": 798,
   "id": "a805d364",
   "metadata": {},
   "outputs": [
    {
     "data": {
      "text/plain": [
       "10100"
      ]
     },
     "execution_count": 798,
     "metadata": {},
     "output_type": "execute_result"
    }
   ],
   "source": [
    "dataset[\"EMPLSTYR\"].isnull().sum()"
   ]
  },
  {
   "cell_type": "code",
   "execution_count": 799,
   "id": "b2fd92fb",
   "metadata": {},
   "outputs": [],
   "source": [
    "dataset.drop(\"EMPLSTYR\", axis=1, inplace=True)"
   ]
  },
  {
   "cell_type": "code",
   "execution_count": 800,
   "id": "5025e12c",
   "metadata": {},
   "outputs": [
    {
     "data": {
      "text/plain": [
       "No     2810\n",
       "Yes     124\n",
       "Name: JOBINJMT, dtype: int64"
      ]
     },
     "execution_count": 800,
     "metadata": {},
     "output_type": "execute_result"
    }
   ],
   "source": [
    "dataset[\"JOBINJMT\"].value_counts()"
   ]
  },
  {
   "cell_type": "code",
   "execution_count": 801,
   "id": "a5ba9225",
   "metadata": {},
   "outputs": [
    {
     "data": {
      "text/plain": [
       "9404"
      ]
     },
     "execution_count": 801,
     "metadata": {},
     "output_type": "execute_result"
    }
   ],
   "source": [
    "dataset[\"JOBINJMT\"].isnull().sum()"
   ]
  },
  {
   "cell_type": "code",
   "execution_count": 802,
   "id": "17a80236",
   "metadata": {},
   "outputs": [],
   "source": [
    "dataset.drop(\"JOBINJMT\", axis=1, inplace=True)"
   ]
  },
  {
   "cell_type": "code",
   "execution_count": 803,
   "id": "07a1679e",
   "metadata": {},
   "outputs": [
    {
     "data": {
      "text/plain": [
       "Seven or more    46\n",
       "Next day         37\n",
       "Three or four    14\n",
       "One or two       13\n",
       "Five              5\n",
       "Six               2\n",
       "Name: DAYSRTRN, dtype: int64"
      ]
     },
     "execution_count": 803,
     "metadata": {},
     "output_type": "execute_result"
    }
   ],
   "source": [
    "dataset[\"DAYSRTRN\"].value_counts()"
   ]
  },
  {
   "cell_type": "code",
   "execution_count": 804,
   "id": "d6bf09f1",
   "metadata": {},
   "outputs": [
    {
     "data": {
      "text/plain": [
       "12221"
      ]
     },
     "execution_count": 804,
     "metadata": {},
     "output_type": "execute_result"
    }
   ],
   "source": [
    "dataset[\"DAYSRTRN\"].isnull().sum()"
   ]
  },
  {
   "cell_type": "code",
   "execution_count": 805,
   "id": "70020a78",
   "metadata": {},
   "outputs": [],
   "source": [
    "dataset.drop(\"DAYSRTRN\", axis=1, inplace=True)"
   ]
  },
  {
   "cell_type": "code",
   "execution_count": 806,
   "id": "f1c6fd8e",
   "metadata": {},
   "outputs": [
    {
     "data": {
      "text/plain": [
       "Workers' compensation or the State Insurance Fund               44\n",
       "Multiple payors                                                 28\n",
       "Your own health insurance or health coverage plan               20\n",
       "Your employer WITHOUT a workers' complensation claim             9\n",
       "Your or your family: out of pocket-excluding co-pays             8\n",
       "Workers'compensation claim was filed, but it's still pending     6\n",
       "No one paid; no treatment                                        4\n",
       "Other source (SPECIFY)                                           2\n",
       "Name: WHOPAIDT, dtype: int64"
      ]
     },
     "execution_count": 806,
     "metadata": {},
     "output_type": "execute_result"
    }
   ],
   "source": [
    "dataset[\"WHOPAIDT\"].value_counts()"
   ]
  },
  {
   "cell_type": "code",
   "execution_count": 807,
   "id": "62377cc6",
   "metadata": {},
   "outputs": [
    {
     "data": {
      "text/plain": [
       "12217"
      ]
     },
     "execution_count": 807,
     "metadata": {},
     "output_type": "execute_result"
    }
   ],
   "source": [
    "dataset[\"WHOPAIDT\"].isnull().sum()"
   ]
  },
  {
   "cell_type": "code",
   "execution_count": 808,
   "id": "327770d5",
   "metadata": {},
   "outputs": [],
   "source": [
    "dataset.drop(\"WHOPAIDT\", axis=1, inplace=True)"
   ]
  },
  {
   "cell_type": "code",
   "execution_count": 809,
   "id": "b6faf89e",
   "metadata": {},
   "outputs": [
    {
     "data": {
      "text/plain": [
       "Co-pay           1\n",
       "Car insurance    1\n",
       "Medicaid         1\n",
       "Name: OTHRPAID, dtype: int64"
      ]
     },
     "execution_count": 809,
     "metadata": {},
     "output_type": "execute_result"
    }
   ],
   "source": [
    "dataset[\"OTHRPAID\"].value_counts()"
   ]
  },
  {
   "cell_type": "code",
   "execution_count": 810,
   "id": "cdebcc09",
   "metadata": {},
   "outputs": [
    {
     "data": {
      "text/plain": [
       "12335"
      ]
     },
     "execution_count": 810,
     "metadata": {},
     "output_type": "execute_result"
    }
   ],
   "source": [
    "dataset[\"OTHRPAID\"].isnull().sum()"
   ]
  },
  {
   "cell_type": "code",
   "execution_count": 811,
   "id": "7e065ad6",
   "metadata": {},
   "outputs": [],
   "source": [
    "dataset.drop(\"OTHRPAID\", axis=1, inplace=True)"
   ]
  },
  {
   "cell_type": "code",
   "execution_count": 812,
   "id": "526b35e9",
   "metadata": {},
   "outputs": [
    {
     "data": {
      "text/plain": [
       "Yes    115\n",
       "No       8\n",
       "Name: EMPAWARE, dtype: int64"
      ]
     },
     "execution_count": 812,
     "metadata": {},
     "output_type": "execute_result"
    }
   ],
   "source": [
    "dataset[\"EMPAWARE\"].value_counts()"
   ]
  },
  {
   "cell_type": "code",
   "execution_count": 813,
   "id": "5da05054",
   "metadata": {},
   "outputs": [
    {
     "data": {
      "text/plain": [
       "12215"
      ]
     },
     "execution_count": 813,
     "metadata": {},
     "output_type": "execute_result"
    }
   ],
   "source": [
    "dataset[\"EMPAWARE\"].isnull().sum()"
   ]
  },
  {
   "cell_type": "code",
   "execution_count": 814,
   "id": "0636b62d",
   "metadata": {},
   "outputs": [],
   "source": [
    "dataset.drop(\"EMPAWARE\", axis=1, inplace=True)"
   ]
  },
  {
   "cell_type": "code",
   "execution_count": 815,
   "id": "4a4b56d7",
   "metadata": {},
   "outputs": [
    {
     "data": {
      "text/plain": [
       "None        2577\n",
       "A little    1338\n",
       "Some         785\n",
       "Most         204\n",
       "All           82\n",
       "Name: MISNERVS, dtype: int64"
      ]
     },
     "execution_count": 815,
     "metadata": {},
     "output_type": "execute_result"
    }
   ],
   "source": [
    "dataset[\"MISNERVS\"].value_counts()"
   ]
  },
  {
   "cell_type": "code",
   "execution_count": 816,
   "id": "f21f3df4",
   "metadata": {},
   "outputs": [
    {
     "data": {
      "text/plain": [
       "7352"
      ]
     },
     "execution_count": 816,
     "metadata": {},
     "output_type": "execute_result"
    }
   ],
   "source": [
    "dataset[\"MISNERVS\"].isnull().sum()"
   ]
  },
  {
   "cell_type": "code",
   "execution_count": 817,
   "id": "682a9167",
   "metadata": {},
   "outputs": [],
   "source": [
    "dataset.drop(\"MISNERVS\", axis=1, inplace=True)"
   ]
  },
  {
   "cell_type": "code",
   "execution_count": 818,
   "id": "5cfa86d8",
   "metadata": {},
   "outputs": [
    {
     "data": {
      "text/plain": [
       "None        3955\n",
       "A little     546\n",
       "Some         364\n",
       "Most          88\n",
       "All           43\n",
       "Name: MISHOPLS, dtype: int64"
      ]
     },
     "execution_count": 818,
     "metadata": {},
     "output_type": "execute_result"
    }
   ],
   "source": [
    "dataset[\"MISHOPLS\"].value_counts()"
   ]
  },
  {
   "cell_type": "code",
   "execution_count": 819,
   "id": "562ac840",
   "metadata": {},
   "outputs": [
    {
     "data": {
      "text/plain": [
       "7342"
      ]
     },
     "execution_count": 819,
     "metadata": {},
     "output_type": "execute_result"
    }
   ],
   "source": [
    "dataset[\"MISHOPLS\"].isnull().sum()"
   ]
  },
  {
   "cell_type": "code",
   "execution_count": 820,
   "id": "e596461b",
   "metadata": {},
   "outputs": [],
   "source": [
    "dataset.drop(\"MISHOPLS\", axis=1, inplace=True)"
   ]
  },
  {
   "cell_type": "code",
   "execution_count": 821,
   "id": "9e48ac60",
   "metadata": {},
   "outputs": [
    {
     "data": {
      "text/plain": [
       "None        2951\n",
       "A little    1034\n",
       "Some         730\n",
       "Most         156\n",
       "All          107\n",
       "Name: MISRSTLS, dtype: int64"
      ]
     },
     "execution_count": 821,
     "metadata": {},
     "output_type": "execute_result"
    }
   ],
   "source": [
    "dataset[\"MISRSTLS\"].value_counts()"
   ]
  },
  {
   "cell_type": "code",
   "execution_count": 822,
   "id": "3a9ca495",
   "metadata": {},
   "outputs": [
    {
     "data": {
      "text/plain": [
       "7360"
      ]
     },
     "execution_count": 822,
     "metadata": {},
     "output_type": "execute_result"
    }
   ],
   "source": [
    "dataset[\"MISRSTLS\"].isnull().sum()"
   ]
  },
  {
   "cell_type": "code",
   "execution_count": 823,
   "id": "51a25bd0",
   "metadata": {},
   "outputs": [],
   "source": [
    "dataset.drop(\"MISRSTLS\", axis=1, inplace=True)"
   ]
  },
  {
   "cell_type": "code",
   "execution_count": 824,
   "id": "2e58b61e",
   "metadata": {},
   "outputs": [
    {
     "data": {
      "text/plain": [
       "None        4209\n",
       "A little     381\n",
       "Some         292\n",
       "Most          76\n",
       "All           34\n",
       "Name: MISDEPRD, dtype: int64"
      ]
     },
     "execution_count": 824,
     "metadata": {},
     "output_type": "execute_result"
    }
   ],
   "source": [
    "dataset[\"MISDEPRD\"].value_counts()"
   ]
  },
  {
   "cell_type": "code",
   "execution_count": 825,
   "id": "ee13e365",
   "metadata": {},
   "outputs": [
    {
     "data": {
      "text/plain": [
       "7346"
      ]
     },
     "execution_count": 825,
     "metadata": {},
     "output_type": "execute_result"
    }
   ],
   "source": [
    "dataset[\"MISDEPRD\"].isnull().sum()"
   ]
  },
  {
   "cell_type": "code",
   "execution_count": 826,
   "id": "87a0e399",
   "metadata": {},
   "outputs": [],
   "source": [
    "dataset.drop(\"MISDEPRD\", axis=1, inplace=True)"
   ]
  },
  {
   "cell_type": "code",
   "execution_count": 827,
   "id": "c4e9ddac",
   "metadata": {},
   "outputs": [
    {
     "data": {
      "text/plain": [
       "None        3227\n",
       "A little     739\n",
       "Some         623\n",
       "All          185\n",
       "Most         183\n",
       "Name: MISEFFRT, dtype: int64"
      ]
     },
     "execution_count": 827,
     "metadata": {},
     "output_type": "execute_result"
    }
   ],
   "source": [
    "dataset[\"MISEFFRT\"].value_counts()"
   ]
  },
  {
   "cell_type": "code",
   "execution_count": 828,
   "id": "3be6b5e6",
   "metadata": {},
   "outputs": [
    {
     "data": {
      "text/plain": [
       "7381"
      ]
     },
     "execution_count": 828,
     "metadata": {},
     "output_type": "execute_result"
    }
   ],
   "source": [
    "dataset[\"MISEFFRT\"].isnull().sum()"
   ]
  },
  {
   "cell_type": "code",
   "execution_count": 829,
   "id": "5214417a",
   "metadata": {},
   "outputs": [],
   "source": [
    "dataset.drop(\"MISEFFRT\", axis=1, inplace=True)"
   ]
  },
  {
   "cell_type": "code",
   "execution_count": 830,
   "id": "e4c05cab",
   "metadata": {},
   "outputs": [
    {
     "data": {
      "text/plain": [
       "None        4319\n",
       "A little     295\n",
       "Some         246\n",
       "Most          73\n",
       "All           50\n",
       "Name: MISWTLES, dtype: int64"
      ]
     },
     "execution_count": 830,
     "metadata": {},
     "output_type": "execute_result"
    }
   ],
   "source": [
    "dataset[\"MISWTLES\"].value_counts()"
   ]
  },
  {
   "cell_type": "code",
   "execution_count": 831,
   "id": "bab70287",
   "metadata": {},
   "outputs": [
    {
     "data": {
      "text/plain": [
       "7355"
      ]
     },
     "execution_count": 831,
     "metadata": {},
     "output_type": "execute_result"
    }
   ],
   "source": [
    "dataset[\"MISWTLES\"].isnull().sum()"
   ]
  },
  {
   "cell_type": "code",
   "execution_count": 832,
   "id": "584e8ea0",
   "metadata": {},
   "outputs": [],
   "source": [
    "dataset.drop(\"MISWTLES\", axis=1, inplace=True)"
   ]
  },
  {
   "cell_type": "code",
   "execution_count": 833,
   "id": "65c810dd",
   "metadata": {},
   "outputs": [
    {
     "data": {
      "text/plain": [
       "None              4451\n",
       "Number of days     492\n",
       "Name: MISNOWRK, dtype: int64"
      ]
     },
     "execution_count": 833,
     "metadata": {},
     "output_type": "execute_result"
    }
   ],
   "source": [
    "dataset[\"MISNOWRK\"].value_counts()"
   ]
  },
  {
   "cell_type": "code",
   "execution_count": 834,
   "id": "b16c0b46",
   "metadata": {},
   "outputs": [
    {
     "data": {
      "text/plain": [
       "7395"
      ]
     },
     "execution_count": 834,
     "metadata": {},
     "output_type": "execute_result"
    }
   ],
   "source": [
    "dataset[\"MISNOWRK\"].isnull().sum()"
   ]
  },
  {
   "cell_type": "code",
   "execution_count": 835,
   "id": "926e6b2c",
   "metadata": {},
   "outputs": [],
   "source": [
    "dataset.drop(\"MISNOWRK\", axis=1, inplace=True)"
   ]
  },
  {
   "cell_type": "code",
   "execution_count": 836,
   "id": "5e345772",
   "metadata": {},
   "outputs": [
    {
     "data": {
      "text/plain": [
       "No     4334\n",
       "Yes     636\n",
       "Name: MISTMNT, dtype: int64"
      ]
     },
     "execution_count": 836,
     "metadata": {},
     "output_type": "execute_result"
    }
   ],
   "source": [
    "dataset[\"MISTMNT\"].value_counts()"
   ]
  },
  {
   "cell_type": "code",
   "execution_count": 837,
   "id": "e693f6e1",
   "metadata": {},
   "outputs": [
    {
     "data": {
      "text/plain": [
       "7368"
      ]
     },
     "execution_count": 837,
     "metadata": {},
     "output_type": "execute_result"
    }
   ],
   "source": [
    "dataset[\"MISTMNT\"].isnull().sum()"
   ]
  },
  {
   "cell_type": "code",
   "execution_count": 838,
   "id": "ecd5f9db",
   "metadata": {},
   "outputs": [],
   "source": [
    "dataset.drop(\"MISTMNT\", axis=1, inplace=True)"
   ]
  },
  {
   "cell_type": "code",
   "execution_count": 839,
   "id": "b874beca",
   "metadata": {},
   "outputs": [
    {
     "data": {
      "text/plain": [
       "All         3350\n",
       "Most         993\n",
       "A little     189\n",
       "None         120\n",
       "Some          90\n",
       "Name: MISTRHLP, dtype: int64"
      ]
     },
     "execution_count": 839,
     "metadata": {},
     "output_type": "execute_result"
    }
   ],
   "source": [
    "dataset[\"MISTRHLP\"].value_counts()"
   ]
  },
  {
   "cell_type": "code",
   "execution_count": 840,
   "id": "85f202f8",
   "metadata": {},
   "outputs": [
    {
     "data": {
      "text/plain": [
       "7596"
      ]
     },
     "execution_count": 840,
     "metadata": {},
     "output_type": "execute_result"
    }
   ],
   "source": [
    "dataset[\"MISTRHLP\"].isnull().sum()"
   ]
  },
  {
   "cell_type": "code",
   "execution_count": 841,
   "id": "f6e163ee",
   "metadata": {},
   "outputs": [],
   "source": [
    "dataset.drop(\"MISTRHLP\", axis=1, inplace=True)"
   ]
  },
  {
   "cell_type": "code",
   "execution_count": 842,
   "id": "d6b0df36",
   "metadata": {},
   "outputs": [
    {
     "data": {
      "text/plain": [
       "Agree slightly                1650\n",
       "Disagree slightly             1249\n",
       "Agree strongly                1213\n",
       "Disagree strongly              557\n",
       "Neither agree nor disagree      90\n",
       "Name: MISPHLPF, dtype: int64"
      ]
     },
     "execution_count": 842,
     "metadata": {},
     "output_type": "execute_result"
    }
   ],
   "source": [
    "dataset[\"MISPHLPF\"].value_counts()"
   ]
  },
  {
   "cell_type": "code",
   "execution_count": 843,
   "id": "7393ac58",
   "metadata": {},
   "outputs": [
    {
     "data": {
      "text/plain": [
       "7579"
      ]
     },
     "execution_count": 843,
     "metadata": {},
     "output_type": "execute_result"
    }
   ],
   "source": [
    "dataset[\"MISPHLPF\"].isnull().sum()"
   ]
  },
  {
   "cell_type": "code",
   "execution_count": 844,
   "id": "e9922cfc",
   "metadata": {},
   "outputs": [],
   "source": [
    "dataset.drop(\"MISPHLPF\", axis=1, inplace=True)"
   ]
  },
  {
   "cell_type": "code",
   "execution_count": 845,
   "id": "5701484e",
   "metadata": {},
   "outputs": [
    {
     "data": {
      "text/plain": [
       "Never              2682\n",
       "Times per month    1129\n",
       "Times per week      685\n",
       "Times per day       416\n",
       "Name: SSBSUGR1, dtype: int64"
      ]
     },
     "execution_count": 845,
     "metadata": {},
     "output_type": "execute_result"
    }
   ],
   "source": [
    "dataset[\"SSBSUGR1\"].value_counts()"
   ]
  },
  {
   "cell_type": "code",
   "execution_count": 846,
   "id": "9f9a7878",
   "metadata": {},
   "outputs": [
    {
     "data": {
      "text/plain": [
       "7426"
      ]
     },
     "execution_count": 846,
     "metadata": {},
     "output_type": "execute_result"
    }
   ],
   "source": [
    "dataset[\"SSBSUGR1\"].isnull().sum()"
   ]
  },
  {
   "cell_type": "code",
   "execution_count": 847,
   "id": "8431f8e1",
   "metadata": {},
   "outputs": [],
   "source": [
    "dataset.drop(\"SSBSUGR1\", axis=1, inplace=True)"
   ]
  },
  {
   "cell_type": "code",
   "execution_count": 848,
   "id": "05e52cf8",
   "metadata": {},
   "outputs": [
    {
     "data": {
      "text/plain": [
       "Never              3142\n",
       "Times per month     757\n",
       "Times per week      629\n",
       "Times per day       369\n",
       "Name: SSBFRUT2, dtype: int64"
      ]
     },
     "execution_count": 848,
     "metadata": {},
     "output_type": "execute_result"
    }
   ],
   "source": [
    "dataset[\"SSBFRUT2\"].value_counts()"
   ]
  },
  {
   "cell_type": "code",
   "execution_count": 849,
   "id": "1c0dc211",
   "metadata": {},
   "outputs": [
    {
     "data": {
      "text/plain": [
       "7441"
      ]
     },
     "execution_count": 849,
     "metadata": {},
     "output_type": "execute_result"
    }
   ],
   "source": [
    "dataset[\"SSBFRUT2\"].isnull().sum()"
   ]
  },
  {
   "cell_type": "code",
   "execution_count": 850,
   "id": "804ff7a3",
   "metadata": {},
   "outputs": [],
   "source": [
    "dataset.drop(\"SSBFRUT2\", axis=1, inplace=True)"
   ]
  },
  {
   "cell_type": "code",
   "execution_count": 851,
   "id": "94c28711",
   "metadata": {},
   "outputs": [
    {
     "data": {
      "text/plain": [
       "Yes    4604\n",
       "No      309\n",
       "Name: HCVHEAR, dtype: int64"
      ]
     },
     "execution_count": 851,
     "metadata": {},
     "output_type": "execute_result"
    }
   ],
   "source": [
    "dataset[\"HCVHEAR\"].value_counts()"
   ]
  },
  {
   "cell_type": "code",
   "execution_count": 852,
   "id": "478beb92",
   "metadata": {},
   "outputs": [
    {
     "data": {
      "text/plain": [
       "7425"
      ]
     },
     "execution_count": 852,
     "metadata": {},
     "output_type": "execute_result"
    }
   ],
   "source": [
    "dataset[\"HCVHEAR\"].isnull().sum()"
   ]
  },
  {
   "cell_type": "code",
   "execution_count": 853,
   "id": "4d4d6319",
   "metadata": {},
   "outputs": [],
   "source": [
    "dataset.drop(\"HCVHEAR\", axis=1, inplace=True)"
   ]
  },
  {
   "cell_type": "code",
   "execution_count": 854,
   "id": "1c8468cd",
   "metadata": {},
   "outputs": [
    {
     "data": {
      "text/plain": [
       "No     3148\n",
       "Yes    1242\n",
       "Name: HCVTEST, dtype: int64"
      ]
     },
     "execution_count": 854,
     "metadata": {},
     "output_type": "execute_result"
    }
   ],
   "source": [
    "dataset[\"HCVTEST\"].value_counts()"
   ]
  },
  {
   "cell_type": "code",
   "execution_count": 855,
   "id": "958aad6d",
   "metadata": {},
   "outputs": [
    {
     "data": {
      "text/plain": [
       "7948"
      ]
     },
     "execution_count": 855,
     "metadata": {},
     "output_type": "execute_result"
    }
   ],
   "source": [
    "dataset[\"HCVTEST\"].isnull().sum()"
   ]
  },
  {
   "cell_type": "code",
   "execution_count": 856,
   "id": "e1616e71",
   "metadata": {},
   "outputs": [],
   "source": [
    "dataset.drop(\"HCVTEST\", axis=1, inplace=True)"
   ]
  },
  {
   "cell_type": "code",
   "execution_count": 857,
   "id": "b87bdc1d",
   "metadata": {},
   "outputs": [
    {
     "data": {
      "text/plain": [
       "Month / Year                    733\n",
       "Unknown month and known year    182\n",
       "771989                            3\n",
       "771970                            3\n",
       "771966                            2\n",
       "771988                            2\n",
       "771977                            1\n",
       "771955                            1\n",
       "771958                            1\n",
       "771980                            1\n",
       "771978                            1\n",
       "771987                            1\n",
       "771986                            1\n",
       "771972                            1\n",
       "771959                            1\n",
       "Name: HCVLASTT, dtype: int64"
      ]
     },
     "execution_count": 857,
     "metadata": {},
     "output_type": "execute_result"
    }
   ],
   "source": [
    "dataset[\"HCVLASTT\"].value_counts()"
   ]
  },
  {
   "cell_type": "code",
   "execution_count": 858,
   "id": "cfc4367a",
   "metadata": {},
   "outputs": [
    {
     "data": {
      "text/plain": [
       "11404"
      ]
     },
     "execution_count": 858,
     "metadata": {},
     "output_type": "execute_result"
    }
   ],
   "source": [
    "dataset[\"HCVLASTT\"].isnull().sum()"
   ]
  },
  {
   "cell_type": "code",
   "execution_count": 859,
   "id": "72cbaea8",
   "metadata": {},
   "outputs": [],
   "source": [
    "dataset.drop(\"HCVLASTT\", axis=1, inplace=True)"
   ]
  },
  {
   "cell_type": "code",
   "execution_count": 860,
   "id": "1f5ad631",
   "metadata": {},
   "outputs": [
    {
     "data": {
      "text/plain": [
       "No     4142\n",
       "Yes     745\n",
       "Name: HCVINPTR, dtype: int64"
      ]
     },
     "execution_count": 860,
     "metadata": {},
     "output_type": "execute_result"
    }
   ],
   "source": [
    "dataset[\"HCVINPTR\"].value_counts()"
   ]
  },
  {
   "cell_type": "code",
   "execution_count": 861,
   "id": "9d129de7",
   "metadata": {},
   "outputs": [
    {
     "data": {
      "text/plain": [
       "7451"
      ]
     },
     "execution_count": 861,
     "metadata": {},
     "output_type": "execute_result"
    }
   ],
   "source": [
    "dataset[\"HCVINPTR\"].isnull().sum()"
   ]
  },
  {
   "cell_type": "code",
   "execution_count": 862,
   "id": "02b9f9e6",
   "metadata": {},
   "outputs": [],
   "source": [
    "dataset.drop(\"HCVINPTR\", axis=1, inplace=True)"
   ]
  },
  {
   "cell_type": "code",
   "execution_count": 863,
   "id": "8b4ae89d",
   "metadata": {},
   "outputs": [
    {
     "data": {
      "text/plain": [
       "No     561\n",
       "Yes     88\n",
       "Name: HCVINPTO, dtype: int64"
      ]
     },
     "execution_count": 863,
     "metadata": {},
     "output_type": "execute_result"
    }
   ],
   "source": [
    "dataset[\"HCVINPTO\"].value_counts()"
   ]
  },
  {
   "cell_type": "code",
   "execution_count": 864,
   "id": "a8beaf0e",
   "metadata": {},
   "outputs": [
    {
     "data": {
      "text/plain": [
       "11689"
      ]
     },
     "execution_count": 864,
     "metadata": {},
     "output_type": "execute_result"
    }
   ],
   "source": [
    "dataset[\"HCVINPTO\"].isnull().sum()"
   ]
  },
  {
   "cell_type": "code",
   "execution_count": 865,
   "id": "6975e14e",
   "metadata": {},
   "outputs": [],
   "source": [
    "dataset.drop(\"HCVINPTO\", axis=1, inplace=True)"
   ]
  },
  {
   "cell_type": "code",
   "execution_count": 866,
   "id": "ecf72dbe",
   "metadata": {},
   "outputs": [
    {
     "data": {
      "text/plain": [
       "Yes    50\n",
       "No     33\n",
       "Name: HCVINPTA, dtype: int64"
      ]
     },
     "execution_count": 866,
     "metadata": {},
     "output_type": "execute_result"
    }
   ],
   "source": [
    "dataset[\"HCVINPTA\"].value_counts()"
   ]
  },
  {
   "cell_type": "code",
   "execution_count": 867,
   "id": "d7c1cba9",
   "metadata": {},
   "outputs": [
    {
     "data": {
      "text/plain": [
       "12255"
      ]
     },
     "execution_count": 867,
     "metadata": {},
     "output_type": "execute_result"
    }
   ],
   "source": [
    "dataset[\"HCVINPTA\"].isnull().sum()"
   ]
  },
  {
   "cell_type": "code",
   "execution_count": 868,
   "id": "1dc3f437",
   "metadata": {},
   "outputs": [],
   "source": [
    "dataset.drop(\"HCVINPTA\", axis=1, inplace=True)"
   ]
  },
  {
   "cell_type": "code",
   "execution_count": 869,
   "id": "b2e80f7d",
   "metadata": {},
   "outputs": [
    {
     "data": {
      "text/plain": [
       "Yes    3602\n",
       "No     1283\n",
       "Name: HCVPRIMR, dtype: int64"
      ]
     },
     "execution_count": 869,
     "metadata": {},
     "output_type": "execute_result"
    }
   ],
   "source": [
    "dataset[\"HCVPRIMR\"].value_counts()"
   ]
  },
  {
   "cell_type": "code",
   "execution_count": 870,
   "id": "88e71a60",
   "metadata": {},
   "outputs": [
    {
     "data": {
      "text/plain": [
       "7453"
      ]
     },
     "execution_count": 870,
     "metadata": {},
     "output_type": "execute_result"
    }
   ],
   "source": [
    "dataset[\"HCVPRIMR\"].isnull().sum()"
   ]
  },
  {
   "cell_type": "code",
   "execution_count": 871,
   "id": "a6624d26",
   "metadata": {},
   "outputs": [],
   "source": [
    "dataset.drop(\"HCVPRIMR\", axis=1, inplace=True)"
   ]
  },
  {
   "cell_type": "code",
   "execution_count": 872,
   "id": "552624b4",
   "metadata": {},
   "outputs": [
    {
     "data": {
      "text/plain": [
       "No     2888\n",
       "Yes     387\n",
       "Name: HCVPRIMO, dtype: int64"
      ]
     },
     "execution_count": 872,
     "metadata": {},
     "output_type": "execute_result"
    }
   ],
   "source": [
    "dataset[\"HCVPRIMO\"].value_counts()"
   ]
  },
  {
   "cell_type": "code",
   "execution_count": 873,
   "id": "3cce2c68",
   "metadata": {},
   "outputs": [
    {
     "data": {
      "text/plain": [
       "9063"
      ]
     },
     "execution_count": 873,
     "metadata": {},
     "output_type": "execute_result"
    }
   ],
   "source": [
    "dataset[\"HCVPRIMO\"].isnull().sum()"
   ]
  },
  {
   "cell_type": "code",
   "execution_count": 874,
   "id": "07c14ed5",
   "metadata": {},
   "outputs": [],
   "source": [
    "dataset.drop(\"HCVPRIMO\", axis=1, inplace=True)"
   ]
  },
  {
   "cell_type": "code",
   "execution_count": 875,
   "id": "1e1e9412",
   "metadata": {},
   "outputs": [
    {
     "data": {
      "text/plain": [
       "Yes    246\n",
       "No     131\n",
       "Name: HCVPRIMA, dtype: int64"
      ]
     },
     "execution_count": 875,
     "metadata": {},
     "output_type": "execute_result"
    }
   ],
   "source": [
    "dataset[\"HCVPRIMA\"].value_counts()"
   ]
  },
  {
   "cell_type": "code",
   "execution_count": 876,
   "id": "710f9c98",
   "metadata": {},
   "outputs": [
    {
     "data": {
      "text/plain": [
       "11961"
      ]
     },
     "execution_count": 876,
     "metadata": {},
     "output_type": "execute_result"
    }
   ],
   "source": [
    "dataset[\"HCVPRIMA\"].isnull().sum()"
   ]
  },
  {
   "cell_type": "code",
   "execution_count": 877,
   "id": "77e464db",
   "metadata": {},
   "outputs": [],
   "source": [
    "dataset.drop(\"HCVPRIMA\", axis=1, inplace=True)"
   ]
  },
  {
   "cell_type": "code",
   "execution_count": 878,
   "id": "b46e55a0",
   "metadata": {},
   "outputs": [
    {
     "data": {
      "text/plain": [
       "No                    2324\n",
       "Yes                    306\n",
       "Not sure/dont know       6\n",
       "Name: HEALTHCL1, dtype: int64"
      ]
     },
     "execution_count": 878,
     "metadata": {},
     "output_type": "execute_result"
    }
   ],
   "source": [
    "dataset[\"HEALTHCL1\"].value_counts()"
   ]
  },
  {
   "cell_type": "code",
   "execution_count": 879,
   "id": "335ac4a1",
   "metadata": {},
   "outputs": [
    {
     "data": {
      "text/plain": [
       "9702"
      ]
     },
     "execution_count": 879,
     "metadata": {},
     "output_type": "execute_result"
    }
   ],
   "source": [
    "dataset[\"HEALTHCL1\"].isnull().sum()"
   ]
  },
  {
   "cell_type": "code",
   "execution_count": 880,
   "id": "7112da16",
   "metadata": {},
   "outputs": [],
   "source": [
    "dataset.drop(\"HEALTHCL1\", axis=1, inplace=True)"
   ]
  },
  {
   "cell_type": "code",
   "execution_count": 881,
   "id": "516d5cfe",
   "metadata": {},
   "outputs": [
    {
     "data": {
      "text/plain": [
       "No                    4773\n",
       "Yes                    278\n",
       "Not sure/dont know       7\n",
       "Name: LIFECHG, dtype: int64"
      ]
     },
     "execution_count": 881,
     "metadata": {},
     "output_type": "execute_result"
    }
   ],
   "source": [
    "dataset[\"LIFECHG\"].value_counts()"
   ]
  },
  {
   "cell_type": "code",
   "execution_count": 882,
   "id": "10324a46",
   "metadata": {},
   "outputs": [
    {
     "data": {
      "text/plain": [
       "7280"
      ]
     },
     "execution_count": 882,
     "metadata": {},
     "output_type": "execute_result"
    }
   ],
   "source": [
    "dataset[\"LIFECHG\"].isnull().sum()"
   ]
  },
  {
   "cell_type": "code",
   "execution_count": 883,
   "id": "9a84ca04",
   "metadata": {},
   "outputs": [],
   "source": [
    "dataset.drop(\"LIFECHG\", axis=1, inplace=True)"
   ]
  },
  {
   "cell_type": "code",
   "execution_count": 884,
   "id": "cc0bffd3",
   "metadata": {},
   "outputs": [
    {
     "data": {
      "text/plain": [
       "Within the past year (anytime less than 12 months ago)         3553\n",
       "Within the past 2 years (1 year but less than 2 years ago)      533\n",
       "Within the past 5 years (2 years but less than 5 years ago)     457\n",
       "5 or more years ago                                             433\n",
       "Never                                                            40\n",
       "Name: LASTDENT1, dtype: int64"
      ]
     },
     "execution_count": 884,
     "metadata": {},
     "output_type": "execute_result"
    }
   ],
   "source": [
    "dataset[\"LASTDENT1\"].value_counts()"
   ]
  },
  {
   "cell_type": "code",
   "execution_count": 885,
   "id": "28cb46b9",
   "metadata": {},
   "outputs": [
    {
     "data": {
      "text/plain": [
       "7322"
      ]
     },
     "execution_count": 885,
     "metadata": {},
     "output_type": "execute_result"
    }
   ],
   "source": [
    "dataset[\"LASTDENT1\"].isnull().sum()"
   ]
  },
  {
   "cell_type": "code",
   "execution_count": 886,
   "id": "9ab63b69",
   "metadata": {},
   "outputs": [],
   "source": [
    "dataset.drop(\"LASTDENT1\", axis=1, inplace=True)"
   ]
  },
  {
   "cell_type": "code",
   "execution_count": 887,
   "id": "ee61b28b",
   "metadata": {},
   "outputs": [
    {
     "data": {
      "text/plain": [
       "None                      2233\n",
       "1 to 5                    1763\n",
       "6 or more, but not all     677\n",
       "All                        278\n",
       "Name: RMVTEETH1, dtype: int64"
      ]
     },
     "execution_count": 887,
     "metadata": {},
     "output_type": "execute_result"
    }
   ],
   "source": [
    "dataset[\"RMVTEETH1\"].value_counts()"
   ]
  },
  {
   "cell_type": "code",
   "execution_count": 888,
   "id": "ea125c0c",
   "metadata": {},
   "outputs": [
    {
     "data": {
      "text/plain": [
       "7387"
      ]
     },
     "execution_count": 888,
     "metadata": {},
     "output_type": "execute_result"
    }
   ],
   "source": [
    "dataset[\"RMVTEETH1\"].isnull().sum()"
   ]
  },
  {
   "cell_type": "code",
   "execution_count": 889,
   "id": "c659d269",
   "metadata": {},
   "outputs": [],
   "source": [
    "dataset.drop(\"RMVTEETH1\", axis=1, inplace=True)"
   ]
  },
  {
   "cell_type": "code",
   "execution_count": 890,
   "id": "ee4acc95",
   "metadata": {},
   "outputs": [
    {
     "data": {
      "text/plain": [
       "No     4662\n",
       "Yes     365\n",
       "Name: DIFFHEAR, dtype: int64"
      ]
     },
     "execution_count": 890,
     "metadata": {},
     "output_type": "execute_result"
    }
   ],
   "source": [
    "dataset[\"DIFFHEAR\"].value_counts()"
   ]
  },
  {
   "cell_type": "code",
   "execution_count": 891,
   "id": "94602a3b",
   "metadata": {},
   "outputs": [
    {
     "data": {
      "text/plain": [
       "7311"
      ]
     },
     "execution_count": 891,
     "metadata": {},
     "output_type": "execute_result"
    }
   ],
   "source": [
    "dataset[\"DIFFHEAR\"].isnull().sum()"
   ]
  },
  {
   "cell_type": "code",
   "execution_count": 892,
   "id": "a6df8af3",
   "metadata": {},
   "outputs": [],
   "source": [
    "dataset.drop(\"DIFFHEAR\", axis=1, inplace=True)"
   ]
  },
  {
   "cell_type": "code",
   "execution_count": 893,
   "id": "d3565624",
   "metadata": {},
   "outputs": [
    {
     "data": {
      "text/plain": [
       "Yes, in my community or neighborhood    4603\n",
       "No                                       402\n",
       "Name: FRUITVEG, dtype: int64"
      ]
     },
     "execution_count": 893,
     "metadata": {},
     "output_type": "execute_result"
    }
   ],
   "source": [
    "dataset[\"FRUITVEG\"].value_counts()"
   ]
  },
  {
   "cell_type": "code",
   "execution_count": 894,
   "id": "9a8cd7d7",
   "metadata": {},
   "outputs": [
    {
     "data": {
      "text/plain": [
       "7333"
      ]
     },
     "execution_count": 894,
     "metadata": {},
     "output_type": "execute_result"
    }
   ],
   "source": [
    "dataset[\"FRUITVEG\"].isnull().sum()"
   ]
  },
  {
   "cell_type": "code",
   "execution_count": 895,
   "id": "a061b885",
   "metadata": {},
   "outputs": [],
   "source": [
    "dataset.drop(\"FRUITVEG\", axis=1, inplace=True)"
   ]
  },
  {
   "cell_type": "code",
   "execution_count": 896,
   "id": "c87f22ba",
   "metadata": {},
   "outputs": [
    {
     "data": {
      "text/plain": [
       "No stores in my community or neighborhood                                         128\n",
       "Stores in my community or neighborhood have poor quality fruits and vegetables     83\n",
       "Stores in my community or neighborhood are too expensive                           80\n",
       "Other SPECIFY                                                                      49\n",
       "Dont know / Not sure                                                               18\n",
       "Dont eat fresh fruits or vegetables                                                17\n",
       "Stores in my community or neighborhood have poor quality service                   10\n",
       "Dont cook                                                                           6\n",
       "I feel uncomfortable in stores in my community or neighborhood                      3\n",
       "Name: NOVEGFRU, dtype: int64"
      ]
     },
     "execution_count": 896,
     "metadata": {},
     "output_type": "execute_result"
    }
   ],
   "source": [
    "dataset[\"NOVEGFRU\"].value_counts()"
   ]
  },
  {
   "cell_type": "code",
   "execution_count": 897,
   "id": "7afe9f83",
   "metadata": {},
   "outputs": [
    {
     "data": {
      "text/plain": [
       "11944"
      ]
     },
     "execution_count": 897,
     "metadata": {},
     "output_type": "execute_result"
    }
   ],
   "source": [
    "dataset[\"NOVEGFRU\"].isnull().sum()"
   ]
  },
  {
   "cell_type": "code",
   "execution_count": 898,
   "id": "2bd39af3",
   "metadata": {},
   "outputs": [],
   "source": [
    "dataset.drop(\"NOVEGFRU\", axis=1, inplace=True)"
   ]
  },
  {
   "cell_type": "code",
   "execution_count": 899,
   "id": "c9fdd3ee",
   "metadata": {},
   "outputs": [
    {
     "data": {
      "text/plain": [
       "Convenience                  2\n",
       "od.                          1\n",
       "Buys from fresh direct       1\n",
       "I grow my own.               1\n",
       "Grow my own                  1\n",
       "ore and get it all.          1\n",
       "in a small town.             1\n",
       "Like  Shotright  better      1\n",
       "ur old neighborhood          1\n",
       "Grow our own.                1\n",
       "Brother has a farm/field.    1\n",
       "Convenience thing            1\n",
       "No transportation            1\n",
       "Rural setting                1\n",
       "Transportation               1\n",
       "t readily available.         1\n",
       "We have a garden.            1\n",
       "y elsewhere.                 1\n",
       "Poor selection.              1\n",
       "ing them home.               1\n",
       "Just too lazy to go.         1\n",
       "Belong to a cooperative      1\n",
       "Location                     1\n",
       "s are too early.             1\n",
       "s are mediocore              1\n",
       "Grocery store                1\n",
       "Don t want to be judged.     1\n",
       "Poor Selection               1\n",
       "I don t talk to anyone.      1\n",
       "market.                      1\n",
       "We grow our own              1\n",
       ".                            1\n",
       "oney laundering.             1\n",
       "I cannot get there.          1\n",
       "Not available                1\n",
       "here.                        1\n",
       "ty.                          1\n",
       "I buy from both sources.     1\n",
       "I don t have time.           1\n",
       "Price                        1\n",
       "Cheapest place               1\n",
       "Name: NOVFOTHR, dtype: int64"
      ]
     },
     "execution_count": 899,
     "metadata": {},
     "output_type": "execute_result"
    }
   ],
   "source": [
    "dataset[\"NOVFOTHR\"].value_counts()"
   ]
  },
  {
   "cell_type": "code",
   "execution_count": 900,
   "id": "054f0dbe",
   "metadata": {},
   "outputs": [
    {
     "data": {
      "text/plain": [
       "12296"
      ]
     },
     "execution_count": 900,
     "metadata": {},
     "output_type": "execute_result"
    }
   ],
   "source": [
    "dataset[\"NOVFOTHR\"].isnull().sum()"
   ]
  },
  {
   "cell_type": "code",
   "execution_count": 901,
   "id": "fd4cb29d",
   "metadata": {},
   "outputs": [],
   "source": [
    "dataset.drop(\"NOVFOTHR\", axis=1, inplace=True)"
   ]
  },
  {
   "cell_type": "code",
   "execution_count": 902,
   "id": "489ed454",
   "metadata": {},
   "outputs": [
    {
     "data": {
      "text/plain": [
       "Never                   2459\n",
       "Sometimes                889\n",
       "Rarely                   809\n",
       "Always                   383\n",
       "Usually                  214\n",
       "Not applicable            33\n",
       "Dont know / Not sure       5\n",
       "Name: STRSRENT, dtype: int64"
      ]
     },
     "execution_count": 902,
     "metadata": {},
     "output_type": "execute_result"
    }
   ],
   "source": [
    "dataset[\"STRSRENT\"].value_counts()"
   ]
  },
  {
   "cell_type": "code",
   "execution_count": 903,
   "id": "acb3f627",
   "metadata": {},
   "outputs": [
    {
     "data": {
      "text/plain": [
       "7546"
      ]
     },
     "execution_count": 903,
     "metadata": {},
     "output_type": "execute_result"
    }
   ],
   "source": [
    "dataset[\"STRSRENT\"].isnull().sum()"
   ]
  },
  {
   "cell_type": "code",
   "execution_count": 904,
   "id": "7f46ebb6",
   "metadata": {},
   "outputs": [],
   "source": [
    "dataset.drop(\"STRSRENT\", axis=1, inplace=True)"
   ]
  },
  {
   "cell_type": "code",
   "execution_count": 905,
   "id": "8abaa552",
   "metadata": {},
   "outputs": [
    {
     "data": {
      "text/plain": [
       "Never                   3304\n",
       "Rarely                   664\n",
       "Sometimes                654\n",
       "Always                   203\n",
       "Usually                  169\n",
       "Dont know / Not sure       4\n",
       "Not applicable             3\n",
       "Name: STRSMEAL, dtype: int64"
      ]
     },
     "execution_count": 905,
     "metadata": {},
     "output_type": "execute_result"
    }
   ],
   "source": [
    "dataset[\"STRSMEAL\"].value_counts()"
   ]
  },
  {
   "cell_type": "code",
   "execution_count": 906,
   "id": "f499666d",
   "metadata": {},
   "outputs": [
    {
     "data": {
      "text/plain": [
       "7337"
      ]
     },
     "execution_count": 906,
     "metadata": {},
     "output_type": "execute_result"
    }
   ],
   "source": [
    "dataset[\"STRSMEAL\"].isnull().sum()"
   ]
  },
  {
   "cell_type": "code",
   "execution_count": 907,
   "id": "40b89ff3",
   "metadata": {},
   "outputs": [],
   "source": [
    "dataset.drop(\"STRSMEAL\", axis=1, inplace=True)"
   ]
  },
  {
   "cell_type": "code",
   "execution_count": 908,
   "id": "ec3c1655",
   "metadata": {},
   "outputs": [
    {
     "data": {
      "text/plain": [
       "New York City       4373\n",
       "Long Island         1479\n",
       "Mid-Hudson          1272\n",
       "Capital District    1064\n",
       "Western Region      1047\n",
       "Finger Lakes        1003\n",
       "Central New York     700\n",
       "North Country        426\n",
       "Southern Tier        367\n",
       "Tug Hill Seaway      306\n",
       "Mohawk Valley        301\n",
       "Name: dsripreg, dtype: int64"
      ]
     },
     "execution_count": 908,
     "metadata": {},
     "output_type": "execute_result"
    }
   ],
   "source": [
    "dataset[\"dsripreg\"].value_counts()"
   ]
  },
  {
   "cell_type": "code",
   "execution_count": 909,
   "id": "9be32c29",
   "metadata": {},
   "outputs": [
    {
     "data": {
      "text/plain": [
       "0"
      ]
     },
     "execution_count": 909,
     "metadata": {},
     "output_type": "execute_result"
    }
   ],
   "source": [
    "dataset[\"dsripreg\"].isnull().sum()"
   ]
  },
  {
   "cell_type": "code",
   "execution_count": 910,
   "id": "a8b1d3fd",
   "metadata": {},
   "outputs": [
    {
     "data": {
      "text/plain": [
       "NYS exclusive of NYC    7965\n",
       "New York City (NYC)     4373\n",
       "Name: REGION, dtype: int64"
      ]
     },
     "execution_count": 910,
     "metadata": {},
     "output_type": "execute_result"
    }
   ],
   "source": [
    "dataset[\"REGION\"].value_counts()"
   ]
  },
  {
   "cell_type": "code",
   "execution_count": 911,
   "id": "4a9f5436",
   "metadata": {},
   "outputs": [
    {
     "data": {
      "text/plain": [
       "0"
      ]
     },
     "execution_count": 911,
     "metadata": {},
     "output_type": "execute_result"
    }
   ],
   "source": [
    "dataset[\"REGION\"].isnull().sum()"
   ]
  },
  {
   "cell_type": "code",
   "execution_count": 912,
   "id": "2c839e42",
   "metadata": {},
   "outputs": [
    {
     "data": {
      "text/plain": [
       "No     11518\n",
       "Yes      820\n",
       "Name: PPS_1, dtype: int64"
      ]
     },
     "execution_count": 912,
     "metadata": {},
     "output_type": "execute_result"
    }
   ],
   "source": [
    "dataset[\"PPS_1\"].value_counts()"
   ]
  },
  {
   "cell_type": "code",
   "execution_count": 913,
   "id": "9b67cb2d",
   "metadata": {},
   "outputs": [
    {
     "data": {
      "text/plain": [
       "0"
      ]
     },
     "execution_count": 913,
     "metadata": {},
     "output_type": "execute_result"
    }
   ],
   "source": [
    "dataset[\"PPS_1\"].isnull().sum()"
   ]
  },
  {
   "cell_type": "code",
   "execution_count": 914,
   "id": "bbd5f882",
   "metadata": {},
   "outputs": [
    {
     "data": {
      "text/plain": [
       "No     11316\n",
       "Yes     1022\n",
       "Name: PPS_3, dtype: int64"
      ]
     },
     "execution_count": 914,
     "metadata": {},
     "output_type": "execute_result"
    }
   ],
   "source": [
    "dataset[\"PPS_3\"].value_counts()"
   ]
  },
  {
   "cell_type": "code",
   "execution_count": 915,
   "id": "918e8d6a",
   "metadata": {},
   "outputs": [
    {
     "data": {
      "text/plain": [
       "0"
      ]
     },
     "execution_count": 915,
     "metadata": {},
     "output_type": "execute_result"
    }
   ],
   "source": [
    "dataset[\"PPS_3\"].isnull().sum()"
   ]
  },
  {
   "cell_type": "code",
   "execution_count": 916,
   "id": "272b57d2",
   "metadata": {},
   "outputs": [
    {
     "data": {
      "text/plain": [
       "No     11640\n",
       "Yes      698\n",
       "Name: PPS_8, dtype: int64"
      ]
     },
     "execution_count": 916,
     "metadata": {},
     "output_type": "execute_result"
    }
   ],
   "source": [
    "dataset[\"PPS_8\"].value_counts()"
   ]
  },
  {
   "cell_type": "code",
   "execution_count": 917,
   "id": "04e1ecf5",
   "metadata": {},
   "outputs": [
    {
     "data": {
      "text/plain": [
       "0"
      ]
     },
     "execution_count": 917,
     "metadata": {},
     "output_type": "execute_result"
    }
   ],
   "source": [
    "dataset[\"PPS_8\"].isnull().sum()"
   ]
  },
  {
   "cell_type": "code",
   "execution_count": 918,
   "id": "51ed90db",
   "metadata": {},
   "outputs": [
    {
     "data": {
      "text/plain": [
       "No     11172\n",
       "Yes     1166\n",
       "Name: PPS_9, dtype: int64"
      ]
     },
     "execution_count": 918,
     "metadata": {},
     "output_type": "execute_result"
    }
   ],
   "source": [
    "dataset[\"PPS_9\"].value_counts()"
   ]
  },
  {
   "cell_type": "code",
   "execution_count": 919,
   "id": "3bbb17b4",
   "metadata": {},
   "outputs": [
    {
     "data": {
      "text/plain": [
       "0"
      ]
     },
     "execution_count": 919,
     "metadata": {},
     "output_type": "execute_result"
    }
   ],
   "source": [
    "dataset[\"PPS_9\"].isnull().sum()"
   ]
  },
  {
   "cell_type": "code",
   "execution_count": 920,
   "id": "8d49479c",
   "metadata": {},
   "outputs": [
    {
     "data": {
      "text/plain": [
       "No     10657\n",
       "Yes     1681\n",
       "Name: PPS_14, dtype: int64"
      ]
     },
     "execution_count": 920,
     "metadata": {},
     "output_type": "execute_result"
    }
   ],
   "source": [
    "dataset[\"PPS_14\"].value_counts()"
   ]
  },
  {
   "cell_type": "code",
   "execution_count": 921,
   "id": "24916383",
   "metadata": {},
   "outputs": [
    {
     "data": {
      "text/plain": [
       "0"
      ]
     },
     "execution_count": 921,
     "metadata": {},
     "output_type": "execute_result"
    }
   ],
   "source": [
    "dataset[\"PPS_14\"].isnull().sum()"
   ]
  },
  {
   "cell_type": "code",
   "execution_count": 922,
   "id": "e04d631b",
   "metadata": {},
   "outputs": [
    {
     "data": {
      "text/plain": [
       "No     11545\n",
       "Yes      793\n",
       "Name: PPS_16, dtype: int64"
      ]
     },
     "execution_count": 922,
     "metadata": {},
     "output_type": "execute_result"
    }
   ],
   "source": [
    "dataset[\"PPS_16\"].value_counts()"
   ]
  },
  {
   "cell_type": "code",
   "execution_count": 923,
   "id": "bddde1f3",
   "metadata": {},
   "outputs": [
    {
     "data": {
      "text/plain": [
       "0"
      ]
     },
     "execution_count": 923,
     "metadata": {},
     "output_type": "execute_result"
    }
   ],
   "source": [
    "dataset[\"PPS_16\"].isnull().sum()"
   ]
  },
  {
   "cell_type": "code",
   "execution_count": 924,
   "id": "a7b2c67a",
   "metadata": {},
   "outputs": [
    {
     "data": {
      "text/plain": [
       "No     11066\n",
       "Yes     1272\n",
       "Name: PPS_19, dtype: int64"
      ]
     },
     "execution_count": 924,
     "metadata": {},
     "output_type": "execute_result"
    }
   ],
   "source": [
    "dataset[\"PPS_19\"].value_counts()"
   ]
  },
  {
   "cell_type": "code",
   "execution_count": 925,
   "id": "afe33bac",
   "metadata": {},
   "outputs": [
    {
     "data": {
      "text/plain": [
       "0"
      ]
     },
     "execution_count": 925,
     "metadata": {},
     "output_type": "execute_result"
    }
   ],
   "source": [
    "dataset[\"PPS_19\"].isnull().sum()"
   ]
  },
  {
   "cell_type": "code",
   "execution_count": 926,
   "id": "d1ba157d",
   "metadata": {},
   "outputs": [
    {
     "data": {
      "text/plain": [
       "No     12017\n",
       "Yes      321\n",
       "Name: PPS_20, dtype: int64"
      ]
     },
     "execution_count": 926,
     "metadata": {},
     "output_type": "execute_result"
    }
   ],
   "source": [
    "dataset[\"PPS_20\"].value_counts()"
   ]
  },
  {
   "cell_type": "code",
   "execution_count": 927,
   "id": "637cf8ce",
   "metadata": {},
   "outputs": [
    {
     "data": {
      "text/plain": [
       "0"
      ]
     },
     "execution_count": 927,
     "metadata": {},
     "output_type": "execute_result"
    }
   ],
   "source": [
    "dataset[\"PPS_20\"].isnull().sum()"
   ]
  },
  {
   "cell_type": "code",
   "execution_count": 928,
   "id": "674c8505",
   "metadata": {},
   "outputs": [
    {
     "data": {
      "text/plain": [
       "No     11006\n",
       "Yes     1332\n",
       "Name: PPS_21, dtype: int64"
      ]
     },
     "execution_count": 928,
     "metadata": {},
     "output_type": "execute_result"
    }
   ],
   "source": [
    "dataset[\"PPS_21\"].value_counts()"
   ]
  },
  {
   "cell_type": "code",
   "execution_count": 929,
   "id": "e5d443ee",
   "metadata": {},
   "outputs": [
    {
     "data": {
      "text/plain": [
       "0"
      ]
     },
     "execution_count": 929,
     "metadata": {},
     "output_type": "execute_result"
    }
   ],
   "source": [
    "dataset[\"PPS_21\"].isnull().sum()"
   ]
  },
  {
   "cell_type": "code",
   "execution_count": 930,
   "id": "8e1a5f2e",
   "metadata": {},
   "outputs": [
    {
     "data": {
      "text/plain": [
       "No     12048\n",
       "Yes      290\n",
       "Name: PPS_22, dtype: int64"
      ]
     },
     "execution_count": 930,
     "metadata": {},
     "output_type": "execute_result"
    }
   ],
   "source": [
    "dataset[\"PPS_22\"].value_counts()"
   ]
  },
  {
   "cell_type": "code",
   "execution_count": 931,
   "id": "9711ddc6",
   "metadata": {},
   "outputs": [
    {
     "data": {
      "text/plain": [
       "0"
      ]
     },
     "execution_count": 931,
     "metadata": {},
     "output_type": "execute_result"
    }
   ],
   "source": [
    "dataset[\"PPS_22\"].isnull().sum()"
   ]
  },
  {
   "cell_type": "code",
   "execution_count": 932,
   "id": "73482540",
   "metadata": {},
   "outputs": [
    {
     "data": {
      "text/plain": [
       "No     11462\n",
       "Yes      876\n",
       "Name: PPS_23, dtype: int64"
      ]
     },
     "execution_count": 932,
     "metadata": {},
     "output_type": "execute_result"
    }
   ],
   "source": [
    "dataset[\"PPS_23\"].value_counts()"
   ]
  },
  {
   "cell_type": "code",
   "execution_count": 933,
   "id": "5b3070c1",
   "metadata": {},
   "outputs": [
    {
     "data": {
      "text/plain": [
       "0"
      ]
     },
     "execution_count": 933,
     "metadata": {},
     "output_type": "execute_result"
    }
   ],
   "source": [
    "dataset[\"PPS_23\"].isnull().sum()"
   ]
  },
  {
   "cell_type": "code",
   "execution_count": 934,
   "id": "ada75863",
   "metadata": {},
   "outputs": [
    {
     "data": {
      "text/plain": [
       "No     8198\n",
       "Yes    4140\n",
       "Name: PPS_25, dtype: int64"
      ]
     },
     "execution_count": 934,
     "metadata": {},
     "output_type": "execute_result"
    }
   ],
   "source": [
    "dataset[\"PPS_25\"].value_counts()"
   ]
  },
  {
   "cell_type": "code",
   "execution_count": 935,
   "id": "f5c428f9",
   "metadata": {},
   "outputs": [
    {
     "data": {
      "text/plain": [
       "0"
      ]
     },
     "execution_count": 935,
     "metadata": {},
     "output_type": "execute_result"
    }
   ],
   "source": [
    "dataset[\"PPS_25\"].isnull().sum()"
   ]
  },
  {
   "cell_type": "code",
   "execution_count": 936,
   "id": "9fd2451f",
   "metadata": {},
   "outputs": [
    {
     "data": {
      "text/plain": [
       "No     11609\n",
       "Yes      729\n",
       "Name: PPS_27, dtype: int64"
      ]
     },
     "execution_count": 936,
     "metadata": {},
     "output_type": "execute_result"
    }
   ],
   "source": [
    "dataset[\"PPS_27\"].value_counts()"
   ]
  },
  {
   "cell_type": "code",
   "execution_count": 937,
   "id": "5ae4c75e",
   "metadata": {},
   "outputs": [
    {
     "data": {
      "text/plain": [
       "0"
      ]
     },
     "execution_count": 937,
     "metadata": {},
     "output_type": "execute_result"
    }
   ],
   "source": [
    "dataset[\"PPS_27\"].isnull().sum()"
   ]
  },
  {
   "cell_type": "code",
   "execution_count": 938,
   "id": "5d0558cd",
   "metadata": {},
   "outputs": [
    {
     "data": {
      "text/plain": [
       "No     11110\n",
       "Yes     1228\n",
       "Name: PPS_32, dtype: int64"
      ]
     },
     "execution_count": 938,
     "metadata": {},
     "output_type": "execute_result"
    }
   ],
   "source": [
    "dataset[\"PPS_32\"].value_counts()"
   ]
  },
  {
   "cell_type": "code",
   "execution_count": 939,
   "id": "7cbf570b",
   "metadata": {},
   "outputs": [
    {
     "data": {
      "text/plain": [
       "0"
      ]
     },
     "execution_count": 939,
     "metadata": {},
     "output_type": "execute_result"
    }
   ],
   "source": [
    "dataset[\"PPS_32\"].isnull().sum()"
   ]
  },
  {
   "cell_type": "code",
   "execution_count": 940,
   "id": "317f799e",
   "metadata": {},
   "outputs": [
    {
     "data": {
      "text/plain": [
       "No     10115\n",
       "Yes     2223\n",
       "Name: PPS_33, dtype: int64"
      ]
     },
     "execution_count": 940,
     "metadata": {},
     "output_type": "execute_result"
    }
   ],
   "source": [
    "dataset[\"PPS_33\"].value_counts()"
   ]
  },
  {
   "cell_type": "code",
   "execution_count": 941,
   "id": "466e8f0c",
   "metadata": {},
   "outputs": [
    {
     "data": {
      "text/plain": [
       "0"
      ]
     },
     "execution_count": 941,
     "metadata": {},
     "output_type": "execute_result"
    }
   ],
   "source": [
    "dataset[\"PPS_33\"].isnull().sum()"
   ]
  },
  {
   "cell_type": "code",
   "execution_count": 942,
   "id": "ea5d0791",
   "metadata": {},
   "outputs": [
    {
     "data": {
      "text/plain": [
       "No     8927\n",
       "Yes    3411\n",
       "Name: PPS_34, dtype: int64"
      ]
     },
     "execution_count": 942,
     "metadata": {},
     "output_type": "execute_result"
    }
   ],
   "source": [
    "dataset[\"PPS_34\"].value_counts()"
   ]
  },
  {
   "cell_type": "code",
   "execution_count": 943,
   "id": "e30c0a0b",
   "metadata": {},
   "outputs": [
    {
     "data": {
      "text/plain": [
       "0"
      ]
     },
     "execution_count": 943,
     "metadata": {},
     "output_type": "execute_result"
    }
   ],
   "source": [
    "dataset[\"PPS_34\"].isnull().sum()"
   ]
  },
  {
   "cell_type": "code",
   "execution_count": 944,
   "id": "bee0acc0",
   "metadata": {},
   "outputs": [
    {
     "data": {
      "text/plain": [
       "No     11609\n",
       "Yes      729\n",
       "Name: PPS_36, dtype: int64"
      ]
     },
     "execution_count": 944,
     "metadata": {},
     "output_type": "execute_result"
    }
   ],
   "source": [
    "dataset[\"PPS_36\"].value_counts()"
   ]
  },
  {
   "cell_type": "code",
   "execution_count": 945,
   "id": "e34eb8dd",
   "metadata": {},
   "outputs": [
    {
     "data": {
      "text/plain": [
       "0"
      ]
     },
     "execution_count": 945,
     "metadata": {},
     "output_type": "execute_result"
    }
   ],
   "source": [
    "dataset[\"PPS_36\"].isnull().sum()"
   ]
  },
  {
   "cell_type": "code",
   "execution_count": 946,
   "id": "d65667da",
   "metadata": {},
   "outputs": [
    {
     "data": {
      "text/plain": [
       "No     11150\n",
       "Yes     1188\n",
       "Name: PPS_39, dtype: int64"
      ]
     },
     "execution_count": 946,
     "metadata": {},
     "output_type": "execute_result"
    }
   ],
   "source": [
    "dataset[\"PPS_39\"].value_counts()"
   ]
  },
  {
   "cell_type": "code",
   "execution_count": 947,
   "id": "3be83a17",
   "metadata": {},
   "outputs": [
    {
     "data": {
      "text/plain": [
       "0"
      ]
     },
     "execution_count": 947,
     "metadata": {},
     "output_type": "execute_result"
    }
   ],
   "source": [
    "dataset[\"PPS_39\"].isnull().sum()"
   ]
  },
  {
   "cell_type": "code",
   "execution_count": 948,
   "id": "65477cce",
   "metadata": {},
   "outputs": [
    {
     "data": {
      "text/plain": [
       "No     11343\n",
       "Yes      995\n",
       "Name: PPS_40, dtype: int64"
      ]
     },
     "execution_count": 948,
     "metadata": {},
     "output_type": "execute_result"
    }
   ],
   "source": [
    "dataset[\"PPS_40\"].value_counts()"
   ]
  },
  {
   "cell_type": "code",
   "execution_count": 949,
   "id": "15b00740",
   "metadata": {},
   "outputs": [
    {
     "data": {
      "text/plain": [
       "0"
      ]
     },
     "execution_count": 949,
     "metadata": {},
     "output_type": "execute_result"
    }
   ],
   "source": [
    "dataset[\"PPS_40\"].isnull().sum()"
   ]
  },
  {
   "cell_type": "code",
   "execution_count": 950,
   "id": "d8ee4382",
   "metadata": {},
   "outputs": [
    {
     "data": {
      "text/plain": [
       "No     12105\n",
       "Yes      233\n",
       "Name: PPS_43, dtype: int64"
      ]
     },
     "execution_count": 950,
     "metadata": {},
     "output_type": "execute_result"
    }
   ],
   "source": [
    "dataset[\"PPS_43\"].value_counts()"
   ]
  },
  {
   "cell_type": "code",
   "execution_count": 951,
   "id": "c1ec57b0",
   "metadata": {},
   "outputs": [
    {
     "data": {
      "text/plain": [
       "0"
      ]
     },
     "execution_count": 951,
     "metadata": {},
     "output_type": "execute_result"
    }
   ],
   "source": [
    "dataset[\"PPS_43\"].isnull().sum()"
   ]
  },
  {
   "cell_type": "code",
   "execution_count": 952,
   "id": "3e97aab7",
   "metadata": {},
   "outputs": [
    {
     "data": {
      "text/plain": [
       "No     11726\n",
       "Yes      612\n",
       "Name: PPS_44, dtype: int64"
      ]
     },
     "execution_count": 952,
     "metadata": {},
     "output_type": "execute_result"
    }
   ],
   "source": [
    "dataset[\"PPS_44\"].value_counts()"
   ]
  },
  {
   "cell_type": "code",
   "execution_count": 953,
   "id": "0916767d",
   "metadata": {},
   "outputs": [
    {
     "data": {
      "text/plain": [
       "0"
      ]
     },
     "execution_count": 953,
     "metadata": {},
     "output_type": "execute_result"
    }
   ],
   "source": [
    "dataset[\"PPS_44\"].isnull().sum()"
   ]
  },
  {
   "cell_type": "code",
   "execution_count": 954,
   "id": "21045e7a",
   "metadata": {},
   "outputs": [
    {
     "data": {
      "text/plain": [
       "No     12032\n",
       "Yes      306\n",
       "Name: PPS_45, dtype: int64"
      ]
     },
     "execution_count": 954,
     "metadata": {},
     "output_type": "execute_result"
    }
   ],
   "source": [
    "dataset[\"PPS_45\"].value_counts()"
   ]
  },
  {
   "cell_type": "code",
   "execution_count": 955,
   "id": "b919774c",
   "metadata": {},
   "outputs": [
    {
     "data": {
      "text/plain": [
       "0"
      ]
     },
     "execution_count": 955,
     "metadata": {},
     "output_type": "execute_result"
    }
   ],
   "source": [
    "dataset[\"PPS_45\"].isnull().sum()"
   ]
  },
  {
   "cell_type": "code",
   "execution_count": 956,
   "id": "fe63a333",
   "metadata": {},
   "outputs": [
    {
     "data": {
      "text/plain": [
       "No     11476\n",
       "Yes      862\n",
       "Name: PPS_46, dtype: int64"
      ]
     },
     "execution_count": 956,
     "metadata": {},
     "output_type": "execute_result"
    }
   ],
   "source": [
    "dataset[\"PPS_46\"].value_counts()"
   ]
  },
  {
   "cell_type": "code",
   "execution_count": 957,
   "id": "5cf6f377",
   "metadata": {},
   "outputs": [
    {
     "data": {
      "text/plain": [
       "0"
      ]
     },
     "execution_count": 957,
     "metadata": {},
     "output_type": "execute_result"
    }
   ],
   "source": [
    "dataset[\"PPS_46\"].isnull().sum()"
   ]
  },
  {
   "cell_type": "code",
   "execution_count": 958,
   "id": "9111e691",
   "metadata": {},
   "outputs": [
    {
     "data": {
      "text/plain": [
       "No     11291\n",
       "Yes     1047\n",
       "Name: PPS_48, dtype: int64"
      ]
     },
     "execution_count": 958,
     "metadata": {},
     "output_type": "execute_result"
    }
   ],
   "source": [
    "dataset[\"PPS_48\"].value_counts()"
   ]
  },
  {
   "cell_type": "code",
   "execution_count": 959,
   "id": "c59b596d",
   "metadata": {},
   "outputs": [
    {
     "data": {
      "text/plain": [
       "0"
      ]
     },
     "execution_count": 959,
     "metadata": {},
     "output_type": "execute_result"
    }
   ],
   "source": [
    "dataset[\"PPS_48\"].isnull().sum()"
   ]
  },
  {
   "cell_type": "code",
   "execution_count": 960,
   "id": "132bd796",
   "metadata": {},
   "outputs": [
    {
     "data": {
      "text/plain": [
       "No     8198\n",
       "Yes    4140\n",
       "Name: PPS_52, dtype: int64"
      ]
     },
     "execution_count": 960,
     "metadata": {},
     "output_type": "execute_result"
    }
   ],
   "source": [
    "dataset[\"PPS_52\"].value_counts()"
   ]
  },
  {
   "cell_type": "code",
   "execution_count": 961,
   "id": "35cce90b",
   "metadata": {},
   "outputs": [
    {
     "data": {
      "text/plain": [
       "0"
      ]
     },
     "execution_count": 961,
     "metadata": {},
     "output_type": "execute_result"
    }
   ],
   "source": [
    "dataset[\"PPS_52\"].isnull().sum()"
   ]
  },
  {
   "cell_type": "code",
   "execution_count": 962,
   "id": "dafef089",
   "metadata": {},
   "outputs": [
    {
     "data": {
      "text/plain": [
       "Series([], Name: childage, dtype: int64)"
      ]
     },
     "execution_count": 962,
     "metadata": {},
     "output_type": "execute_result"
    }
   ],
   "source": [
    "dataset[\"childage\"].value_counts()"
   ]
  },
  {
   "cell_type": "code",
   "execution_count": 963,
   "id": "822833f9",
   "metadata": {},
   "outputs": [
    {
     "data": {
      "text/plain": [
       "12338"
      ]
     },
     "execution_count": 963,
     "metadata": {},
     "output_type": "execute_result"
    }
   ],
   "source": [
    "dataset[\"childage\"].isnull().sum()"
   ]
  },
  {
   "cell_type": "code",
   "execution_count": 964,
   "id": "4a6d2fe6",
   "metadata": {},
   "outputs": [],
   "source": [
    "dataset.drop(\"childage\", axis=1, inplace=True)"
   ]
  },
  {
   "cell_type": "code",
   "execution_count": 965,
   "id": "2d5e3edd",
   "metadata": {},
   "outputs": [
    {
     "data": {
      "text/plain": [
       "12338"
      ]
     },
     "execution_count": 965,
     "metadata": {},
     "output_type": "execute_result"
    }
   ],
   "source": [
    "dataset[\"cracorg1\"].isnull().sum()"
   ]
  },
  {
   "cell_type": "code",
   "execution_count": 966,
   "id": "46a5185b",
   "metadata": {},
   "outputs": [],
   "source": [
    "dataset.drop(\"cracorg1\", axis=1, inplace=True)"
   ]
  },
  {
   "cell_type": "code",
   "execution_count": 967,
   "id": "d1f053fd",
   "metadata": {},
   "outputs": [
    {
     "data": {
      "text/plain": [
       "12338"
      ]
     },
     "execution_count": 967,
     "metadata": {},
     "output_type": "execute_result"
    }
   ],
   "source": [
    "dataset[\"_prace1\"].isnull().sum()"
   ]
  },
  {
   "cell_type": "code",
   "execution_count": 968,
   "id": "d44506ca",
   "metadata": {},
   "outputs": [],
   "source": [
    "dataset.drop(\"_prace1\", axis=1, inplace=True)"
   ]
  },
  {
   "cell_type": "code",
   "execution_count": 969,
   "id": "f1a0e230",
   "metadata": {},
   "outputs": [
    {
     "data": {
      "text/plain": [
       "12338"
      ]
     },
     "execution_count": 969,
     "metadata": {},
     "output_type": "execute_result"
    }
   ],
   "source": [
    "dataset[\"mracasc1\"].isnull().sum()"
   ]
  },
  {
   "cell_type": "code",
   "execution_count": 970,
   "id": "37728505",
   "metadata": {},
   "outputs": [],
   "source": [
    "dataset.drop(\"mracasc1\", axis=1, inplace=True)"
   ]
  },
  {
   "cell_type": "code",
   "execution_count": 971,
   "id": "864172a3",
   "metadata": {},
   "outputs": [
    {
     "data": {
      "text/plain": [
       "12338"
      ]
     },
     "execution_count": 971,
     "metadata": {},
     "output_type": "execute_result"
    }
   ],
   "source": [
    "dataset[\"_impcty\"].isnull().sum()"
   ]
  },
  {
   "cell_type": "code",
   "execution_count": 972,
   "id": "b32ffe20",
   "metadata": {},
   "outputs": [],
   "source": [
    "dataset.drop(\"_impcty\", axis=1, inplace=True)"
   ]
  },
  {
   "cell_type": "code",
   "execution_count": 973,
   "id": "1ce3da01",
   "metadata": {},
   "outputs": [
    {
     "data": {
      "text/plain": [
       "12338"
      ]
     },
     "execution_count": 973,
     "metadata": {},
     "output_type": "execute_result"
    }
   ],
   "source": [
    "dataset[\"mracorg1\"].isnull().sum()"
   ]
  },
  {
   "cell_type": "code",
   "execution_count": 974,
   "id": "c502be27",
   "metadata": {},
   "outputs": [],
   "source": [
    "dataset.drop(\"mracorg1\", axis=1, inplace=True)"
   ]
  },
  {
   "cell_type": "code",
   "execution_count": 975,
   "id": "6aeb9405",
   "metadata": {},
   "outputs": [
    {
     "data": {
      "text/plain": [
       "(12338, 240)"
      ]
     },
     "execution_count": 975,
     "metadata": {},
     "output_type": "execute_result"
    }
   ],
   "source": [
    "dataset.shape"
   ]
  },
  {
   "cell_type": "code",
   "execution_count": 976,
   "id": "2e099533",
   "metadata": {},
   "outputs": [],
   "source": [
    "# Exporting dataset:\n",
    "from IPython.display import FileLink, FileLinks\n",
    "\n",
    "dataset.to_csv('DataSet.csv', index=False)"
   ]
  },
  {
   "cell_type": "code",
   "execution_count": null,
   "id": "d11a7bcc",
   "metadata": {},
   "outputs": [],
   "source": []
  },
  {
   "cell_type": "code",
   "execution_count": null,
   "id": "05a27468",
   "metadata": {},
   "outputs": [],
   "source": []
  }
 ],
 "metadata": {
  "kernelspec": {
   "display_name": "Python 3",
   "language": "python",
   "name": "python3"
  },
  "language_info": {
   "codemirror_mode": {
    "name": "ipython",
    "version": 3
   },
   "file_extension": ".py",
   "mimetype": "text/x-python",
   "name": "python",
   "nbconvert_exporter": "python",
   "pygments_lexer": "ipython3",
   "version": "3.8.8"
  }
 },
 "nbformat": 4,
 "nbformat_minor": 5
}
