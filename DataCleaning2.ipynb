{
 "cells": [
  {
   "cell_type": "code",
   "execution_count": 1,
   "id": "3132bbc6",
   "metadata": {},
   "outputs": [],
   "source": [
    "import math\n",
    "import pandas as pd  \n",
    "import numpy as np  \n",
    "import matplotlib.pyplot as plt  \n",
    "from sklearn.model_selection import cross_validate\n",
    "from sklearn.model_selection import train_test_split \n",
    "from sklearn.preprocessing import LabelEncoder, OneHotEncoder, StandardScaler\n",
    "from sklearn.linear_model import LinearRegression\n",
    "from sklearn import metrics\n",
    "from sklearn.model_selection import train_test_split\n",
    "from sklearn.svm import SVR\n",
    "from sklearn.metrics import r2_score\n",
    "import seaborn as sns\n",
    "from sklearn.metrics import mean_squared_error\n",
    "from sklearn.model_selection import train_test_split\n",
    "from sklearn.model_selection import cross_val_score\n",
    "from sklearn.preprocessing import scale\n",
    "from sklearn.naive_bayes import GaussianNB\n",
    "from sklearn.metrics import precision_score\n",
    "from sklearn.metrics import recall_score\n",
    "from sklearn.metrics import f1_score\n",
    "from sklearn.metrics import confusion_matrix\n",
    "from sklearn.metrics import precision_recall_fscore_support\n",
    "%matplotlib inline"
   ]
  },
  {
   "cell_type": "code",
   "execution_count": 2,
   "id": "fa0aa274",
   "metadata": {},
   "outputs": [],
   "source": [
    "missing_value_formats = [\"Don't know/Not Sure/Refused/Missing\", \"Don´t know, refused or missing values\", \"Don't know/Not sure/Missing\", \"Don´t know/Not Sure/Refused/Missing\", \"Don't know/Not Sure Or Refused/Missing\", \"Don't know/Refused/Missing\", \"Missing\", \"Don´t Know/Not Sure\", \"Don't Know / Not Sure\", \"Don't Know/Not sure\", \"Don´t Know / Not sure\", \"Refused\",\"Don't know/Not sure\",\"Not asked or Missing\",\"Don't know/Not Sure\",\"Don't know / Not sure\",\"Don't know / Not Sure\", \"Data do not meet the criteria for statistical reliability, data quality, or confidentiality (data are suppressed).\", \"D\"]\n",
    "dataset2 = pd.read_csv('DataSet.csv', na_values = missing_value_formats)"
   ]
  },
  {
   "cell_type": "code",
   "execution_count": 3,
   "id": "35d7b4a6",
   "metadata": {},
   "outputs": [
    {
     "data": {
      "text/html": [
       "<div>\n",
       "<style scoped>\n",
       "    .dataframe tbody tr th:only-of-type {\n",
       "        vertical-align: middle;\n",
       "    }\n",
       "\n",
       "    .dataframe tbody tr th {\n",
       "        vertical-align: top;\n",
       "    }\n",
       "\n",
       "    .dataframe thead th {\n",
       "        text-align: right;\n",
       "    }\n",
       "</style>\n",
       "<table border=\"1\" class=\"dataframe\">\n",
       "  <thead>\n",
       "    <tr style=\"text-align: right;\">\n",
       "      <th></th>\n",
       "      <th>SEQNO</th>\n",
       "      <th>NUMADULT</th>\n",
       "      <th>GENHLTH</th>\n",
       "      <th>PHYSHLTH</th>\n",
       "      <th>MISTMNT</th>\n",
       "      <th>MENTHLTH</th>\n",
       "      <th>MEDCOST</th>\n",
       "      <th>CHECKUP1</th>\n",
       "      <th>BPHIGH4</th>\n",
       "      <th>TOLDHI2</th>\n",
       "      <th>...</th>\n",
       "      <th>DRNK3GE5</th>\n",
       "      <th>_RFBING5</th>\n",
       "      <th>_FRUTSUM</th>\n",
       "      <th>_VEGESUM</th>\n",
       "      <th>_FRTLT1</th>\n",
       "      <th>_VEGLT1</th>\n",
       "      <th>_TOTINDA</th>\n",
       "      <th>PA1MIN_</th>\n",
       "      <th>PA1VIGM_</th>\n",
       "      <th>_PACAT1</th>\n",
       "    </tr>\n",
       "  </thead>\n",
       "  <tbody>\n",
       "    <tr>\n",
       "      <th>0</th>\n",
       "      <td>2015000012</td>\n",
       "      <td>NaN</td>\n",
       "      <td>Very good</td>\n",
       "      <td>None</td>\n",
       "      <td>NaN</td>\n",
       "      <td>None</td>\n",
       "      <td>No</td>\n",
       "      <td>Within past 2 years (1 year but less than 2 ye...</td>\n",
       "      <td>Yes</td>\n",
       "      <td>No</td>\n",
       "      <td>...</td>\n",
       "      <td>Number of Times</td>\n",
       "      <td>Yes</td>\n",
       "      <td>58.0</td>\n",
       "      <td>117.0</td>\n",
       "      <td>Consumed fruit less than one time per day</td>\n",
       "      <td>Consumed vegetables one or more times per day</td>\n",
       "      <td>Had physical activity or exercise</td>\n",
       "      <td>51.0</td>\n",
       "      <td>0.0</td>\n",
       "      <td>Insufficiently Active</td>\n",
       "    </tr>\n",
       "    <tr>\n",
       "      <th>1</th>\n",
       "      <td>2015000013</td>\n",
       "      <td>NaN</td>\n",
       "      <td>Good</td>\n",
       "      <td>None</td>\n",
       "      <td>NaN</td>\n",
       "      <td>Number of days</td>\n",
       "      <td>Yes</td>\n",
       "      <td>Within past year (anytime less than 12 months ...</td>\n",
       "      <td>Yes</td>\n",
       "      <td>No</td>\n",
       "      <td>...</td>\n",
       "      <td>NaN</td>\n",
       "      <td>No</td>\n",
       "      <td>96.0</td>\n",
       "      <td>200.0</td>\n",
       "      <td>Consumed fruit less than one time per day</td>\n",
       "      <td>Consumed vegetables one or more times per day</td>\n",
       "      <td>Had physical activity or exercise</td>\n",
       "      <td>NaN</td>\n",
       "      <td>0.0</td>\n",
       "      <td>NaN</td>\n",
       "    </tr>\n",
       "    <tr>\n",
       "      <th>2</th>\n",
       "      <td>2015000014</td>\n",
       "      <td>NaN</td>\n",
       "      <td>Very good</td>\n",
       "      <td>None</td>\n",
       "      <td>NaN</td>\n",
       "      <td>None</td>\n",
       "      <td>No</td>\n",
       "      <td>Within past year (anytime less than 12 months ...</td>\n",
       "      <td>No</td>\n",
       "      <td>Yes</td>\n",
       "      <td>...</td>\n",
       "      <td>None</td>\n",
       "      <td>No</td>\n",
       "      <td>43.0</td>\n",
       "      <td>115.0</td>\n",
       "      <td>Consumed fruit less than one time per day</td>\n",
       "      <td>Consumed vegetables one or more times per day</td>\n",
       "      <td>Had physical activity or exercise</td>\n",
       "      <td>49.0</td>\n",
       "      <td>0.0</td>\n",
       "      <td>Insufficiently Active</td>\n",
       "    </tr>\n",
       "    <tr>\n",
       "      <th>3</th>\n",
       "      <td>2015000015</td>\n",
       "      <td>NaN</td>\n",
       "      <td>Excellent</td>\n",
       "      <td>None</td>\n",
       "      <td>NaN</td>\n",
       "      <td>None</td>\n",
       "      <td>No</td>\n",
       "      <td>Within past year (anytime less than 12 months ...</td>\n",
       "      <td>No</td>\n",
       "      <td>NaN</td>\n",
       "      <td>...</td>\n",
       "      <td>NaN</td>\n",
       "      <td>No</td>\n",
       "      <td>50.0</td>\n",
       "      <td>NaN</td>\n",
       "      <td>Consumed fruit less than one time per day</td>\n",
       "      <td>NaN</td>\n",
       "      <td>Had physical activity or exercise</td>\n",
       "      <td>0.0</td>\n",
       "      <td>0.0</td>\n",
       "      <td>NaN</td>\n",
       "    </tr>\n",
       "    <tr>\n",
       "      <th>4</th>\n",
       "      <td>2015000016</td>\n",
       "      <td>NaN</td>\n",
       "      <td>Excellent</td>\n",
       "      <td>Number of days</td>\n",
       "      <td>NaN</td>\n",
       "      <td>Number of days</td>\n",
       "      <td>No</td>\n",
       "      <td>Within past year (anytime less than 12 months ...</td>\n",
       "      <td>No</td>\n",
       "      <td>NaN</td>\n",
       "      <td>...</td>\n",
       "      <td>Number of Times</td>\n",
       "      <td>Yes</td>\n",
       "      <td>300.0</td>\n",
       "      <td>471.0</td>\n",
       "      <td>Consumed fruit one or more times per day</td>\n",
       "      <td>Consumed vegetables one or more times per day</td>\n",
       "      <td>Had physical activity or exercise</td>\n",
       "      <td>230.0</td>\n",
       "      <td>0.0</td>\n",
       "      <td>Active</td>\n",
       "    </tr>\n",
       "  </tbody>\n",
       "</table>\n",
       "<p>5 rows × 77 columns</p>\n",
       "</div>"
      ],
      "text/plain": [
       "        SEQNO  NUMADULT    GENHLTH        PHYSHLTH MISTMNT        MENTHLTH  \\\n",
       "0  2015000012       NaN  Very good            None     NaN            None   \n",
       "1  2015000013       NaN       Good            None     NaN  Number of days   \n",
       "2  2015000014       NaN  Very good            None     NaN            None   \n",
       "3  2015000015       NaN  Excellent            None     NaN            None   \n",
       "4  2015000016       NaN  Excellent  Number of days     NaN  Number of days   \n",
       "\n",
       "  MEDCOST                                           CHECKUP1 BPHIGH4 TOLDHI2  \\\n",
       "0      No  Within past 2 years (1 year but less than 2 ye...     Yes      No   \n",
       "1     Yes  Within past year (anytime less than 12 months ...     Yes      No   \n",
       "2      No  Within past year (anytime less than 12 months ...      No     Yes   \n",
       "3      No  Within past year (anytime less than 12 months ...      No     NaN   \n",
       "4      No  Within past year (anytime less than 12 months ...      No     NaN   \n",
       "\n",
       "   ...         DRNK3GE5 _RFBING5 _FRUTSUM _VEGESUM  \\\n",
       "0  ...  Number of Times      Yes     58.0    117.0   \n",
       "1  ...              NaN       No     96.0    200.0   \n",
       "2  ...             None       No     43.0    115.0   \n",
       "3  ...              NaN       No     50.0      NaN   \n",
       "4  ...  Number of Times      Yes    300.0    471.0   \n",
       "\n",
       "                                     _FRTLT1  \\\n",
       "0  Consumed fruit less than one time per day   \n",
       "1  Consumed fruit less than one time per day   \n",
       "2  Consumed fruit less than one time per day   \n",
       "3  Consumed fruit less than one time per day   \n",
       "4   Consumed fruit one or more times per day   \n",
       "\n",
       "                                         _VEGLT1  \\\n",
       "0  Consumed vegetables one or more times per day   \n",
       "1  Consumed vegetables one or more times per day   \n",
       "2  Consumed vegetables one or more times per day   \n",
       "3                                            NaN   \n",
       "4  Consumed vegetables one or more times per day   \n",
       "\n",
       "                            _TOTINDA PA1MIN_ PA1VIGM_                _PACAT1  \n",
       "0  Had physical activity or exercise    51.0      0.0  Insufficiently Active  \n",
       "1  Had physical activity or exercise     NaN      0.0                    NaN  \n",
       "2  Had physical activity or exercise    49.0      0.0  Insufficiently Active  \n",
       "3  Had physical activity or exercise     0.0      0.0                    NaN  \n",
       "4  Had physical activity or exercise   230.0      0.0                 Active  \n",
       "\n",
       "[5 rows x 77 columns]"
      ]
     },
     "execution_count": 3,
     "metadata": {},
     "output_type": "execute_result"
    }
   ],
   "source": [
    "dataset2.head()"
   ]
  },
  {
   "cell_type": "code",
   "execution_count": 4,
   "id": "6a8802ff",
   "metadata": {},
   "outputs": [
    {
     "data": {
      "text/plain": [
       "(12338, 77)"
      ]
     },
     "execution_count": 4,
     "metadata": {},
     "output_type": "execute_result"
    }
   ],
   "source": [
    "dataset2.shape"
   ]
  },
  {
   "cell_type": "markdown",
   "id": "825f56cd",
   "metadata": {},
   "source": [
    "## Checking Values in Each Variable"
   ]
  },
  {
   "cell_type": "markdown",
   "id": "c547513e",
   "metadata": {},
   "source": [
    "### Primary Key:"
   ]
  },
  {
   "cell_type": "code",
   "execution_count": 5,
   "id": "7cb67f44",
   "metadata": {},
   "outputs": [
    {
     "data": {
      "text/plain": [
       "0        2015000012\n",
       "1        2015000013\n",
       "2        2015000014\n",
       "3        2015000015\n",
       "4        2015000016\n",
       "            ...    \n",
       "12333    2015012364\n",
       "12334    2015012365\n",
       "12335    2015012366\n",
       "12336    2015012367\n",
       "12337    2015012368\n",
       "Name: SEQNO, Length: 12338, dtype: int64"
      ]
     },
     "execution_count": 5,
     "metadata": {},
     "output_type": "execute_result"
    }
   ],
   "source": [
    "dataset2[\"SEQNO\"]"
   ]
  },
  {
   "cell_type": "code",
   "execution_count": 6,
   "id": "4b299a08",
   "metadata": {},
   "outputs": [
    {
     "data": {
      "text/plain": [
       "False    12338\n",
       "Name: SEQNO, dtype: int64"
      ]
     },
     "execution_count": 6,
     "metadata": {},
     "output_type": "execute_result"
    }
   ],
   "source": [
    "dataset2[\"SEQNO\"].duplicated().value_counts()"
   ]
  },
  {
   "cell_type": "markdown",
   "id": "0c373788",
   "metadata": {},
   "source": [
    "### Health:"
   ]
  },
  {
   "cell_type": "code",
   "execution_count": 7,
   "id": "63cee851",
   "metadata": {},
   "outputs": [
    {
     "data": {
      "text/plain": [
       "Very good    4063\n",
       "Good         3838\n",
       "Excellent    2236\n",
       "Fair         1536\n",
       "Poor          600\n",
       "Name: GENHLTH, dtype: int64"
      ]
     },
     "execution_count": 7,
     "metadata": {},
     "output_type": "execute_result"
    }
   ],
   "source": [
    "dataset2[\"GENHLTH\"].value_counts()"
   ]
  },
  {
   "cell_type": "code",
   "execution_count": 8,
   "id": "52ec994a",
   "metadata": {},
   "outputs": [
    {
     "data": {
      "text/plain": [
       "None              7201\n",
       "Number of days    4711\n",
       "Name: PHYSHLTH, dtype: int64"
      ]
     },
     "execution_count": 8,
     "metadata": {},
     "output_type": "execute_result"
    }
   ],
   "source": [
    "dataset2[\"PHYSHLTH\"].value_counts()"
   ]
  },
  {
   "cell_type": "code",
   "execution_count": 9,
   "id": "4d4728ad",
   "metadata": {},
   "outputs": [
    {
     "data": {
      "text/plain": [
       "None              8012\n",
       "Number of days    4008\n",
       "Name: MENTHLTH, dtype: int64"
      ]
     },
     "execution_count": 9,
     "metadata": {},
     "output_type": "execute_result"
    }
   ],
   "source": [
    "dataset2[\"MENTHLTH\"].value_counts()"
   ]
  },
  {
   "cell_type": "code",
   "execution_count": 10,
   "id": "7899d3f3",
   "metadata": {},
   "outputs": [
    {
     "data": {
      "text/plain": [
       "No     4334\n",
       "Yes     636\n",
       "Name: MISTMNT, dtype: int64"
      ]
     },
     "execution_count": 10,
     "metadata": {},
     "output_type": "execute_result"
    }
   ],
   "source": [
    "dataset2[\"MISTMNT\"].value_counts()"
   ]
  },
  {
   "cell_type": "code",
   "execution_count": 11,
   "id": "fe10004a",
   "metadata": {},
   "outputs": [
    {
     "data": {
      "text/plain": [
       "Good or Better Health    10137\n",
       "Fair or Poor Health       2136\n",
       "Name: _RFHLTH, dtype: int64"
      ]
     },
     "execution_count": 11,
     "metadata": {},
     "output_type": "execute_result"
    }
   ],
   "source": [
    "dataset2[\"_RFHLTH\"].value_counts()"
   ]
  },
  {
   "cell_type": "code",
   "execution_count": 12,
   "id": "aab77258",
   "metadata": {},
   "outputs": [
    {
     "data": {
      "text/plain": [
       "No     7750\n",
       "Yes    4544\n",
       "Name: _RFHYPE5, dtype: int64"
      ]
     },
     "execution_count": 12,
     "metadata": {},
     "output_type": "execute_result"
    }
   ],
   "source": [
    "dataset2[\"_RFHYPE5\"].value_counts()"
   ]
  },
  {
   "cell_type": "code",
   "execution_count": 13,
   "id": "a314b087",
   "metadata": {},
   "outputs": [
    {
     "data": {
      "text/plain": [
       "No     11150\n",
       "Yes     1144\n",
       "Name: MEDCOST, dtype: int64"
      ]
     },
     "execution_count": 13,
     "metadata": {},
     "output_type": "execute_result"
    }
   ],
   "source": [
    "dataset2[\"MEDCOST\"].value_counts()"
   ]
  },
  {
   "cell_type": "code",
   "execution_count": 14,
   "id": "b476152a",
   "metadata": {},
   "outputs": [
    {
     "data": {
      "text/plain": [
       "Within past year (anytime less than 12 months ago)         9447\n",
       "Within past 2 years (1 year but less than 2 years ago)     1395\n",
       "Within past 5 years (2 years but less than 5 years ago)     770\n",
       "5 or more years ago                                         547\n",
       "Never                                                        69\n",
       "Name: CHECKUP1, dtype: int64"
      ]
     },
     "execution_count": 14,
     "metadata": {},
     "output_type": "execute_result"
    }
   ],
   "source": [
    "dataset2[\"CHECKUP1\"].value_counts()"
   ]
  },
  {
   "cell_type": "code",
   "execution_count": 15,
   "id": "ef966976",
   "metadata": {},
   "outputs": [
    {
     "data": {
      "text/plain": [
       "No                                            7562\n",
       "Yes                                           4544\n",
       "Told borderline high or pre-hypertensive        97\n",
       "Yes, but female told only during pregnancy      91\n",
       "Name: BPHIGH4, dtype: int64"
      ]
     },
     "execution_count": 15,
     "metadata": {},
     "output_type": "execute_result"
    }
   ],
   "source": [
    "dataset2[\"BPHIGH4\"].value_counts()"
   ]
  },
  {
   "cell_type": "code",
   "execution_count": 16,
   "id": "410c9f94",
   "metadata": {},
   "outputs": [
    {
     "data": {
      "text/plain": [
       "No     6367\n",
       "Yes    4396\n",
       "Name: TOLDHI2, dtype: int64"
      ]
     },
     "execution_count": 16,
     "metadata": {},
     "output_type": "execute_result"
    }
   ],
   "source": [
    "dataset2[\"TOLDHI2\"].value_counts()"
   ]
  },
  {
   "cell_type": "code",
   "execution_count": 17,
   "id": "37ac901e",
   "metadata": {},
   "outputs": [
    {
     "data": {
      "text/plain": [
       "No     11648\n",
       "Yes      630\n",
       "Name: CVDINFR4, dtype: int64"
      ]
     },
     "execution_count": 17,
     "metadata": {},
     "output_type": "execute_result"
    }
   ],
   "source": [
    "dataset2[\"CVDINFR4\"].value_counts()"
   ]
  },
  {
   "cell_type": "code",
   "execution_count": 18,
   "id": "d7ce9558",
   "metadata": {},
   "outputs": [
    {
     "data": {
      "text/plain": [
       "No     11608\n",
       "Yes      647\n",
       "Name: CVDCRHD4, dtype: int64"
      ]
     },
     "execution_count": 18,
     "metadata": {},
     "output_type": "execute_result"
    }
   ],
   "source": [
    "dataset2[\"CVDCRHD4\"].value_counts()"
   ]
  },
  {
   "cell_type": "code",
   "execution_count": 19,
   "id": "c0164819",
   "metadata": {},
   "outputs": [
    {
     "data": {
      "text/plain": [
       "No     11894\n",
       "Yes      417\n",
       "Name: CVDSTRK3, dtype: int64"
      ]
     },
     "execution_count": 19,
     "metadata": {},
     "output_type": "execute_result"
    }
   ],
   "source": [
    "dataset2[\"CVDSTRK3\"].value_counts()"
   ]
  },
  {
   "cell_type": "code",
   "execution_count": 20,
   "id": "215d3b66",
   "metadata": {},
   "outputs": [
    {
     "data": {
      "text/plain": [
       "No     10512\n",
       "Yes     1788\n",
       "Name: ASTHMA3, dtype: int64"
      ]
     },
     "execution_count": 20,
     "metadata": {},
     "output_type": "execute_result"
    }
   ],
   "source": [
    "dataset2[\"ASTHMA3\"].value_counts()"
   ]
  },
  {
   "cell_type": "code",
   "execution_count": 21,
   "id": "a40dbdd7",
   "metadata": {},
   "outputs": [
    {
     "data": {
      "text/plain": [
       "No     11402\n",
       "Yes      910\n",
       "Name: CHCSCNCR, dtype: int64"
      ]
     },
     "execution_count": 21,
     "metadata": {},
     "output_type": "execute_result"
    }
   ],
   "source": [
    "dataset2[\"CHCSCNCR\"].value_counts()"
   ]
  },
  {
   "cell_type": "code",
   "execution_count": 22,
   "id": "81e7bd9e",
   "metadata": {},
   "outputs": [
    {
     "data": {
      "text/plain": [
       "No     11155\n",
       "Yes     1152\n",
       "Name: CHCOCNCR, dtype: int64"
      ]
     },
     "execution_count": 22,
     "metadata": {},
     "output_type": "execute_result"
    }
   ],
   "source": [
    "dataset2[\"CHCOCNCR\"].value_counts()"
   ]
  },
  {
   "cell_type": "code",
   "execution_count": 23,
   "id": "7b60c694",
   "metadata": {},
   "outputs": [
    {
     "data": {
      "text/plain": [
       "No     11377\n",
       "Yes      888\n",
       "Name: CHCCOPD1, dtype: int64"
      ]
     },
     "execution_count": 23,
     "metadata": {},
     "output_type": "execute_result"
    }
   ],
   "source": [
    "dataset2[\"CHCCOPD1\"].value_counts()"
   ]
  },
  {
   "cell_type": "code",
   "execution_count": 24,
   "id": "37cba4a2",
   "metadata": {},
   "outputs": [
    {
     "data": {
      "text/plain": [
       "No     8348\n",
       "Yes    3912\n",
       "Name: HAVARTH3, dtype: int64"
      ]
     },
     "execution_count": 24,
     "metadata": {},
     "output_type": "execute_result"
    }
   ],
   "source": [
    "dataset2[\"HAVARTH3\"].value_counts()"
   ]
  },
  {
   "cell_type": "code",
   "execution_count": 25,
   "id": "12dfdbf5",
   "metadata": {},
   "outputs": [
    {
     "data": {
      "text/plain": [
       "No     10199\n",
       "Yes     2084\n",
       "Name: ADDEPEV2, dtype: int64"
      ]
     },
     "execution_count": 25,
     "metadata": {},
     "output_type": "execute_result"
    }
   ],
   "source": [
    "dataset2[\"ADDEPEV2\"].value_counts()"
   ]
  },
  {
   "cell_type": "code",
   "execution_count": 26,
   "id": "fae6b0d6",
   "metadata": {},
   "outputs": [
    {
     "data": {
      "text/plain": [
       "No     11955\n",
       "Yes      339\n",
       "Name: CHCKIDNY, dtype: int64"
      ]
     },
     "execution_count": 26,
     "metadata": {},
     "output_type": "execute_result"
    }
   ],
   "source": [
    "dataset2[\"CHCKIDNY\"].value_counts()"
   ]
  },
  {
   "cell_type": "code",
   "execution_count": 27,
   "id": "cffd9c94",
   "metadata": {},
   "outputs": [
    {
     "data": {
      "text/plain": [
       "No                                            10610\n",
       "Yes                                            1458\n",
       "No, pre-diabetes or borderline diabetes         175\n",
       "Yes, but female told only during pregnancy       82\n",
       "Name: DIABETE3, dtype: int64"
      ]
     },
     "execution_count": 27,
     "metadata": {},
     "output_type": "execute_result"
    }
   ],
   "source": [
    "dataset2[\"DIABETE3\"].value_counts()"
   ]
  },
  {
   "cell_type": "code",
   "execution_count": 28,
   "id": "a2115612",
   "metadata": {},
   "outputs": [
    {
     "data": {
      "text/plain": [
       "No                       4671\n",
       "Yes                       503\n",
       "Yes, during pregnancy      44\n",
       "Name: PREDIAB1, dtype: int64"
      ]
     },
     "execution_count": 28,
     "metadata": {},
     "output_type": "execute_result"
    }
   ],
   "source": [
    "dataset2[\"PREDIAB1\"].value_counts()"
   ]
  },
  {
   "cell_type": "code",
   "execution_count": 29,
   "id": "36a7e8e0",
   "metadata": {},
   "outputs": [
    {
     "data": {
      "text/plain": [
       "No     6367\n",
       "Yes    4396\n",
       "Name: _RFCHOL, dtype: int64"
      ]
     },
     "execution_count": 29,
     "metadata": {},
     "output_type": "execute_result"
    }
   ],
   "source": [
    "dataset2[\"_RFCHOL\"].value_counts()"
   ]
  },
  {
   "cell_type": "code",
   "execution_count": 30,
   "id": "3ef42500",
   "metadata": {},
   "outputs": [
    {
     "data": {
      "text/plain": [
       "Did not report having MI or CHD    11282\n",
       "Reported having MI or CHD            957\n",
       "Name: _MICHD, dtype: int64"
      ]
     },
     "execution_count": 30,
     "metadata": {},
     "output_type": "execute_result"
    }
   ],
   "source": [
    "dataset2[\"_MICHD\"].value_counts()"
   ]
  },
  {
   "cell_type": "code",
   "execution_count": 31,
   "id": "5d38f966",
   "metadata": {},
   "outputs": [
    {
     "data": {
      "text/plain": [
       "No     10512\n",
       "Yes     1788\n",
       "Name: _LTASTH1, dtype: int64"
      ]
     },
     "execution_count": 31,
     "metadata": {},
     "output_type": "execute_result"
    }
   ],
   "source": [
    "dataset2[\"_LTASTH1\"].value_counts()"
   ]
  },
  {
   "cell_type": "code",
   "execution_count": 32,
   "id": "08001d07",
   "metadata": {},
   "outputs": [
    {
     "data": {
      "text/plain": [
       "No     11042\n",
       "Yes     1214\n",
       "Name: _CASTHM1, dtype: int64"
      ]
     },
     "execution_count": 32,
     "metadata": {},
     "output_type": "execute_result"
    }
   ],
   "source": [
    "dataset2[\"_CASTHM1\"].value_counts()"
   ]
  },
  {
   "cell_type": "code",
   "execution_count": 33,
   "id": "51e8d000",
   "metadata": {},
   "outputs": [
    {
     "data": {
      "text/plain": [
       "Never      10512\n",
       "Current     1214\n",
       "Former       530\n",
       "Name: _ASTHMS1, dtype: int64"
      ]
     },
     "execution_count": 33,
     "metadata": {},
     "output_type": "execute_result"
    }
   ],
   "source": [
    "dataset2[\"_ASTHMS1\"].value_counts()"
   ]
  },
  {
   "cell_type": "code",
   "execution_count": 34,
   "id": "0bfcbe1b",
   "metadata": {},
   "outputs": [
    {
     "data": {
      "text/plain": [
       "Not diagnosed with arthritis    8348\n",
       "Diagnosed with arthritis        3912\n",
       "Name: _DRDXAR1, dtype: int64"
      ]
     },
     "execution_count": 34,
     "metadata": {},
     "output_type": "execute_result"
    }
   ],
   "source": [
    "dataset2[\"_DRDXAR1\"].value_counts()"
   ]
  },
  {
   "cell_type": "code",
   "execution_count": 35,
   "id": "cb0ef087",
   "metadata": {},
   "outputs": [
    {
     "data": {
      "text/plain": [
       "Normal Weight    4117\n",
       "Overweight       4005\n",
       "Obese            2933\n",
       "Underweight       209\n",
       "Name: _BMI5CAT, dtype: int64"
      ]
     },
     "execution_count": 35,
     "metadata": {},
     "output_type": "execute_result"
    }
   ],
   "source": [
    "dataset2[\"_BMI5CAT\"].value_counts()"
   ]
  },
  {
   "cell_type": "code",
   "execution_count": 36,
   "id": "f748af39",
   "metadata": {},
   "outputs": [
    {
     "data": {
      "text/plain": [
       "No     10786\n",
       "Yes      997\n",
       "Name: DECIDE, dtype: int64"
      ]
     },
     "execution_count": 36,
     "metadata": {},
     "output_type": "execute_result"
    }
   ],
   "source": [
    "dataset2[\"DECIDE\"].value_counts()"
   ]
  },
  {
   "cell_type": "code",
   "execution_count": 37,
   "id": "49597570",
   "metadata": {},
   "outputs": [
    {
     "data": {
      "text/plain": [
       "No     11273\n",
       "Yes      543\n",
       "Name: BLIND, dtype: int64"
      ]
     },
     "execution_count": 37,
     "metadata": {},
     "output_type": "execute_result"
    }
   ],
   "source": [
    "dataset2[\"BLIND\"].value_counts()"
   ]
  },
  {
   "cell_type": "markdown",
   "id": "5f543032",
   "metadata": {},
   "source": [
    "### Personal Information:"
   ]
  },
  {
   "cell_type": "code",
   "execution_count": 38,
   "id": "2032b109",
   "metadata": {},
   "outputs": [
    {
     "data": {
      "text/plain": [
       "Female    7139\n",
       "Male      5199\n",
       "Name: SEX, dtype: int64"
      ]
     },
     "execution_count": 38,
     "metadata": {},
     "output_type": "execute_result"
    }
   ],
   "source": [
    "dataset2[\"SEX\"].value_counts()"
   ]
  },
  {
   "cell_type": "code",
   "execution_count": 39,
   "id": "d0f080d8",
   "metadata": {},
   "outputs": [
    {
     "data": {
      "text/plain": [
       "Straight          9328\n",
       "Lesbian or gay     193\n",
       "Bisexual           174\n",
       "Other               45\n",
       "Name: SXORIENT, dtype: int64"
      ]
     },
     "execution_count": 39,
     "metadata": {},
     "output_type": "execute_result"
    }
   ],
   "source": [
    "dataset2[\"SXORIENT\"].value_counts()"
   ]
  },
  {
   "cell_type": "code",
   "execution_count": 40,
   "id": "6127a488",
   "metadata": {},
   "outputs": [
    {
     "data": {
      "text/plain": [
       "Age 65 or older    4031\n",
       "Age 55 - 64        2559\n",
       "Age 45 - 54        2150\n",
       "Age 35 - 44        1471\n",
       "Age 25 - 34        1273\n",
       "Age 18 - 24         657\n",
       "Name: AGE, dtype: int64"
      ]
     },
     "execution_count": 40,
     "metadata": {},
     "output_type": "execute_result"
    }
   ],
   "source": [
    "dataset2[\"AGE\"].value_counts()"
   ]
  },
  {
   "cell_type": "code",
   "execution_count": 41,
   "id": "21f5cb4b",
   "metadata": {},
   "outputs": [
    {
     "data": {
      "text/plain": [
       "Age 65 or older    4032\n",
       "Age 55 to 64       2675\n",
       "Age 45 to 54       2209\n",
       "Age 35 to 44       1490\n",
       "Age 25 to 34       1275\n",
       "Age 18 to 24        657\n",
       "Name: _IMPAGE, dtype: int64"
      ]
     },
     "execution_count": 41,
     "metadata": {},
     "output_type": "execute_result"
    }
   ],
   "source": [
    "dataset2[\"_IMPAGE\"].value_counts()"
   ]
  },
  {
   "cell_type": "code",
   "execution_count": 42,
   "id": "c3aa69e1",
   "metadata": {},
   "outputs": [
    {
     "data": {
      "text/plain": [
       "Age 55 to 59       1314\n",
       "Age 65 to 69       1295\n",
       "Age 60 to 64       1245\n",
       "Age 50 to 54       1171\n",
       "Age 80 or older    1046\n",
       "Age 45 to 49        979\n",
       "Age 70 to 74        950\n",
       "Age 40 to 44        745\n",
       "Age 75 to 79        740\n",
       "Age 35 to 39        726\n",
       "Age 18 to 24        657\n",
       "Age 30 to 34        650\n",
       "Age 25 to 29        623\n",
       "Name: _AGEG5YR, dtype: int64"
      ]
     },
     "execution_count": 42,
     "metadata": {},
     "output_type": "execute_result"
    }
   ],
   "source": [
    "dataset2[\"_AGEG5YR\"].value_counts()"
   ]
  },
  {
   "cell_type": "code",
   "execution_count": 43,
   "id": "7be8fb67",
   "metadata": {},
   "outputs": [
    {
     "data": {
      "text/plain": [
       "Age 18 to 64       8110\n",
       "Age 65 or older    4031\n",
       "Name: _AGE65YR, dtype: int64"
      ]
     },
     "execution_count": 43,
     "metadata": {},
     "output_type": "execute_result"
    }
   ],
   "source": [
    "dataset2[\"_AGE65YR\"].value_counts()"
   ]
  },
  {
   "cell_type": "code",
   "execution_count": 44,
   "id": "4a694e92",
   "metadata": {},
   "outputs": [
    {
     "data": {
      "text/plain": [
       "Imputed Age 60 to 64       1359\n",
       "Imputed Age 55 to 59       1316\n",
       "Imputed Age 65 to 69       1296\n",
       "Imputed Age 50 to 54       1205\n",
       "Imputed Age 80 or older    1046\n",
       "Imputed Age 45 to 49       1004\n",
       "Imputed Age 70 to 74        950\n",
       "Imputed Age 40 to 44        760\n",
       "Imputed Age 75 to 79        740\n",
       "Imputed Age 35 to 39        730\n",
       "Imputed Age 18 to 24        657\n",
       "Imputed Age 30 to 34        651\n",
       "Imputed Age 25 to 29        624\n",
       "Name: _AGE80, dtype: int64"
      ]
     },
     "execution_count": 44,
     "metadata": {},
     "output_type": "execute_result"
    }
   ],
   "source": [
    "dataset2[\"_AGE80\"].value_counts()"
   ]
  },
  {
   "cell_type": "code",
   "execution_count": 45,
   "id": "6ac65b77",
   "metadata": {},
   "outputs": [
    {
     "data": {
      "text/plain": [
       "Age 65 or older    4032\n",
       "Age 55 to 64       2675\n",
       "Age 45 to 54       2209\n",
       "Age 35 to 44       1490\n",
       "Age 25 to 34       1275\n",
       "Age 18 to 24        657\n",
       "Name: _AGE_G, dtype: int64"
      ]
     },
     "execution_count": 45,
     "metadata": {},
     "output_type": "execute_result"
    }
   ],
   "source": [
    "dataset2[\"_AGE_G\"].value_counts()"
   ]
  },
  {
   "cell_type": "code",
   "execution_count": 46,
   "id": "944d591a",
   "metadata": {},
   "outputs": [
    {
     "data": {
      "text/plain": [
       "Married                            5742\n",
       "Never married                      2538\n",
       "Divorced                           1567\n",
       "Widowed                            1505\n",
       "Separated                           424\n",
       "A member of an unmarried couple     408\n",
       "Name: MARITAL, dtype: int64"
      ]
     },
     "execution_count": 46,
     "metadata": {},
     "output_type": "execute_result"
    }
   ],
   "source": [
    "dataset2[\"MARITAL\"].value_counts()"
   ]
  },
  {
   "cell_type": "code",
   "execution_count": 47,
   "id": "cd7db074",
   "metadata": {},
   "outputs": [
    {
     "data": {
      "text/plain": [
       "Graduated from College or Technical School    5272\n",
       "Graduated High School                         2977\n",
       "Attended College or Technical School          2883\n",
       "Did not graduate High School                  1114\n",
       "Name: _EDUCAG, dtype: int64"
      ]
     },
     "execution_count": 47,
     "metadata": {},
     "output_type": "execute_result"
    }
   ],
   "source": [
    "dataset2[\"_EDUCAG\"].value_counts()"
   ]
  },
  {
   "cell_type": "code",
   "execution_count": 48,
   "id": "b2cb5a9a",
   "metadata": {},
   "outputs": [
    {
     "data": {
      "text/plain": [
       "Own                  7246\n",
       "Rent                 4543\n",
       "Other arrangement     448\n",
       "Name: RENTHOM1, dtype: int64"
      ]
     },
     "execution_count": 48,
     "metadata": {},
     "output_type": "execute_result"
    }
   ],
   "source": [
    "dataset2[\"RENTHOM1\"].value_counts()"
   ]
  },
  {
   "cell_type": "code",
   "execution_count": 49,
   "id": "7558c532",
   "metadata": {},
   "outputs": [
    {
     "data": {
      "text/plain": [
       "Yes    6737\n",
       "No     1643\n",
       "Name: CPDEMO1, dtype: int64"
      ]
     },
     "execution_count": 49,
     "metadata": {},
     "output_type": "execute_result"
    }
   ],
   "source": [
    "dataset2[\"CPDEMO1\"].value_counts()"
   ]
  },
  {
   "cell_type": "code",
   "execution_count": 50,
   "id": "a01c64a5",
   "metadata": {},
   "outputs": [
    {
     "data": {
      "text/plain": [
       "Employed for wages                  5094\n",
       "Retired                             3393\n",
       "Self-employed                       1088\n",
       "Unable to work                       841\n",
       "A homemaker                          686\n",
       "A student                            386\n",
       "Out of work for 1 year or more       345\n",
       "Out of work for less than 1 year     326\n",
       "Name: EMPLOY1, dtype: int64"
      ]
     },
     "execution_count": 50,
     "metadata": {},
     "output_type": "execute_result"
    }
   ],
   "source": [
    "dataset2[\"EMPLOY1\"].value_counts()"
   ]
  },
  {
   "cell_type": "code",
   "execution_count": 51,
   "id": "420c676e",
   "metadata": {},
   "outputs": [
    {
     "data": {
      "text/plain": [
       "2.0    3754\n",
       "1.0    3394\n",
       "3.0     806\n",
       "4.0     342\n",
       "5.0      91\n",
       "6.0      20\n",
       "7.0       3\n",
       "8.0       2\n",
       "Name: NUMADULT, dtype: int64"
      ]
     },
     "execution_count": 51,
     "metadata": {},
     "output_type": "execute_result"
    }
   ],
   "source": [
    "dataset2[\"NUMADULT\"].value_counts()"
   ]
  },
  {
   "cell_type": "code",
   "execution_count": 52,
   "id": "f8d2ff43",
   "metadata": {},
   "outputs": [
    {
     "data": {
      "text/plain": [
       "None                  8898\n",
       "Number of children    3267\n",
       "Name: CHILDREN, dtype: int64"
      ]
     },
     "execution_count": 52,
     "metadata": {},
     "output_type": "execute_result"
    }
   ],
   "source": [
    "dataset2[\"CHILDREN\"].value_counts()"
   ]
  },
  {
   "cell_type": "code",
   "execution_count": 53,
   "id": "1e827811",
   "metadata": {},
   "outputs": [
    {
     "data": {
      "text/plain": [
       "No children in household              8898\n",
       "One child in household                1395\n",
       "Two children in household             1211\n",
       "Three children in household            436\n",
       "Four children in household             127\n",
       "Five or more children in household      98\n",
       "Name: _CHLDCNT, dtype: int64"
      ]
     },
     "execution_count": 53,
     "metadata": {},
     "output_type": "execute_result"
    }
   ],
   "source": [
    "dataset2[\"_CHLDCNT\"].value_counts()"
   ]
  },
  {
   "cell_type": "code",
   "execution_count": 54,
   "id": "9ebe2f28",
   "metadata": {},
   "outputs": [
    {
     "data": {
      "text/plain": [
       "$75,000 or more                                     3715\n",
       "Less than $75,000 ($50,000 to less than $75,000)    1557\n",
       "Less than $50,000 ($35,000 to less than $50,000)    1226\n",
       "Less than $35,000 ($25,000 to less than $35,000)    1009\n",
       "Less than $25,000 ($20,000 to less than $25,000)     870\n",
       "Less than $20,000 ($15,000 to less than $20,000)     842\n",
       "Less than $10,000                                    575\n",
       "Less than $15,000 ($10,000 to less than $15,000)     547\n",
       "Name: INCOME2, dtype: int64"
      ]
     },
     "execution_count": 54,
     "metadata": {},
     "output_type": "execute_result"
    }
   ],
   "source": [
    "dataset2[\"INCOME2\"].value_counts()"
   ]
  },
  {
   "cell_type": "code",
   "execution_count": 55,
   "id": "5ba130f4",
   "metadata": {},
   "outputs": [
    {
     "data": {
      "text/plain": [
       "$50,000 or more                 5272\n",
       "$15,000 to less than $25,000    1712\n",
       "$35,000 to less than $50,000    1226\n",
       "Less than $15,000               1122\n",
       "$25,000 to less than $35,000    1009\n",
       "Name: _INCOMG, dtype: int64"
      ]
     },
     "execution_count": 55,
     "metadata": {},
     "output_type": "execute_result"
    }
   ],
   "source": [
    "dataset2[\"_INCOMG\"].value_counts()"
   ]
  },
  {
   "cell_type": "code",
   "execution_count": 56,
   "id": "c855bb6d",
   "metadata": {},
   "outputs": [
    {
     "data": {
      "text/plain": [
       "Yes    9489\n",
       "No     2593\n",
       "Name: INTERNET, dtype: int64"
      ]
     },
     "execution_count": 56,
     "metadata": {},
     "output_type": "execute_result"
    }
   ],
   "source": [
    "dataset2[\"INTERNET\"].value_counts()"
   ]
  },
  {
   "cell_type": "markdown",
   "id": "e474e8ed",
   "metadata": {},
   "source": [
    "### Smoke and Alcohol:"
   ]
  },
  {
   "cell_type": "code",
   "execution_count": 57,
   "id": "00383206",
   "metadata": {},
   "outputs": [
    {
     "data": {
      "text/plain": [
       "No     6624\n",
       "Yes    5070\n",
       "Name: SMOKE100, dtype: int64"
      ]
     },
     "execution_count": 57,
     "metadata": {},
     "output_type": "execute_result"
    }
   ],
   "source": [
    "dataset2[\"SMOKE100\"].value_counts()"
   ]
  },
  {
   "cell_type": "code",
   "execution_count": 58,
   "id": "b960a6f0",
   "metadata": {},
   "outputs": [
    {
     "data": {
      "text/plain": [
       "Not at all    3472\n",
       "Every day     1075\n",
       "Some days      495\n",
       "Name: SMOKDAY2, dtype: int64"
      ]
     },
     "execution_count": 58,
     "metadata": {},
     "output_type": "execute_result"
    }
   ],
   "source": [
    "dataset2[\"SMOKDAY2\"].value_counts()"
   ]
  },
  {
   "cell_type": "code",
   "execution_count": 59,
   "id": "fee6cf4b",
   "metadata": {},
   "outputs": [
    {
     "data": {
      "text/plain": [
       "10 years or more                                                  2245\n",
       "Within the past 5 years (1 year but less than 5 years ago)         397\n",
       "Within the past 10 years (5 years but less than 10 years ago)      346\n",
       "Within the past year (6 months but less than 1 year ago)           131\n",
       "Never smoked regularly                                             108\n",
       "Within the past 3 months (1 month but less than 3 months ago)       73\n",
       "Within the past month (less than 1 month ago)                       73\n",
       "Within the past 6 months (3 months but less than 6 months ago)      71\n",
       "Name: LASTSMK2, dtype: int64"
      ]
     },
     "execution_count": 59,
     "metadata": {},
     "output_type": "execute_result"
    }
   ],
   "source": [
    "dataset2[\"LASTSMK2\"].value_counts()"
   ]
  },
  {
   "cell_type": "code",
   "execution_count": 60,
   "id": "9ad4a5a2",
   "metadata": {},
   "outputs": [
    {
     "data": {
      "text/plain": [
       "Not at all    11388\n",
       "Some days       140\n",
       "Every day        74\n",
       "Name: USENOW3, dtype: int64"
      ]
     },
     "execution_count": 60,
     "metadata": {},
     "output_type": "execute_result"
    }
   ],
   "source": [
    "dataset2[\"USENOW3\"].value_counts()"
   ]
  },
  {
   "cell_type": "code",
   "execution_count": 61,
   "id": "3de9b8cb",
   "metadata": {},
   "outputs": [
    {
     "data": {
      "text/plain": [
       "Never smoked                             6624\n",
       "Former smoker                            3472\n",
       "Current smoker - now smokes every day    1075\n",
       "Current smoker - now smokes some days     495\n",
       "Name: _SMOKER3, dtype: int64"
      ]
     },
     "execution_count": 61,
     "metadata": {},
     "output_type": "execute_result"
    }
   ],
   "source": [
    "dataset2[\"_SMOKER3\"].value_counts()"
   ]
  },
  {
   "cell_type": "code",
   "execution_count": 62,
   "id": "4efef820",
   "metadata": {},
   "outputs": [
    {
     "data": {
      "text/plain": [
       "No     10096\n",
       "Yes     1570\n",
       "Name: _RFSMOK3, dtype: int64"
      ]
     },
     "execution_count": 62,
     "metadata": {},
     "output_type": "execute_result"
    }
   ],
   "source": [
    "dataset2[\"_RFSMOK3\"].value_counts()"
   ]
  },
  {
   "cell_type": "code",
   "execution_count": 63,
   "id": "7ae3d76f",
   "metadata": {},
   "outputs": [
    {
     "data": {
      "text/plain": [
       "0        5087\n",
       "99900     942\n",
       "23        674\n",
       "47        565\n",
       "93        383\n",
       "         ... \n",
       "443         1\n",
       "2450        1\n",
       "1213        1\n",
       "2613        1\n",
       "2520        1\n",
       "Name: _DRNKWEK, Length: 102, dtype: int64"
      ]
     },
     "execution_count": 63,
     "metadata": {},
     "output_type": "execute_result"
    }
   ],
   "source": [
    "dataset2[\"_DRNKWEK\"].value_counts()"
   ]
  },
  {
   "cell_type": "code",
   "execution_count": 64,
   "id": "b52b5030",
   "metadata": {},
   "outputs": [
    {
     "data": {
      "text/plain": [
       "No     9882\n",
       "Yes    1503\n",
       "Name: _RFBING5, dtype: int64"
      ]
     },
     "execution_count": 64,
     "metadata": {},
     "output_type": "execute_result"
    }
   ],
   "source": [
    "dataset2[\"_RFBING5\"].value_counts()"
   ]
  },
  {
   "cell_type": "code",
   "execution_count": 65,
   "id": "9add6635",
   "metadata": {},
   "outputs": [
    {
     "data": {
      "text/plain": [
       "None               4795\n",
       "Number of Times    1503\n",
       "Name: DRNK3GE5, dtype: int64"
      ]
     },
     "execution_count": 65,
     "metadata": {},
     "output_type": "execute_result"
    }
   ],
   "source": [
    "dataset2[\"DRNK3GE5\"].value_counts()"
   ]
  },
  {
   "cell_type": "markdown",
   "id": "0eb9f658",
   "metadata": {},
   "source": [
    "### Fruits and Vegetables:"
   ]
  },
  {
   "cell_type": "code",
   "execution_count": 66,
   "id": "e8d8eda0",
   "metadata": {},
   "outputs": [
    {
     "data": {
      "text/plain": [
       "200.0     1619\n",
       "100.0     1349\n",
       "300.0      763\n",
       "43.0       360\n",
       "400.0      308\n",
       "          ... \n",
       "231.0        1\n",
       "5000.0       1\n",
       "471.0        1\n",
       "1300.0       1\n",
       "620.0        1\n",
       "Name: _FRUTSUM, Length: 229, dtype: int64"
      ]
     },
     "execution_count": 66,
     "metadata": {},
     "output_type": "execute_result"
    }
   ],
   "source": [
    "dataset2[\"_FRUTSUM\"].value_counts()"
   ]
  },
  {
   "cell_type": "code",
   "execution_count": 67,
   "id": "a5eb4f57",
   "metadata": {},
   "outputs": [
    {
     "data": {
      "text/plain": [
       "200.0    213\n",
       "143.0    191\n",
       "100.0    171\n",
       "243.0    166\n",
       "157.0    166\n",
       "        ... \n",
       "389.0      1\n",
       "464.0      1\n",
       "399.0      1\n",
       "523.0      1\n",
       "375.0      1\n",
       "Name: _VEGESUM, Length: 555, dtype: int64"
      ]
     },
     "execution_count": 67,
     "metadata": {},
     "output_type": "execute_result"
    }
   ],
   "source": [
    "dataset2[\"_VEGESUM\"].value_counts()"
   ]
  },
  {
   "cell_type": "code",
   "execution_count": 68,
   "id": "94cb1811",
   "metadata": {},
   "outputs": [
    {
     "data": {
      "text/plain": [
       "Consumed fruit one or more times per day     7261\n",
       "Consumed fruit less than one time per day    3642\n",
       "Name: _FRTLT1, dtype: int64"
      ]
     },
     "execution_count": 68,
     "metadata": {},
     "output_type": "execute_result"
    }
   ],
   "source": [
    "dataset2[\"_FRTLT1\"].value_counts()"
   ]
  },
  {
   "cell_type": "code",
   "execution_count": 69,
   "id": "db463d63",
   "metadata": {},
   "outputs": [
    {
     "data": {
      "text/plain": [
       "Consumed vegetables one or more times per day     8466\n",
       "Consumed vegetables less than one time per day    2219\n",
       "Name: _VEGLT1, dtype: int64"
      ]
     },
     "execution_count": 69,
     "metadata": {},
     "output_type": "execute_result"
    }
   ],
   "source": [
    "dataset2[\"_VEGLT1\"].value_counts()"
   ]
  },
  {
   "cell_type": "markdown",
   "id": "331ff80a",
   "metadata": {},
   "source": [
    "### Exercise and Physical Activity:"
   ]
  },
  {
   "cell_type": "code",
   "execution_count": 70,
   "id": "855d4013",
   "metadata": {},
   "outputs": [
    {
     "data": {
      "text/plain": [
       "Yes    7837\n",
       "No     3118\n",
       "Name: EXERANY2, dtype: int64"
      ]
     },
     "execution_count": 70,
     "metadata": {},
     "output_type": "execute_result"
    }
   ],
   "source": [
    "dataset2[\"EXERANY2\"].value_counts()"
   ]
  },
  {
   "cell_type": "code",
   "execution_count": 71,
   "id": "0e49d50d",
   "metadata": {},
   "outputs": [
    {
     "data": {
      "text/plain": [
       "Walking                                                     4232\n",
       "Running                                                      623\n",
       "Weight lifting                                               329\n",
       "Gardening (spading, weeding, digging, filling)               236\n",
       "Bicycling machine exercise                                   216\n",
       "                                                            ... \n",
       "Skateboarding                                                  1\n",
       "Badminton                                                      1\n",
       "Hunting small game – quail                                     1\n",
       "Active Gaming Devices (Wii Fit, Dance, Dance revolution)       1\n",
       "Sledding, tobogganing                                          1\n",
       "Name: EXRACT11, Length: 65, dtype: int64"
      ]
     },
     "execution_count": 71,
     "metadata": {},
     "output_type": "execute_result"
    }
   ],
   "source": [
    "dataset2[\"EXRACT11\"].value_counts()"
   ]
  },
  {
   "cell_type": "code",
   "execution_count": 72,
   "id": "8b7b6157",
   "metadata": {},
   "outputs": [
    {
     "data": {
      "text/plain": [
       "Times per week     5440\n",
       "Times per month    2153\n",
       "Name: EXEROFT1, dtype: int64"
      ]
     },
     "execution_count": 72,
     "metadata": {},
     "output_type": "execute_result"
    }
   ],
   "source": [
    "dataset2[\"EXEROFT1\"].value_counts()"
   ]
  },
  {
   "cell_type": "code",
   "execution_count": 73,
   "id": "a1b93a93",
   "metadata": {},
   "outputs": [
    {
     "data": {
      "text/plain": [
       "Hours and Minutes    7604\n",
       "Name: EXERHMM1, dtype: int64"
      ]
     },
     "execution_count": 73,
     "metadata": {},
     "output_type": "execute_result"
    }
   ],
   "source": [
    "dataset2[\"EXERHMM1\"].value_counts()"
   ]
  },
  {
   "cell_type": "code",
   "execution_count": 74,
   "id": "f9ec9353",
   "metadata": {},
   "outputs": [
    {
     "data": {
      "text/plain": [
       "No other activity                                               2307\n",
       "Walking                                                         1155\n",
       "Weight lifting                                                   545\n",
       "Household Activities (vacuuming, dusting, home repair, etc.)     437\n",
       "Running                                                          237\n",
       "                                                                ... \n",
       "Mountain climbing                                                  1\n",
       "Paddleball                                                         1\n",
       "Hunting small game – quail                                         1\n",
       "Squash                                                             1\n",
       "Handball                                                           1\n",
       "Name: EXRACT21, Length: 71, dtype: int64"
      ]
     },
     "execution_count": 74,
     "metadata": {},
     "output_type": "execute_result"
    }
   ],
   "source": [
    "dataset2[\"EXRACT21\"].value_counts()"
   ]
  },
  {
   "cell_type": "code",
   "execution_count": 75,
   "id": "d01b9256",
   "metadata": {},
   "outputs": [
    {
     "data": {
      "text/plain": [
       "Had physical activity or exercise                   7837\n",
       "No physical activity or exercise in last 30 days    3118\n",
       "Name: _TOTINDA, dtype: int64"
      ]
     },
     "execution_count": 75,
     "metadata": {},
     "output_type": "execute_result"
    }
   ],
   "source": [
    "dataset2[\"_TOTINDA\"].value_counts()"
   ]
  },
  {
   "cell_type": "code",
   "execution_count": 76,
   "id": "9e84f54b",
   "metadata": {},
   "outputs": [
    {
     "data": {
      "text/plain": [
       "0.0       391\n",
       "180.0     284\n",
       "120.0     280\n",
       "420.0     270\n",
       "210.0     237\n",
       "         ... \n",
       "459.0       1\n",
       "1830.0      1\n",
       "557.0       1\n",
       "2596.0      1\n",
       "67.0        1\n",
       "Name: PA1MIN_, Length: 780, dtype: int64"
      ]
     },
     "execution_count": 76,
     "metadata": {},
     "output_type": "execute_result"
    }
   ],
   "source": [
    "dataset2[\"PA1MIN_\"].value_counts()"
   ]
  },
  {
   "cell_type": "code",
   "execution_count": 77,
   "id": "26e234e4",
   "metadata": {},
   "outputs": [
    {
     "data": {
      "text/plain": [
       "0.0      4120\n",
       "60.0      233\n",
       "120.0     220\n",
       "180.0     213\n",
       "90.0      177\n",
       "         ... \n",
       "96.0        1\n",
       "539.0       1\n",
       "404.0       1\n",
       "616.0       1\n",
       "620.0       1\n",
       "Name: PA1VIGM_, Length: 389, dtype: int64"
      ]
     },
     "execution_count": 77,
     "metadata": {},
     "output_type": "execute_result"
    }
   ],
   "source": [
    "dataset2[\"PA1VIGM_\"].value_counts()"
   ]
  },
  {
   "cell_type": "code",
   "execution_count": 78,
   "id": "f08b7f5f",
   "metadata": {},
   "outputs": [
    {
     "data": {
      "text/plain": [
       "Inactive                 3372\n",
       "Highly Active            3255\n",
       "Insufficiently Active    1878\n",
       "Active                   1867\n",
       "Name: _PACAT1, dtype: int64"
      ]
     },
     "execution_count": 78,
     "metadata": {},
     "output_type": "execute_result"
    }
   ],
   "source": [
    "dataset2[\"_PACAT1\"].value_counts()"
   ]
  },
  {
   "cell_type": "markdown",
   "id": "63c02596",
   "metadata": {},
   "source": [
    "### Vaccine and Test:"
   ]
  },
  {
   "cell_type": "code",
   "execution_count": 79,
   "id": "852f7e98",
   "metadata": {},
   "outputs": [
    {
     "data": {
      "text/plain": [
       "No     5604\n",
       "Yes    5163\n",
       "Name: FLUSHOT6, dtype: int64"
      ]
     },
     "execution_count": 79,
     "metadata": {},
     "output_type": "execute_result"
    }
   ],
   "source": [
    "dataset2[\"FLUSHOT6\"].value_counts()"
   ]
  },
  {
   "cell_type": "code",
   "execution_count": 80,
   "id": "2d0bc616",
   "metadata": {},
   "outputs": [
    {
     "data": {
      "text/plain": [
       "No     5799\n",
       "Yes    4058\n",
       "Name: PNEUVAC3, dtype: int64"
      ]
     },
     "execution_count": 80,
     "metadata": {},
     "output_type": "execute_result"
    }
   ],
   "source": [
    "dataset2[\"PNEUVAC3\"].value_counts()"
   ]
  },
  {
   "cell_type": "code",
   "execution_count": 81,
   "id": "076af319",
   "metadata": {},
   "outputs": [
    {
     "data": {
      "text/plain": [
       "No     6190\n",
       "Yes    4292\n",
       "Name: HIVTST6, dtype: int64"
      ]
     },
     "execution_count": 81,
     "metadata": {},
     "output_type": "execute_result"
    }
   ],
   "source": [
    "dataset2[\"HIVTST6\"].value_counts()"
   ]
  },
  {
   "cell_type": "code",
   "execution_count": 82,
   "id": "7c5e55ff",
   "metadata": {},
   "outputs": [
    {
     "data": {
      "text/plain": [
       "(12338, 77)"
      ]
     },
     "execution_count": 82,
     "metadata": {},
     "output_type": "execute_result"
    }
   ],
   "source": [
    "dataset2.shape"
   ]
  },
  {
   "cell_type": "code",
   "execution_count": null,
   "id": "06fe6c28",
   "metadata": {},
   "outputs": [],
   "source": []
  }
 ],
 "metadata": {
  "kernelspec": {
   "display_name": "Python 3",
   "language": "python",
   "name": "python3"
  },
  "language_info": {
   "codemirror_mode": {
    "name": "ipython",
    "version": 3
   },
   "file_extension": ".py",
   "mimetype": "text/x-python",
   "name": "python",
   "nbconvert_exporter": "python",
   "pygments_lexer": "ipython3",
   "version": "3.8.8"
  }
 },
 "nbformat": 4,
 "nbformat_minor": 5
}
