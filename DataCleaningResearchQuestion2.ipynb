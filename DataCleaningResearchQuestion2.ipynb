{
 "cells": [
  {
   "cell_type": "code",
   "execution_count": 1,
   "id": "7ef9946d",
   "metadata": {},
   "outputs": [],
   "source": [
    "import math\n",
    "import pandas as pd  \n",
    "import numpy as np  \n",
    "import matplotlib.pyplot as plt  \n",
    "from sklearn.model_selection import cross_validate\n",
    "from sklearn.model_selection import train_test_split \n",
    "from sklearn.preprocessing import LabelEncoder, OneHotEncoder, StandardScaler\n",
    "from sklearn.linear_model import LinearRegression\n",
    "from sklearn import metrics\n",
    "from sklearn.model_selection import train_test_split\n",
    "from sklearn.svm import SVR\n",
    "from sklearn.metrics import r2_score\n",
    "import seaborn as sns\n",
    "from sklearn.metrics import mean_squared_error\n",
    "from sklearn.model_selection import train_test_split\n",
    "from sklearn.model_selection import cross_val_score\n",
    "from sklearn.preprocessing import scale\n",
    "from sklearn.naive_bayes import GaussianNB\n",
    "from sklearn.metrics import precision_score\n",
    "from sklearn.metrics import recall_score\n",
    "from sklearn.metrics import f1_score\n",
    "from sklearn.metrics import confusion_matrix\n",
    "from sklearn.metrics import precision_recall_fscore_support\n",
    "%matplotlib inline"
   ]
  },
  {
   "cell_type": "code",
   "execution_count": 2,
   "id": "a25062be",
   "metadata": {},
   "outputs": [],
   "source": [
    "missing_value_formats = [\"Don't know/Not Sure/Refused/Missing\", \"Don´t know, refused or missing values\", \"Don't know/Not sure/Missing\", \"Don´t know/Not Sure/Refused/Missing\", \"Don't know/Not Sure Or Refused/Missing\", \"Don't know/Refused/Missing\", \"Missing\", \"Don´t Know/Not Sure\", \"Don't Know / Not Sure\", \"Don't Know/Not sure\", \"Don´t Know / Not sure\", \"Refused\",\"Don't know/Not sure\",\"Not asked or Missing\",\"Don't know/Not Sure\",\"Don't know / Not sure\",\"Don't know / Not Sure\", \"Data do not meet the criteria for statistical reliability, data quality, or confidentiality (data are suppressed).\", \"D\"]\n",
    "df2 = pd.read_csv('DataSetResearchQuestion2.csv', na_values = missing_value_formats)"
   ]
  },
  {
   "cell_type": "code",
   "execution_count": 3,
   "id": "80e410f1",
   "metadata": {},
   "outputs": [
    {
     "data": {
      "text/html": [
       "<div>\n",
       "<style scoped>\n",
       "    .dataframe tbody tr th:only-of-type {\n",
       "        vertical-align: middle;\n",
       "    }\n",
       "\n",
       "    .dataframe tbody tr th {\n",
       "        vertical-align: top;\n",
       "    }\n",
       "\n",
       "    .dataframe thead th {\n",
       "        text-align: right;\n",
       "    }\n",
       "</style>\n",
       "<table border=\"1\" class=\"dataframe\">\n",
       "  <thead>\n",
       "    <tr style=\"text-align: right;\">\n",
       "      <th></th>\n",
       "      <th>SEQNO</th>\n",
       "      <th>O_STATE</th>\n",
       "      <th>MENTHLTH</th>\n",
       "      <th>ADDEPEV2</th>\n",
       "      <th>_RFHYPE5</th>\n",
       "      <th>TOLDHI2</th>\n",
       "      <th>CVDINFR4</th>\n",
       "      <th>_RFBMI5</th>\n",
       "      <th>SEX</th>\n",
       "      <th>AGE</th>\n",
       "      <th>SMOKE100</th>\n",
       "      <th>_RFBING5</th>\n",
       "      <th>EXERANY2</th>\n",
       "      <th>_FRTLT1</th>\n",
       "      <th>_VEGLT1</th>\n",
       "      <th>CVDSTRK3</th>\n",
       "    </tr>\n",
       "  </thead>\n",
       "  <tbody>\n",
       "    <tr>\n",
       "      <th>0</th>\n",
       "      <td>2015000012</td>\n",
       "      <td>Alabama</td>\n",
       "      <td>None</td>\n",
       "      <td>No</td>\n",
       "      <td>Yes</td>\n",
       "      <td>No</td>\n",
       "      <td>No</td>\n",
       "      <td>No</td>\n",
       "      <td>Male</td>\n",
       "      <td>Age 25 - 34</td>\n",
       "      <td>No</td>\n",
       "      <td>Yes</td>\n",
       "      <td>Yes</td>\n",
       "      <td>Consumed fruit less than one time per day</td>\n",
       "      <td>Consumed vegetables one or more times per day</td>\n",
       "      <td>No</td>\n",
       "    </tr>\n",
       "    <tr>\n",
       "      <th>1</th>\n",
       "      <td>2015000013</td>\n",
       "      <td>Alabama</td>\n",
       "      <td>Number of days</td>\n",
       "      <td>No</td>\n",
       "      <td>Yes</td>\n",
       "      <td>No</td>\n",
       "      <td>NaN</td>\n",
       "      <td>Yes</td>\n",
       "      <td>Female</td>\n",
       "      <td>Age 45 - 54</td>\n",
       "      <td>No</td>\n",
       "      <td>No</td>\n",
       "      <td>Yes</td>\n",
       "      <td>Consumed fruit less than one time per day</td>\n",
       "      <td>Consumed vegetables one or more times per day</td>\n",
       "      <td>Yes</td>\n",
       "    </tr>\n",
       "    <tr>\n",
       "      <th>2</th>\n",
       "      <td>2015000014</td>\n",
       "      <td>Alabama</td>\n",
       "      <td>None</td>\n",
       "      <td>No</td>\n",
       "      <td>No</td>\n",
       "      <td>Yes</td>\n",
       "      <td>No</td>\n",
       "      <td>Yes</td>\n",
       "      <td>Female</td>\n",
       "      <td>Age 25 - 34</td>\n",
       "      <td>No</td>\n",
       "      <td>No</td>\n",
       "      <td>Yes</td>\n",
       "      <td>Consumed fruit less than one time per day</td>\n",
       "      <td>Consumed vegetables one or more times per day</td>\n",
       "      <td>No</td>\n",
       "    </tr>\n",
       "    <tr>\n",
       "      <th>3</th>\n",
       "      <td>2015000015</td>\n",
       "      <td>Alaska</td>\n",
       "      <td>None</td>\n",
       "      <td>No</td>\n",
       "      <td>No</td>\n",
       "      <td>NaN</td>\n",
       "      <td>No</td>\n",
       "      <td>Yes</td>\n",
       "      <td>Male</td>\n",
       "      <td>Age 18 - 24</td>\n",
       "      <td>No</td>\n",
       "      <td>No</td>\n",
       "      <td>Yes</td>\n",
       "      <td>Consumed fruit less than one time per day</td>\n",
       "      <td>NaN</td>\n",
       "      <td>No</td>\n",
       "    </tr>\n",
       "    <tr>\n",
       "      <th>4</th>\n",
       "      <td>2015000016</td>\n",
       "      <td>Alaska</td>\n",
       "      <td>Number of days</td>\n",
       "      <td>Yes</td>\n",
       "      <td>No</td>\n",
       "      <td>NaN</td>\n",
       "      <td>No</td>\n",
       "      <td>No</td>\n",
       "      <td>Female</td>\n",
       "      <td>Age 25 - 34</td>\n",
       "      <td>No</td>\n",
       "      <td>Yes</td>\n",
       "      <td>Yes</td>\n",
       "      <td>Consumed fruit one or more times per day</td>\n",
       "      <td>Consumed vegetables one or more times per day</td>\n",
       "      <td>No</td>\n",
       "    </tr>\n",
       "  </tbody>\n",
       "</table>\n",
       "</div>"
      ],
      "text/plain": [
       "        SEQNO  O_STATE        MENTHLTH ADDEPEV2 _RFHYPE5 TOLDHI2 CVDINFR4  \\\n",
       "0  2015000012  Alabama            None       No      Yes      No       No   \n",
       "1  2015000013  Alabama  Number of days       No      Yes      No      NaN   \n",
       "2  2015000014  Alabama            None       No       No     Yes       No   \n",
       "3  2015000015   Alaska            None       No       No     NaN       No   \n",
       "4  2015000016   Alaska  Number of days      Yes       No     NaN       No   \n",
       "\n",
       "  _RFBMI5     SEX          AGE SMOKE100 _RFBING5 EXERANY2  \\\n",
       "0      No    Male  Age 25 - 34       No      Yes      Yes   \n",
       "1     Yes  Female  Age 45 - 54       No       No      Yes   \n",
       "2     Yes  Female  Age 25 - 34       No       No      Yes   \n",
       "3     Yes    Male  Age 18 - 24       No       No      Yes   \n",
       "4      No  Female  Age 25 - 34       No      Yes      Yes   \n",
       "\n",
       "                                     _FRTLT1  \\\n",
       "0  Consumed fruit less than one time per day   \n",
       "1  Consumed fruit less than one time per day   \n",
       "2  Consumed fruit less than one time per day   \n",
       "3  Consumed fruit less than one time per day   \n",
       "4   Consumed fruit one or more times per day   \n",
       "\n",
       "                                         _VEGLT1 CVDSTRK3  \n",
       "0  Consumed vegetables one or more times per day       No  \n",
       "1  Consumed vegetables one or more times per day      Yes  \n",
       "2  Consumed vegetables one or more times per day       No  \n",
       "3                                            NaN       No  \n",
       "4  Consumed vegetables one or more times per day       No  "
      ]
     },
     "execution_count": 3,
     "metadata": {},
     "output_type": "execute_result"
    }
   ],
   "source": [
    "df2.head()"
   ]
  },
  {
   "cell_type": "code",
   "execution_count": 4,
   "id": "22ecc410",
   "metadata": {},
   "outputs": [
    {
     "data": {
      "text/plain": [
       "(12338, 16)"
      ]
     },
     "execution_count": 4,
     "metadata": {},
     "output_type": "execute_result"
    }
   ],
   "source": [
    "df2.shape"
   ]
  },
  {
   "cell_type": "code",
   "execution_count": 5,
   "id": "003316b4",
   "metadata": {},
   "outputs": [
    {
     "data": {
      "text/plain": [
       "No     11894\n",
       "Yes      417\n",
       "Name: CVDSTRK3, dtype: int64"
      ]
     },
     "execution_count": 5,
     "metadata": {},
     "output_type": "execute_result"
    }
   ],
   "source": [
    "df2[\"CVDSTRK3\"].value_counts()"
   ]
  },
  {
   "cell_type": "code",
   "execution_count": 6,
   "id": "14610dc3",
   "metadata": {},
   "outputs": [
    {
     "data": {
      "text/plain": [
       "27"
      ]
     },
     "execution_count": 6,
     "metadata": {},
     "output_type": "execute_result"
    }
   ],
   "source": [
    "df2[\"CVDSTRK3\"].isnull().sum()"
   ]
  },
  {
   "cell_type": "code",
   "execution_count": 7,
   "id": "4e7dac4b",
   "metadata": {},
   "outputs": [],
   "source": [
    "df2=df2[~df2['CVDSTRK3'].isnull()]"
   ]
  },
  {
   "cell_type": "code",
   "execution_count": 8,
   "id": "63cf6bf5",
   "metadata": {},
   "outputs": [
    {
     "data": {
      "text/plain": [
       "0"
      ]
     },
     "execution_count": 8,
     "metadata": {},
     "output_type": "execute_result"
    }
   ],
   "source": [
    "df2[\"CVDSTRK3\"].isnull().sum()"
   ]
  },
  {
   "cell_type": "code",
   "execution_count": 9,
   "id": "7c8bafe8",
   "metadata": {},
   "outputs": [],
   "source": [
    "df2 = df2.rename(columns={'CVDSTRK3': 'Stroke'})"
   ]
  },
  {
   "cell_type": "code",
   "execution_count": 10,
   "id": "8620c8d0",
   "metadata": {},
   "outputs": [
    {
     "data": {
      "text/plain": [
       "(12311, 16)"
      ]
     },
     "execution_count": 10,
     "metadata": {},
     "output_type": "execute_result"
    }
   ],
   "source": [
    "df2.shape"
   ]
  },
  {
   "cell_type": "code",
   "execution_count": 11,
   "id": "0281cbef",
   "metadata": {},
   "outputs": [
    {
     "data": {
      "text/plain": [
       "False    12311\n",
       "Name: SEQNO, dtype: int64"
      ]
     },
     "execution_count": 11,
     "metadata": {},
     "output_type": "execute_result"
    }
   ],
   "source": [
    "df2[\"SEQNO\"].duplicated().value_counts()"
   ]
  },
  {
   "cell_type": "code",
   "execution_count": 12,
   "id": "341bd61a",
   "metadata": {},
   "outputs": [
    {
     "data": {
      "text/plain": [
       "0"
      ]
     },
     "execution_count": 12,
     "metadata": {},
     "output_type": "execute_result"
    }
   ],
   "source": [
    "df2[\"SEQNO\"].isnull().sum()"
   ]
  },
  {
   "cell_type": "code",
   "execution_count": 13,
   "id": "f0248a46",
   "metadata": {},
   "outputs": [],
   "source": [
    "df2 = df2.rename(columns={'SEQNO': 'RespondentID'})"
   ]
  },
  {
   "cell_type": "code",
   "execution_count": 101,
   "id": "65540b9c",
   "metadata": {},
   "outputs": [],
   "source": [
    "#df2[\"O_STATE\"].value_counts()"
   ]
  },
  {
   "cell_type": "code",
   "execution_count": 102,
   "id": "d5a0e469",
   "metadata": {},
   "outputs": [],
   "source": [
    "#df2[\"O_STATE\"].isnull().sum()"
   ]
  },
  {
   "cell_type": "code",
   "execution_count": 103,
   "id": "e210bb90",
   "metadata": {},
   "outputs": [],
   "source": [
    "#df2['O_STATE'] = df2['O_STATE'].fillna(df2['O_STATE'].value_counts().index[0])\n",
    "#df2[\"O_STATE\"].value_counts()"
   ]
  },
  {
   "cell_type": "code",
   "execution_count": 104,
   "id": "94e630b6",
   "metadata": {},
   "outputs": [],
   "source": [
    "#df2[\"O_STATE\"].isnull().sum()"
   ]
  },
  {
   "cell_type": "code",
   "execution_count": 105,
   "id": "985d9aff",
   "metadata": {},
   "outputs": [],
   "source": [
    "#df2 = df2.rename(columns={'O_STATE': 'State'})"
   ]
  },
  {
   "cell_type": "code",
   "execution_count": 19,
   "id": "3b30c4cc",
   "metadata": {},
   "outputs": [
    {
     "data": {
      "text/plain": [
       "None              8003\n",
       "Number of days    3993\n",
       "Name: MENTHLTH, dtype: int64"
      ]
     },
     "execution_count": 19,
     "metadata": {},
     "output_type": "execute_result"
    }
   ],
   "source": [
    "df2[\"MENTHLTH\"].value_counts()"
   ]
  },
  {
   "cell_type": "code",
   "execution_count": 20,
   "id": "81cdf172",
   "metadata": {},
   "outputs": [
    {
     "data": {
      "text/plain": [
       "315"
      ]
     },
     "execution_count": 20,
     "metadata": {},
     "output_type": "execute_result"
    }
   ],
   "source": [
    "df2[\"MENTHLTH\"].isnull().sum()"
   ]
  },
  {
   "cell_type": "code",
   "execution_count": 21,
   "id": "73dbfb50",
   "metadata": {},
   "outputs": [
    {
     "data": {
      "text/plain": [
       "Good    8318\n",
       "Poor    3993\n",
       "Name: MENTHLTH, dtype: int64"
      ]
     },
     "execution_count": 21,
     "metadata": {},
     "output_type": "execute_result"
    }
   ],
   "source": [
    "df2[\"MENTHLTH\"].replace(\"Number of days\", \"Poor\", inplace=True)\n",
    "df2[\"MENTHLTH\"].replace(\"None\", \"Good\", inplace=True)\n",
    "df2['MENTHLTH'] = df2['MENTHLTH'].fillna(df2['MENTHLTH'].value_counts().index[0])\n",
    "df2[\"MENTHLTH\"].value_counts()"
   ]
  },
  {
   "cell_type": "code",
   "execution_count": 22,
   "id": "ba7650b7",
   "metadata": {},
   "outputs": [
    {
     "data": {
      "text/plain": [
       "0"
      ]
     },
     "execution_count": 22,
     "metadata": {},
     "output_type": "execute_result"
    }
   ],
   "source": [
    "df2[\"MENTHLTH\"].isnull().sum()"
   ]
  },
  {
   "cell_type": "code",
   "execution_count": 23,
   "id": "03e78ca2",
   "metadata": {},
   "outputs": [],
   "source": [
    "df2 = df2.rename(columns={'MENTHLTH': 'MentalHealth'})"
   ]
  },
  {
   "cell_type": "code",
   "execution_count": 24,
   "id": "97ff7b55",
   "metadata": {},
   "outputs": [
    {
     "data": {
      "text/plain": [
       "No     10182\n",
       "Yes     2079\n",
       "Name: ADDEPEV2, dtype: int64"
      ]
     },
     "execution_count": 24,
     "metadata": {},
     "output_type": "execute_result"
    }
   ],
   "source": [
    "df2[\"ADDEPEV2\"].value_counts()"
   ]
  },
  {
   "cell_type": "code",
   "execution_count": 25,
   "id": "635fa1a2",
   "metadata": {},
   "outputs": [
    {
     "data": {
      "text/plain": [
       "50"
      ]
     },
     "execution_count": 25,
     "metadata": {},
     "output_type": "execute_result"
    }
   ],
   "source": [
    "df2[\"ADDEPEV2\"].isnull().sum()"
   ]
  },
  {
   "cell_type": "code",
   "execution_count": 26,
   "id": "2e6fb303",
   "metadata": {},
   "outputs": [
    {
     "data": {
      "text/plain": [
       "No     10232\n",
       "Yes     2079\n",
       "Name: ADDEPEV2, dtype: int64"
      ]
     },
     "execution_count": 26,
     "metadata": {},
     "output_type": "execute_result"
    }
   ],
   "source": [
    "df2['ADDEPEV2'] = df2['ADDEPEV2'].fillna(df2['ADDEPEV2'].value_counts().index[0])\n",
    "df2[\"ADDEPEV2\"].value_counts()"
   ]
  },
  {
   "cell_type": "code",
   "execution_count": 27,
   "id": "b850d918",
   "metadata": {},
   "outputs": [
    {
     "data": {
      "text/plain": [
       "0"
      ]
     },
     "execution_count": 27,
     "metadata": {},
     "output_type": "execute_result"
    }
   ],
   "source": [
    "df2[\"ADDEPEV2\"].isnull().sum()"
   ]
  },
  {
   "cell_type": "code",
   "execution_count": 28,
   "id": "f4acae66",
   "metadata": {},
   "outputs": [],
   "source": [
    "df2 = df2.rename(columns={'ADDEPEV2': 'DepressiveDisorder'})"
   ]
  },
  {
   "cell_type": "code",
   "execution_count": 29,
   "id": "ab033a82",
   "metadata": {},
   "outputs": [
    {
     "data": {
      "text/plain": [
       "No     7737\n",
       "Yes    4531\n",
       "Name: _RFHYPE5, dtype: int64"
      ]
     },
     "execution_count": 29,
     "metadata": {},
     "output_type": "execute_result"
    }
   ],
   "source": [
    "df2[\"_RFHYPE5\"].value_counts()"
   ]
  },
  {
   "cell_type": "code",
   "execution_count": 30,
   "id": "e0f09e90",
   "metadata": {},
   "outputs": [
    {
     "data": {
      "text/plain": [
       "43"
      ]
     },
     "execution_count": 30,
     "metadata": {},
     "output_type": "execute_result"
    }
   ],
   "source": [
    "df2[\"_RFHYPE5\"].isnull().sum()"
   ]
  },
  {
   "cell_type": "code",
   "execution_count": 31,
   "id": "4f608c80",
   "metadata": {},
   "outputs": [
    {
     "data": {
      "text/plain": [
       "No     7780\n",
       "Yes    4531\n",
       "Name: _RFHYPE5, dtype: int64"
      ]
     },
     "execution_count": 31,
     "metadata": {},
     "output_type": "execute_result"
    }
   ],
   "source": [
    "df2['_RFHYPE5'] = df2['_RFHYPE5'].fillna(df2['_RFHYPE5'].value_counts().index[0])\n",
    "df2[\"_RFHYPE5\"].value_counts()"
   ]
  },
  {
   "cell_type": "code",
   "execution_count": 32,
   "id": "8e88a074",
   "metadata": {},
   "outputs": [
    {
     "data": {
      "text/plain": [
       "0"
      ]
     },
     "execution_count": 32,
     "metadata": {},
     "output_type": "execute_result"
    }
   ],
   "source": [
    "df2[\"_RFHYPE5\"].isnull().sum()"
   ]
  },
  {
   "cell_type": "code",
   "execution_count": 33,
   "id": "84995418",
   "metadata": {},
   "outputs": [],
   "source": [
    "df2 = df2.rename(columns={'_RFHYPE5': 'HighBloodPressure'})"
   ]
  },
  {
   "cell_type": "code",
   "execution_count": 34,
   "id": "ebe48179",
   "metadata": {},
   "outputs": [
    {
     "data": {
      "text/plain": [
       "No     6359\n",
       "Yes    4383\n",
       "Name: TOLDHI2, dtype: int64"
      ]
     },
     "execution_count": 34,
     "metadata": {},
     "output_type": "execute_result"
    }
   ],
   "source": [
    "df2[\"TOLDHI2\"].value_counts()"
   ]
  },
  {
   "cell_type": "code",
   "execution_count": 35,
   "id": "098bdbb2",
   "metadata": {},
   "outputs": [
    {
     "data": {
      "text/plain": [
       "1569"
      ]
     },
     "execution_count": 35,
     "metadata": {},
     "output_type": "execute_result"
    }
   ],
   "source": [
    "df2[\"TOLDHI2\"].isnull().sum()"
   ]
  },
  {
   "cell_type": "code",
   "execution_count": 36,
   "id": "14bbbf8e",
   "metadata": {},
   "outputs": [
    {
     "data": {
      "text/plain": [
       "No     7928\n",
       "Yes    4383\n",
       "Name: TOLDHI2, dtype: int64"
      ]
     },
     "execution_count": 36,
     "metadata": {},
     "output_type": "execute_result"
    }
   ],
   "source": [
    "df2['TOLDHI2'] = df2['TOLDHI2'].fillna(df2['TOLDHI2'].value_counts().index[0])\n",
    "df2[\"TOLDHI2\"].value_counts()"
   ]
  },
  {
   "cell_type": "code",
   "execution_count": 37,
   "id": "f99bb0f5",
   "metadata": {},
   "outputs": [
    {
     "data": {
      "text/plain": [
       "0"
      ]
     },
     "execution_count": 37,
     "metadata": {},
     "output_type": "execute_result"
    }
   ],
   "source": [
    "df2[\"TOLDHI2\"].isnull().sum()"
   ]
  },
  {
   "cell_type": "code",
   "execution_count": 38,
   "id": "321c2aae",
   "metadata": {},
   "outputs": [],
   "source": [
    "df2 = df2.rename(columns={'TOLDHI2': 'HighBloodCholesterol'})"
   ]
  },
  {
   "cell_type": "code",
   "execution_count": 39,
   "id": "6dbdc6f3",
   "metadata": {},
   "outputs": [
    {
     "data": {
      "text/plain": [
       "No     11630\n",
       "Yes      627\n",
       "Name: CVDINFR4, dtype: int64"
      ]
     },
     "execution_count": 39,
     "metadata": {},
     "output_type": "execute_result"
    }
   ],
   "source": [
    "df2[\"CVDINFR4\"].value_counts()"
   ]
  },
  {
   "cell_type": "code",
   "execution_count": 40,
   "id": "fd246ef3",
   "metadata": {},
   "outputs": [
    {
     "data": {
      "text/plain": [
       "54"
      ]
     },
     "execution_count": 40,
     "metadata": {},
     "output_type": "execute_result"
    }
   ],
   "source": [
    "df2[\"CVDINFR4\"].isnull().sum()"
   ]
  },
  {
   "cell_type": "code",
   "execution_count": 41,
   "id": "d6febc5b",
   "metadata": {},
   "outputs": [
    {
     "data": {
      "text/plain": [
       "No     11684\n",
       "Yes      627\n",
       "Name: CVDINFR4, dtype: int64"
      ]
     },
     "execution_count": 41,
     "metadata": {},
     "output_type": "execute_result"
    }
   ],
   "source": [
    "df2['CVDINFR4'] = df2['CVDINFR4'].fillna(df2['CVDINFR4'].value_counts().index[0])\n",
    "df2[\"CVDINFR4\"].value_counts()"
   ]
  },
  {
   "cell_type": "code",
   "execution_count": 42,
   "id": "19217ba4",
   "metadata": {},
   "outputs": [
    {
     "data": {
      "text/plain": [
       "0"
      ]
     },
     "execution_count": 42,
     "metadata": {},
     "output_type": "execute_result"
    }
   ],
   "source": [
    "df2[\"CVDINFR4\"].isnull().sum()"
   ]
  },
  {
   "cell_type": "code",
   "execution_count": 43,
   "id": "2c50520f",
   "metadata": {},
   "outputs": [],
   "source": [
    "df2 = df2.rename(columns={'CVDINFR4': 'HeartAttack'})"
   ]
  },
  {
   "cell_type": "code",
   "execution_count": 44,
   "id": "09d74a8f",
   "metadata": {},
   "outputs": [
    {
     "data": {
      "text/plain": [
       "Yes    6923\n",
       "No     4317\n",
       "Name: _RFBMI5, dtype: int64"
      ]
     },
     "execution_count": 44,
     "metadata": {},
     "output_type": "execute_result"
    }
   ],
   "source": [
    "df2[\"_RFBMI5\"].value_counts()"
   ]
  },
  {
   "cell_type": "code",
   "execution_count": 45,
   "id": "9451c2ab",
   "metadata": {},
   "outputs": [
    {
     "data": {
      "text/plain": [
       "1071"
      ]
     },
     "execution_count": 45,
     "metadata": {},
     "output_type": "execute_result"
    }
   ],
   "source": [
    "df2[\"_RFBMI5\"].isnull().sum()"
   ]
  },
  {
   "cell_type": "code",
   "execution_count": 46,
   "id": "7459570f",
   "metadata": {},
   "outputs": [
    {
     "data": {
      "text/plain": [
       "Yes    7994\n",
       "No     4317\n",
       "Name: _RFBMI5, dtype: int64"
      ]
     },
     "execution_count": 46,
     "metadata": {},
     "output_type": "execute_result"
    }
   ],
   "source": [
    "df2['_RFBMI5'] = df2['_RFBMI5'].fillna(df2['_RFBMI5'].value_counts().index[0])\n",
    "df2[\"_RFBMI5\"].value_counts()"
   ]
  },
  {
   "cell_type": "code",
   "execution_count": 47,
   "id": "fb66d85c",
   "metadata": {},
   "outputs": [
    {
     "data": {
      "text/plain": [
       "0"
      ]
     },
     "execution_count": 47,
     "metadata": {},
     "output_type": "execute_result"
    }
   ],
   "source": [
    "df2[\"_RFBMI5\"].isnull().sum()"
   ]
  },
  {
   "cell_type": "code",
   "execution_count": 48,
   "id": "38541ffe",
   "metadata": {},
   "outputs": [],
   "source": [
    "df2 = df2.rename(columns={'_RFBMI5': 'Overweight/Obesity'})"
   ]
  },
  {
   "cell_type": "code",
   "execution_count": 49,
   "id": "dc96f641",
   "metadata": {},
   "outputs": [
    {
     "data": {
      "text/plain": [
       "Female    7125\n",
       "Male      5186\n",
       "Name: SEX, dtype: int64"
      ]
     },
     "execution_count": 49,
     "metadata": {},
     "output_type": "execute_result"
    }
   ],
   "source": [
    "df2[\"SEX\"].value_counts()"
   ]
  },
  {
   "cell_type": "code",
   "execution_count": 50,
   "id": "fe29d0d7",
   "metadata": {},
   "outputs": [
    {
     "data": {
      "text/plain": [
       "0"
      ]
     },
     "execution_count": 50,
     "metadata": {},
     "output_type": "execute_result"
    }
   ],
   "source": [
    "df2[\"SEX\"].isnull().sum()"
   ]
  },
  {
   "cell_type": "code",
   "execution_count": 51,
   "id": "e4693810",
   "metadata": {},
   "outputs": [],
   "source": [
    "df2 = df2.rename(columns={'SEX': 'Sex'})"
   ]
  },
  {
   "cell_type": "code",
   "execution_count": 52,
   "id": "35043da6",
   "metadata": {},
   "outputs": [
    {
     "data": {
      "text/plain": [
       "Age 65 or older    4017\n",
       "Age 55 - 64        2553\n",
       "Age 45 - 54        2147\n",
       "Age 35 - 44        1469\n",
       "Age 25 - 34        1273\n",
       "Age 18 - 24         657\n",
       "Name: AGE, dtype: int64"
      ]
     },
     "execution_count": 52,
     "metadata": {},
     "output_type": "execute_result"
    }
   ],
   "source": [
    "df2[\"AGE\"].value_counts()"
   ]
  },
  {
   "cell_type": "code",
   "execution_count": 53,
   "id": "1a27d15b",
   "metadata": {},
   "outputs": [
    {
     "data": {
      "text/plain": [
       "195"
      ]
     },
     "execution_count": 53,
     "metadata": {},
     "output_type": "execute_result"
    }
   ],
   "source": [
    "df2[\"AGE\"].isnull().sum()"
   ]
  },
  {
   "cell_type": "code",
   "execution_count": 54,
   "id": "f78e67ec",
   "metadata": {},
   "outputs": [
    {
     "data": {
      "text/plain": [
       "65 or older    4212\n",
       "55 - 64        2553\n",
       "45 - 54        2147\n",
       "35 - 44        1469\n",
       "25 - 34        1273\n",
       "18 - 24         657\n",
       "Name: AGE, dtype: int64"
      ]
     },
     "execution_count": 54,
     "metadata": {},
     "output_type": "execute_result"
    }
   ],
   "source": [
    "df2[\"AGE\"].replace(\"Age 65 or older\", \"65 or older\", inplace=True)\n",
    "df2[\"AGE\"].replace(\"Age 55 - 64\", \"55 - 64\", inplace=True)\n",
    "df2[\"AGE\"].replace(\"Age 45 - 54\", \"45 - 54\", inplace=True)\n",
    "df2[\"AGE\"].replace(\"Age 35 - 44\", \"35 - 44\", inplace=True)\n",
    "df2[\"AGE\"].replace(\"Age 25 - 34\", \"25 - 34\", inplace=True)\n",
    "df2[\"AGE\"].replace(\"Age 18 - 24\", \"18 - 24\", inplace=True)\n",
    "df2['AGE'] = df2['AGE'].fillna(df2['AGE'].value_counts().index[0])\n",
    "df2[\"AGE\"].value_counts()"
   ]
  },
  {
   "cell_type": "code",
   "execution_count": 55,
   "id": "0e77d4d4",
   "metadata": {},
   "outputs": [
    {
     "data": {
      "text/plain": [
       "0"
      ]
     },
     "execution_count": 55,
     "metadata": {},
     "output_type": "execute_result"
    }
   ],
   "source": [
    "df2[\"AGE\"].isnull().sum()"
   ]
  },
  {
   "cell_type": "code",
   "execution_count": 56,
   "id": "60a72972",
   "metadata": {},
   "outputs": [],
   "source": [
    "df2 = df2.rename(columns={'AGE': 'AgeRange'})"
   ]
  },
  {
   "cell_type": "code",
   "execution_count": 57,
   "id": "9d94dd57",
   "metadata": {},
   "outputs": [
    {
     "data": {
      "text/plain": [
       "No     6612\n",
       "Yes    5056\n",
       "Name: SMOKE100, dtype: int64"
      ]
     },
     "execution_count": 57,
     "metadata": {},
     "output_type": "execute_result"
    }
   ],
   "source": [
    "df2[\"SMOKE100\"].value_counts()"
   ]
  },
  {
   "cell_type": "code",
   "execution_count": 58,
   "id": "67a70726",
   "metadata": {},
   "outputs": [
    {
     "data": {
      "text/plain": [
       "643"
      ]
     },
     "execution_count": 58,
     "metadata": {},
     "output_type": "execute_result"
    }
   ],
   "source": [
    "df2[\"SMOKE100\"].isnull().sum()"
   ]
  },
  {
   "cell_type": "code",
   "execution_count": 59,
   "id": "3c32fc51",
   "metadata": {},
   "outputs": [
    {
     "data": {
      "text/plain": [
       "No     7255\n",
       "Yes    5056\n",
       "Name: SMOKE100, dtype: int64"
      ]
     },
     "execution_count": 59,
     "metadata": {},
     "output_type": "execute_result"
    }
   ],
   "source": [
    "df2['SMOKE100'] = df2['SMOKE100'].fillna(df2['SMOKE100'].value_counts().index[0])\n",
    "df2[\"SMOKE100\"].value_counts()"
   ]
  },
  {
   "cell_type": "code",
   "execution_count": 60,
   "id": "76918efb",
   "metadata": {},
   "outputs": [
    {
     "data": {
      "text/plain": [
       "0"
      ]
     },
     "execution_count": 60,
     "metadata": {},
     "output_type": "execute_result"
    }
   ],
   "source": [
    "df2[\"SMOKE100\"].isnull().sum()"
   ]
  },
  {
   "cell_type": "code",
   "execution_count": 61,
   "id": "53c4d85d",
   "metadata": {},
   "outputs": [],
   "source": [
    "df2 = df2.rename(columns={'SMOKE100': 'Smoke100'})"
   ]
  },
  {
   "cell_type": "code",
   "execution_count": 62,
   "id": "3137ad8e",
   "metadata": {},
   "outputs": [
    {
     "data": {
      "text/plain": [
       "No     9859\n",
       "Yes    1501\n",
       "Name: _RFBING5, dtype: int64"
      ]
     },
     "execution_count": 62,
     "metadata": {},
     "output_type": "execute_result"
    }
   ],
   "source": [
    "df2[\"_RFBING5\"].value_counts()"
   ]
  },
  {
   "cell_type": "code",
   "execution_count": 63,
   "id": "4bbc7c4b",
   "metadata": {},
   "outputs": [
    {
     "data": {
      "text/plain": [
       "951"
      ]
     },
     "execution_count": 63,
     "metadata": {},
     "output_type": "execute_result"
    }
   ],
   "source": [
    "df2[\"_RFBING5\"].isnull().sum()"
   ]
  },
  {
   "cell_type": "code",
   "execution_count": 64,
   "id": "7821e169",
   "metadata": {},
   "outputs": [
    {
     "data": {
      "text/plain": [
       "No     10810\n",
       "Yes     1501\n",
       "Name: _RFBING5, dtype: int64"
      ]
     },
     "execution_count": 64,
     "metadata": {},
     "output_type": "execute_result"
    }
   ],
   "source": [
    "df2['_RFBING5'] = df2['_RFBING5'].fillna(df2['_RFBING5'].value_counts().index[0])\n",
    "df2[\"_RFBING5\"].value_counts()"
   ]
  },
  {
   "cell_type": "code",
   "execution_count": 65,
   "id": "e5df266d",
   "metadata": {},
   "outputs": [
    {
     "data": {
      "text/plain": [
       "0"
      ]
     },
     "execution_count": 65,
     "metadata": {},
     "output_type": "execute_result"
    }
   ],
   "source": [
    "df2[\"_RFBING5\"].isnull().sum()"
   ]
  },
  {
   "cell_type": "code",
   "execution_count": 66,
   "id": "9f1863fb",
   "metadata": {},
   "outputs": [],
   "source": [
    "df2 = df2.rename(columns={'_RFBING5': 'BingeDrinkers'})"
   ]
  },
  {
   "cell_type": "code",
   "execution_count": 67,
   "id": "eb6044d5",
   "metadata": {},
   "outputs": [
    {
     "data": {
      "text/plain": [
       "Yes    7824\n",
       "No     3107\n",
       "Name: EXERANY2, dtype: int64"
      ]
     },
     "execution_count": 67,
     "metadata": {},
     "output_type": "execute_result"
    }
   ],
   "source": [
    "df2[\"EXERANY2\"].value_counts()"
   ]
  },
  {
   "cell_type": "code",
   "execution_count": 68,
   "id": "beef56cd",
   "metadata": {},
   "outputs": [
    {
     "data": {
      "text/plain": [
       "1380"
      ]
     },
     "execution_count": 68,
     "metadata": {},
     "output_type": "execute_result"
    }
   ],
   "source": [
    "df2[\"EXERANY2\"].isnull().sum()"
   ]
  },
  {
   "cell_type": "code",
   "execution_count": 69,
   "id": "2de6b2fd",
   "metadata": {},
   "outputs": [
    {
     "data": {
      "text/plain": [
       "Yes    9204\n",
       "No     3107\n",
       "Name: EXERANY2, dtype: int64"
      ]
     },
     "execution_count": 69,
     "metadata": {},
     "output_type": "execute_result"
    }
   ],
   "source": [
    "df2['EXERANY2'] = df2['EXERANY2'].fillna(df2['EXERANY2'].value_counts().index[0])\n",
    "df2[\"EXERANY2\"].value_counts()"
   ]
  },
  {
   "cell_type": "code",
   "execution_count": 70,
   "id": "eac85c5e",
   "metadata": {},
   "outputs": [
    {
     "data": {
      "text/plain": [
       "0"
      ]
     },
     "execution_count": 70,
     "metadata": {},
     "output_type": "execute_result"
    }
   ],
   "source": [
    "df2[\"EXERANY2\"].isnull().sum()"
   ]
  },
  {
   "cell_type": "code",
   "execution_count": 71,
   "id": "dacbd0fd",
   "metadata": {},
   "outputs": [],
   "source": [
    "df2 = df2.rename(columns={'EXERANY2': 'PhysicalActivity'})"
   ]
  },
  {
   "cell_type": "code",
   "execution_count": 72,
   "id": "070bfac2",
   "metadata": {},
   "outputs": [
    {
     "data": {
      "text/plain": [
       "Consumed fruit one or more times per day     7247\n",
       "Consumed fruit less than one time per day    3635\n",
       "Name: _FRTLT1, dtype: int64"
      ]
     },
     "execution_count": 72,
     "metadata": {},
     "output_type": "execute_result"
    }
   ],
   "source": [
    "df2[\"_FRTLT1\"].value_counts()"
   ]
  },
  {
   "cell_type": "code",
   "execution_count": 73,
   "id": "e207cc16",
   "metadata": {},
   "outputs": [
    {
     "data": {
      "text/plain": [
       "1429"
      ]
     },
     "execution_count": 73,
     "metadata": {},
     "output_type": "execute_result"
    }
   ],
   "source": [
    "df2[\"_FRTLT1\"].isnull().sum()"
   ]
  },
  {
   "cell_type": "code",
   "execution_count": 74,
   "id": "3fa4269b",
   "metadata": {},
   "outputs": [
    {
     "data": {
      "text/plain": [
       "Yes    8676\n",
       "No     3635\n",
       "Name: _FRTLT1, dtype: int64"
      ]
     },
     "execution_count": 74,
     "metadata": {},
     "output_type": "execute_result"
    }
   ],
   "source": [
    "df2[\"_FRTLT1\"].replace(\"Consumed fruit one or more times per day\", \"Yes\", inplace=True)\n",
    "df2[\"_FRTLT1\"].replace(\"Consumed fruit less than one time per day\", \"No\", inplace=True)\n",
    "df2['_FRTLT1'] = df2['_FRTLT1'].fillna(df2['_FRTLT1'].value_counts().index[0])\n",
    "df2[\"_FRTLT1\"].value_counts()"
   ]
  },
  {
   "cell_type": "code",
   "execution_count": 75,
   "id": "d74af2bc",
   "metadata": {},
   "outputs": [
    {
     "data": {
      "text/plain": [
       "0"
      ]
     },
     "execution_count": 75,
     "metadata": {},
     "output_type": "execute_result"
    }
   ],
   "source": [
    "df2[\"_FRTLT1\"].isnull().sum()"
   ]
  },
  {
   "cell_type": "code",
   "execution_count": 76,
   "id": "4afe5eca",
   "metadata": {},
   "outputs": [],
   "source": [
    "df2 = df2.rename(columns={'_FRTLT1': 'ConsumeFruitsEveryDay'})"
   ]
  },
  {
   "cell_type": "code",
   "execution_count": 77,
   "id": "b16a064c",
   "metadata": {},
   "outputs": [
    {
     "data": {
      "text/plain": [
       "Consumed vegetables one or more times per day     8452\n",
       "Consumed vegetables less than one time per day    2212\n",
       "Name: _VEGLT1, dtype: int64"
      ]
     },
     "execution_count": 77,
     "metadata": {},
     "output_type": "execute_result"
    }
   ],
   "source": [
    "df2[\"_VEGLT1\"].value_counts()"
   ]
  },
  {
   "cell_type": "code",
   "execution_count": 78,
   "id": "ebdee7cf",
   "metadata": {},
   "outputs": [
    {
     "data": {
      "text/plain": [
       "Yes    10099\n",
       "No      2212\n",
       "Name: _VEGLT1, dtype: int64"
      ]
     },
     "execution_count": 78,
     "metadata": {},
     "output_type": "execute_result"
    }
   ],
   "source": [
    "df2[\"_VEGLT1\"].replace(\"Consumed vegetables one or more times per day\", \"Yes\", inplace=True)\n",
    "df2[\"_VEGLT1\"].replace(\"Consumed vegetables less than one time per day\", \"No\", inplace=True)\n",
    "df2['_VEGLT1'] = df2['_VEGLT1'].fillna(df2['_VEGLT1'].value_counts().index[0])\n",
    "df2[\"_VEGLT1\"].value_counts()"
   ]
  },
  {
   "cell_type": "code",
   "execution_count": 79,
   "id": "cea21e0f",
   "metadata": {},
   "outputs": [
    {
     "data": {
      "text/plain": [
       "0"
      ]
     },
     "execution_count": 79,
     "metadata": {},
     "output_type": "execute_result"
    }
   ],
   "source": [
    "df2[\"_VEGLT1\"].isnull().sum()"
   ]
  },
  {
   "cell_type": "code",
   "execution_count": 80,
   "id": "18accdd6",
   "metadata": {},
   "outputs": [],
   "source": [
    "df2 = df2.rename(columns={'_VEGLT1': 'ConsumeVegetablesEveryDay'})"
   ]
  },
  {
   "cell_type": "code",
   "execution_count": 81,
   "id": "a076325a",
   "metadata": {},
   "outputs": [
    {
     "data": {
      "text/html": [
       "<div>\n",
       "<style scoped>\n",
       "    .dataframe tbody tr th:only-of-type {\n",
       "        vertical-align: middle;\n",
       "    }\n",
       "\n",
       "    .dataframe tbody tr th {\n",
       "        vertical-align: top;\n",
       "    }\n",
       "\n",
       "    .dataframe thead th {\n",
       "        text-align: right;\n",
       "    }\n",
       "</style>\n",
       "<table border=\"1\" class=\"dataframe\">\n",
       "  <thead>\n",
       "    <tr style=\"text-align: right;\">\n",
       "      <th></th>\n",
       "      <th>RespondentID</th>\n",
       "      <th>State</th>\n",
       "      <th>MentalHealth</th>\n",
       "      <th>DepressiveDisorder</th>\n",
       "      <th>HighBloodPressure</th>\n",
       "      <th>HighBloodCholesterol</th>\n",
       "      <th>HeartAttack</th>\n",
       "      <th>Overweight/Obesity</th>\n",
       "      <th>Sex</th>\n",
       "      <th>AgeRange</th>\n",
       "      <th>Smoke100</th>\n",
       "      <th>BingeDrinkers</th>\n",
       "      <th>PhysicalActivity</th>\n",
       "      <th>ConsumeFruitsEveryDay</th>\n",
       "      <th>ConsumeVegetablesEveryDay</th>\n",
       "      <th>Stroke</th>\n",
       "    </tr>\n",
       "  </thead>\n",
       "  <tbody>\n",
       "    <tr>\n",
       "      <th>0</th>\n",
       "      <td>2015000012</td>\n",
       "      <td>Alabama</td>\n",
       "      <td>Good</td>\n",
       "      <td>No</td>\n",
       "      <td>Yes</td>\n",
       "      <td>No</td>\n",
       "      <td>No</td>\n",
       "      <td>No</td>\n",
       "      <td>Male</td>\n",
       "      <td>25 - 34</td>\n",
       "      <td>No</td>\n",
       "      <td>Yes</td>\n",
       "      <td>Yes</td>\n",
       "      <td>No</td>\n",
       "      <td>Yes</td>\n",
       "      <td>No</td>\n",
       "    </tr>\n",
       "    <tr>\n",
       "      <th>1</th>\n",
       "      <td>2015000013</td>\n",
       "      <td>Alabama</td>\n",
       "      <td>Poor</td>\n",
       "      <td>No</td>\n",
       "      <td>Yes</td>\n",
       "      <td>No</td>\n",
       "      <td>No</td>\n",
       "      <td>Yes</td>\n",
       "      <td>Female</td>\n",
       "      <td>45 - 54</td>\n",
       "      <td>No</td>\n",
       "      <td>No</td>\n",
       "      <td>Yes</td>\n",
       "      <td>No</td>\n",
       "      <td>Yes</td>\n",
       "      <td>Yes</td>\n",
       "    </tr>\n",
       "    <tr>\n",
       "      <th>2</th>\n",
       "      <td>2015000014</td>\n",
       "      <td>Alabama</td>\n",
       "      <td>Good</td>\n",
       "      <td>No</td>\n",
       "      <td>No</td>\n",
       "      <td>Yes</td>\n",
       "      <td>No</td>\n",
       "      <td>Yes</td>\n",
       "      <td>Female</td>\n",
       "      <td>25 - 34</td>\n",
       "      <td>No</td>\n",
       "      <td>No</td>\n",
       "      <td>Yes</td>\n",
       "      <td>No</td>\n",
       "      <td>Yes</td>\n",
       "      <td>No</td>\n",
       "    </tr>\n",
       "    <tr>\n",
       "      <th>3</th>\n",
       "      <td>2015000015</td>\n",
       "      <td>Alaska</td>\n",
       "      <td>Good</td>\n",
       "      <td>No</td>\n",
       "      <td>No</td>\n",
       "      <td>No</td>\n",
       "      <td>No</td>\n",
       "      <td>Yes</td>\n",
       "      <td>Male</td>\n",
       "      <td>18 - 24</td>\n",
       "      <td>No</td>\n",
       "      <td>No</td>\n",
       "      <td>Yes</td>\n",
       "      <td>No</td>\n",
       "      <td>Yes</td>\n",
       "      <td>No</td>\n",
       "    </tr>\n",
       "    <tr>\n",
       "      <th>4</th>\n",
       "      <td>2015000016</td>\n",
       "      <td>Alaska</td>\n",
       "      <td>Poor</td>\n",
       "      <td>Yes</td>\n",
       "      <td>No</td>\n",
       "      <td>No</td>\n",
       "      <td>No</td>\n",
       "      <td>No</td>\n",
       "      <td>Female</td>\n",
       "      <td>25 - 34</td>\n",
       "      <td>No</td>\n",
       "      <td>Yes</td>\n",
       "      <td>Yes</td>\n",
       "      <td>Yes</td>\n",
       "      <td>Yes</td>\n",
       "      <td>No</td>\n",
       "    </tr>\n",
       "  </tbody>\n",
       "</table>\n",
       "</div>"
      ],
      "text/plain": [
       "   RespondentID    State MentalHealth DepressiveDisorder HighBloodPressure  \\\n",
       "0    2015000012  Alabama         Good                 No               Yes   \n",
       "1    2015000013  Alabama         Poor                 No               Yes   \n",
       "2    2015000014  Alabama         Good                 No                No   \n",
       "3    2015000015   Alaska         Good                 No                No   \n",
       "4    2015000016   Alaska         Poor                Yes                No   \n",
       "\n",
       "  HighBloodCholesterol HeartAttack Overweight/Obesity     Sex AgeRange  \\\n",
       "0                   No          No                 No    Male  25 - 34   \n",
       "1                   No          No                Yes  Female  45 - 54   \n",
       "2                  Yes          No                Yes  Female  25 - 34   \n",
       "3                   No          No                Yes    Male  18 - 24   \n",
       "4                   No          No                 No  Female  25 - 34   \n",
       "\n",
       "  Smoke100 BingeDrinkers PhysicalActivity ConsumeFruitsEveryDay  \\\n",
       "0       No           Yes              Yes                    No   \n",
       "1       No            No              Yes                    No   \n",
       "2       No            No              Yes                    No   \n",
       "3       No            No              Yes                    No   \n",
       "4       No           Yes              Yes                   Yes   \n",
       "\n",
       "  ConsumeVegetablesEveryDay Stroke  \n",
       "0                       Yes     No  \n",
       "1                       Yes    Yes  \n",
       "2                       Yes     No  \n",
       "3                       Yes     No  \n",
       "4                       Yes     No  "
      ]
     },
     "execution_count": 81,
     "metadata": {},
     "output_type": "execute_result"
    }
   ],
   "source": [
    "df2.head()"
   ]
  },
  {
   "cell_type": "code",
   "execution_count": 82,
   "id": "425a2450",
   "metadata": {},
   "outputs": [
    {
     "data": {
      "text/plain": [
       "(12311, 16)"
      ]
     },
     "execution_count": 82,
     "metadata": {},
     "output_type": "execute_result"
    }
   ],
   "source": [
    "df2.shape"
   ]
  },
  {
   "cell_type": "code",
   "execution_count": 83,
   "id": "4bf753b1",
   "metadata": {},
   "outputs": [],
   "source": [
    "# Exporting dataset:\n",
    "from IPython.display import FileLink, FileLinks\n",
    "\n",
    "df2.to_csv('ResearchQuestion2.csv', index=False)"
   ]
  },
  {
   "cell_type": "markdown",
   "id": "2abcf762",
   "metadata": {},
   "source": [
    "## Relationship:"
   ]
  },
  {
   "cell_type": "code",
   "execution_count": 99,
   "id": "7aa958ed",
   "metadata": {},
   "outputs": [
    {
     "data": {
      "text/html": [
       "<div>\n",
       "<style scoped>\n",
       "    .dataframe tbody tr th:only-of-type {\n",
       "        vertical-align: middle;\n",
       "    }\n",
       "\n",
       "    .dataframe tbody tr th {\n",
       "        vertical-align: top;\n",
       "    }\n",
       "\n",
       "    .dataframe thead th {\n",
       "        text-align: right;\n",
       "    }\n",
       "</style>\n",
       "<table border=\"1\" class=\"dataframe\">\n",
       "  <thead>\n",
       "    <tr style=\"text-align: right;\">\n",
       "      <th></th>\n",
       "      <th></th>\n",
       "      <th></th>\n",
       "      <th>Stroke</th>\n",
       "    </tr>\n",
       "    <tr>\n",
       "      <th>AgeRange</th>\n",
       "      <th>Sex</th>\n",
       "      <th>Stroke</th>\n",
       "      <th></th>\n",
       "    </tr>\n",
       "  </thead>\n",
       "  <tbody>\n",
       "    <tr>\n",
       "      <th rowspan=\"4\" valign=\"top\">18 - 24</th>\n",
       "      <th rowspan=\"2\" valign=\"top\">Female</th>\n",
       "      <th>No</th>\n",
       "      <td>307</td>\n",
       "    </tr>\n",
       "    <tr>\n",
       "      <th>Yes</th>\n",
       "      <td>1</td>\n",
       "    </tr>\n",
       "    <tr>\n",
       "      <th rowspan=\"2\" valign=\"top\">Male</th>\n",
       "      <th>No</th>\n",
       "      <td>348</td>\n",
       "    </tr>\n",
       "    <tr>\n",
       "      <th>Yes</th>\n",
       "      <td>1</td>\n",
       "    </tr>\n",
       "    <tr>\n",
       "      <th rowspan=\"4\" valign=\"top\">25 - 34</th>\n",
       "      <th rowspan=\"2\" valign=\"top\">Female</th>\n",
       "      <th>No</th>\n",
       "      <td>685</td>\n",
       "    </tr>\n",
       "    <tr>\n",
       "      <th>Yes</th>\n",
       "      <td>7</td>\n",
       "    </tr>\n",
       "    <tr>\n",
       "      <th rowspan=\"2\" valign=\"top\">Male</th>\n",
       "      <th>No</th>\n",
       "      <td>577</td>\n",
       "    </tr>\n",
       "    <tr>\n",
       "      <th>Yes</th>\n",
       "      <td>4</td>\n",
       "    </tr>\n",
       "    <tr>\n",
       "      <th rowspan=\"4\" valign=\"top\">35 - 44</th>\n",
       "      <th rowspan=\"2\" valign=\"top\">Female</th>\n",
       "      <th>No</th>\n",
       "      <td>861</td>\n",
       "    </tr>\n",
       "    <tr>\n",
       "      <th>Yes</th>\n",
       "      <td>10</td>\n",
       "    </tr>\n",
       "    <tr>\n",
       "      <th rowspan=\"2\" valign=\"top\">Male</th>\n",
       "      <th>No</th>\n",
       "      <td>595</td>\n",
       "    </tr>\n",
       "    <tr>\n",
       "      <th>Yes</th>\n",
       "      <td>3</td>\n",
       "    </tr>\n",
       "    <tr>\n",
       "      <th rowspan=\"4\" valign=\"top\">45 - 54</th>\n",
       "      <th rowspan=\"2\" valign=\"top\">Female</th>\n",
       "      <th>No</th>\n",
       "      <td>1220</td>\n",
       "    </tr>\n",
       "    <tr>\n",
       "      <th>Yes</th>\n",
       "      <td>26</td>\n",
       "    </tr>\n",
       "    <tr>\n",
       "      <th rowspan=\"2\" valign=\"top\">Male</th>\n",
       "      <th>No</th>\n",
       "      <td>885</td>\n",
       "    </tr>\n",
       "    <tr>\n",
       "      <th>Yes</th>\n",
       "      <td>16</td>\n",
       "    </tr>\n",
       "    <tr>\n",
       "      <th rowspan=\"4\" valign=\"top\">55 - 64</th>\n",
       "      <th rowspan=\"2\" valign=\"top\">Female</th>\n",
       "      <th>No</th>\n",
       "      <td>1451</td>\n",
       "    </tr>\n",
       "    <tr>\n",
       "      <th>Yes</th>\n",
       "      <td>45</td>\n",
       "    </tr>\n",
       "    <tr>\n",
       "      <th rowspan=\"2\" valign=\"top\">Male</th>\n",
       "      <th>No</th>\n",
       "      <td>1012</td>\n",
       "    </tr>\n",
       "    <tr>\n",
       "      <th>Yes</th>\n",
       "      <td>45</td>\n",
       "    </tr>\n",
       "    <tr>\n",
       "      <th rowspan=\"4\" valign=\"top\">65 or older</th>\n",
       "      <th rowspan=\"2\" valign=\"top\">Female</th>\n",
       "      <th>No</th>\n",
       "      <td>2378</td>\n",
       "    </tr>\n",
       "    <tr>\n",
       "      <th>Yes</th>\n",
       "      <td>134</td>\n",
       "    </tr>\n",
       "    <tr>\n",
       "      <th rowspan=\"2\" valign=\"top\">Male</th>\n",
       "      <th>No</th>\n",
       "      <td>1575</td>\n",
       "    </tr>\n",
       "    <tr>\n",
       "      <th>Yes</th>\n",
       "      <td>125</td>\n",
       "    </tr>\n",
       "  </tbody>\n",
       "</table>\n",
       "</div>"
      ],
      "text/plain": [
       "                           Stroke\n",
       "AgeRange    Sex    Stroke        \n",
       "18 - 24     Female No         307\n",
       "                   Yes          1\n",
       "            Male   No         348\n",
       "                   Yes          1\n",
       "25 - 34     Female No         685\n",
       "                   Yes          7\n",
       "            Male   No         577\n",
       "                   Yes          4\n",
       "35 - 44     Female No         861\n",
       "                   Yes         10\n",
       "            Male   No         595\n",
       "                   Yes          3\n",
       "45 - 54     Female No        1220\n",
       "                   Yes         26\n",
       "            Male   No         885\n",
       "                   Yes         16\n",
       "55 - 64     Female No        1451\n",
       "                   Yes         45\n",
       "            Male   No        1012\n",
       "                   Yes         45\n",
       "65 or older Female No        2378\n",
       "                   Yes        134\n",
       "            Male   No        1575\n",
       "                   Yes        125"
      ]
     },
     "execution_count": 99,
     "metadata": {},
     "output_type": "execute_result"
    }
   ],
   "source": [
    "data=df2.groupby([\"AgeRange\", \"Sex\", \"Stroke\"])[\"Stroke\".split()].count()\n",
    "data"
   ]
  },
  {
   "cell_type": "code",
   "execution_count": 100,
   "id": "fe7e8946",
   "metadata": {},
   "outputs": [],
   "source": [
    "#pd.set_option(\"display.max_rows\", None, \"display.max_columns\", None)\n",
    "#print(data)"
   ]
  },
  {
   "cell_type": "code",
   "execution_count": 87,
   "id": "64d28c7d",
   "metadata": {},
   "outputs": [
    {
     "data": {
      "text/html": [
       "<div>\n",
       "<style scoped>\n",
       "    .dataframe tbody tr th:only-of-type {\n",
       "        vertical-align: middle;\n",
       "    }\n",
       "\n",
       "    .dataframe tbody tr th {\n",
       "        vertical-align: top;\n",
       "    }\n",
       "\n",
       "    .dataframe thead th {\n",
       "        text-align: right;\n",
       "    }\n",
       "</style>\n",
       "<table border=\"1\" class=\"dataframe\">\n",
       "  <thead>\n",
       "    <tr style=\"text-align: right;\">\n",
       "      <th></th>\n",
       "      <th></th>\n",
       "      <th>Stroke</th>\n",
       "    </tr>\n",
       "    <tr>\n",
       "      <th>HighBloodPressure</th>\n",
       "      <th>Stroke</th>\n",
       "      <th></th>\n",
       "    </tr>\n",
       "  </thead>\n",
       "  <tbody>\n",
       "    <tr>\n",
       "      <th rowspan=\"2\" valign=\"top\">No</th>\n",
       "      <th>No</th>\n",
       "      <td>7662</td>\n",
       "    </tr>\n",
       "    <tr>\n",
       "      <th>Yes</th>\n",
       "      <td>118</td>\n",
       "    </tr>\n",
       "    <tr>\n",
       "      <th rowspan=\"2\" valign=\"top\">Yes</th>\n",
       "      <th>No</th>\n",
       "      <td>4232</td>\n",
       "    </tr>\n",
       "    <tr>\n",
       "      <th>Yes</th>\n",
       "      <td>299</td>\n",
       "    </tr>\n",
       "  </tbody>\n",
       "</table>\n",
       "</div>"
      ],
      "text/plain": [
       "                          Stroke\n",
       "HighBloodPressure Stroke        \n",
       "No                No        7662\n",
       "                  Yes        118\n",
       "Yes               No        4232\n",
       "                  Yes        299"
      ]
     },
     "execution_count": 87,
     "metadata": {},
     "output_type": "execute_result"
    }
   ],
   "source": [
    "data=df2.groupby([\"HighBloodPressure\", \"Stroke\"])[\"Stroke\".split()].count()\n",
    "data"
   ]
  },
  {
   "cell_type": "code",
   "execution_count": 88,
   "id": "56634425",
   "metadata": {},
   "outputs": [
    {
     "data": {
      "text/html": [
       "<div>\n",
       "<style scoped>\n",
       "    .dataframe tbody tr th:only-of-type {\n",
       "        vertical-align: middle;\n",
       "    }\n",
       "\n",
       "    .dataframe tbody tr th {\n",
       "        vertical-align: top;\n",
       "    }\n",
       "\n",
       "    .dataframe thead th {\n",
       "        text-align: right;\n",
       "    }\n",
       "</style>\n",
       "<table border=\"1\" class=\"dataframe\">\n",
       "  <thead>\n",
       "    <tr style=\"text-align: right;\">\n",
       "      <th></th>\n",
       "      <th></th>\n",
       "      <th>Stroke</th>\n",
       "    </tr>\n",
       "    <tr>\n",
       "      <th>HighBloodCholesterol</th>\n",
       "      <th>Stroke</th>\n",
       "      <th></th>\n",
       "    </tr>\n",
       "  </thead>\n",
       "  <tbody>\n",
       "    <tr>\n",
       "      <th rowspan=\"2\" valign=\"top\">No</th>\n",
       "      <th>No</th>\n",
       "      <td>7747</td>\n",
       "    </tr>\n",
       "    <tr>\n",
       "      <th>Yes</th>\n",
       "      <td>181</td>\n",
       "    </tr>\n",
       "    <tr>\n",
       "      <th rowspan=\"2\" valign=\"top\">Yes</th>\n",
       "      <th>No</th>\n",
       "      <td>4147</td>\n",
       "    </tr>\n",
       "    <tr>\n",
       "      <th>Yes</th>\n",
       "      <td>236</td>\n",
       "    </tr>\n",
       "  </tbody>\n",
       "</table>\n",
       "</div>"
      ],
      "text/plain": [
       "                             Stroke\n",
       "HighBloodCholesterol Stroke        \n",
       "No                   No        7747\n",
       "                     Yes        181\n",
       "Yes                  No        4147\n",
       "                     Yes        236"
      ]
     },
     "execution_count": 88,
     "metadata": {},
     "output_type": "execute_result"
    }
   ],
   "source": [
    "data=df2.groupby([\"HighBloodCholesterol\", \"Stroke\"])[\"Stroke\".split()].count()\n",
    "data"
   ]
  },
  {
   "cell_type": "code",
   "execution_count": 89,
   "id": "0afa8014",
   "metadata": {},
   "outputs": [
    {
     "data": {
      "text/html": [
       "<div>\n",
       "<style scoped>\n",
       "    .dataframe tbody tr th:only-of-type {\n",
       "        vertical-align: middle;\n",
       "    }\n",
       "\n",
       "    .dataframe tbody tr th {\n",
       "        vertical-align: top;\n",
       "    }\n",
       "\n",
       "    .dataframe thead th {\n",
       "        text-align: right;\n",
       "    }\n",
       "</style>\n",
       "<table border=\"1\" class=\"dataframe\">\n",
       "  <thead>\n",
       "    <tr style=\"text-align: right;\">\n",
       "      <th></th>\n",
       "      <th></th>\n",
       "      <th>Stroke</th>\n",
       "    </tr>\n",
       "    <tr>\n",
       "      <th>HeartAttack</th>\n",
       "      <th>Stroke</th>\n",
       "      <th></th>\n",
       "    </tr>\n",
       "  </thead>\n",
       "  <tbody>\n",
       "    <tr>\n",
       "      <th rowspan=\"2\" valign=\"top\">No</th>\n",
       "      <th>No</th>\n",
       "      <td>11381</td>\n",
       "    </tr>\n",
       "    <tr>\n",
       "      <th>Yes</th>\n",
       "      <td>303</td>\n",
       "    </tr>\n",
       "    <tr>\n",
       "      <th rowspan=\"2\" valign=\"top\">Yes</th>\n",
       "      <th>No</th>\n",
       "      <td>513</td>\n",
       "    </tr>\n",
       "    <tr>\n",
       "      <th>Yes</th>\n",
       "      <td>114</td>\n",
       "    </tr>\n",
       "  </tbody>\n",
       "</table>\n",
       "</div>"
      ],
      "text/plain": [
       "                    Stroke\n",
       "HeartAttack Stroke        \n",
       "No          No       11381\n",
       "            Yes        303\n",
       "Yes         No         513\n",
       "            Yes        114"
      ]
     },
     "execution_count": 89,
     "metadata": {},
     "output_type": "execute_result"
    }
   ],
   "source": [
    "data=df2.groupby([\"HeartAttack\", \"Stroke\"])[\"Stroke\".split()].count()\n",
    "data"
   ]
  },
  {
   "cell_type": "code",
   "execution_count": 90,
   "id": "f0f7b6b5",
   "metadata": {},
   "outputs": [
    {
     "data": {
      "text/html": [
       "<div>\n",
       "<style scoped>\n",
       "    .dataframe tbody tr th:only-of-type {\n",
       "        vertical-align: middle;\n",
       "    }\n",
       "\n",
       "    .dataframe tbody tr th {\n",
       "        vertical-align: top;\n",
       "    }\n",
       "\n",
       "    .dataframe thead th {\n",
       "        text-align: right;\n",
       "    }\n",
       "</style>\n",
       "<table border=\"1\" class=\"dataframe\">\n",
       "  <thead>\n",
       "    <tr style=\"text-align: right;\">\n",
       "      <th></th>\n",
       "      <th></th>\n",
       "      <th>Stroke</th>\n",
       "    </tr>\n",
       "    <tr>\n",
       "      <th>MentalHealth</th>\n",
       "      <th>Stroke</th>\n",
       "      <th></th>\n",
       "    </tr>\n",
       "  </thead>\n",
       "  <tbody>\n",
       "    <tr>\n",
       "      <th rowspan=\"2\" valign=\"top\">Good</th>\n",
       "      <th>No</th>\n",
       "      <td>8075</td>\n",
       "    </tr>\n",
       "    <tr>\n",
       "      <th>Yes</th>\n",
       "      <td>243</td>\n",
       "    </tr>\n",
       "    <tr>\n",
       "      <th rowspan=\"2\" valign=\"top\">Poor</th>\n",
       "      <th>No</th>\n",
       "      <td>3819</td>\n",
       "    </tr>\n",
       "    <tr>\n",
       "      <th>Yes</th>\n",
       "      <td>174</td>\n",
       "    </tr>\n",
       "  </tbody>\n",
       "</table>\n",
       "</div>"
      ],
      "text/plain": [
       "                     Stroke\n",
       "MentalHealth Stroke        \n",
       "Good         No        8075\n",
       "             Yes        243\n",
       "Poor         No        3819\n",
       "             Yes        174"
      ]
     },
     "execution_count": 90,
     "metadata": {},
     "output_type": "execute_result"
    }
   ],
   "source": [
    "data=df2.groupby([\"MentalHealth\", \"Stroke\"])[\"Stroke\".split()].count()\n",
    "data"
   ]
  },
  {
   "cell_type": "code",
   "execution_count": 91,
   "id": "e48d6a81",
   "metadata": {},
   "outputs": [
    {
     "data": {
      "text/html": [
       "<div>\n",
       "<style scoped>\n",
       "    .dataframe tbody tr th:only-of-type {\n",
       "        vertical-align: middle;\n",
       "    }\n",
       "\n",
       "    .dataframe tbody tr th {\n",
       "        vertical-align: top;\n",
       "    }\n",
       "\n",
       "    .dataframe thead th {\n",
       "        text-align: right;\n",
       "    }\n",
       "</style>\n",
       "<table border=\"1\" class=\"dataframe\">\n",
       "  <thead>\n",
       "    <tr style=\"text-align: right;\">\n",
       "      <th></th>\n",
       "      <th></th>\n",
       "      <th>Stroke</th>\n",
       "    </tr>\n",
       "    <tr>\n",
       "      <th>DepressiveDisorder</th>\n",
       "      <th>Stroke</th>\n",
       "      <th></th>\n",
       "    </tr>\n",
       "  </thead>\n",
       "  <tbody>\n",
       "    <tr>\n",
       "      <th rowspan=\"2\" valign=\"top\">No</th>\n",
       "      <th>No</th>\n",
       "      <td>9947</td>\n",
       "    </tr>\n",
       "    <tr>\n",
       "      <th>Yes</th>\n",
       "      <td>285</td>\n",
       "    </tr>\n",
       "    <tr>\n",
       "      <th rowspan=\"2\" valign=\"top\">Yes</th>\n",
       "      <th>No</th>\n",
       "      <td>1947</td>\n",
       "    </tr>\n",
       "    <tr>\n",
       "      <th>Yes</th>\n",
       "      <td>132</td>\n",
       "    </tr>\n",
       "  </tbody>\n",
       "</table>\n",
       "</div>"
      ],
      "text/plain": [
       "                           Stroke\n",
       "DepressiveDisorder Stroke        \n",
       "No                 No        9947\n",
       "                   Yes        285\n",
       "Yes                No        1947\n",
       "                   Yes        132"
      ]
     },
     "execution_count": 91,
     "metadata": {},
     "output_type": "execute_result"
    }
   ],
   "source": [
    "data=df2.groupby([\"DepressiveDisorder\", \"Stroke\"])[\"Stroke\".split()].count()\n",
    "data"
   ]
  },
  {
   "cell_type": "code",
   "execution_count": 92,
   "id": "79ace142",
   "metadata": {},
   "outputs": [
    {
     "data": {
      "text/html": [
       "<div>\n",
       "<style scoped>\n",
       "    .dataframe tbody tr th:only-of-type {\n",
       "        vertical-align: middle;\n",
       "    }\n",
       "\n",
       "    .dataframe tbody tr th {\n",
       "        vertical-align: top;\n",
       "    }\n",
       "\n",
       "    .dataframe thead th {\n",
       "        text-align: right;\n",
       "    }\n",
       "</style>\n",
       "<table border=\"1\" class=\"dataframe\">\n",
       "  <thead>\n",
       "    <tr style=\"text-align: right;\">\n",
       "      <th></th>\n",
       "      <th></th>\n",
       "      <th>Stroke</th>\n",
       "    </tr>\n",
       "    <tr>\n",
       "      <th>Overweight/Obesity</th>\n",
       "      <th>Stroke</th>\n",
       "      <th></th>\n",
       "    </tr>\n",
       "  </thead>\n",
       "  <tbody>\n",
       "    <tr>\n",
       "      <th rowspan=\"2\" valign=\"top\">No</th>\n",
       "      <th>No</th>\n",
       "      <td>4199</td>\n",
       "    </tr>\n",
       "    <tr>\n",
       "      <th>Yes</th>\n",
       "      <td>118</td>\n",
       "    </tr>\n",
       "    <tr>\n",
       "      <th rowspan=\"2\" valign=\"top\">Yes</th>\n",
       "      <th>No</th>\n",
       "      <td>7695</td>\n",
       "    </tr>\n",
       "    <tr>\n",
       "      <th>Yes</th>\n",
       "      <td>299</td>\n",
       "    </tr>\n",
       "  </tbody>\n",
       "</table>\n",
       "</div>"
      ],
      "text/plain": [
       "                           Stroke\n",
       "Overweight/Obesity Stroke        \n",
       "No                 No        4199\n",
       "                   Yes        118\n",
       "Yes                No        7695\n",
       "                   Yes        299"
      ]
     },
     "execution_count": 92,
     "metadata": {},
     "output_type": "execute_result"
    }
   ],
   "source": [
    "data=df2.groupby([\"Overweight/Obesity\", \"Stroke\"])[\"Stroke\".split()].count()\n",
    "data"
   ]
  },
  {
   "cell_type": "code",
   "execution_count": 93,
   "id": "5d4bb7c6",
   "metadata": {},
   "outputs": [
    {
     "data": {
      "text/html": [
       "<div>\n",
       "<style scoped>\n",
       "    .dataframe tbody tr th:only-of-type {\n",
       "        vertical-align: middle;\n",
       "    }\n",
       "\n",
       "    .dataframe tbody tr th {\n",
       "        vertical-align: top;\n",
       "    }\n",
       "\n",
       "    .dataframe thead th {\n",
       "        text-align: right;\n",
       "    }\n",
       "</style>\n",
       "<table border=\"1\" class=\"dataframe\">\n",
       "  <thead>\n",
       "    <tr style=\"text-align: right;\">\n",
       "      <th></th>\n",
       "      <th></th>\n",
       "      <th>Stroke</th>\n",
       "    </tr>\n",
       "    <tr>\n",
       "      <th>Smoke100</th>\n",
       "      <th>Stroke</th>\n",
       "      <th></th>\n",
       "    </tr>\n",
       "  </thead>\n",
       "  <tbody>\n",
       "    <tr>\n",
       "      <th rowspan=\"2\" valign=\"top\">No</th>\n",
       "      <th>No</th>\n",
       "      <td>7083</td>\n",
       "    </tr>\n",
       "    <tr>\n",
       "      <th>Yes</th>\n",
       "      <td>172</td>\n",
       "    </tr>\n",
       "    <tr>\n",
       "      <th rowspan=\"2\" valign=\"top\">Yes</th>\n",
       "      <th>No</th>\n",
       "      <td>4811</td>\n",
       "    </tr>\n",
       "    <tr>\n",
       "      <th>Yes</th>\n",
       "      <td>245</td>\n",
       "    </tr>\n",
       "  </tbody>\n",
       "</table>\n",
       "</div>"
      ],
      "text/plain": [
       "                 Stroke\n",
       "Smoke100 Stroke        \n",
       "No       No        7083\n",
       "         Yes        172\n",
       "Yes      No        4811\n",
       "         Yes        245"
      ]
     },
     "execution_count": 93,
     "metadata": {},
     "output_type": "execute_result"
    }
   ],
   "source": [
    "data=df2.groupby([\"Smoke100\", \"Stroke\"])[\"Stroke\".split()].count()\n",
    "data"
   ]
  },
  {
   "cell_type": "code",
   "execution_count": 94,
   "id": "8bb78cd2",
   "metadata": {},
   "outputs": [
    {
     "data": {
      "text/html": [
       "<div>\n",
       "<style scoped>\n",
       "    .dataframe tbody tr th:only-of-type {\n",
       "        vertical-align: middle;\n",
       "    }\n",
       "\n",
       "    .dataframe tbody tr th {\n",
       "        vertical-align: top;\n",
       "    }\n",
       "\n",
       "    .dataframe thead th {\n",
       "        text-align: right;\n",
       "    }\n",
       "</style>\n",
       "<table border=\"1\" class=\"dataframe\">\n",
       "  <thead>\n",
       "    <tr style=\"text-align: right;\">\n",
       "      <th></th>\n",
       "      <th></th>\n",
       "      <th>Stroke</th>\n",
       "    </tr>\n",
       "    <tr>\n",
       "      <th>BingeDrinkers</th>\n",
       "      <th>Stroke</th>\n",
       "      <th></th>\n",
       "    </tr>\n",
       "  </thead>\n",
       "  <tbody>\n",
       "    <tr>\n",
       "      <th rowspan=\"2\" valign=\"top\">No</th>\n",
       "      <th>No</th>\n",
       "      <td>10418</td>\n",
       "    </tr>\n",
       "    <tr>\n",
       "      <th>Yes</th>\n",
       "      <td>392</td>\n",
       "    </tr>\n",
       "    <tr>\n",
       "      <th rowspan=\"2\" valign=\"top\">Yes</th>\n",
       "      <th>No</th>\n",
       "      <td>1476</td>\n",
       "    </tr>\n",
       "    <tr>\n",
       "      <th>Yes</th>\n",
       "      <td>25</td>\n",
       "    </tr>\n",
       "  </tbody>\n",
       "</table>\n",
       "</div>"
      ],
      "text/plain": [
       "                      Stroke\n",
       "BingeDrinkers Stroke        \n",
       "No            No       10418\n",
       "              Yes        392\n",
       "Yes           No        1476\n",
       "              Yes         25"
      ]
     },
     "execution_count": 94,
     "metadata": {},
     "output_type": "execute_result"
    }
   ],
   "source": [
    "data=df2.groupby([\"BingeDrinkers\", \"Stroke\"])[\"Stroke\".split()].count()\n",
    "data"
   ]
  },
  {
   "cell_type": "code",
   "execution_count": 95,
   "id": "8e5569e0",
   "metadata": {},
   "outputs": [
    {
     "data": {
      "text/html": [
       "<div>\n",
       "<style scoped>\n",
       "    .dataframe tbody tr th:only-of-type {\n",
       "        vertical-align: middle;\n",
       "    }\n",
       "\n",
       "    .dataframe tbody tr th {\n",
       "        vertical-align: top;\n",
       "    }\n",
       "\n",
       "    .dataframe thead th {\n",
       "        text-align: right;\n",
       "    }\n",
       "</style>\n",
       "<table border=\"1\" class=\"dataframe\">\n",
       "  <thead>\n",
       "    <tr style=\"text-align: right;\">\n",
       "      <th></th>\n",
       "      <th></th>\n",
       "      <th>Stroke</th>\n",
       "    </tr>\n",
       "    <tr>\n",
       "      <th>PhysicalActivity</th>\n",
       "      <th>Stroke</th>\n",
       "      <th></th>\n",
       "    </tr>\n",
       "  </thead>\n",
       "  <tbody>\n",
       "    <tr>\n",
       "      <th rowspan=\"2\" valign=\"top\">No</th>\n",
       "      <th>No</th>\n",
       "      <td>2960</td>\n",
       "    </tr>\n",
       "    <tr>\n",
       "      <th>Yes</th>\n",
       "      <td>147</td>\n",
       "    </tr>\n",
       "    <tr>\n",
       "      <th rowspan=\"2\" valign=\"top\">Yes</th>\n",
       "      <th>No</th>\n",
       "      <td>8934</td>\n",
       "    </tr>\n",
       "    <tr>\n",
       "      <th>Yes</th>\n",
       "      <td>270</td>\n",
       "    </tr>\n",
       "  </tbody>\n",
       "</table>\n",
       "</div>"
      ],
      "text/plain": [
       "                         Stroke\n",
       "PhysicalActivity Stroke        \n",
       "No               No        2960\n",
       "                 Yes        147\n",
       "Yes              No        8934\n",
       "                 Yes        270"
      ]
     },
     "execution_count": 95,
     "metadata": {},
     "output_type": "execute_result"
    }
   ],
   "source": [
    "data=df2.groupby([\"PhysicalActivity\", \"Stroke\"])[\"Stroke\".split()].count()\n",
    "data"
   ]
  },
  {
   "cell_type": "code",
   "execution_count": 96,
   "id": "17c438ac",
   "metadata": {},
   "outputs": [
    {
     "data": {
      "text/html": [
       "<div>\n",
       "<style scoped>\n",
       "    .dataframe tbody tr th:only-of-type {\n",
       "        vertical-align: middle;\n",
       "    }\n",
       "\n",
       "    .dataframe tbody tr th {\n",
       "        vertical-align: top;\n",
       "    }\n",
       "\n",
       "    .dataframe thead th {\n",
       "        text-align: right;\n",
       "    }\n",
       "</style>\n",
       "<table border=\"1\" class=\"dataframe\">\n",
       "  <thead>\n",
       "    <tr style=\"text-align: right;\">\n",
       "      <th></th>\n",
       "      <th></th>\n",
       "      <th>Stroke</th>\n",
       "    </tr>\n",
       "    <tr>\n",
       "      <th>ConsumeFruitsEveryDay</th>\n",
       "      <th>Stroke</th>\n",
       "      <th></th>\n",
       "    </tr>\n",
       "  </thead>\n",
       "  <tbody>\n",
       "    <tr>\n",
       "      <th rowspan=\"2\" valign=\"top\">No</th>\n",
       "      <th>No</th>\n",
       "      <td>3510</td>\n",
       "    </tr>\n",
       "    <tr>\n",
       "      <th>Yes</th>\n",
       "      <td>125</td>\n",
       "    </tr>\n",
       "    <tr>\n",
       "      <th rowspan=\"2\" valign=\"top\">Yes</th>\n",
       "      <th>No</th>\n",
       "      <td>8384</td>\n",
       "    </tr>\n",
       "    <tr>\n",
       "      <th>Yes</th>\n",
       "      <td>292</td>\n",
       "    </tr>\n",
       "  </tbody>\n",
       "</table>\n",
       "</div>"
      ],
      "text/plain": [
       "                              Stroke\n",
       "ConsumeFruitsEveryDay Stroke        \n",
       "No                    No        3510\n",
       "                      Yes        125\n",
       "Yes                   No        8384\n",
       "                      Yes        292"
      ]
     },
     "execution_count": 96,
     "metadata": {},
     "output_type": "execute_result"
    }
   ],
   "source": [
    "data=df2.groupby([\"ConsumeFruitsEveryDay\", \"Stroke\"])[\"Stroke\".split()].count()\n",
    "data"
   ]
  },
  {
   "cell_type": "code",
   "execution_count": 97,
   "id": "4b2602bf",
   "metadata": {},
   "outputs": [
    {
     "data": {
      "text/html": [
       "<div>\n",
       "<style scoped>\n",
       "    .dataframe tbody tr th:only-of-type {\n",
       "        vertical-align: middle;\n",
       "    }\n",
       "\n",
       "    .dataframe tbody tr th {\n",
       "        vertical-align: top;\n",
       "    }\n",
       "\n",
       "    .dataframe thead th {\n",
       "        text-align: right;\n",
       "    }\n",
       "</style>\n",
       "<table border=\"1\" class=\"dataframe\">\n",
       "  <thead>\n",
       "    <tr style=\"text-align: right;\">\n",
       "      <th></th>\n",
       "      <th></th>\n",
       "      <th>Stroke</th>\n",
       "    </tr>\n",
       "    <tr>\n",
       "      <th>ConsumeVegetablesEveryDay</th>\n",
       "      <th>Stroke</th>\n",
       "      <th></th>\n",
       "    </tr>\n",
       "  </thead>\n",
       "  <tbody>\n",
       "    <tr>\n",
       "      <th rowspan=\"2\" valign=\"top\">No</th>\n",
       "      <th>No</th>\n",
       "      <td>2104</td>\n",
       "    </tr>\n",
       "    <tr>\n",
       "      <th>Yes</th>\n",
       "      <td>108</td>\n",
       "    </tr>\n",
       "    <tr>\n",
       "      <th rowspan=\"2\" valign=\"top\">Yes</th>\n",
       "      <th>No</th>\n",
       "      <td>9790</td>\n",
       "    </tr>\n",
       "    <tr>\n",
       "      <th>Yes</th>\n",
       "      <td>309</td>\n",
       "    </tr>\n",
       "  </tbody>\n",
       "</table>\n",
       "</div>"
      ],
      "text/plain": [
       "                                  Stroke\n",
       "ConsumeVegetablesEveryDay Stroke        \n",
       "No                        No        2104\n",
       "                          Yes        108\n",
       "Yes                       No        9790\n",
       "                          Yes        309"
      ]
     },
     "execution_count": 97,
     "metadata": {},
     "output_type": "execute_result"
    }
   ],
   "source": [
    "data=df2.groupby([\"ConsumeVegetablesEveryDay\", \"Stroke\"])[\"Stroke\".split()].count()\n",
    "data"
   ]
  }
 ],
 "metadata": {
  "kernelspec": {
   "display_name": "Python 3",
   "language": "python",
   "name": "python3"
  },
  "language_info": {
   "codemirror_mode": {
    "name": "ipython",
    "version": 3
   },
   "file_extension": ".py",
   "mimetype": "text/x-python",
   "name": "python",
   "nbconvert_exporter": "python",
   "pygments_lexer": "ipython3",
   "version": "3.8.8"
  }
 },
 "nbformat": 4,
 "nbformat_minor": 5
}
